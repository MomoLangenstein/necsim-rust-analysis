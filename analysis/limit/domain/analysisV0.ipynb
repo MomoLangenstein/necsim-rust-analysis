{
 "cells": [
  {
   "cell_type": "code",
   "execution_count": 1,
   "metadata": {},
   "outputs": [],
   "source": [
    "import re\n",
    "\n",
    "import numpy as np\n",
    "\n",
    "from matplotlib import pyplot as plt\n",
    "from IPython.display import display, Markdown\n",
    "from pathlib import Path\n",
    "from collections import defaultdict"
   ]
  },
  {
   "cell_type": "code",
   "execution_count": 2,
   "metadata": {},
   "outputs": [],
   "source": [
    "import matplotlib as mpl\n",
    "mpl.rcParams['figure.dpi'] = 400\n",
    "\n",
    "def show():\n",
    "    plt.savefig(f\"{show.fig_counter}.pdf\", dpi='figure', transparent=True, bbox_inches='tight')\n",
    "    show.fig_counter += 1\n",
    "    show.plt_show()\n",
    "\n",
    "show.fig_counter = 0\n",
    "show.plt_show = plt.show\n",
    "\n",
    "plt.show = show"
   ]
  },
  {
   "cell_type": "code",
   "execution_count": 3,
   "metadata": {},
   "outputs": [],
   "source": [
    "CC_PATTERN = re.compile(r\"(?<!^)(?=[A-Z])\")"
   ]
  },
  {
   "cell_type": "code",
   "execution_count": 4,
   "metadata": {},
   "outputs": [],
   "source": [
    "BIODIVERSITY_PATTERN = re.compile(r\"The simulation resulted in a biodiversity of (\\d+) unique species\\.\")\n",
    "EXECUTION_PATTERN = re.compile(r\"The simulation took:\\n - initialisation: ([^\\n]+)\\n - execution: ([^\\n]+)\\n - cleanup: ([^\\n]+)\\n\")"
   ]
  },
  {
   "cell_type": "code",
   "execution_count": 5,
   "metadata": {},
   "outputs": [],
   "source": [
    "TIME_PATTERN = re.compile(r\"(\\d+(?:\\.\\d+)?)([^\\d]+)\")\n",
    "TIME_UNITS = {\n",
    "    \"ns\": 0.000000001,\n",
    "    \"µs\": 0.000001,\n",
    "    \"ms\": 0.001,\n",
    "    \"s\": 1.0,\n",
    "}\n",
    "\n",
    "def parse_time(time_str):\n",
    "    match = TIME_PATTERN.match(time_str)\n",
    "    \n",
    "    if match is None:\n",
    "        return None\n",
    "    \n",
    "    return float(match.group(1)) * TIME_UNITS[match.group(2)]"
   ]
  },
  {
   "cell_type": "code",
   "execution_count": 6,
   "metadata": {},
   "outputs": [],
   "source": [
    "DOMAIN_DIR_PATTERN = re.compile(r\"([+\\-]?(?:0|[1-9]\\d*)(?:\\.\\d*)?(?:[eE][+\\-]?\\d+)?)\")\n",
    "DOMAIN_FILE_PATTERN = re.compile(r\"([+\\-]?(?:0|[1-9]\\d*)(?:\\.\\d*)?(?:[eE][+\\-]?\\d+)?)/limit\\.o\\d+\\.\\d+\")"
   ]
  },
  {
   "cell_type": "code",
   "execution_count": 7,
   "metadata": {},
   "outputs": [
    {
     "name": "stdout",
     "output_type": "stream",
     "text": [
      "1e10\n",
      "7.1e10\n",
      "1e9\n",
      "10000000000.0 1000\n",
      "71000000000.0 6390\n",
      "1000000000.0 100\n"
     ]
    }
   ],
   "source": [
    "results = defaultdict(list)\n",
    "\n",
    "for path in Path(\".\").iterdir():\n",
    "    match = DOMAIN_DIR_PATTERN.match(str(path))\n",
    "    \n",
    "    if match is None:\n",
    "        continue\n",
    "    \n",
    "    print(path)\n",
    "    \n",
    "    for path in Path(path).iterdir():\n",
    "        match = DOMAIN_FILE_PATTERN.match(str(path))\n",
    "        if match is None:\n",
    "            continue\n",
    "            \n",
    "        sample = float(match.group(1))\n",
    "\n",
    "        with open(path) as file:\n",
    "            stdout = file.read()\n",
    "\n",
    "        match = EXECUTION_PATTERN.search(stdout)\n",
    "        if match is None:\n",
    "            print(path)\n",
    "            continue\n",
    "        initialisation = parse_time(match.group(1))\n",
    "        execution = parse_time(match.group(2))\n",
    "        cleanup = parse_time(match.group(3))\n",
    "        \n",
    "        results[sample].append((initialisation, execution, cleanup))\n",
    "\n",
    "for sample, measures in results.items():\n",
    "    print(sample, len(measures))"
   ]
  },
  {
   "cell_type": "code",
   "execution_count": null,
   "metadata": {},
   "outputs": [],
   "source": []
  }
 ],
 "metadata": {
  "kernelspec": {
   "display_name": "Python 3",
   "language": "python",
   "name": "python3"
  },
  "language_info": {
   "codemirror_mode": {
    "name": "ipython",
    "version": 3
   },
   "file_extension": ".py",
   "mimetype": "text/x-python",
   "name": "python",
   "nbconvert_exporter": "python",
   "pygments_lexer": "ipython3",
   "version": "3.6.8"
  }
 },
 "nbformat": 4,
 "nbformat_minor": 4
}

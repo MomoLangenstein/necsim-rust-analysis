{
 "cells": [
  {
   "cell_type": "code",
   "execution_count": 1,
   "metadata": {
    "tags": []
   },
   "outputs": [],
   "source": [
    "import re\n",
    "\n",
    "import numpy as np\n",
    "\n",
    "from IPython.display import display, Markdown\n",
    "from pathlib import Path\n",
    "from collections import defaultdict\n",
    "from itertools import chain"
   ]
  },
  {
   "cell_type": "code",
   "execution_count": 2,
   "metadata": {
    "tags": []
   },
   "outputs": [],
   "source": [
    "CC_PATTERN = re.compile(r\"(?<!^)(?=[A-Z])\")"
   ]
  },
  {
   "cell_type": "code",
   "execution_count": 3,
   "metadata": {},
   "outputs": [],
   "source": [
    "BIODIVERSITY_PATTERN = re.compile(r\"The simulation resulted in a biodiversity of (\\d+) unique species\\.\")\n",
    "EXECUTION_PATTERN = re.compile(r\"The simulation took:\\n - initialisation: ([^\\n]+)\\n - execution: ([^\\n]+)\\n - cleanup: ([^\\n]+)\\n\")\n",
    "EVENT_PATTERN = re.compile(r\"Event Summary:\\n - Total #individuals:\\n   \\d+\\n - Total #events:\\n   - raw:\\n     (\\d+)\")"
   ]
  },
  {
   "cell_type": "code",
   "execution_count": 4,
   "metadata": {},
   "outputs": [],
   "source": [
    "TIME_PATTERN = re.compile(r\"(\\d+(?:\\.\\d+)?)([^\\d]+)\")\n",
    "TIME_UNITS = {\n",
    "    \"ns\": 0.000000001,\n",
    "    \"µs\": 0.000001,\n",
    "    \"ms\": 0.001,\n",
    "    \"s\": 1.0,\n",
    "}\n",
    "\n",
    "def parse_time(time_str):\n",
    "    match = TIME_PATTERN.match(time_str)\n",
    "    \n",
    "    if match is None:\n",
    "        return None\n",
    "    \n",
    "    return float(match.group(1)) * TIME_UNITS[match.group(2)]"
   ]
  },
  {
   "cell_type": "code",
   "execution_count": 5,
   "metadata": {},
   "outputs": [],
   "source": [
    "DOMAIN_DIR_PATTERN = re.compile(r\"([+\\-]?(?:0|[1-9]\\d*)(?:\\.\\d*)?(?:[eE][+\\-]?\\d+)?)\")\n",
    "DOMAIN_FILE_PATTERN = re.compile(r\"([+\\-]?(?:0|[1-9]\\d*)(?:\\.\\d*)?(?:[eE][+\\-]?\\d+)?)/limit\\.isolated\\.o\\d+\\.\\d+\")\n",
    "DOMAIN_REPLAY_PATTERN = re.compile(r\"([+\\-]?(?:0|[1-9]\\d*)(?:\\.\\d*)?(?:[eE][+\\-]?\\d+)?)/limit\\.\\d+(?:\\[\\])?\\.pbs\\.o\\d+\")"
   ]
  },
  {
   "cell_type": "code",
   "execution_count": 6,
   "metadata": {},
   "outputs": [
    {
     "data": {
      "text/markdown": [
       "# Scalability of the IsolatedLandscape Independent Algorithm variant:"
      ],
      "text/plain": [
       "<IPython.core.display.Markdown object>"
      ]
     },
     "metadata": {},
     "output_type": "display_data"
    },
    {
     "name": "stdout",
     "output_type": "stream",
     "text": [
      "10000000000.0 549112 2490116 4.534805285624791\n",
      "10000000000.0 549066 2488176 4.531651932554556\n",
      "10000000000.0 547749 2486009 4.538591581180431\n",
      "10000000000.0 548893 2495337 4.546126476380643\n",
      "10000000000.0 546998 2483023 4.539363946486093\n",
      "10000000000.0 548707 2490085 4.538095923689692\n",
      "10000000000.0 548960 2488309 4.532769236374235\n",
      "10000000000.0 549814 2500675 4.548219943471793\n",
      "10000000000.0 547791 2485928 4.538095733591826\n",
      "10000000000.0 548047 2491130 4.545467815716536\n",
      "71000000000.0 685736 10976942 16.007533511438805\n",
      "71000000000.0 685544 10993020 16.03546964162767\n",
      "71000000000.0 686924 11010866 16.02923467516057\n",
      "71000000000.0 685369 10975305 16.01371669859594\n",
      "71000000000.0 686484 10998981 16.02219571031517\n",
      "71000000000.0 687287 11046094 16.072025223814798\n",
      "71000000000.0 685355 10958309 15.989244989822792\n",
      "71000000000.0 687180 10982778 15.982388893739632\n",
      "71000000000.0 685453 10993771 16.03869411907162\n",
      "71000000000.0 686017 11009660 16.04866934784415\n",
      "1000000000.0 389852 640412 1.642705436935042\n",
      "1000000000.0 390078 640307 1.6414845236080988\n",
      "1000000000.0 390209 640405 1.6411845959473\n",
      "1000000000.0 391350 642701 1.6422665133512202\n",
      "1000000000.0 389791 640986 1.644435094704598\n",
      "1000000000.0 390488 640300 1.6397430906967692\n",
      "1000000000.0 390198 638635 1.6366947037145245\n",
      "1000000000.0 388985 640560 1.6467473038806124\n",
      "1000000000.0 389460 639076 1.6409284650541776\n",
      "1000000000.0 390593 641536 1.6424667108729547\n"
     ]
    },
    {
     "data": {
      "text/markdown": [
       "* $1000000000.0$ individuals: $13722.85s \\pm 2540.23s$ per batch [100 samples] -> $164.19\\% \\pm 0.25\\%$"
      ],
      "text/plain": [
       "<IPython.core.display.Markdown object>"
      ]
     },
     "metadata": {},
     "output_type": "display_data"
    },
    {
     "data": {
      "text/markdown": [
       "* $10000000000.0$ individuals: $5584.37s \\pm 2276.5s$ per batch [1000 samples] -> $453.93\\% \\pm 0.54\\%$"
      ],
      "text/plain": [
       "<IPython.core.display.Markdown object>"
      ]
     },
     "metadata": {},
     "output_type": "display_data"
    },
    {
     "data": {
      "text/markdown": [
       "* $71000000000.0$ individuals: $3617.18s \\pm 2138.75s$ per batch [7100 samples] -> $1602.39\\% \\pm 2.57\\%$"
      ],
      "text/plain": [
       "<IPython.core.display.Markdown object>"
      ]
     },
     "metadata": {},
     "output_type": "display_data"
    }
   ],
   "source": [
    "display(Markdown(\"# Scalability of the IsolatedLandscape Independent Algorithm variant:\"))\n",
    "\n",
    "throughput_results = defaultdict(list)\n",
    "redundancy_results = defaultdict(list)\n",
    "\n",
    "for path in Path(\".\").iterdir():\n",
    "    match = DOMAIN_DIR_PATTERN.match(str(path))\n",
    "    \n",
    "    if match is None:\n",
    "        continue\n",
    "    \n",
    "    for path in Path(path).iterdir():\n",
    "        match = DOMAIN_FILE_PATTERN.match(str(path))\n",
    "        \n",
    "        if match is not None:\n",
    "            sample = float(match.group(1))\n",
    "\n",
    "            with open(path) as file:\n",
    "                stdout = file.read()\n",
    "\n",
    "            match = EXECUTION_PATTERN.search(stdout)\n",
    "            if match is None:\n",
    "                print(path)\n",
    "                continue\n",
    "            initialisation = parse_time(match.group(1))\n",
    "            execution = parse_time(match.group(2))\n",
    "            cleanup = parse_time(match.group(3))\n",
    "\n",
    "            throughput_results[sample].append((initialisation, execution, cleanup))\n",
    "        \n",
    "        match = DOMAIN_REPLAY_PATTERN.match(str(path))\n",
    "        \n",
    "        if match is not None:\n",
    "            sample = float(match.group(1))\n",
    "            \n",
    "            with open(path) as file:\n",
    "                stdout = file.read()\n",
    "                \n",
    "            match = BIODIVERSITY_PATTERN.search(stdout)\n",
    "            if match is None:\n",
    "                print(path)\n",
    "                continue\n",
    "            biodiversity = int(match.group(1))\n",
    "            \n",
    "            match = EVENT_PATTERN.search(stdout)\n",
    "            if match is None:\n",
    "                print(path)\n",
    "                continue\n",
    "            raw_speciations = int(match.group(1))\n",
    "            \n",
    "            print(sample, biodiversity, raw_speciations, raw_speciations / biodiversity)\n",
    "            \n",
    "            redundancy_results[sample].append((biodiversity, raw_speciations, raw_speciations / biodiversity))\n",
    "\n",
    "results = { domain: [\n",
    "    (np.median(s), np.mean(s), np.std(s), len(s)) for s in chain(zip(*result), zip(*redundancy_results[domain]))\n",
    "] for domain, result in throughput_results.items() }\n",
    "\n",
    "(\n",
    "    domains, initialisations, executions, cleanups, biodiversities, raw_speciations, redundancies\n",
    ") = zip(*sorted([domain] + rs for domain, rs in results.items()))\n",
    "\n",
    "for domain, execution, redundancy in zip(domains, executions, redundancies):\n",
    "    display(Markdown(fr\"* ${domain}$ individuals: ${np.round(execution[1], 2)}s \\pm {np.round(execution[2], 2)}s$ per batch [{execution[3]} samples] -> ${np.round(redundancy[1] * 100, 2)}\\% \\pm {np.round(redundancy[2] * 100, 2)}\\%$\"))"
   ]
  }
 ],
 "metadata": {
  "kernelspec": {
   "display_name": "Python 3",
   "language": "python",
   "name": "python3"
  },
  "language_info": {
   "codemirror_mode": {
    "name": "ipython",
    "version": 3
   },
   "file_extension": ".py",
   "mimetype": "text/x-python",
   "name": "python",
   "nbconvert_exporter": "python",
   "pygments_lexer": "ipython3",
   "version": "3.6.8"
  }
 },
 "nbformat": 4,
 "nbformat_minor": 4
}

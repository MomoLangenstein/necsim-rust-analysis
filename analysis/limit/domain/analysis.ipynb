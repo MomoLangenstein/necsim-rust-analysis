{
 "cells": [
  {
   "cell_type": "code",
   "execution_count": 1,
   "metadata": {
    "tags": []
   },
   "outputs": [],
   "source": [
    "import re\n",
    "\n",
    "import numpy as np\n",
    "\n",
    "from IPython.display import display, Markdown\n",
    "from pathlib import Path\n",
    "from collections import defaultdict"
   ]
  },
  {
   "cell_type": "code",
   "execution_count": 2,
   "metadata": {
    "tags": []
   },
   "outputs": [],
   "source": [
    "CC_PATTERN = re.compile(r\"(?<!^)(?=[A-Z])\")"
   ]
  },
  {
   "cell_type": "code",
   "execution_count": 3,
   "metadata": {},
   "outputs": [],
   "source": [
    "BIODIVERSITY_PATTERN = re.compile(r\"The simulation resulted in a biodiversity of (\\d+) unique species\\.\")\n",
    "EXECUTION_PATTERN = re.compile(r\"The simulation took:\\n - initialisation: ([^\\n]+)\\n - execution: ([^\\n]+)\\n - cleanup: ([^\\n]+)\\n\")"
   ]
  },
  {
   "cell_type": "code",
   "execution_count": 4,
   "metadata": {},
   "outputs": [],
   "source": [
    "TIME_PATTERN = re.compile(r\"(\\d+(?:\\.\\d+)?)([^\\d]+)\")\n",
    "TIME_UNITS = {\n",
    "    \"ns\": 0.000000001,\n",
    "    \"µs\": 0.000001,\n",
    "    \"ms\": 0.001,\n",
    "    \"s\": 1.0,\n",
    "}\n",
    "\n",
    "def parse_time(time_str):\n",
    "    match = TIME_PATTERN.match(time_str)\n",
    "    \n",
    "    if match is None:\n",
    "        return None\n",
    "    \n",
    "    return float(match.group(1)) * TIME_UNITS[match.group(2)]"
   ]
  },
  {
   "cell_type": "code",
   "execution_count": 5,
   "metadata": {},
   "outputs": [],
   "source": [
    "DOMAIN_FILE_PATTERN = re.compile(r\"limit\\.([+\\-]?(?:0|[1-9]\\d*)(?:\\.\\d*)?(?:[eE][+\\-]?\\d+)?)\\.o\\d+\\.\\d+\")"
   ]
  },
  {
   "cell_type": "code",
   "execution_count": 6,
   "metadata": {},
   "outputs": [
    {
     "data": {
      "text/markdown": [
       "# Scalability of the IsolatedLandscape Independent Algorithm variant"
      ],
      "text/plain": [
       "<IPython.core.display.Markdown object>"
      ]
     },
     "metadata": {},
     "output_type": "display_data"
    },
    {
     "data": {
      "text/markdown": [
       "* $1000000000$ individuals: $16002.04s \\pm 2750.39s$ per batch"
      ],
      "text/plain": [
       "<IPython.core.display.Markdown object>"
      ]
     },
     "metadata": {},
     "output_type": "display_data"
    },
    {
     "data": {
      "text/markdown": [
       "* $10000000000$ individuals: $6101.79s \\pm 2119.15s$ per batch"
      ],
      "text/plain": [
       "<IPython.core.display.Markdown object>"
      ]
     },
     "metadata": {},
     "output_type": "display_data"
    },
    {
     "data": {
      "text/markdown": [
       "* $71000000000$ individuals: $3753.76s \\pm 2128.84s$ per batch"
      ],
      "text/plain": [
       "<IPython.core.display.Markdown object>"
      ]
     },
     "metadata": {},
     "output_type": "display_data"
    }
   ],
   "source": [
    "display(Markdown(\"# Scalability of the IsolatedLandscape Independent Algorithm variant\"))\n",
    "\n",
    "results = defaultdict(list)\n",
    "\n",
    "for path in Path(\".\").iterdir():\n",
    "    match = DOMAIN_FILE_PATTERN.match(path.name)\n",
    "\n",
    "    if match is None:\n",
    "        continue\n",
    "\n",
    "    domain = int(float(match.group(1)))\n",
    "\n",
    "    with open(path) as file:\n",
    "        stdout = file.read()\n",
    "\n",
    "    match = EXECUTION_PATTERN.search(stdout)\n",
    "    if match is None:\n",
    "        continue\n",
    "    initialisation = parse_time(match.group(1))\n",
    "    execution = parse_time(match.group(2))\n",
    "    cleanup = parse_time(match.group(3))\n",
    "\n",
    "    results[domain].append((0, initialisation, execution, cleanup))\n",
    "\n",
    "results = { domain: [(np.median(s), np.mean(s), np.std(s)) for s in zip(*result)] for domain, result in results.items() }\n",
    "\n",
    "domains, biodiversities, initialisations, executions, cleanups = zip(*sorted([domain] + rs for domain, rs in results.items()))\n",
    "\n",
    "for domain, execution in zip(domains, executions):\n",
    "    display(Markdown(f\"* ${domain}$ individuals: ${np.round(execution[1], 2)}s \\pm {np.round(execution[2], 2)}s$ per batch\"))"
   ]
  },
  {
   "cell_type": "code",
   "execution_count": null,
   "metadata": {},
   "outputs": [],
   "source": []
  }
 ],
 "metadata": {
  "kernelspec": {
   "display_name": "Python 3",
   "language": "python",
   "name": "python3"
  },
  "language_info": {
   "codemirror_mode": {
    "name": "ipython",
    "version": 3
   },
   "file_extension": ".py",
   "mimetype": "text/x-python",
   "name": "python",
   "nbconvert_exporter": "python",
   "pygments_lexer": "ipython3",
   "version": "3.7.5"
  }
 },
 "nbformat": 4,
 "nbformat_minor": 4
}

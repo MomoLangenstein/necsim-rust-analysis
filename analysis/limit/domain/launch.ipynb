{
 "cells": [
  {
   "cell_type": "code",
   "execution_count": 1,
   "metadata": {},
   "outputs": [],
   "source": [
    "import subprocess\n",
    "import shlex\n",
    "import os\n",
    "import glob\n",
    "import re\n",
    "\n",
    "from subprocess import PIPE\n",
    "from pathlib import Path"
   ]
  },
  {
   "cell_type": "code",
   "execution_count": 2,
   "metadata": {},
   "outputs": [
    {
     "data": {
      "text/plain": [
       "'[000000572[].bpbs]'"
      ]
     },
     "execution_count": 2,
     "metadata": {},
     "output_type": "execute_result"
    }
   ],
   "source": [
    "walltime = \"{:02d}\".format(8)\n",
    "\n",
    "config = fr\"\"\"\n",
    "#PBS -lselect={1}:ncpus={1}:mem={16}gb\n",
    "#PBS -J {0}-{9}\n",
    "#PBS -lwalltime={walltime}:00:00\n",
    "\n",
    "$HOME/necsim-rust/target-base/release/rustcoalescence simulate '(\n",
    "    speciation: {1e-6},\n",
    "    sample: {1.0 / 71.0},\n",
    "    seed: '$(python3 -c \"import random; print(random.getrandbits(64))\")',\n",
    "\n",
    "    algorithm: Independent(\n",
    "        delta_t: {2.0},\n",
    "        step_slice: {10},\n",
    "        dedup_cache: Relative(factor: {1.0}),\n",
    "        parallelism_mode: IsolatedLandscape(\n",
    "            event_slice:{100000000},\n",
    "            partition: Partition(rank:'$PBS_ARRAY_INDEX',partitions:{10})\n",
    "        ),\n",
    "    ),\n",
    "\n",
    "    scenario: SpatiallyExplicit(\n",
    "        habitat: \"'$HOME'/necsim-rust/maps/madingley/fg0size8/habitat.tif\",\n",
    "        dispersal: \"'$HOME'/necsim-rust/maps/madingley/fg0size8/dispersal.tif\",\n",
    "    ),\n",
    "\n",
    "    log: \"'$EPHEMERAL'/'$(echo $PBS_JOBID | sed \"s:\\[[0-9]\\+\\]:\\[\\]:g\")'/event_log/'$PBS_ARRAY_INDEX'\",\n",
    "\n",
    "    reporters: [\n",
    "        Plugin(\n",
    "            library: \"'$HOME'/necsim-rust/target-base/release/deps/libnecsim_plugins_common.so\",\n",
    "            reporters: [Execution(), Biodiversity()],\n",
    "        ),\n",
    "    ],\n",
    ")'\n",
    "\"\"\"\n",
    "\n",
    "subprocess.run(shlex.split(\n",
    "    f\"{os.environ['HOME']}/qsubbuf/target/release/qsubbuf -N limit.1e9\"\n",
    "), check=True, input=config, stdout=PIPE, universal_newlines=True).stdout.strip()"
   ]
  },
  {
   "cell_type": "code",
   "execution_count": 3,
   "metadata": {},
   "outputs": [
    {
     "data": {
      "text/plain": [
       "'[000000573[].bpbs]'"
      ]
     },
     "execution_count": 3,
     "metadata": {},
     "output_type": "execute_result"
    }
   ],
   "source": [
    "walltime = \"{:02d}\".format(8)\n",
    "\n",
    "config = fr\"\"\"\n",
    "#PBS -lselect={1}:ncpus={1}:mem={16}gb\n",
    "#PBS -J {0}-{99}\n",
    "#PBS -lwalltime={walltime}:00:00\n",
    "\n",
    "$HOME/necsim-rust/target-base/release/rustcoalescence simulate '(\n",
    "    speciation: {1e-6},\n",
    "    sample: {1.0 / 7.1},\n",
    "    seed: '$(python3 -c \"import random; print(random.getrandbits(64))\")',\n",
    "\n",
    "    algorithm: Independent(\n",
    "        delta_t: {2.0},\n",
    "        step_slice: {10},\n",
    "        dedup_cache: Relative(factor: {1.0}),\n",
    "        parallelism_mode: IsolatedLandscape(\n",
    "            event_slice:{100000000},\n",
    "            partition: Partition(rank:'$PBS_ARRAY_INDEX',partitions:{100})\n",
    "        ),\n",
    "    ),\n",
    "\n",
    "    scenario: SpatiallyExplicit(\n",
    "        habitat: \"'$HOME'/necsim-rust/maps/madingley/fg0size8/habitat.tif\",\n",
    "        dispersal: \"'$HOME'/necsim-rust/maps/madingley/fg0size8/dispersal.tif\",\n",
    "    ),\n",
    "\n",
    "    log: \"'$EPHEMERAL'/'$(echo $PBS_JOBID | sed \"s:\\[[0-9]\\+\\]:\\[\\]:g\")'/event_log/'$PBS_ARRAY_INDEX'\",\n",
    "\n",
    "    reporters: [\n",
    "        Plugin(\n",
    "            library: \"'$HOME'/necsim-rust/target-base/release/deps/libnecsim_plugins_common.so\",\n",
    "            reporters: [Execution(), Biodiversity()],\n",
    "        ),\n",
    "    ],\n",
    ")'\n",
    "\"\"\"\n",
    "\n",
    "subprocess.run(shlex.split(\n",
    "    f\"{os.environ['HOME']}/qsubbuf/target/release/qsubbuf -N limit.1e10\"\n",
    "), check=True, input=config, stdout=PIPE, universal_newlines=True).stdout.strip()"
   ]
  },
  {
   "cell_type": "code",
   "execution_count": 4,
   "metadata": {},
   "outputs": [
    {
     "data": {
      "text/plain": [
       "'[000000574[].bpbs]'"
      ]
     },
     "execution_count": 4,
     "metadata": {},
     "output_type": "execute_result"
    }
   ],
   "source": [
    "walltime = \"{:02d}\".format(8)\n",
    "\n",
    "config = fr\"\"\"\n",
    "#PBS -lselect={1}:ncpus={1}:mem={16}gb\n",
    "#PBS -J {0}-{709}\n",
    "#PBS -lwalltime={walltime}:00:00\n",
    "\n",
    "$HOME/necsim-rust/target-base/release/rustcoalescence simulate '(\n",
    "    speciation: {1e-6},\n",
    "    sample: {1.0},\n",
    "    seed: '$(python3 -c \"import random; print(random.getrandbits(64))\")',\n",
    "\n",
    "    algorithm: Independent(\n",
    "        delta_t: {2.0},\n",
    "        step_slice: {10},\n",
    "        dedup_cache: Relative(factor: {1.0}),\n",
    "        parallelism_mode: IsolatedLandscape(\n",
    "            event_slice:{100000000},\n",
    "            partition: Partition(rank:'$PBS_ARRAY_INDEX',partitions:{710})\n",
    "        ),\n",
    "    ),\n",
    "\n",
    "    scenario: SpatiallyExplicit(\n",
    "        habitat: \"'$HOME'/necsim-rust/maps/madingley/fg0size8/habitat.tif\",\n",
    "        dispersal: \"'$HOME'/necsim-rust/maps/madingley/fg0size8/dispersal.tif\",\n",
    "    ),\n",
    "\n",
    "    log: \"'$EPHEMERAL'/'$(echo $PBS_JOBID | sed \"s:\\[[0-9]\\+\\]:\\[\\]:g\")'/event_log/'$PBS_ARRAY_INDEX'\",\n",
    "\n",
    "    reporters: [\n",
    "        Plugin(\n",
    "            library: \"'$HOME'/necsim-rust/target-base/release/deps/libnecsim_plugins_common.so\",\n",
    "            reporters: [Execution(), Biodiversity()],\n",
    "        ),\n",
    "    ],\n",
    ")'\n",
    "\"\"\"\n",
    "\n",
    "subprocess.run(shlex.split(\n",
    "    f\"{os.environ['HOME']}/qsubbuf/target/release/qsubbuf -N limit.7.1e10\"\n",
    "), check=True, input=config, stdout=PIPE, universal_newlines=True).stdout.strip()"
   ]
  },
  {
   "cell_type": "code",
   "execution_count": null,
   "metadata": {},
   "outputs": [],
   "source": []
  }
 ],
 "metadata": {
  "kernelspec": {
   "display_name": "Python 3",
   "language": "python",
   "name": "python3"
  },
  "language_info": {
   "codemirror_mode": {
    "name": "ipython",
    "version": 3
   },
   "file_extension": ".py",
   "mimetype": "text/x-python",
   "name": "python",
   "nbconvert_exporter": "python",
   "pygments_lexer": "ipython3",
   "version": "3.6.8"
  }
 },
 "nbformat": 4,
 "nbformat_minor": 5
}

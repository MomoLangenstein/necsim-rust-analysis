{
 "cells": [
  {
   "cell_type": "code",
   "execution_count": null,
   "id": "85acfeb7",
   "metadata": {
    "jupyter": {
     "source_hidden": true
    },
    "tags": []
   },
   "outputs": [],
   "source": [
    "import subprocess\n",
    "import shlex\n",
    "import re\n",
    "import json\n",
    "\n",
    "import numpy as np\n",
    "import multiprocessing as mp\n",
    "\n",
    "from matplotlib import pyplot as plt\n",
    "from scipy import stats\n",
    "from tqdm import tqdm\n",
    "from IPython.display import display, Markdown\n",
    "from tempfile import TemporaryDirectory"
   ]
  },
  {
   "cell_type": "code",
   "execution_count": null,
   "id": "2f2e88d7-353d-478f-86fa-34aaeaf3b878",
   "metadata": {
    "jupyter": {
     "source_hidden": true
    },
    "tags": []
   },
   "outputs": [],
   "source": [
    "import matplotlib as mpl\n",
    "mpl.rcParams['figure.dpi'] = 400\n",
    "\n",
    "def show():\n",
    "    plt.savefig(f\"{show.fig_counter}.pdf\", dpi='figure', transparent=True, bbox_inches='tight')\n",
    "    show.fig_counter += 1\n",
    "    show.plt_show()\n",
    "\n",
    "show.fig_counter = 0\n",
    "show.plt_show = plt.show\n",
    "\n",
    "plt.show = show"
   ]
  },
  {
   "cell_type": "code",
   "execution_count": null,
   "id": "8f9f5a64",
   "metadata": {
    "jupyter": {
     "source_hidden": true
    },
    "tags": []
   },
   "outputs": [],
   "source": [
    "EVENT_PATTERN = re.compile(r\"Event Summary:\\n - Total #individuals:\\n   \\d+\\n - Total #events:\\n   - raw:\\n     (\\d+)\\n   - deduplicated:\\n     (\\d+)\")\n",
    "EXECUTION_PATTERN = re.compile(r\"The simulation took:\\n - initialisation: ([^\\n]+)\\n - execution: ([^\\n]+)\\n - cleanup: ([^\\n]+)\\n\")"
   ]
  },
  {
   "cell_type": "code",
   "execution_count": null,
   "id": "18d7c08e-0a51-49ed-b4da-08fda48049dd",
   "metadata": {
    "jupyter": {
     "source_hidden": true
    },
    "tags": []
   },
   "outputs": [],
   "source": [
    "TIME_PATTERN = re.compile(r\"(\\d+(?:\\.\\d+)?)([^\\d]+)\")\n",
    "TIME_UNITS = {\n",
    "    \"ns\": 0.000000001,\n",
    "    \"µs\": 0.000001,\n",
    "    \"ms\": 0.001,\n",
    "    \"s\": 1.0,\n",
    "}\n",
    "\n",
    "def parse_time(time_str):\n",
    "    match = TIME_PATTERN.match(time_str)\n",
    "    \n",
    "    if match is None:\n",
    "        return None\n",
    "    \n",
    "    return float(match.group(1)) * TIME_UNITS[match.group(2)]"
   ]
  },
  {
   "cell_type": "code",
   "execution_count": null,
   "id": "839ac46d",
   "metadata": {
    "jupyter": {
     "source_hidden": true
    },
    "tags": []
   },
   "outputs": [],
   "source": [
    "target_directory = json.loads(subprocess.run(\"cargo metadata --format-version 1\".split(), capture_output=True).stdout)[\"target_directory\"]"
   ]
  },
  {
   "cell_type": "code",
   "execution_count": null,
   "id": "b4c55b7a",
   "metadata": {
    "jupyter": {
     "source_hidden": true
    },
    "tags": []
   },
   "outputs": [],
   "source": [
    "def simulate_throughput_monolithic(algorithm, speciation=0.001, seed=42, sample=1.0, scenario=\"NonSpatial(area:(100,100),deme:100)\"):\n",
    "    config = \"\".join(f\"\"\"\n",
    "    (\n",
    "        speciation: {speciation},\n",
    "        sample: {sample},\n",
    "        seed: {seed},\n",
    "\n",
    "        algorithm: {algorithm},\n",
    "\n",
    "        log: None,\n",
    "\n",
    "        scenario: {scenario},\n",
    "\n",
    "        reporters: [\n",
    "            Plugin(\n",
    "                library: \"{target_directory}/release/deps/libnecsim_plugins_common.so\",\n",
    "                reporters: [Counter(), Execution()]\n",
    "            )\n",
    "        ],\n",
    "    )\n",
    "    \"\"\".split()).replace(\",)\", \")\").replace(\",]\", \"]\")\n",
    "\n",
    "    # Run the simulation\n",
    "    result = subprocess.run(shlex.split(\n",
    "        f\"{target_directory}/release/rustcoalescence simulate '{config}'\"\n",
    "        #\"cargo run --release --features rustcoalescence-algorithms-monolithic,\"\n",
    "        #+ \"rustcoalescence-algorithms-independent,necsim-partitioning-mpi \"\n",
    "        #+ f\"--quiet -- simulate '{config}'\"\n",
    "    ), check=True, capture_output=True, text=True)\n",
    "\n",
    "    match = EVENT_PATTERN.search(result.stdout)\n",
    "    if match is None:\n",
    "        print(result.stdout)\n",
    "        print(result.stderr)\n",
    "    raw_events = int(match.group(1))\n",
    "    deduplicated_events = int(match.group(2))\n",
    "    \n",
    "    match = EXECUTION_PATTERN.search(result.stdout)\n",
    "    if match is None:\n",
    "        print(result.stdout)\n",
    "        print(result.stderr)\n",
    "    initialisation = parse_time(match.group(1))\n",
    "    execution = parse_time(match.group(2))\n",
    "    cleanup = parse_time(match.group(3))\n",
    "        \n",
    "    return raw_events, deduplicated_events, initialisation, execution, cleanup"
   ]
  },
  {
   "cell_type": "code",
   "execution_count": null,
   "id": "8f940b1e",
   "metadata": {
    "jupyter": {
     "source_hidden": true
    },
    "tags": []
   },
   "outputs": [],
   "source": [
    "def batch_simulation_many_seeds(simulate, seeds, args=tuple(), kwargs=dict(), silent=False, processes=mp.cpu_count()):\n",
    "    results = []\n",
    "\n",
    "    with tqdm(total=len(seeds), disable=silent) as progress:\n",
    "        def update_progress(result):\n",
    "            results.append(result)\n",
    "\n",
    "            progress.update()\n",
    "        \n",
    "        def update_error(err):\n",
    "            print(err)\n",
    "\n",
    "        with mp.Pool(processes) as pool:\n",
    "            for seed in seeds:\n",
    "                pool.apply_async(simulate, args, {**kwargs, \"seed\": seed}, update_progress, update_error)\n",
    "\n",
    "            pool.close()\n",
    "            pool.join()\n",
    "    \n",
    "    return results"
   ]
  },
  {
   "cell_type": "code",
   "execution_count": null,
   "id": "afc786ba-742d-4078-a247-2ba4f9e1a1f5",
   "metadata": {
    "tags": []
   },
   "outputs": [],
   "source": [
    "display(Markdown(\"# Event throughput\"))\n",
    "\n",
    "for algorithm in [\n",
    "    \"Classical()\", \"Gillespie()\", \"SkippingGillespie()\",\n",
    "    f\"\"\"Independent(\n",
    "        dedup_cache: Relative(factor: {1.0}),\n",
    "        delta_t: {2.0},\n",
    "        parallelism_mode: Monolithic(event_slice: {100*100*100})\n",
    "    )\"\"\"\n",
    "]:\n",
    "    display(Markdown(f\"## {algorithm[:algorithm.find('(')]}:\"))\n",
    "    \n",
    "    for scenario, sample in [\n",
    "        (f\"NonSpatial(area: ({100}, {100}), deme: {100})\", 1.0),\n",
    "        (f\"AlmostInfinite(radius: {564}, sigma: {10.0})\", 1.0),\n",
    "        (f\"\"\"SpatiallyExplicit(\n",
    "            habitat: \"{target_directory}/../maps/madingley/fg0size12/habitat.tif\",\n",
    "            dispersal: \"{target_directory}/../maps/madingley/fg0size12/dispersal.tif\"\n",
    "        )\"\"\", 0.000025),\n",
    "    ]:\n",
    "        seeds = np.random.randint(0, np.iinfo(\"uint64\").max, dtype=\"uint64\", size=160)\n",
    "\n",
    "        raw_events, deduplicated_events, initialisations, executions, cleanups = zip(*batch_simulation_many_seeds(\n",
    "            simulate_throughput_monolithic, seeds, args=(algorithm,), kwargs={\n",
    "                \"scenario\":\"NonSpatial(area:(100,100),deme:100)\", \"speciation\":0.001\n",
    "            }, silent=False\n",
    "        ))\n",
    "        \n",
    "        raw_throughput = np.mean(raw_events) / np.mean(executions)\n",
    "        throughput = np.mean(deduplicated_events) / np.mean(executions)\n",
    "        \n",
    "        if raw_throughput != throughput:\n",
    "            display(Markdown(f\"### {scenario[:scenario.find('(')]}: {np.round(throughput, 1)}/s [raw: {np.round(raw_throughput, 1)}/s]\"))\n",
    "        else:\n",
    "            display(Markdown(f\"### {scenario[:scenario.find('(')]}: {np.round(throughput, 1)}/s\"))"
   ]
  },
  {
   "cell_type": "code",
   "execution_count": null,
   "id": "afc9117b-736d-4fe8-ac75-d657c434a112",
   "metadata": {},
   "outputs": [],
   "source": []
  }
 ],
 "metadata": {
  "kernelspec": {
   "display_name": "Python 3",
   "language": "python",
   "name": "python3"
  },
  "language_info": {
   "codemirror_mode": {
    "name": "ipython",
    "version": 3
   },
   "file_extension": ".py",
   "mimetype": "text/x-python",
   "name": "python",
   "nbconvert_exporter": "python",
   "pygments_lexer": "ipython3",
   "version": "3.7.5"
  }
 },
 "nbformat": 4,
 "nbformat_minor": 5
}

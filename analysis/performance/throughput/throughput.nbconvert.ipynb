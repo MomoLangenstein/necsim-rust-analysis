{
 "cells": [
  {
   "cell_type": "code",
   "execution_count": 1,
   "id": "85acfeb7",
   "metadata": {
    "execution": {
     "iopub.execute_input": "2021-05-21T18:59:29.868473Z",
     "iopub.status.busy": "2021-05-21T18:59:29.867690Z",
     "iopub.status.idle": "2021-05-21T18:59:30.428936Z",
     "shell.execute_reply": "2021-05-21T18:59:30.429362Z"
    },
    "jupyter": {
     "source_hidden": true
    },
    "tags": []
   },
   "outputs": [],
   "source": [
    "import subprocess\n",
    "import shlex\n",
    "import re\n",
    "import json\n",
    "\n",
    "import numpy as np\n",
    "import multiprocessing as mp\n",
    "\n",
    "from matplotlib import pyplot as plt\n",
    "from scipy import stats\n",
    "from tqdm import tqdm\n",
    "from IPython.display import display, Markdown\n",
    "from tempfile import TemporaryDirectory"
   ]
  },
  {
   "cell_type": "code",
   "execution_count": 2,
   "id": "2f2e88d7-353d-478f-86fa-34aaeaf3b878",
   "metadata": {
    "execution": {
     "iopub.execute_input": "2021-05-21T18:59:30.434296Z",
     "iopub.status.busy": "2021-05-21T18:59:30.433538Z",
     "iopub.status.idle": "2021-05-21T18:59:30.435220Z",
     "shell.execute_reply": "2021-05-21T18:59:30.435821Z"
    },
    "jupyter": {
     "source_hidden": true
    },
    "tags": []
   },
   "outputs": [],
   "source": [
    "import matplotlib as mpl\n",
    "mpl.rcParams['figure.dpi'] = 400\n",
    "\n",
    "def show():\n",
    "    plt.savefig(f\"{show.fig_counter}.pdf\", dpi='figure', transparent=True, bbox_inches='tight')\n",
    "    show.fig_counter += 1\n",
    "    show.plt_show()\n",
    "\n",
    "show.fig_counter = 0\n",
    "show.plt_show = plt.show\n",
    "\n",
    "plt.show = show"
   ]
  },
  {
   "cell_type": "code",
   "execution_count": 3,
   "id": "8f9f5a64",
   "metadata": {
    "execution": {
     "iopub.execute_input": "2021-05-21T18:59:30.439984Z",
     "iopub.status.busy": "2021-05-21T18:59:30.439230Z",
     "iopub.status.idle": "2021-05-21T18:59:30.440919Z",
     "shell.execute_reply": "2021-05-21T18:59:30.441523Z"
    },
    "jupyter": {
     "source_hidden": true
    },
    "tags": []
   },
   "outputs": [],
   "source": [
    "EVENT_PATTERN = re.compile(r\"Event Summary:\\n - Total #individuals:\\n   \\d+\\n - Total #events:\\n   - raw:\\n     (\\d+)\\n   - deduplicated:\\n     (\\d+)\")\n",
    "EXECUTION_PATTERN = re.compile(r\"The simulation took:\\n - initialisation: ([^\\n]+)\\n - execution: ([^\\n]+)\\n - cleanup: ([^\\n]+)\\n\")"
   ]
  },
  {
   "cell_type": "code",
   "execution_count": 4,
   "id": "18d7c08e-0a51-49ed-b4da-08fda48049dd",
   "metadata": {
    "execution": {
     "iopub.execute_input": "2021-05-21T18:59:30.446269Z",
     "iopub.status.busy": "2021-05-21T18:59:30.445643Z",
     "iopub.status.idle": "2021-05-21T18:59:30.447079Z",
     "shell.execute_reply": "2021-05-21T18:59:30.447577Z"
    },
    "jupyter": {
     "source_hidden": true
    },
    "tags": []
   },
   "outputs": [],
   "source": [
    "TIME_PATTERN = re.compile(r\"(\\d+(?:\\.\\d+)?)([^\\d]+)\")\n",
    "TIME_UNITS = {\n",
    "    \"ns\": 0.000000001,\n",
    "    \"µs\": 0.000001,\n",
    "    \"ms\": 0.001,\n",
    "    \"s\": 1.0,\n",
    "}\n",
    "\n",
    "def parse_time(time_str):\n",
    "    match = TIME_PATTERN.match(time_str)\n",
    "    \n",
    "    if match is None:\n",
    "        return None\n",
    "    \n",
    "    return float(match.group(1)) * TIME_UNITS[match.group(2)]"
   ]
  },
  {
   "cell_type": "code",
   "execution_count": 5,
   "id": "839ac46d",
   "metadata": {
    "execution": {
     "iopub.execute_input": "2021-05-21T18:59:30.451383Z",
     "iopub.status.busy": "2021-05-21T18:59:30.450714Z",
     "iopub.status.idle": "2021-05-21T18:59:30.651727Z",
     "shell.execute_reply": "2021-05-21T18:59:30.651241Z"
    },
    "jupyter": {
     "source_hidden": true
    },
    "tags": []
   },
   "outputs": [],
   "source": [
    "target_directory = json.loads(subprocess.run(\"cargo metadata --format-version 1\".split(), capture_output=True).stdout)[\"target_directory\"]"
   ]
  },
  {
   "cell_type": "code",
   "execution_count": 6,
   "id": "b4c55b7a",
   "metadata": {
    "execution": {
     "iopub.execute_input": "2021-05-21T18:59:30.659325Z",
     "iopub.status.busy": "2021-05-21T18:59:30.658550Z",
     "iopub.status.idle": "2021-05-21T18:59:30.661035Z",
     "shell.execute_reply": "2021-05-21T18:59:30.661603Z"
    },
    "jupyter": {
     "source_hidden": true
    },
    "tags": []
   },
   "outputs": [],
   "source": [
    "def simulate_throughput_monolithic(algorithm, speciation=0.001, seed=42, sample=1.0, scenario=\"NonSpatial(area:(100,100),deme:100)\"):\n",
    "    config = \"\".join(f\"\"\"\n",
    "    (\n",
    "        speciation: {speciation},\n",
    "        sample: {sample},\n",
    "        seed: {seed},\n",
    "\n",
    "        algorithm: {algorithm},\n",
    "\n",
    "        log: None,\n",
    "\n",
    "        scenario: {scenario},\n",
    "\n",
    "        reporters: [\n",
    "            Plugin(\n",
    "                library: \"{target_directory}/release/deps/libnecsim_plugins_common.so\",\n",
    "                reporters: [Counter(), Execution()]\n",
    "            )\n",
    "        ],\n",
    "    )\n",
    "    \"\"\".split()).replace(\",)\", \")\").replace(\",]\", \"]\")\n",
    "\n",
    "    # Run the simulation\n",
    "    result = subprocess.run(shlex.split(\n",
    "        \"cargo run --release --features rustcoalescence-algorithms-monolithic,\"\n",
    "        + \"rustcoalescence-algorithms-independent,necsim-partitioning-mpi \"\n",
    "        + f\"--quiet -- simulate '{config}'\"\n",
    "    ), check=True, capture_output=True, text=True)\n",
    "\n",
    "    match = EVENT_PATTERN.search(result.stdout)\n",
    "    if match is None:\n",
    "        print(result.stdout)\n",
    "        print(result.stderr)\n",
    "    raw_events = int(match.group(1))\n",
    "    deduplicated_events = int(match.group(2))\n",
    "    \n",
    "    match = EXECUTION_PATTERN.search(result.stdout)\n",
    "    if match is None:\n",
    "        print(result.stdout)\n",
    "        print(result.stderr)\n",
    "    initialisation = parse_time(match.group(1))\n",
    "    execution = parse_time(match.group(2))\n",
    "    cleanup = parse_time(match.group(3))\n",
    "        \n",
    "    return raw_events, deduplicated_events, initialisation, execution, cleanup"
   ]
  },
  {
   "cell_type": "code",
   "execution_count": 7,
   "id": "8f940b1e",
   "metadata": {
    "execution": {
     "iopub.execute_input": "2021-05-21T18:59:30.667401Z",
     "iopub.status.busy": "2021-05-21T18:59:30.666648Z",
     "iopub.status.idle": "2021-05-21T18:59:30.669821Z",
     "shell.execute_reply": "2021-05-21T18:59:30.669155Z"
    },
    "jupyter": {
     "source_hidden": true
    },
    "tags": []
   },
   "outputs": [],
   "source": [
    "def batch_simulation_many_seeds(simulate, seeds, args=tuple(), kwargs=dict(), silent=False, processes=mp.cpu_count()):\n",
    "    results = []\n",
    "\n",
    "    with tqdm(total=len(seeds), disable=silent) as progress:\n",
    "        def update_progress(result):\n",
    "            results.append(result)\n",
    "\n",
    "            progress.update()\n",
    "        \n",
    "        def update_error(err):\n",
    "            print(err)\n",
    "\n",
    "        with mp.Pool(processes) as pool:\n",
    "            for seed in seeds:\n",
    "                pool.apply_async(simulate, args, {**kwargs, \"seed\": seed}, update_progress, update_error)\n",
    "\n",
    "            pool.close()\n",
    "            pool.join()\n",
    "    \n",
    "    return results"
   ]
  },
  {
   "cell_type": "code",
   "execution_count": 8,
   "id": "afc786ba-742d-4078-a247-2ba4f9e1a1f5",
   "metadata": {
    "execution": {
     "iopub.execute_input": "2021-05-21T18:59:30.679681Z",
     "iopub.status.busy": "2021-05-21T18:59:30.678714Z",
     "iopub.status.idle": "2021-05-21T19:16:38.477048Z",
     "shell.execute_reply": "2021-05-21T19:16:38.477559Z"
    },
    "tags": []
   },
   "outputs": [
    {
     "data": {
      "text/markdown": [
       "# Event throughput"
      ],
      "text/plain": [
       "<IPython.core.display.Markdown object>"
      ]
     },
     "metadata": {},
     "output_type": "display_data"
    },
    {
     "data": {
      "text/markdown": [
       "## Classical:"
      ],
      "text/plain": [
       "<IPython.core.display.Markdown object>"
      ]
     },
     "metadata": {},
     "output_type": "display_data"
    },
    {
     "name": "stderr",
     "output_type": "stream",
     "text": [
      "100%|█████████████████████████████████████████████████████████████████████████████████████████████████████████████████████████| 160/160 [06:19<00:00,  2.37s/it]\n"
     ]
    },
    {
     "data": {
      "text/markdown": [
       "### NonSpatial: 1248540.9/s"
      ],
      "text/plain": [
       "<IPython.core.display.Markdown object>"
      ]
     },
     "metadata": {},
     "output_type": "display_data"
    },
    {
     "name": "stderr",
     "output_type": "stream",
     "text": [
      "100%|█████████████████████████████████████████████████████████████████████████████████████████████████████████████████████████| 160/160 [00:31<00:00,  5.06it/s]\n"
     ]
    },
    {
     "data": {
      "text/markdown": [
       "### AlmostInfinite: 1258653.3/s"
      ],
      "text/plain": [
       "<IPython.core.display.Markdown object>"
      ]
     },
     "metadata": {},
     "output_type": "display_data"
    },
    {
     "name": "stderr",
     "output_type": "stream",
     "text": [
      "100%|█████████████████████████████████████████████████████████████████████████████████████████████████████████████████████████| 160/160 [00:31<00:00,  5.05it/s]\n"
     ]
    },
    {
     "data": {
      "text/markdown": [
       "### SpatiallyExplicit: 1251962.0/s"
      ],
      "text/plain": [
       "<IPython.core.display.Markdown object>"
      ]
     },
     "metadata": {},
     "output_type": "display_data"
    },
    {
     "data": {
      "text/markdown": [
       "## Gillespie:"
      ],
      "text/plain": [
       "<IPython.core.display.Markdown object>"
      ]
     },
     "metadata": {},
     "output_type": "display_data"
    },
    {
     "name": "stderr",
     "output_type": "stream",
     "text": [
      "100%|█████████████████████████████████████████████████████████████████████████████████████████████████████████████████████████| 160/160 [01:14<00:00,  2.15it/s]\n"
     ]
    },
    {
     "data": {
      "text/markdown": [
       "### NonSpatial: 432824.9/s"
      ],
      "text/plain": [
       "<IPython.core.display.Markdown object>"
      ]
     },
     "metadata": {},
     "output_type": "display_data"
    },
    {
     "name": "stderr",
     "output_type": "stream",
     "text": [
      "100%|█████████████████████████████████████████████████████████████████████████████████████████████████████████████████████████| 160/160 [01:14<00:00,  2.16it/s]\n"
     ]
    },
    {
     "data": {
      "text/markdown": [
       "### AlmostInfinite: 432952.7/s"
      ],
      "text/plain": [
       "<IPython.core.display.Markdown object>"
      ]
     },
     "metadata": {},
     "output_type": "display_data"
    },
    {
     "name": "stderr",
     "output_type": "stream",
     "text": [
      "100%|█████████████████████████████████████████████████████████████████████████████████████████████████████████████████████████| 160/160 [01:14<00:00,  2.15it/s]\n"
     ]
    },
    {
     "data": {
      "text/markdown": [
       "### SpatiallyExplicit: 430885.3/s"
      ],
      "text/plain": [
       "<IPython.core.display.Markdown object>"
      ]
     },
     "metadata": {},
     "output_type": "display_data"
    },
    {
     "data": {
      "text/markdown": [
       "## SkippingGillespie:"
      ],
      "text/plain": [
       "<IPython.core.display.Markdown object>"
      ]
     },
     "metadata": {},
     "output_type": "display_data"
    },
    {
     "name": "stderr",
     "output_type": "stream",
     "text": [
      "100%|█████████████████████████████████████████████████████████████████████████████████████████████████████████████████████████| 160/160 [01:15<00:00,  2.13it/s]\n"
     ]
    },
    {
     "data": {
      "text/markdown": [
       "### NonSpatial: 422903.3/s"
      ],
      "text/plain": [
       "<IPython.core.display.Markdown object>"
      ]
     },
     "metadata": {},
     "output_type": "display_data"
    },
    {
     "name": "stderr",
     "output_type": "stream",
     "text": [
      "100%|█████████████████████████████████████████████████████████████████████████████████████████████████████████████████████████| 160/160 [01:15<00:00,  2.12it/s]\n"
     ]
    },
    {
     "data": {
      "text/markdown": [
       "### AlmostInfinite: 424839.7/s"
      ],
      "text/plain": [
       "<IPython.core.display.Markdown object>"
      ]
     },
     "metadata": {},
     "output_type": "display_data"
    },
    {
     "name": "stderr",
     "output_type": "stream",
     "text": [
      "100%|█████████████████████████████████████████████████████████████████████████████████████████████████████████████████████████| 160/160 [01:15<00:00,  2.13it/s]\n"
     ]
    },
    {
     "data": {
      "text/markdown": [
       "### SpatiallyExplicit: 426135.6/s"
      ],
      "text/plain": [
       "<IPython.core.display.Markdown object>"
      ]
     },
     "metadata": {},
     "output_type": "display_data"
    },
    {
     "data": {
      "text/markdown": [
       "## Independent:"
      ],
      "text/plain": [
       "<IPython.core.display.Markdown object>"
      ]
     },
     "metadata": {},
     "output_type": "display_data"
    },
    {
     "name": "stderr",
     "output_type": "stream",
     "text": [
      "100%|█████████████████████████████████████████████████████████████████████████████████████████████████████████████████████████| 160/160 [00:45<00:00,  3.51it/s]\n"
     ]
    },
    {
     "data": {
      "text/markdown": [
       "### NonSpatial: 667744.4/s [raw: 1182100.6/s]"
      ],
      "text/plain": [
       "<IPython.core.display.Markdown object>"
      ]
     },
     "metadata": {},
     "output_type": "display_data"
    },
    {
     "name": "stderr",
     "output_type": "stream",
     "text": [
      "100%|█████████████████████████████████████████████████████████████████████████████████████████████████████████████████████████| 160/160 [00:45<00:00,  3.53it/s]\n"
     ]
    },
    {
     "data": {
      "text/markdown": [
       "### AlmostInfinite: 671933.6/s [raw: 1189875.2/s]"
      ],
      "text/plain": [
       "<IPython.core.display.Markdown object>"
      ]
     },
     "metadata": {},
     "output_type": "display_data"
    },
    {
     "name": "stderr",
     "output_type": "stream",
     "text": [
      "100%|█████████████████████████████████████████████████████████████████████████████████████████████████████████████████████████| 160/160 [00:45<00:00,  3.53it/s]\n"
     ]
    },
    {
     "data": {
      "text/markdown": [
       "### SpatiallyExplicit: 668116.6/s [raw: 1182909.0/s]"
      ],
      "text/plain": [
       "<IPython.core.display.Markdown object>"
      ]
     },
     "metadata": {},
     "output_type": "display_data"
    }
   ],
   "source": [
    "display(Markdown(\"# Event throughput\"))\n",
    "\n",
    "for algorithm in [\n",
    "    \"Classical()\", \"Gillespie()\", \"SkippingGillespie()\",\n",
    "    f\"\"\"Independent(\n",
    "        dedup_cache: Relative(factor: {1.0}),\n",
    "        delta_t: {2.0},\n",
    "        parallelism_mode: Monolithic(event_slice: {100*100*100})\n",
    "    )\"\"\"\n",
    "]:\n",
    "    display(Markdown(f\"## {algorithm[:algorithm.find('(')]}:\"))\n",
    "    \n",
    "    for scenario, sample in [\n",
    "        (f\"NonSpatial(area: ({100}, {100}), deme: {100})\", 1.0),\n",
    "        (f\"AlmostInfinite(radius: {564}, sigma: {10.0})\", 1.0),\n",
    "        (f\"\"\"SpatiallyExplicit(\n",
    "            habitat: \"{target_directory}/../maps/madingley/fg0size12/habitat.tif\",\n",
    "            dispersal: \"{target_directory}/../maps/madingley/fg0size12/dispersal.tif\"\n",
    "        )\"\"\", 0.000025),\n",
    "    ]:\n",
    "        seeds = np.random.randint(0, np.iinfo(\"uint64\").max, dtype=\"uint64\", size=160)\n",
    "\n",
    "        raw_events, deduplicated_events, initialisations, executions, cleanups = zip(*batch_simulation_many_seeds(\n",
    "            simulate_throughput_monolithic, seeds, args=(algorithm,), kwargs={\n",
    "                \"scenario\":\"NonSpatial(area:(100,100),deme:100)\", \"speciation\":0.001\n",
    "            }, silent=False\n",
    "        ))\n",
    "        \n",
    "        raw_throughput = np.mean(raw_events) / np.mean(executions)\n",
    "        throughput = np.mean(deduplicated_events) / np.mean(executions)\n",
    "        \n",
    "        if raw_throughput != throughput:\n",
    "            display(Markdown(f\"### {scenario[:scenario.find('(')]}: {np.round(throughput, 1)}/s [raw: {np.round(raw_throughput, 1)}/s]\"))\n",
    "        else:\n",
    "            display(Markdown(f\"### {scenario[:scenario.find('(')]}: {np.round(throughput, 1)}/s\"))"
   ]
  },
  {
   "cell_type": "code",
   "execution_count": null,
   "id": "afc9117b-736d-4fe8-ac75-d657c434a112",
   "metadata": {},
   "outputs": [],
   "source": []
  }
 ],
 "metadata": {
  "kernelspec": {
   "display_name": "Python 3",
   "language": "python",
   "name": "python3"
  },
  "language_info": {
   "codemirror_mode": {
    "name": "ipython",
    "version": 3
   },
   "file_extension": ".py",
   "mimetype": "text/x-python",
   "name": "python",
   "nbconvert_exporter": "python",
   "pygments_lexer": "ipython3",
   "version": "3.7.5"
  }
 },
 "nbformat": 4,
 "nbformat_minor": 5
}

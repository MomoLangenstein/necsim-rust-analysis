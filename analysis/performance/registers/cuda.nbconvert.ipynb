{
 "cells": [
  {
   "cell_type": "code",
   "execution_count": 1,
   "metadata": {
    "execution": {
     "iopub.execute_input": "2021-05-22T08:50:01.225650Z",
     "iopub.status.busy": "2021-05-22T08:50:01.224999Z",
     "iopub.status.idle": "2021-05-22T08:50:01.585227Z",
     "shell.execute_reply": "2021-05-22T08:50:01.584643Z"
    },
    "jupyter": {
     "source_hidden": true
    },
    "tags": []
   },
   "outputs": [],
   "source": [
    "import subprocess\n",
    "import shlex\n",
    "import re\n",
    "import json\n",
    "\n",
    "import numpy as np\n",
    "\n",
    "from IPython.display import display, Markdown"
   ]
  },
  {
   "cell_type": "code",
   "execution_count": 2,
   "metadata": {
    "execution": {
     "iopub.execute_input": "2021-05-22T08:50:01.590907Z",
     "iopub.status.busy": "2021-05-22T08:50:01.589708Z",
     "iopub.status.idle": "2021-05-22T08:50:01.592116Z",
     "shell.execute_reply": "2021-05-22T08:50:01.593009Z"
    },
    "jupyter": {
     "source_hidden": true
    },
    "tags": []
   },
   "outputs": [],
   "source": [
    "REGISTERS_PATTERN = re.compile(r\"NumRegisters: Ok\\((\\d+)\\)\")\n",
    "MAX_THREADS_PATTERN = re.compile(r\"MaxThreadsPerBlock: Ok\\((\\d+)\\)\")\n",
    "LOCAL_BYTES_PATTERN = re.compile(r\"LocalSizeBytes: Ok\\((\\d+)\\)\")"
   ]
  },
  {
   "cell_type": "code",
   "execution_count": 3,
   "metadata": {
    "execution": {
     "iopub.execute_input": "2021-05-22T08:50:01.599422Z",
     "iopub.status.busy": "2021-05-22T08:50:01.596825Z",
     "iopub.status.idle": "2021-05-22T08:50:03.678310Z",
     "shell.execute_reply": "2021-05-22T08:50:03.678753Z"
    },
    "jupyter": {
     "source_hidden": true
    },
    "tags": []
   },
   "outputs": [],
   "source": [
    "target_directory = json.loads(subprocess.run(\"cargo metadata --format-version 1\".split(), capture_output=True).stdout)[\"target_directory\"]"
   ]
  },
  {
   "cell_type": "code",
   "execution_count": 4,
   "metadata": {
    "execution": {
     "iopub.execute_input": "2021-05-22T08:50:03.693276Z",
     "iopub.status.busy": "2021-05-22T08:50:03.692263Z",
     "iopub.status.idle": "2021-05-22T08:50:03.694619Z",
     "shell.execute_reply": "2021-05-22T08:50:03.695383Z"
    },
    "jupyter": {
     "source_hidden": true
    },
    "tags": []
   },
   "outputs": [],
   "source": [
    "def simulate_registers_monolithic(scenario, sample=1.0, speciation=False, dispersal=False):\n",
    "    if dispersal is True:\n",
    "        reporters = \"Counter()\"\n",
    "    elif speciation is True:\n",
    "        reporters = \"Biodiversity()\"\n",
    "    else:\n",
    "        reporters = \"\"\n",
    "    \n",
    "    config = \"\".join(f\"\"\"\n",
    "    (\n",
    "        speciation: 1.0,\n",
    "        sample: {sample},\n",
    "        seed: 42,\n",
    "\n",
    "        algorithm: CUDA(ptx_jit: true),\n",
    "\n",
    "        scenario: {scenario},\n",
    "\n",
    "        reporters: [\n",
    "            Plugin(\n",
    "                library: \"{target_directory}/release/deps/libnecsim_plugins_common.so\",\n",
    "                reporters: [{reporters}]\n",
    "            )\n",
    "        ],\n",
    "    )\n",
    "    \"\"\".split()).replace(\",)\", \")\").replace(\",]\", \"]\")\n",
    "\n",
    "    # Run the simulation\n",
    "    result = subprocess.run(shlex.split(\n",
    "        \"cargo run --release --features rustcoalescence-algorithms-cuda \"\n",
    "        + f\"--quiet -- simulate '{config}'\"\n",
    "    ), check=True, capture_output=True, text=True)\n",
    "    \n",
    "    match = REGISTERS_PATTERN.search(result.stdout)\n",
    "    if match is None:\n",
    "        print(result.stdout)\n",
    "        print(result.stderr)\n",
    "    registers_no_jit = int(match.group(1))\n",
    "    \n",
    "    match = REGISTERS_PATTERN.search(result.stdout, match.end())\n",
    "    if match is None:\n",
    "        print(result.stdout)\n",
    "        print(result.stderr)\n",
    "    registers_with_jit = int(match.group(1))\n",
    "    \n",
    "    match = MAX_THREADS_PATTERN.search(result.stdout)\n",
    "    if match is None:\n",
    "        print(result.stdout)\n",
    "        print(result.stderr)\n",
    "    max_threads_no_jit = int(match.group(1))\n",
    "    \n",
    "    match = MAX_THREADS_PATTERN.search(result.stdout, match.end())\n",
    "    if match is None:\n",
    "        print(result.stdout)\n",
    "        print(result.stderr)\n",
    "    max_threads_with_jit = int(match.group(1))\n",
    "    \n",
    "    match = LOCAL_BYTES_PATTERN.search(result.stdout)\n",
    "    if match is None:\n",
    "        print(result.stdout)\n",
    "        print(result.stderr)\n",
    "    local_bytes_no_jit = int(match.group(1))\n",
    "    \n",
    "    match = LOCAL_BYTES_PATTERN.search(result.stdout, match.end())\n",
    "    if match is None:\n",
    "        print(result.stdout)\n",
    "        print(result.stderr)\n",
    "    local_bytes_with_jit = int(match.group(1))\n",
    "        \n",
    "    return (registers_no_jit, registers_with_jit), (max_threads_no_jit, max_threads_with_jit), (local_bytes_no_jit, local_bytes_with_jit)"
   ]
  },
  {
   "cell_type": "code",
   "execution_count": 5,
   "metadata": {
    "execution": {
     "iopub.execute_input": "2021-05-22T08:50:03.706947Z",
     "iopub.status.busy": "2021-05-22T08:50:03.706294Z",
     "iopub.status.idle": "2021-05-22T08:50:38.965973Z",
     "shell.execute_reply": "2021-05-22T08:50:38.966418Z"
    }
   },
   "outputs": [
    {
     "data": {
      "text/markdown": [
       "# CUDA Algorithm Register Usage + PTX JIT effect"
      ],
      "text/plain": [
       "<IPython.core.display.Markdown object>"
      ]
     },
     "metadata": {},
     "output_type": "display_data"
    },
    {
     "data": {
      "text/markdown": [
       "## GPU Information:"
      ],
      "text/plain": [
       "<IPython.core.display.Markdown object>"
      ]
     },
     "metadata": {},
     "output_type": "display_data"
    },
    {
     "data": {
      "text/markdown": [
       ">```\n",
       "Sat May 22 09:50:03 2021       \n",
       ">+-----------------------------------------------------------------------------+\n",
       ">| NVIDIA-SMI 450.119.03   Driver Version: 450.119.03   CUDA Version: 11.0     |\n",
       ">|-------------------------------+----------------------+----------------------+\n",
       ">| GPU  Name        Persistence-M| Bus-Id        Disp.A | Volatile Uncorr. ECC |\n",
       ">| Fan  Temp  Perf  Pwr:Usage/Cap|         Memory-Usage | GPU-Util  Compute M. |\n",
       ">|                               |                      |               MIG M. |\n",
       ">|===============================+======================+======================|\n",
       ">|   0  GeForce GTX 1080    Off  | 00000000:02:00.0  On |                  N/A |\n",
       ">| 28%   41C    P8     7W / 180W |     81MiB /  8119MiB |      0%      Default |\n",
       ">|                               |                      |                  N/A |\n",
       ">+-------------------------------+----------------------+----------------------+\n",
       ">                                                                               \n",
       ">+-----------------------------------------------------------------------------+\n",
       ">| Processes:                                                                  |\n",
       ">|  GPU   GI   CI        PID   Type   Process name                  GPU Memory |\n",
       ">|        ID   ID                                                   Usage      |\n",
       ">|=============================================================================|\n",
       ">|    0   N/A  N/A      4675      G   /usr/lib/xorg/Xorg                 76MiB |\n",
       ">+-----------------------------------------------------------------------------+\n",
       ">```"
      ],
      "text/plain": [
       "<IPython.core.display.Markdown object>"
      ]
     },
     "metadata": {},
     "output_type": "display_data"
    },
    {
     "data": {
      "text/markdown": [
       "## Results: *\\#registers(\\#threads)*:"
      ],
      "text/plain": [
       "<IPython.core.display.Markdown object>"
      ]
     },
     "metadata": {},
     "output_type": "display_data"
    },
    {
     "data": {
      "text/markdown": [
       "### NonSpatial:"
      ],
      "text/plain": [
       "<IPython.core.display.Markdown object>"
      ]
     },
     "metadata": {},
     "output_type": "display_data"
    },
    {
     "data": {
      "text/markdown": [
       "* progress events only: 68(896) -> 52(1024)"
      ],
      "text/plain": [
       "<IPython.core.display.Markdown object>"
      ]
     },
     "metadata": {},
     "output_type": "display_data"
    },
    {
     "data": {
      "text/markdown": [
       "* progress \\+ speciation events: 68(896) -> 52(1024)"
      ],
      "text/plain": [
       "<IPython.core.display.Markdown object>"
      ]
     },
     "metadata": {},
     "output_type": "display_data"
    },
    {
     "data": {
      "text/markdown": [
       "* progress \\+ speciation \\+ dispersal events: 75(768) -> 54(1024)"
      ],
      "text/plain": [
       "<IPython.core.display.Markdown object>"
      ]
     },
     "metadata": {},
     "output_type": "display_data"
    },
    {
     "data": {
      "text/markdown": [
       "### SpatiallyImplicit:"
      ],
      "text/plain": [
       "<IPython.core.display.Markdown object>"
      ]
     },
     "metadata": {},
     "output_type": "display_data"
    },
    {
     "data": {
      "text/markdown": [
       "* progress events only: 77(768) -> 56(1024)"
      ],
      "text/plain": [
       "<IPython.core.display.Markdown object>"
      ]
     },
     "metadata": {},
     "output_type": "display_data"
    },
    {
     "data": {
      "text/markdown": [
       "* progress \\+ speciation events: 77(768) -> 56(1024)"
      ],
      "text/plain": [
       "<IPython.core.display.Markdown object>"
      ]
     },
     "metadata": {},
     "output_type": "display_data"
    },
    {
     "data": {
      "text/markdown": [
       "* progress \\+ speciation \\+ dispersal events: 86(640) -> 56(1024)"
      ],
      "text/plain": [
       "<IPython.core.display.Markdown object>"
      ]
     },
     "metadata": {},
     "output_type": "display_data"
    },
    {
     "data": {
      "text/markdown": [
       "### AlmostInfinite:"
      ],
      "text/plain": [
       "<IPython.core.display.Markdown object>"
      ]
     },
     "metadata": {},
     "output_type": "display_data"
    },
    {
     "data": {
      "text/markdown": [
       "* progress events only: 72(896) -> 54(1024)"
      ],
      "text/plain": [
       "<IPython.core.display.Markdown object>"
      ]
     },
     "metadata": {},
     "output_type": "display_data"
    },
    {
     "data": {
      "text/markdown": [
       "* progress \\+ speciation events: 72(896) -> 54(1024)"
      ],
      "text/plain": [
       "<IPython.core.display.Markdown object>"
      ]
     },
     "metadata": {},
     "output_type": "display_data"
    },
    {
     "data": {
      "text/markdown": [
       "* progress \\+ speciation \\+ dispersal events: 74(768) -> 56(1024)"
      ],
      "text/plain": [
       "<IPython.core.display.Markdown object>"
      ]
     },
     "metadata": {},
     "output_type": "display_data"
    },
    {
     "data": {
      "text/markdown": [
       "### SpatiallyExplicit:"
      ],
      "text/plain": [
       "<IPython.core.display.Markdown object>"
      ]
     },
     "metadata": {},
     "output_type": "display_data"
    },
    {
     "data": {
      "text/markdown": [
       "* progress events only: 86(640) -> 54(1024)"
      ],
      "text/plain": [
       "<IPython.core.display.Markdown object>"
      ]
     },
     "metadata": {},
     "output_type": "display_data"
    },
    {
     "data": {
      "text/markdown": [
       "* progress \\+ speciation events: 86(640) -> 54(1024)"
      ],
      "text/plain": [
       "<IPython.core.display.Markdown object>"
      ]
     },
     "metadata": {},
     "output_type": "display_data"
    },
    {
     "data": {
      "text/markdown": [
       "* progress \\+ speciation \\+ dispersal events: 90(640) -> 61(1024)"
      ],
      "text/plain": [
       "<IPython.core.display.Markdown object>"
      ]
     },
     "metadata": {},
     "output_type": "display_data"
    }
   ],
   "source": [
    "display(Markdown(\"# CUDA Algorithm Register Usage + PTX JIT effect\"))\n",
    "\n",
    "display(Markdown(\"## GPU Information:\"))\n",
    "\n",
    "display(Markdown('>```\\n' + subprocess.run(\n",
    "    shlex.split(\"nvidia-smi\"), check=True, capture_output=True, text=True\n",
    ").stdout.replace('\\n', '\\n>') + '```'))\n",
    "\n",
    "display(Markdown(\"## Results: *\\#registers(\\#threads)*:\"))\n",
    "\n",
    "for scenario, sample in [\n",
    "    (f\"NonSpatial(area: ({100}, {100}), deme: {100})\", 0.00001),\n",
    "    (f\"\"\"SpatiallyImplicit(\n",
    "        local_area: ({100}, {100}), local_deme: {100},\n",
    "        meta_area: ({100}, {100}), meta_deme: {100},\n",
    "        migration: {0.1}\n",
    "    )\"\"\", 0.00001),\n",
    "    (f\"AlmostInfinite(radius: {564}, sigma: {10.0})\", 0.00001),\n",
    "    (f\"\"\"SpatiallyExplicit(\n",
    "        habitat: \"{target_directory}/../maps/madingley/fg0size12/habitat.tif\",\n",
    "        dispersal: \"{target_directory}/../maps/madingley/fg0size12/dispersal.tif\"\n",
    "    )\"\"\", 0.00000001),\n",
    "]:\n",
    "    display(Markdown(f\"### {scenario[:scenario.find('(')]}:\"))\n",
    "    \n",
    "    for speciation, dispersal, name in [\n",
    "        (False, False, \"progress events only\"),\n",
    "        (True, False, \"progress \\+ speciation events\"),\n",
    "        (True, True, \"progress \\+ speciation \\+ dispersal events\")\n",
    "    ]:\n",
    "        registers, max_threads, local_bytes = simulate_registers_monolithic(\n",
    "            scenario, sample=sample, speciation=speciation, dispersal=dispersal\n",
    "        )\n",
    "        \n",
    "        assert local_bytes[0] == 0\n",
    "        assert local_bytes[1] == 0\n",
    "        \n",
    "        display(Markdown(f\"* {name}: {registers[0]}({max_threads[0]}) -> {registers[1]}({max_threads[1]})\"))"
   ]
  },
  {
   "cell_type": "code",
   "execution_count": null,
   "metadata": {},
   "outputs": [],
   "source": []
  }
 ],
 "metadata": {
  "kernelspec": {
   "display_name": "Python 3",
   "language": "python",
   "name": "python3"
  },
  "language_info": {
   "codemirror_mode": {
    "name": "ipython",
    "version": 3
   },
   "file_extension": ".py",
   "mimetype": "text/x-python",
   "name": "python",
   "nbconvert_exporter": "python",
   "pygments_lexer": "ipython3",
   "version": "3.8.5"
  }
 },
 "nbformat": 4,
 "nbformat_minor": 5
}

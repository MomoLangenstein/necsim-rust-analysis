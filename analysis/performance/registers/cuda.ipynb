{
 "cells": [
  {
   "cell_type": "code",
   "execution_count": null,
   "id": "85acfeb7",
   "metadata": {
    "jupyter": {
     "source_hidden": true
    },
    "tags": []
   },
   "outputs": [],
   "source": [
    "import subprocess\n",
    "import shlex\n",
    "import re\n",
    "import json\n",
    "\n",
    "import numpy as np\n",
    "\n",
    "from IPython.display import display, Markdown"
   ]
  },
  {
   "cell_type": "code",
   "execution_count": null,
   "id": "8f9f5a64",
   "metadata": {
    "jupyter": {
     "source_hidden": true
    },
    "tags": []
   },
   "outputs": [],
   "source": [
    "REGISTERS_PATTERN = re.compile(r\"NumRegisters: Ok\\((\\d+)\\)\")\n",
    "MAX_THREADS_PATTERN = re.compile(r\"MaxThreadsPerBlock: Ok\\((\\d+)\\)\")\n",
    "LOCAL_BYTES_PATTERN = re.compile(r\"LocalSizeBytes: Ok\\((\\d+)\\)\")"
   ]
  },
  {
   "cell_type": "code",
   "execution_count": null,
   "id": "839ac46d",
   "metadata": {
    "jupyter": {
     "source_hidden": true
    },
    "tags": []
   },
   "outputs": [],
   "source": [
    "target_directory = json.loads(subprocess.run(\"cargo metadata --format-version 1\".split(), capture_output=True).stdout)[\"target_directory\"]"
   ]
  },
  {
   "cell_type": "code",
   "execution_count": null,
   "id": "b4c55b7a",
   "metadata": {
    "jupyter": {
     "source_hidden": true
    },
    "tags": []
   },
   "outputs": [],
   "source": [
    "def simulate_registers_monolithic(scenario, sample=1.0, speciation=False, dispersal=False):\n",
    "    if dispersal is True:\n",
    "        reporters = \"Counter()\"\n",
    "    elif speciation is True:\n",
    "        reporters = \"Biodiversity()\"\n",
    "    else:\n",
    "        reporters = \"\"\n",
    "    \n",
    "    config = \"\".join(f\"\"\"\n",
    "    (\n",
    "        speciation: 1.0,\n",
    "        sample: {sample},\n",
    "        seed: 42,\n",
    "\n",
    "        algorithm: CUDA(ptx_jit: true),\n",
    "\n",
    "        scenario: {scenario},\n",
    "\n",
    "        reporters: [\n",
    "            Plugin(\n",
    "                library: \"{target_directory}/release/deps/libnecsim_plugins_common.so\",\n",
    "                reporters: [{reporters}]\n",
    "            )\n",
    "        ],\n",
    "    )\n",
    "    \"\"\".split()).replace(\",)\", \")\").replace(\",]\", \"]\")\n",
    "\n",
    "    # Run the simulation\n",
    "    result = subprocess.run(shlex.split(\n",
    "        f\"{target_directory}-cuda/release/rustcoalescence simulate '{config}'\"\n",
    "        #\"cargo run --release --features rustcoalescence-algorithms-monolithic,\"\n",
    "        #+ \"rustcoalescence-algorithms-independent,necsim-partitioning-mpi \"\n",
    "        #+ f\"--quiet -- simulate '{config}'\"\n",
    "    ), check=True, capture_output=True, text=True)\n",
    "    \n",
    "    match = REGISTERS_PATTERN.search(result.stdout)\n",
    "    if match is None:\n",
    "        print(result.stdout)\n",
    "        print(result.stderr)\n",
    "    registers_no_jit = int(match.group(1))\n",
    "    \n",
    "    match = REGISTERS_PATTERN.search(result.stdout, match.end())\n",
    "    if match is None:\n",
    "        print(result.stdout)\n",
    "        print(result.stderr)\n",
    "    registers_with_jit = int(match.group(1))\n",
    "    \n",
    "    match = MAX_THREADS_PATTERN.search(result.stdout)\n",
    "    if match is None:\n",
    "        print(result.stdout)\n",
    "        print(result.stderr)\n",
    "    max_threads_no_jit = int(match.group(1))\n",
    "    \n",
    "    match = MAX_THREADS_PATTERN.search(result.stdout, match.end())\n",
    "    if match is None:\n",
    "        print(result.stdout)\n",
    "        print(result.stderr)\n",
    "    max_threads_with_jit = int(match.group(1))\n",
    "    \n",
    "    match = LOCAL_BYTES_PATTERN.search(result.stdout)\n",
    "    if match is None:\n",
    "        print(result.stdout)\n",
    "        print(result.stderr)\n",
    "    local_bytes_no_jit = int(match.group(1))\n",
    "    \n",
    "    match = LOCAL_BYTES_PATTERN.search(result.stdout, match.end())\n",
    "    if match is None:\n",
    "        print(result.stdout)\n",
    "        print(result.stderr)\n",
    "    local_bytes_with_jit = int(match.group(1))\n",
    "        \n",
    "    return (registers_no_jit, registers_with_jit), (max_threads_no_jit, max_threads_with_jit), (local_bytes_no_jit, local_bytes_with_jit)"
   ]
  },
  {
   "cell_type": "code",
   "execution_count": null,
   "id": "f20afd3f-0c2b-40cc-95d8-4760fd14dadb",
   "metadata": {},
   "outputs": [],
   "source": [
    "display(Markdown(\"# CUDA Algorithm Register Usage\"))\n",
    "\n",
    "for scenario, sample in [\n",
    "    (f\"NonSpatial(area: ({100}, {100}), deme: {100})\", 0.00001),\n",
    "    (f\"\"\"SpatiallyImplicit(\n",
    "        local_area: ({100}, {100}), local_deme: {100},\n",
    "        meta_area: ({100}, {100}), meta_deme: {100},\n",
    "        migration: {0.1}\n",
    "    )\"\"\", 0.00001),\n",
    "    (f\"AlmostInfinite(radius: {564}, sigma: {10.0})\", 0.00001),\n",
    "    (f\"\"\"SpatiallyExplicit(\n",
    "        habitat: \"{target_directory}/../maps/madingley/fg0size12/habitat.tif\",\n",
    "        dispersal: \"{target_directory}/../maps/madingley/fg0size12/dispersal.tif\"\n",
    "    )\"\"\", 0.00000001),\n",
    "]:\n",
    "    display(Markdown(f\"## {scenario[:scenario.find('(')]}:\"))\n",
    "    \n",
    "    for speciation, dispersal, name in [\n",
    "        (False, False, \"progress events only\"),\n",
    "        (True, False, \"progress \\+ speciation events\"),\n",
    "        (True, True, \"progress \\+ speciation \\+ dispersal events\")\n",
    "    ]:\n",
    "        registers, max_threads, local_bytes = simulate_registers_monolithic(\n",
    "            scenario, sample=sample, speciation=speciation, dispersal=dispersal\n",
    "        )\n",
    "        \n",
    "        assert local_bytes[0] == 0\n",
    "        assert local_bytes[1] == 0\n",
    "        \n",
    "        display(Markdown(f\"* {name}: {registers[0]}({max_threads[0]}) -> {registers[1]}({max_threads[1]})\"))"
   ]
  },
  {
   "cell_type": "code",
   "execution_count": null,
   "id": "afc9117b-736d-4fe8-ac75-d657c434a112",
   "metadata": {},
   "outputs": [],
   "source": []
  }
 ],
 "metadata": {
  "kernelspec": {
   "display_name": "Python 3",
   "language": "python",
   "name": "python3"
  },
  "language_info": {
   "codemirror_mode": {
    "name": "ipython",
    "version": 3
   },
   "file_extension": ".py",
   "mimetype": "text/x-python",
   "name": "python",
   "nbconvert_exporter": "python",
   "pygments_lexer": "ipython3",
   "version": "3.7.5"
  }
 },
 "nbformat": 4,
 "nbformat_minor": 5
}

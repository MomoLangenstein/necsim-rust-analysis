{
 "cells": [
  {
   "cell_type": "code",
   "execution_count": 1,
   "metadata": {},
   "outputs": [],
   "source": [
    "import subprocess\n",
    "import shlex\n",
    "import os\n",
    "\n",
    "from subprocess import PIPE\n",
    "from pathlib import Path"
   ]
  },
  {
   "cell_type": "code",
   "execution_count": 2,
   "metadata": {},
   "outputs": [],
   "source": [
    "def submit_independent_spatially_explicit(repeats=10, walltime=1, speciation=0.000001, sample=0.00025, config='()', output='./STDIN'):\n",
    "    walltime = \"{:02d}\".format(1)\n",
    "    \n",
    "    config = f\"\"\"\n",
    "    #PBS -lselect={1}:ncpus={1}:mem={2}gb\n",
    "    #PBS -J 0-{max(repeats - 1, 0)}\n",
    "    #PBS -lwalltime={walltime}:00:00\n",
    "\n",
    "    $HOME/necsim-rust/target-base/release/rustcoalescence simulate '(\n",
    "        speciation: {speciation},\n",
    "        sample: {sample},\n",
    "        seed: '$(python3 -c \"import random; print(random.getrandbits(64))\")',\n",
    "\n",
    "        algorithm: Independent{config},\n",
    "\n",
    "        scenario: SpatiallyExplicit(\n",
    "            habitat: \"'$HOME'/necsim-rust/maps/madingley/fg0size12/habitat.tif\",\n",
    "            dispersal: \"'$HOME'/necsim-rust/maps/madingley/fg0size12/dispersal.tif\",\n",
    "        ),\n",
    "\n",
    "        reporters: [\n",
    "            Plugin(\n",
    "                library: \"'$HOME'/necsim-rust/target-base/release/deps/libnecsim_plugins_common.so\",\n",
    "                reporters: [\n",
    "                    Execution(),\n",
    "                    Biodiversity(),\n",
    "                ],\n",
    "            ),\n",
    "        ],\n",
    "    )'\n",
    "    \"\"\"\n",
    "    \n",
    "    output = Path(output).resolve(strict=False)\n",
    "    output.parent.mkdir(parents=True, exist_ok=True)\n",
    "    \n",
    "    cwd = os.getcwd()\n",
    "    os.chdir(output.parent)\n",
    "    \n",
    "    # Submit the simulation batch\n",
    "    result = subprocess.run(shlex.split(\n",
    "        f\"qsub -N {output.name}\"\n",
    "    ), check=True, input=config, stdout=PIPE, universal_newlines=True).stdout.strip()\n",
    "    \n",
    "    os.chdir(cwd)\n",
    "    \n",
    "    return result"
   ]
  },
  {
   "cell_type": "code",
   "execution_count": 3,
   "metadata": {},
   "outputs": [],
   "source": [
    "for delta_t in [0.1, 1.0, 2.0]:\n",
    "    submit_independent_spatially_explicit(\n",
    "        repeats=10, speciation=0.01, sample=0.00025, config=f\"(delta_t:{delta_t})\", output=f\"delta-t/pbs.{delta_t}\"\n",
    "    )"
   ]
  },
  {
   "cell_type": "code",
   "execution_count": null,
   "metadata": {},
   "outputs": [],
   "source": []
  }
 ],
 "metadata": {
  "kernelspec": {
   "display_name": "Python 3",
   "language": "python",
   "name": "python3"
  },
  "language_info": {
   "codemirror_mode": {
    "name": "ipython",
    "version": 3
   },
   "file_extension": ".py",
   "mimetype": "text/x-python",
   "name": "python",
   "nbconvert_exporter": "python",
   "pygments_lexer": "ipython3",
   "version": "3.6.8"
  }
 },
 "nbformat": 4,
 "nbformat_minor": 5
}

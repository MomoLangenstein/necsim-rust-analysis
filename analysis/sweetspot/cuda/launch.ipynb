{
 "cells": [
  {
   "cell_type": "code",
   "execution_count": 1,
   "metadata": {},
   "outputs": [],
   "source": [
    "import subprocess\n",
    "import shlex\n",
    "import os\n",
    "\n",
    "from subprocess import PIPE\n",
    "from pathlib import Path"
   ]
  },
  {
   "cell_type": "code",
   "execution_count": 2,
   "metadata": {},
   "outputs": [],
   "source": [
    "def submit_cuda_spatially_explicit(repeats=10, walltime=1, speciation=0.000001, sample=0.00025, config='()', output='./STDIN'):\n",
    "    walltime = \"{:02d}\".format(walltime)\n",
    "    \n",
    "    config = f\"\"\"\n",
    "    #PBS -lselect={1}:ncpus={4*1}:mem={24*1}gb:ngpus={1}:gpu_type=P100\n",
    "    #PBS -J 0-{max(repeats - 1, 0)}\n",
    "    #PBS -lwalltime={walltime}:00:00\n",
    "\n",
    "    $HOME/necsim-rust/target-cuda/release/rustcoalescence simulate '(\n",
    "        speciation: {speciation},\n",
    "        sample: {sample},\n",
    "        seed: '$(python3 -c \"import random; print(random.getrandbits(64))\")',\n",
    "\n",
    "        algorithm: CUDA(\n",
    "            device: {0},\n",
    "            ptx_jit: true,\n",
    "            {config.strip()[1:-1]}\n",
    "        ),\n",
    "\n",
    "        scenario: SpatiallyExplicit(\n",
    "            habitat: \"'$HOME'/necsim-rust/maps/madingley/fg0size12/habitat.tif\",\n",
    "            dispersal: \"'$HOME'/necsim-rust/maps/madingley/fg0size12/dispersal.tif\",\n",
    "        ),\n",
    "\n",
    "        reporters: [\n",
    "            Plugin(\n",
    "                library: \"'$HOME'/necsim-rust/target-base/release/deps/libnecsim_plugins_common.so\",\n",
    "                reporters: [\n",
    "                    Execution(),\n",
    "                    Biodiversity(),\n",
    "                ],\n",
    "            ),\n",
    "        ],\n",
    "    )'\n",
    "    \"\"\"\n",
    "    \n",
    "    output = Path(output).resolve(strict=False)\n",
    "    output.parent.mkdir(parents=True, exist_ok=True)\n",
    "    \n",
    "    cwd = os.getcwd()\n",
    "    os.chdir(output.parent)\n",
    "    \n",
    "    # Submit the simulation batch\n",
    "    result = subprocess.run(shlex.split(\n",
    "        f\"qsub -N {output.name}\"\n",
    "    ), check=True, input=config, stdout=PIPE, universal_newlines=True).stdout.strip()\n",
    "    \n",
    "    os.chdir(cwd)\n",
    "    \n",
    "    return result"
   ]
  },
  {
   "cell_type": "code",
   "execution_count": 3,
   "metadata": {},
   "outputs": [],
   "source": [
    "for delta_t in [0.1, 0.5, 1.0, 1.5, 2.0, 2.5, 3.0, 3.5, 4.0, 4.5, 5.0]:\n",
    "    submit_cuda_spatially_explicit(\n",
    "        walltime=5, repeats=10, speciation=0.000001, sample=0.00025,\n",
    "        config=f\"(delta_t:{delta_t})\", output=f\"delta-t/pbs.{delta_t}\",\n",
    "    )"
   ]
  },
  {
   "cell_type": "code",
   "execution_count": 4,
   "metadata": {},
   "outputs": [],
   "source": [
    "for event_slice in [100, 316, 1000, 3162, 10000, 31623, 100000, 316228, 1000000]:\n",
    "    submit_cuda_spatially_explicit(\n",
    "        walltime=5, repeats=10, speciation=0.000001, sample=0.00025,\n",
    "        config=f\"(parallelism_mode:Monolithic(event_slice:{event_slice}))\", output=f\"event-slice/pbs.{event_slice}\",\n",
    "    )"
   ]
  },
  {
   "cell_type": "code",
   "execution_count": 5,
   "metadata": {},
   "outputs": [],
   "source": [
    "for dedup_capacity in [1000, 3162, 10000, 31623, 100000, 316228, 1000000, 3162278, 10000000]:\n",
    "    submit_cuda_spatially_explicit(\n",
    "        walltime=5, repeats=10, speciation=0.000001, sample=0.00025,\n",
    "        config=f\"(dedup_cache:Absolute(capacity:{dedup_capacity}))\",\n",
    "        output=f\"dedup-capacity/pbs.{dedup_capacity}\",\n",
    "    )"
   ]
  },
  {
   "cell_type": "code",
   "execution_count": 3,
   "metadata": {},
   "outputs": [],
   "source": [
    "for block_size in [4, 16, 32, 64, 128, 256, 512, 1024]:\n",
    "    for grid_size in [4, 16, 64, 256, 1024]:\n",
    "        submit_cuda_spatially_explicit(\n",
    "            walltime=5, repeats=10, speciation=0.000001, sample=0.00025,\n",
    "            config=f\"(block_size:{block_size},grid_size:{grid_size})\",\n",
    "            output=f\"block-grid/pbs.{block_size}.{grid_size}\",\n",
    "        )"
   ]
  },
  {
   "cell_type": "code",
   "execution_count": 3,
   "metadata": {},
   "outputs": [],
   "source": [
    "for (speciation, sample) in [\n",
    "    (0.000001, 0.00025), (1.0, 0.00025), (0.01, 0.000025), (0.0001, 0.0000025), (0.000001, 0.00000025), \n",
    "]:\n",
    "    for step_slice in [10, 50, 100, 150, 200, 250, 300, 350]:\n",
    "        submit_cuda_spatially_explicit(\n",
    "            walltime=5, repeats=10, speciation=speciation, sample=sample,\n",
    "            config=f\"(step_slice:{step_slice})\",\n",
    "            output=f\"step-slice/pbs.{speciation}.{sample}.{step_slice}\",\n",
    "        )"
   ]
  },
  {
   "cell_type": "code",
   "execution_count": null,
   "metadata": {},
   "outputs": [],
   "source": []
  }
 ],
 "metadata": {
  "kernelspec": {
   "display_name": "Python 3",
   "language": "python",
   "name": "python3"
  },
  "language_info": {
   "codemirror_mode": {
    "name": "ipython",
    "version": 3
   },
   "file_extension": ".py",
   "mimetype": "text/x-python",
   "name": "python",
   "nbconvert_exporter": "python",
   "pygments_lexer": "ipython3",
   "version": "3.6.8"
  }
 },
 "nbformat": 4,
 "nbformat_minor": 5
}

{
 "cells": [
  {
   "cell_type": "markdown",
   "id": "4c9efa6a-2c02-4708-8c25-06f6e8fae21d",
   "metadata": {},
   "source": [
    "# Non-spatial Dispersal Coverage Test"
   ]
  },
  {
   "cell_type": "code",
   "execution_count": null,
   "id": "00f4963d-b558-433d-b632-7cc823f24069",
   "metadata": {
    "jupyter": {
     "source_hidden": true
    },
    "tags": []
   },
   "outputs": [],
   "source": [
    "import csv\n",
    "import subprocess\n",
    "import json\n",
    "\n",
    "import numpy as np\n",
    "\n",
    "from matplotlib import pyplot as plt\n",
    "from scipy.stats import chisquare\n",
    "from IPython.display import display, Markdown"
   ]
  },
  {
   "cell_type": "code",
   "execution_count": null,
   "id": "25047ac2-a488-4311-a490-5e8048f81e56",
   "metadata": {
    "jupyter": {
     "source_hidden": true
    },
    "tags": []
   },
   "outputs": [],
   "source": [
    "target_directory = json.loads(subprocess.run(\"cargo metadata --format-version 1\".split(), capture_output=True).stdout)[\"target_directory\"]"
   ]
  },
  {
   "cell_type": "code",
   "execution_count": null,
   "id": "a4177cce-66a0-403d-90ab-9a1dbc20b49d",
   "metadata": {
    "jupyter": {
     "source_hidden": true
    },
    "tags": []
   },
   "outputs": [],
   "source": [
    "def test_nonspatial_dispersal_coverage(\n",
    "    algorithm, output_file='coverage.csv', speciation=0.001, seed=42, size=100, sample=1.0\n",
    "):\n",
    "    # Configure the simulation\n",
    "    config = \"\".join(\"\"\"\n",
    "    (\n",
    "        speciation: {speciation},\n",
    "        seed: {seed},\n",
    "        sample: {sample},\n",
    "\n",
    "        algorithm: {algorithm}(),\n",
    "\n",
    "        scenario: NonSpatial(\n",
    "            area: ({size}, {size}),\n",
    "            deme: {size},\n",
    "        ),\n",
    "\n",
    "        reporters: [\n",
    "            Plugin(\n",
    "                library: \"{target_directory}/release/deps/libnecsim_plugins_statistics.so\",\n",
    "                reporters: [\n",
    "                    GlobalCoverage(output: \"{output_file}\"),\n",
    "                ],\n",
    "            ),\n",
    "        ],\n",
    "    )\n",
    "    \"\"\".format(\n",
    "        target_directory=target_directory, output_file=output_file,\n",
    "        algorithm=algorithm, speciation=speciation, seed=seed, sample=sample, size=size,\n",
    "    ).split()).replace(\",)\", \")\").replace(\",]\", \"]\")\n",
    "    \n",
    "    # Run the simulation\n",
    "    subprocess.run(\n",
    "        \"cargo run --release --features rustcoalescence-algorithms-monolithic,\"\n",
    "        + f\"rustcoalescence-algorithms-independent -- simulate '{config}'\",\n",
    "        shell=True, check=True,\n",
    "    )\n",
    "    \n",
    "    # Read in the dispersal locations\n",
    "    locations = []\n",
    "    with open(output_file) as file:\n",
    "        reader = csv.reader(file)\n",
    "        next(reader)\n",
    "\n",
    "        for row in reader:\n",
    "            locations.append((int(row[0]), int(row[1]), int(row[2])))\n",
    "    locations = np.array(locations)\n",
    "    \n",
    "    # Calculate in the dispersal locations\n",
    "    gof = chisquare(np.histogramdd(locations, bins=(\n",
    "        range(0, size+1), range(0, size+1), range(0, size+1)\n",
    "    ))[0].flatten())\n",
    "    \n",
    "    if gof.pvalue <= 0.05:\n",
    "        colour = 'red'\n",
    "    elif gof.pvalue <= 0.1:\n",
    "        colour = 'orange'\n",
    "    else:\n",
    "        colour = 'green'\n",
    "    \n",
    "    display(Markdown(f\"## <span style='color:{colour}'>{algorithm}</span>\"))\n",
    "    display(Markdown(f\"#### Chi-squared test:\\n* p-value: {gof.pvalue}\\n* statistic: {gof.statistic}\"))\n",
    "    display(Markdown(f\"#### Coverage Histograms:\"))\n",
    "    \n",
    "    # Draw the 2d dispersal coverage histograms\n",
    "    fig, (ax1, ax2, ax3) = plt.subplots(1, 3, figsize=(20, 5))\n",
    "\n",
    "    ax1.set_title(\"Dispersal histogram x-y\")\n",
    "    ax1.set_xlabel(\"x\")\n",
    "    ax1.set_ylabel(\"y\")\n",
    "    hist1 = ax1.hist2d(locations[:,0], locations[:,1],\n",
    "                       bins=(range(0, size+1), range(0, size+1)),\n",
    "                       density=True)\n",
    "    fig.colorbar(hist1[3], ax=ax1)\n",
    "\n",
    "    ax2.set_title(\"Dispersal histogram x-index\")\n",
    "    ax2.set_xlabel(\"x\")\n",
    "    ax2.set_ylabel(\"index\")\n",
    "    hist2 = ax2.hist2d(locations[:,0], locations[:,2],\n",
    "                       bins=(range(0, size+1), range(0, size+1)),\n",
    "                       density=True)\n",
    "    fig.colorbar(hist2[3], ax=ax2)\n",
    "\n",
    "    ax3.set_title(\"Dispersal histogram y-index\")\n",
    "    ax3.set_xlabel(\"y\")\n",
    "    ax3.set_ylabel(\"index\")\n",
    "    hist3 = ax3.hist2d(locations[:,1], locations[:,2],\n",
    "                       bins=(range(0, size+1), range(0, size+1)),\n",
    "                       density=True)\n",
    "    fig.colorbar(hist3[3], ax=ax3)\n",
    "\n",
    "    plt.show()\n",
    "    \n",
    "    display(Markdown(f\"#### Configuration:\\n```rust\\n{config}\\n```\"))"
   ]
  },
  {
   "cell_type": "code",
   "execution_count": null,
   "id": "d5446e65-892d-4243-8651-30f159bbbaef",
   "metadata": {
    "tags": []
   },
   "outputs": [],
   "source": [
    "for algorithm in [\"Classical\", \"Gillespie\", \"SkippingGillespie\", \"Independent\"]:\n",
    "    test_nonspatial_dispersal_coverage(\n",
    "        algorithm, size=100, seed=123456789, sample=0.0001, speciation=0.000001\n",
    "    )"
   ]
  },
  {
   "cell_type": "code",
   "execution_count": null,
   "id": "3b99aa5b-b1e0-42b6-aca7-7bcadb2182be",
   "metadata": {},
   "outputs": [],
   "source": []
  }
 ],
 "metadata": {
  "kernelspec": {
   "display_name": "Python 3",
   "language": "python",
   "name": "python3"
  },
  "language_info": {
   "codemirror_mode": {
    "name": "ipython",
    "version": 3
   },
   "file_extension": ".py",
   "mimetype": "text/x-python",
   "name": "python",
   "nbconvert_exporter": "python",
   "pygments_lexer": "ipython3",
   "version": "3.8.8"
  }
 },
 "nbformat": 4,
 "nbformat_minor": 5
}

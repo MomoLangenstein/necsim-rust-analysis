{
 "cells": [
  {
   "cell_type": "code",
   "execution_count": null,
   "id": "5d1c6e4c-094a-48a1-80a7-696bd7e82272",
   "metadata": {
    "jupyter": {
     "source_hidden": true
    },
    "tags": []
   },
   "outputs": [],
   "source": [
    "import subprocess\n",
    "import shlex\n",
    "import re\n",
    "\n",
    "import numpy as np\n",
    "\n",
    "from matplotlib import pyplot as plt\n",
    "from tqdm import tqdm"
   ]
  },
  {
   "cell_type": "code",
   "execution_count": null,
   "id": "3bb4a851-9fbd-41af-bacd-2f32ba537f4b",
   "metadata": {
    "jupyter": {
     "source_hidden": true
    },
    "tags": []
   },
   "outputs": [],
   "source": [
    "CC_PATTERN = re.compile(r\"(?<!^)(?=[A-Z])\")\n",
    "TIMING_PATTERN = re.compile(r\"\\((\\d+(?:\\.\\d+)?)s\\)\\.\")"
   ]
  },
  {
   "cell_type": "code",
   "execution_count": null,
   "id": "6c76a562-fef1-4f43-ad29-6890ffec37f7",
   "metadata": {
    "jupyter": {
     "source_hidden": true
    },
    "tags": []
   },
   "outputs": [],
   "source": [
    "def test_exponential_inter_event_timing(\n",
    "    mode, delta_t=1.0, lamda=0.5, seed=42, limit=100000000,\n",
    "):\n",
    "    factor = 10 ** abs(np.log10(lamda * delta_t))\n",
    "    \n",
    "    scaled_limit = int(limit / factor)\n",
    "    \n",
    "    output = subprocess.run(shlex.split(\n",
    "        f\"cargo run --release --quiet -- --delta-t {delta_t} --seed {seed} \" +\n",
    "        f\"--lambda {lamda} --limit {scaled_limit} {CC_PATTERN.sub('-', mode).lower()}\"\n",
    "    ), check=True, capture_output=True, text=True).stdout\n",
    "    \n",
    "    return float(TIMING_PATTERN.search(output).group(1)) * limit / scaled_limit"
   ]
  },
  {
   "cell_type": "code",
   "execution_count": null,
   "id": "1bc93814-ee9b-41c2-824c-f0cae84ca0e0",
   "metadata": {},
   "outputs": [],
   "source": [
    "lambdas = [\n",
    "    0.001, 0.002, 0.003, 0.006, 0.01, 0.02, 0.03, 0.06, 0.1, 0.18,\n",
    "    0.32, 0.56, 1.0, 1.8, 3.2, 5.6, 10.0, 18.0, 32.0, 56.0, 100.0,\n",
    "    180.0, 320.0, 560.0, 1000.0, 1800, 3200, 5600, 10000,\n",
    "]\n",
    "modes = [\"Exponential\", \"Poisson\"]\n",
    "\n",
    "exp_times = [test_exponential_inter_event_timing(\"Exponential\", lamda=lamda) for lamda in lambdas]\n",
    "poi_times = [test_exponential_inter_event_timing(\"Poisson\", lamda=lamda) for lamda in lambdas]\n",
    "\n",
    "fig, (ax1, ax2) = plt.subplots(1, 2, figsize=(15, 5))\n",
    "\n",
    "ax1.set_title(\"Execution times of different event time samplers (log-log)\")\n",
    "ax1.set_xlabel(\"lambda\")\n",
    "ax1.set_ylabel(\"time [s]\")\n",
    "ax1.set_xscale(\"log\")\n",
    "ax1.set_yscale(\"log\")\n",
    "ax1.plot(lambdas, exp_times, label=\"ExpEventTimeSampler\")\n",
    "ax1.plot(lambdas, poi_times, label=\"PoissonEventTimeSampler\")\n",
    "ax1.legend()\n",
    "\n",
    "ax2.set_title(\"Relative execution performance of different event time samplers (log-lin)\")\n",
    "ax2.set_xlabel(\"lambda\")\n",
    "ax2.set_ylabel(\"relative performance\")\n",
    "ax2.set_xscale(\"log\")\n",
    "ax2.plot(lambdas, [e / p for e, p in zip(exp_times, poi_times)], label=\"Exp / Poisson\")\n",
    "ax2.legend()\n",
    "\n",
    "plt.show()"
   ]
  },
  {
   "cell_type": "code",
   "execution_count": null,
   "id": "b8eda231-0647-4d8c-ad9f-ca1cb225bb4a",
   "metadata": {},
   "outputs": [],
   "source": []
  }
 ],
 "metadata": {
  "kernelspec": {
   "display_name": "Python 3",
   "language": "python",
   "name": "python3"
  },
  "language_info": {
   "codemirror_mode": {
    "name": "ipython",
    "version": 3
   },
   "file_extension": ".py",
   "mimetype": "text/x-python",
   "name": "python",
   "nbconvert_exporter": "python",
   "pygments_lexer": "ipython3",
   "version": "3.7.5"
  }
 },
 "nbformat": 4,
 "nbformat_minor": 5
}

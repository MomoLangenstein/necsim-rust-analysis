{
 "cells": [
  {
   "cell_type": "code",
   "execution_count": 1,
   "id": "e6cf3d7f-e1fa-4151-ab67-3070dc4b136e",
   "metadata": {
    "tags": []
   },
   "outputs": [],
   "source": [
    "import subprocess\n",
    "import shlex\n",
    "import re\n",
    "\n",
    "import numpy as np\n",
    "\n",
    "from IPython.display import display, Markdown"
   ]
  },
  {
   "cell_type": "code",
   "execution_count": 2,
   "id": "c3012526-a3bc-404d-9ae9-577b4b5859e6",
   "metadata": {},
   "outputs": [],
   "source": [
    "CC_PATTERN = re.compile(r\"(?<!^)(?=[A-Z])\")"
   ]
  },
  {
   "cell_type": "markdown",
   "id": "f94398f5-84b5-4238-807f-def3d7cdbe3d",
   "metadata": {},
   "source": [
    "# TestU01 - empirical randomness testing"
   ]
  },
  {
   "cell_type": "code",
   "execution_count": 3,
   "id": "fd844300-147b-4440-91e7-0539d5a153d4",
   "metadata": {},
   "outputs": [],
   "source": [
    "def test_randomness_testu01(\n",
    "    mode, seeds=[42], args=[]\n",
    "):\n",
    "    outputs = []\n",
    "    \n",
    "    for seed in seeds:\n",
    "        generator = subprocess.Popen(shlex.split(\n",
    "            f\"cargo run --release -- --seed {seed} {CC_PATTERN.sub('-', mode).lower()}\"\n",
    "        ), stdout=subprocess.PIPE)\n",
    "        testu01 = subprocess.run(\n",
    "            shlex.split(f\"./testu01\") + args, stdin=generator.stdout,\n",
    "            check=True, capture_output=True, text=True\n",
    "        )\n",
    "\n",
    "        outputs.append(testu01.stdout)\n",
    "        \n",
    "    most_suspect = None\n",
    "    \n",
    "    for output in outputs:\n",
    "        failures = output.count(\"FAIL\")\n",
    "        suspicions = output.count(\"SUSPICIOUS\") * 2 + output.count(\"suspicious\")\n",
    "        unusuals = output.count(\"unusual\")\n",
    "        \n",
    "        suspicion = failures * 10 + suspicions * 2 + unusuals\n",
    "        \n",
    "        if (most_suspect is None) or (suspicion < most_suspect[0]):\n",
    "            most_suspect = (suspicion, output)\n",
    "\n",
    "    if \"FAIL\" in most_suspect[1]:\n",
    "        display(Markdown(f\"## <span style='color:purple'><u>{mode}</u></span>\"))\n",
    "    elif \"SUSPICIOUS\" in most_suspect[1]:\n",
    "        display(Markdown(f\"## <span style='color:red'><u>{mode}</u></span>\"))\n",
    "    elif \"suspicious\" in most_suspect[1]:\n",
    "        display(Markdown(f\"## <span style='color:orange'>*{mode}*</span>\"))\n",
    "    else:\n",
    "        display(Markdown(f\"## <span style='color:green'>{mode}</span>\"))\n",
    "        \n",
    "    display(Markdown(\"#### Test output (most suspect):\"))\n",
    "    display(Markdown(\">\" + most_suspect[1].replace('\\n', '\\n>')))\n",
    "\n",
    "    display(Markdown(\"#### Configuration:\"))\n",
    "    display(Markdown(f\"* seeds: {seeds}\\n* limit: {limit}\"))"
   ]
  },
  {
   "cell_type": "code",
   "execution_count": null,
   "id": "67293f51-2986-4f66-ad17-738be127e82c",
   "metadata": {},
   "outputs": [
    {
     "data": {
      "text/markdown": [
       "## <span style='color:green'>Monolithic</span>"
      ],
      "text/plain": [
       "<IPython.core.display.Markdown object>"
      ]
     },
     "metadata": {},
     "output_type": "display_data"
    },
    {
     "data": {
      "text/markdown": [
       "#### Test output (most suspect):"
      ],
      "text/plain": [
       "<IPython.core.display.Markdown object>"
      ]
     },
     "metadata": {},
     "output_type": "display_data"
    },
    {
     "data": {
      "text/markdown": [
       ">RNG_test using PractRand version 0.95\n",
       ">RNG = RNG_stdin64, seed = unknown\n",
       ">test set = core, folding = standard (64 bit)\n",
       ">\n",
       ">rng=RNG_stdin64, seed=unknown\n",
       ">length= 128 megabytes (2^27 bytes), time= 2.0 seconds\n",
       ">  no anomalies in 196 test result(s)\n",
       ">\n",
       ">rng=RNG_stdin64, seed=unknown\n",
       ">length= 256 megabytes (2^28 bytes), time= 5.9 seconds\n",
       ">  no anomalies in 213 test result(s)\n",
       ">\n",
       ">rng=RNG_stdin64, seed=unknown\n",
       ">length= 512 megabytes (2^29 bytes), time= 11.9 seconds\n",
       ">  no anomalies in 229 test result(s)\n",
       ">\n",
       ">rng=RNG_stdin64, seed=unknown\n",
       ">length= 1 gigabyte (2^30 bytes), time= 21.3 seconds\n",
       ">  no anomalies in 246 test result(s)\n",
       ">\n",
       ">"
      ],
      "text/plain": [
       "<IPython.core.display.Markdown object>"
      ]
     },
     "metadata": {},
     "output_type": "display_data"
    },
    {
     "data": {
      "text/markdown": [
       "#### Configuration:"
      ],
      "text/plain": [
       "<IPython.core.display.Markdown object>"
      ]
     },
     "metadata": {},
     "output_type": "display_data"
    },
    {
     "data": {
      "text/markdown": [
       "* seeds: [ 9236201667093645076 16383131368017520318 10063728432700511657\n",
       "  5398197938953153834 11883256654855068286 15814163969028955602\n",
       " 14694539264530722677  7961980546700314168 12924039810895588210\n",
       " 18325530493041886819]\n",
       "* limit: 1GB"
      ],
      "text/plain": [
       "<IPython.core.display.Markdown object>"
      ]
     },
     "metadata": {},
     "output_type": "display_data"
    },
    {
     "data": {
      "text/markdown": [
       "## <span style='color:green'>Independent</span>"
      ],
      "text/plain": [
       "<IPython.core.display.Markdown object>"
      ]
     },
     "metadata": {},
     "output_type": "display_data"
    },
    {
     "data": {
      "text/markdown": [
       "#### Test output (most suspect):"
      ],
      "text/plain": [
       "<IPython.core.display.Markdown object>"
      ]
     },
     "metadata": {},
     "output_type": "display_data"
    },
    {
     "data": {
      "text/markdown": [
       ">RNG_test using PractRand version 0.95\n",
       ">RNG = RNG_stdin64, seed = unknown\n",
       ">test set = core, folding = standard (64 bit)\n",
       ">\n",
       ">rng=RNG_stdin64, seed=unknown\n",
       ">length= 128 megabytes (2^27 bytes), time= 2.2 seconds\n",
       ">  no anomalies in 196 test result(s)\n",
       ">\n",
       ">rng=RNG_stdin64, seed=unknown\n",
       ">length= 256 megabytes (2^28 bytes), time= 6.3 seconds\n",
       ">  no anomalies in 213 test result(s)\n",
       ">\n",
       ">rng=RNG_stdin64, seed=unknown\n",
       ">length= 512 megabytes (2^29 bytes), time= 12.8 seconds\n",
       ">  no anomalies in 229 test result(s)\n",
       ">\n",
       ">rng=RNG_stdin64, seed=unknown\n",
       ">length= 1 gigabyte (2^30 bytes), time= 25.1 seconds\n",
       ">  no anomalies in 246 test result(s)\n",
       ">\n",
       ">"
      ],
      "text/plain": [
       "<IPython.core.display.Markdown object>"
      ]
     },
     "metadata": {},
     "output_type": "display_data"
    },
    {
     "data": {
      "text/markdown": [
       "#### Configuration:"
      ],
      "text/plain": [
       "<IPython.core.display.Markdown object>"
      ]
     },
     "metadata": {},
     "output_type": "display_data"
    },
    {
     "data": {
      "text/markdown": [
       "* seeds: [  744994126629608457  3529184527779536778 13350778912466600882\n",
       "  1707417722404370084  7656004194990562377 17811833379052636773\n",
       "  3618687428092850447  8979768761543030672  5010029908994158565\n",
       " 12032866372490156365]\n",
       "* limit: 1GB"
      ],
      "text/plain": [
       "<IPython.core.display.Markdown object>"
      ]
     },
     "metadata": {},
     "output_type": "display_data"
    }
   ],
   "source": [
    "for mode in [\"Monolithic\", \"Independent\", \"IndependentSimulation\", \"IndependentSimulationNoDispersal\"]:\n",
    "    seeds = np.random.randint(0, np.iinfo(\"uint64\").max, dtype=\"uint64\", size=10)\n",
    "    \n",
    "    test_randomness_practrand(mode, seeds=seeds, limit='1GB')"
   ]
  },
  {
   "cell_type": "code",
   "execution_count": null,
   "id": "c0374345-76bb-4e21-aedb-96807f17e94b",
   "metadata": {},
   "outputs": [],
   "source": []
  }
 ],
 "metadata": {
  "kernelspec": {
   "display_name": "Python 3",
   "language": "python",
   "name": "python3"
  },
  "language_info": {
   "codemirror_mode": {
    "name": "ipython",
    "version": 3
   },
   "file_extension": ".py",
   "mimetype": "text/x-python",
   "name": "python",
   "nbconvert_exporter": "python",
   "pygments_lexer": "ipython3",
   "version": "3.8.8"
  }
 },
 "nbformat": 4,
 "nbformat_minor": 5
}

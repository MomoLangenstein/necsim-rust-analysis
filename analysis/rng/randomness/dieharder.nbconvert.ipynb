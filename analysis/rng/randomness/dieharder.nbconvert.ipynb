{
 "cells": [
  {
   "cell_type": "code",
   "execution_count": 1,
   "id": "e6cf3d7f-e1fa-4151-ab67-3070dc4b136e",
   "metadata": {
    "execution": {
     "iopub.execute_input": "2021-04-18T12:44:14.613137Z",
     "iopub.status.busy": "2021-04-18T12:44:14.612233Z",
     "iopub.status.idle": "2021-04-18T12:44:14.923804Z",
     "shell.execute_reply": "2021-04-18T12:44:14.922975Z"
    },
    "jupyter": {
     "source_hidden": true
    },
    "tags": []
   },
   "outputs": [],
   "source": [
    "import subprocess\n",
    "import shlex\n",
    "import re\n",
    "\n",
    "import numpy as np\n",
    "\n",
    "from IPython.display import display, Markdown"
   ]
  },
  {
   "cell_type": "code",
   "execution_count": 2,
   "id": "c3012526-a3bc-404d-9ae9-577b4b5859e6",
   "metadata": {
    "execution": {
     "iopub.execute_input": "2021-04-18T12:44:14.928507Z",
     "iopub.status.busy": "2021-04-18T12:44:14.927705Z",
     "iopub.status.idle": "2021-04-18T12:44:14.930355Z",
     "shell.execute_reply": "2021-04-18T12:44:14.929947Z"
    },
    "jupyter": {
     "source_hidden": true
    },
    "tags": []
   },
   "outputs": [],
   "source": [
    "CC_PATTERN = re.compile(r\"(?<!^)(?=[A-Z])\")"
   ]
  },
  {
   "cell_type": "markdown",
   "id": "f94398f5-84b5-4238-807f-def3d7cdbe3d",
   "metadata": {},
   "source": [
    "# Dieharder - A Random Number Test Suite"
   ]
  },
  {
   "cell_type": "code",
   "execution_count": 3,
   "id": "fd844300-147b-4440-91e7-0539d5a153d4",
   "metadata": {
    "execution": {
     "iopub.execute_input": "2021-04-18T12:44:14.938783Z",
     "iopub.status.busy": "2021-04-18T12:44:14.938227Z",
     "iopub.status.idle": "2021-04-18T12:44:14.941347Z",
     "shell.execute_reply": "2021-04-18T12:44:14.940605Z"
    },
    "jupyter": {
     "source_hidden": true
    },
    "tags": []
   },
   "outputs": [],
   "source": [
    "def test_randomness_dieharder(\n",
    "    mode, seeds=[42], args=[]\n",
    "):\n",
    "    outputs = []\n",
    "    \n",
    "    for seed in seeds:\n",
    "        generator = subprocess.Popen(shlex.split(\n",
    "            f\"cargo run --release -- --seed {seed} {CC_PATTERN.sub('-', mode).lower()}\"\n",
    "        ), stdout=subprocess.PIPE)\n",
    "        dieharder = subprocess.run(\n",
    "            shlex.split(f\"dieharder -g 200\") + args, stdin=generator.stdout,\n",
    "            check=True, capture_output=True, text=True\n",
    "        )\n",
    "\n",
    "        outputs.append(dieharder.stdout)\n",
    "        \n",
    "    most_suspect = None\n",
    "    \n",
    "    for output in outputs:\n",
    "        failures = output.count(\"FAILED\")\n",
    "        weaks = output.count(\"WEAK\")\n",
    "        \n",
    "        suspicion = failures * 10 + weaks\n",
    "        \n",
    "        if (most_suspect is None) or (suspicion > most_suspect[0]):\n",
    "            most_suspect = (suspicion, output)\n",
    "\n",
    "    if \"FAILED\" in most_suspect[1]:\n",
    "        display(Markdown(f\"## <span style='color:red'><u>{mode}</u></span>\"))\n",
    "    elif \"WEAK\" in most_suspect[1]:\n",
    "        display(Markdown(f\"## <span style='color:orange'>*{mode}*</span>\"))\n",
    "    else:\n",
    "        display(Markdown(f\"## <span style='color:green'>{mode}</span>\"))\n",
    "        \n",
    "    display(Markdown(\"#### Test output (most suspect):\"))\n",
    "    display(Markdown(\">\" + most_suspect[1].replace('\\n', '\\n>')))\n",
    "\n",
    "    display(Markdown(\"#### Parameters:\"))\n",
    "    display(Markdown(f\"* seeds: {seeds}\"))"
   ]
  },
  {
   "cell_type": "code",
   "execution_count": 4,
   "id": "67293f51-2986-4f66-ad17-738be127e82c",
   "metadata": {
    "execution": {
     "iopub.execute_input": "2021-04-18T12:44:15.008826Z",
     "iopub.status.busy": "2021-04-18T12:44:14.945251Z",
     "iopub.status.idle": "2021-04-18T15:29:01.564156Z",
     "shell.execute_reply": "2021-04-18T15:29:01.564704Z"
    }
   },
   "outputs": [
    {
     "data": {
      "text/markdown": [
       "## <span style='color:orange'>*Monolithic*</span>"
      ],
      "text/plain": [
       "<IPython.core.display.Markdown object>"
      ]
     },
     "metadata": {},
     "output_type": "display_data"
    },
    {
     "data": {
      "text/markdown": [
       "#### Test output (most suspect):"
      ],
      "text/plain": [
       "<IPython.core.display.Markdown object>"
      ]
     },
     "metadata": {},
     "output_type": "display_data"
    },
    {
     "data": {
      "text/markdown": [
       ">#=============================================================================#\n",
       ">#            dieharder version 3.31.1 Copyright 2003 Robert G. Brown          #\n",
       ">#=============================================================================#\n",
       ">   rng_name    |rands/second|   Seed   |\n",
       ">stdin_input_raw|  1.00e+07  |1498287051|\n",
       ">#=============================================================================#\n",
       ">        test_name   |ntup| tsamples |psamples|  p-value |Assessment\n",
       ">#=============================================================================#\n",
       ">   diehard_birthdays|   0|       100|     100|0.68419605|  PASSED  \n",
       ">      diehard_operm5|   0|   1000000|     100|0.71664315|  PASSED  \n",
       ">  diehard_rank_32x32|   0|     40000|     100|0.05563954|  PASSED  \n",
       ">    diehard_rank_6x8|   0|    100000|     100|0.95917633|  PASSED  \n",
       ">   diehard_bitstream|   0|   2097152|     100|0.65950374|  PASSED  \n",
       ">        diehard_opso|   0|   2097152|     100|0.92035677|  PASSED  \n",
       ">        diehard_oqso|   0|   2097152|     100|0.22572034|  PASSED  \n",
       ">         diehard_dna|   0|   2097152|     100|0.79357677|  PASSED  \n",
       ">diehard_count_1s_str|   0|    256000|     100|0.96452974|  PASSED  \n",
       ">diehard_count_1s_byt|   0|    256000|     100|0.58742653|  PASSED  \n",
       "> diehard_parking_lot|   0|     12000|     100|0.92614578|  PASSED  \n",
       ">    diehard_2dsphere|   2|      8000|     100|0.78952395|  PASSED  \n",
       ">    diehard_3dsphere|   3|      4000|     100|0.00184672|   WEAK   \n",
       ">     diehard_squeeze|   0|    100000|     100|0.90285086|  PASSED  \n",
       ">        diehard_sums|   0|       100|     100|0.32024788|  PASSED  \n",
       ">        diehard_runs|   0|    100000|     100|0.22235194|  PASSED  \n",
       ">        diehard_runs|   0|    100000|     100|0.80928821|  PASSED  \n",
       ">       diehard_craps|   0|    200000|     100|0.02571971|  PASSED  \n",
       ">       diehard_craps|   0|    200000|     100|0.84951298|  PASSED  \n",
       "> marsaglia_tsang_gcd|   0|  10000000|     100|0.74741936|  PASSED  \n",
       "> marsaglia_tsang_gcd|   0|  10000000|     100|0.76949661|  PASSED  \n",
       ">         sts_monobit|   1|    100000|     100|0.92757436|  PASSED  \n",
       ">            sts_runs|   2|    100000|     100|0.97292834|  PASSED  \n",
       ">          sts_serial|   1|    100000|     100|0.19824851|  PASSED  \n",
       ">          sts_serial|   2|    100000|     100|0.38920495|  PASSED  \n",
       ">          sts_serial|   3|    100000|     100|0.97710557|  PASSED  \n",
       ">          sts_serial|   3|    100000|     100|0.58854062|  PASSED  \n",
       ">          sts_serial|   4|    100000|     100|0.13370119|  PASSED  \n",
       ">          sts_serial|   4|    100000|     100|0.29744108|  PASSED  \n",
       ">          sts_serial|   5|    100000|     100|0.52242840|  PASSED  \n",
       ">          sts_serial|   5|    100000|     100|0.69362248|  PASSED  \n",
       ">          sts_serial|   6|    100000|     100|0.47101044|  PASSED  \n",
       ">          sts_serial|   6|    100000|     100|0.85341737|  PASSED  \n",
       ">          sts_serial|   7|    100000|     100|0.40593181|  PASSED  \n",
       ">          sts_serial|   7|    100000|     100|0.32332929|  PASSED  \n",
       ">          sts_serial|   8|    100000|     100|0.00772341|  PASSED  \n",
       ">          sts_serial|   8|    100000|     100|0.33135308|  PASSED  \n",
       ">          sts_serial|   9|    100000|     100|0.31755522|  PASSED  \n",
       ">          sts_serial|   9|    100000|     100|0.61112699|  PASSED  \n",
       ">          sts_serial|  10|    100000|     100|0.40950102|  PASSED  \n",
       ">          sts_serial|  10|    100000|     100|0.83288252|  PASSED  \n",
       ">          sts_serial|  11|    100000|     100|0.31835787|  PASSED  \n",
       ">          sts_serial|  11|    100000|     100|0.84133155|  PASSED  \n",
       ">          sts_serial|  12|    100000|     100|0.55462488|  PASSED  \n",
       ">          sts_serial|  12|    100000|     100|0.99657945|   WEAK   \n",
       ">          sts_serial|  13|    100000|     100|0.81277578|  PASSED  \n",
       ">          sts_serial|  13|    100000|     100|0.59948665|  PASSED  \n",
       ">          sts_serial|  14|    100000|     100|0.11560370|  PASSED  \n",
       ">          sts_serial|  14|    100000|     100|0.15101019|  PASSED  \n",
       ">          sts_serial|  15|    100000|     100|0.26336099|  PASSED  \n",
       ">          sts_serial|  15|    100000|     100|0.79071016|  PASSED  \n",
       ">          sts_serial|  16|    100000|     100|0.60781350|  PASSED  \n",
       ">          sts_serial|  16|    100000|     100|0.96462928|  PASSED  \n",
       ">         rgb_bitdist|   1|    100000|     100|0.56844653|  PASSED  \n",
       ">         rgb_bitdist|   2|    100000|     100|0.39839080|  PASSED  \n",
       ">         rgb_bitdist|   3|    100000|     100|0.58294916|  PASSED  \n",
       ">         rgb_bitdist|   4|    100000|     100|0.88938079|  PASSED  \n",
       ">         rgb_bitdist|   5|    100000|     100|0.37589993|  PASSED  \n",
       ">         rgb_bitdist|   6|    100000|     100|0.32825697|  PASSED  \n",
       ">         rgb_bitdist|   7|    100000|     100|0.41658590|  PASSED  \n",
       ">         rgb_bitdist|   8|    100000|     100|0.92501136|  PASSED  \n",
       ">         rgb_bitdist|   9|    100000|     100|0.73301075|  PASSED  \n",
       ">         rgb_bitdist|  10|    100000|     100|0.08832423|  PASSED  \n",
       ">         rgb_bitdist|  11|    100000|     100|0.82095670|  PASSED  \n",
       ">         rgb_bitdist|  12|    100000|     100|0.63598416|  PASSED  \n",
       ">rgb_minimum_distance|   2|     10000|    1000|0.74393300|  PASSED  \n",
       ">rgb_minimum_distance|   3|     10000|    1000|0.98223328|  PASSED  \n",
       ">rgb_minimum_distance|   4|     10000|    1000|0.25956518|  PASSED  \n",
       ">rgb_minimum_distance|   5|     10000|    1000|0.25243189|  PASSED  \n",
       ">    rgb_permutations|   2|    100000|     100|0.99888005|   WEAK   \n",
       ">    rgb_permutations|   3|    100000|     100|0.98951656|  PASSED  \n",
       ">    rgb_permutations|   4|    100000|     100|0.89441765|  PASSED  \n",
       ">    rgb_permutations|   5|    100000|     100|0.40888647|  PASSED  \n",
       ">      rgb_lagged_sum|   0|   1000000|     100|0.33623811|  PASSED  \n",
       ">      rgb_lagged_sum|   1|   1000000|     100|0.84329895|  PASSED  \n",
       ">      rgb_lagged_sum|   2|   1000000|     100|0.98031451|  PASSED  \n",
       ">      rgb_lagged_sum|   3|   1000000|     100|0.41730437|  PASSED  \n",
       ">      rgb_lagged_sum|   4|   1000000|     100|0.69953485|  PASSED  \n",
       ">      rgb_lagged_sum|   5|   1000000|     100|0.24657392|  PASSED  \n",
       ">      rgb_lagged_sum|   6|   1000000|     100|0.98337010|  PASSED  \n",
       ">      rgb_lagged_sum|   7|   1000000|     100|0.22253779|  PASSED  \n",
       ">      rgb_lagged_sum|   8|   1000000|     100|0.00462919|   WEAK   \n",
       ">      rgb_lagged_sum|   9|   1000000|     100|0.49045815|  PASSED  \n",
       ">      rgb_lagged_sum|  10|   1000000|     100|0.59382638|  PASSED  \n",
       ">      rgb_lagged_sum|  11|   1000000|     100|0.16550700|  PASSED  \n",
       ">      rgb_lagged_sum|  12|   1000000|     100|0.93107944|  PASSED  \n",
       ">      rgb_lagged_sum|  13|   1000000|     100|0.45338156|  PASSED  \n",
       ">      rgb_lagged_sum|  14|   1000000|     100|0.51172580|  PASSED  \n",
       ">      rgb_lagged_sum|  15|   1000000|     100|0.85927021|  PASSED  \n",
       ">      rgb_lagged_sum|  16|   1000000|     100|0.99903919|   WEAK   \n",
       ">      rgb_lagged_sum|  17|   1000000|     100|0.03543279|  PASSED  \n",
       ">      rgb_lagged_sum|  18|   1000000|     100|0.10480484|  PASSED  \n",
       ">      rgb_lagged_sum|  19|   1000000|     100|0.32816633|  PASSED  \n",
       ">      rgb_lagged_sum|  20|   1000000|     100|0.79574812|  PASSED  \n",
       ">      rgb_lagged_sum|  21|   1000000|     100|0.92846615|  PASSED  \n",
       ">      rgb_lagged_sum|  22|   1000000|     100|0.96182965|  PASSED  \n",
       ">      rgb_lagged_sum|  23|   1000000|     100|0.72687651|  PASSED  \n",
       ">      rgb_lagged_sum|  24|   1000000|     100|0.84633880|  PASSED  \n",
       ">      rgb_lagged_sum|  25|   1000000|     100|0.91516095|  PASSED  \n",
       ">      rgb_lagged_sum|  26|   1000000|     100|0.40059548|  PASSED  \n",
       ">      rgb_lagged_sum|  27|   1000000|     100|0.84937331|  PASSED  \n",
       ">      rgb_lagged_sum|  28|   1000000|     100|0.19210794|  PASSED  \n",
       ">      rgb_lagged_sum|  29|   1000000|     100|0.95709002|  PASSED  \n",
       ">      rgb_lagged_sum|  30|   1000000|     100|0.37296695|  PASSED  \n",
       ">      rgb_lagged_sum|  31|   1000000|     100|0.98823663|  PASSED  \n",
       ">      rgb_lagged_sum|  32|   1000000|     100|0.87749331|  PASSED  \n",
       ">     rgb_kstest_test|   0|     10000|    1000|0.02396669|  PASSED  \n",
       ">     dab_bytedistrib|   0|  51200000|       1|0.24376079|  PASSED  \n",
       ">             dab_dct| 256|     50000|       1|0.47772273|  PASSED  \n",
       ">Preparing to run test 207.  ntuple = 0\n",
       ">        dab_filltree|  32|  15000000|       1|0.04830684|  PASSED  \n",
       ">        dab_filltree|  32|  15000000|       1|0.06855848|  PASSED  \n",
       ">Preparing to run test 208.  ntuple = 0\n",
       ">       dab_filltree2|   0|   5000000|       1|0.70538253|  PASSED  \n",
       ">       dab_filltree2|   1|   5000000|       1|0.06811702|  PASSED  \n",
       ">Preparing to run test 209.  ntuple = 0\n",
       ">        dab_monobit2|  12|  65000000|       1|0.80978167|  PASSED  \n",
       ">"
      ],
      "text/plain": [
       "<IPython.core.display.Markdown object>"
      ]
     },
     "metadata": {},
     "output_type": "display_data"
    },
    {
     "data": {
      "text/markdown": [
       "#### Parameters:"
      ],
      "text/plain": [
       "<IPython.core.display.Markdown object>"
      ]
     },
     "metadata": {},
     "output_type": "display_data"
    },
    {
     "data": {
      "text/markdown": [
       "* seeds: [2746317275042537537]"
      ],
      "text/plain": [
       "<IPython.core.display.Markdown object>"
      ]
     },
     "metadata": {},
     "output_type": "display_data"
    },
    {
     "data": {
      "text/markdown": [
       "## <span style='color:orange'>*Independent*</span>"
      ],
      "text/plain": [
       "<IPython.core.display.Markdown object>"
      ]
     },
     "metadata": {},
     "output_type": "display_data"
    },
    {
     "data": {
      "text/markdown": [
       "#### Test output (most suspect):"
      ],
      "text/plain": [
       "<IPython.core.display.Markdown object>"
      ]
     },
     "metadata": {},
     "output_type": "display_data"
    },
    {
     "data": {
      "text/markdown": [
       ">#=============================================================================#\n",
       ">#            dieharder version 3.31.1 Copyright 2003 Robert G. Brown          #\n",
       ">#=============================================================================#\n",
       ">   rng_name    |rands/second|   Seed   |\n",
       ">stdin_input_raw|  1.95e+07  | 927548012|\n",
       ">#=============================================================================#\n",
       ">        test_name   |ntup| tsamples |psamples|  p-value |Assessment\n",
       ">#=============================================================================#\n",
       ">   diehard_birthdays|   0|       100|     100|0.95778913|  PASSED  \n",
       ">      diehard_operm5|   0|   1000000|     100|0.38795449|  PASSED  \n",
       ">  diehard_rank_32x32|   0|     40000|     100|0.26344523|  PASSED  \n",
       ">    diehard_rank_6x8|   0|    100000|     100|0.14171767|  PASSED  \n",
       ">   diehard_bitstream|   0|   2097152|     100|0.84714559|  PASSED  \n",
       ">        diehard_opso|   0|   2097152|     100|0.61491118|  PASSED  \n",
       ">        diehard_oqso|   0|   2097152|     100|0.48781246|  PASSED  \n",
       ">         diehard_dna|   0|   2097152|     100|0.28522390|  PASSED  \n",
       ">diehard_count_1s_str|   0|    256000|     100|0.67723704|  PASSED  \n",
       ">diehard_count_1s_byt|   0|    256000|     100|0.92636690|  PASSED  \n",
       "> diehard_parking_lot|   0|     12000|     100|0.01700299|  PASSED  \n",
       ">    diehard_2dsphere|   2|      8000|     100|0.62753919|  PASSED  \n",
       ">    diehard_3dsphere|   3|      4000|     100|0.04029356|  PASSED  \n",
       ">     diehard_squeeze|   0|    100000|     100|0.99269962|  PASSED  \n",
       ">        diehard_sums|   0|       100|     100|0.21499400|  PASSED  \n",
       ">        diehard_runs|   0|    100000|     100|0.36960906|  PASSED  \n",
       ">        diehard_runs|   0|    100000|     100|0.21969754|  PASSED  \n",
       ">       diehard_craps|   0|    200000|     100|0.98406719|  PASSED  \n",
       ">       diehard_craps|   0|    200000|     100|0.24313118|  PASSED  \n",
       "> marsaglia_tsang_gcd|   0|  10000000|     100|0.26823931|  PASSED  \n",
       "> marsaglia_tsang_gcd|   0|  10000000|     100|0.61207529|  PASSED  \n",
       ">         sts_monobit|   1|    100000|     100|0.63110049|  PASSED  \n",
       ">            sts_runs|   2|    100000|     100|0.03528570|  PASSED  \n",
       ">          sts_serial|   1|    100000|     100|0.44562095|  PASSED  \n",
       ">          sts_serial|   2|    100000|     100|0.52802581|  PASSED  \n",
       ">          sts_serial|   3|    100000|     100|0.97682950|  PASSED  \n",
       ">          sts_serial|   3|    100000|     100|0.36774865|  PASSED  \n",
       ">          sts_serial|   4|    100000|     100|0.62620245|  PASSED  \n",
       ">          sts_serial|   4|    100000|     100|0.97481904|  PASSED  \n",
       ">          sts_serial|   5|    100000|     100|0.65685598|  PASSED  \n",
       ">          sts_serial|   5|    100000|     100|0.89521387|  PASSED  \n",
       ">          sts_serial|   6|    100000|     100|0.44621351|  PASSED  \n",
       ">          sts_serial|   6|    100000|     100|0.40091705|  PASSED  \n",
       ">          sts_serial|   7|    100000|     100|0.96982587|  PASSED  \n",
       ">          sts_serial|   7|    100000|     100|0.70301789|  PASSED  \n",
       ">          sts_serial|   8|    100000|     100|0.86068511|  PASSED  \n",
       ">          sts_serial|   8|    100000|     100|0.64353529|  PASSED  \n",
       ">          sts_serial|   9|    100000|     100|0.96403414|  PASSED  \n",
       ">          sts_serial|   9|    100000|     100|0.98314758|  PASSED  \n",
       ">          sts_serial|  10|    100000|     100|0.99888101|   WEAK   \n",
       ">          sts_serial|  10|    100000|     100|0.60533381|  PASSED  \n",
       ">          sts_serial|  11|    100000|     100|0.98765580|  PASSED  \n",
       ">          sts_serial|  11|    100000|     100|0.87863780|  PASSED  \n",
       ">          sts_serial|  12|    100000|     100|0.43207293|  PASSED  \n",
       ">          sts_serial|  12|    100000|     100|0.84064073|  PASSED  \n",
       ">          sts_serial|  13|    100000|     100|0.95348844|  PASSED  \n",
       ">          sts_serial|  13|    100000|     100|0.86694504|  PASSED  \n",
       ">          sts_serial|  14|    100000|     100|0.71785144|  PASSED  \n",
       ">          sts_serial|  14|    100000|     100|0.60610165|  PASSED  \n",
       ">          sts_serial|  15|    100000|     100|0.45422703|  PASSED  \n",
       ">          sts_serial|  15|    100000|     100|0.62925747|  PASSED  \n",
       ">          sts_serial|  16|    100000|     100|0.83571040|  PASSED  \n",
       ">          sts_serial|  16|    100000|     100|0.93179760|  PASSED  \n",
       ">         rgb_bitdist|   1|    100000|     100|0.57703673|  PASSED  \n",
       ">         rgb_bitdist|   2|    100000|     100|0.60544130|  PASSED  \n",
       ">         rgb_bitdist|   3|    100000|     100|0.95977645|  PASSED  \n",
       ">         rgb_bitdist|   4|    100000|     100|0.58694786|  PASSED  \n",
       ">         rgb_bitdist|   5|    100000|     100|0.01986121|  PASSED  \n",
       ">         rgb_bitdist|   6|    100000|     100|0.94548630|  PASSED  \n",
       ">         rgb_bitdist|   7|    100000|     100|0.34571076|  PASSED  \n",
       ">         rgb_bitdist|   8|    100000|     100|0.23813643|  PASSED  \n",
       ">         rgb_bitdist|   9|    100000|     100|0.80328545|  PASSED  \n",
       ">         rgb_bitdist|  10|    100000|     100|0.61603602|  PASSED  \n",
       ">         rgb_bitdist|  11|    100000|     100|0.94169277|  PASSED  \n",
       ">         rgb_bitdist|  12|    100000|     100|0.68314568|  PASSED  \n",
       ">rgb_minimum_distance|   2|     10000|    1000|0.54758180|  PASSED  \n",
       ">rgb_minimum_distance|   3|     10000|    1000|0.98306786|  PASSED  \n",
       ">rgb_minimum_distance|   4|     10000|    1000|0.03790548|  PASSED  \n",
       ">rgb_minimum_distance|   5|     10000|    1000|0.64973493|  PASSED  \n",
       ">    rgb_permutations|   2|    100000|     100|0.88491695|  PASSED  \n",
       ">    rgb_permutations|   3|    100000|     100|0.70157279|  PASSED  \n",
       ">    rgb_permutations|   4|    100000|     100|0.43337037|  PASSED  \n",
       ">    rgb_permutations|   5|    100000|     100|0.64087851|  PASSED  \n",
       ">      rgb_lagged_sum|   0|   1000000|     100|0.07907929|  PASSED  \n",
       ">      rgb_lagged_sum|   1|   1000000|     100|0.80217363|  PASSED  \n",
       ">      rgb_lagged_sum|   2|   1000000|     100|0.79239078|  PASSED  \n",
       ">      rgb_lagged_sum|   3|   1000000|     100|0.91725117|  PASSED  \n",
       ">      rgb_lagged_sum|   4|   1000000|     100|0.63819938|  PASSED  \n",
       ">      rgb_lagged_sum|   5|   1000000|     100|0.98625972|  PASSED  \n",
       ">      rgb_lagged_sum|   6|   1000000|     100|0.91408743|  PASSED  \n",
       ">      rgb_lagged_sum|   7|   1000000|     100|0.66450297|  PASSED  \n",
       ">      rgb_lagged_sum|   8|   1000000|     100|0.69489270|  PASSED  \n",
       ">      rgb_lagged_sum|   9|   1000000|     100|0.26289702|  PASSED  \n",
       ">      rgb_lagged_sum|  10|   1000000|     100|0.22348073|  PASSED  \n",
       ">      rgb_lagged_sum|  11|   1000000|     100|0.74073937|  PASSED  \n",
       ">      rgb_lagged_sum|  12|   1000000|     100|0.19205357|  PASSED  \n",
       ">      rgb_lagged_sum|  13|   1000000|     100|0.95180656|  PASSED  \n",
       ">      rgb_lagged_sum|  14|   1000000|     100|0.78206048|  PASSED  \n",
       ">      rgb_lagged_sum|  15|   1000000|     100|0.79862178|  PASSED  \n",
       ">      rgb_lagged_sum|  16|   1000000|     100|0.78652502|  PASSED  \n",
       ">      rgb_lagged_sum|  17|   1000000|     100|0.90787485|  PASSED  \n",
       ">      rgb_lagged_sum|  18|   1000000|     100|0.90607474|  PASSED  \n",
       ">      rgb_lagged_sum|  19|   1000000|     100|0.67827199|  PASSED  \n",
       ">      rgb_lagged_sum|  20|   1000000|     100|0.27380713|  PASSED  \n",
       ">      rgb_lagged_sum|  21|   1000000|     100|0.28356313|  PASSED  \n",
       ">      rgb_lagged_sum|  22|   1000000|     100|0.91888689|  PASSED  \n",
       ">      rgb_lagged_sum|  23|   1000000|     100|0.16549481|  PASSED  \n",
       ">      rgb_lagged_sum|  24|   1000000|     100|0.76545478|  PASSED  \n",
       ">      rgb_lagged_sum|  25|   1000000|     100|0.49783247|  PASSED  \n",
       ">      rgb_lagged_sum|  26|   1000000|     100|0.91583547|  PASSED  \n",
       ">      rgb_lagged_sum|  27|   1000000|     100|0.80226230|  PASSED  \n",
       ">      rgb_lagged_sum|  28|   1000000|     100|0.23951812|  PASSED  \n",
       ">      rgb_lagged_sum|  29|   1000000|     100|0.92295710|  PASSED  \n",
       ">      rgb_lagged_sum|  30|   1000000|     100|0.12320078|  PASSED  \n",
       ">      rgb_lagged_sum|  31|   1000000|     100|0.65515545|  PASSED  \n",
       ">      rgb_lagged_sum|  32|   1000000|     100|0.11888815|  PASSED  \n",
       ">     rgb_kstest_test|   0|     10000|    1000|0.78641005|  PASSED  \n",
       ">     dab_bytedistrib|   0|  51200000|       1|0.00912565|  PASSED  \n",
       ">             dab_dct| 256|     50000|       1|0.16660285|  PASSED  \n",
       ">Preparing to run test 207.  ntuple = 0\n",
       ">        dab_filltree|  32|  15000000|       1|0.69658904|  PASSED  \n",
       ">        dab_filltree|  32|  15000000|       1|0.69515919|  PASSED  \n",
       ">Preparing to run test 208.  ntuple = 0\n",
       ">       dab_filltree2|   0|   5000000|       1|0.94719704|  PASSED  \n",
       ">       dab_filltree2|   1|   5000000|       1|0.61181402|  PASSED  \n",
       ">Preparing to run test 209.  ntuple = 0\n",
       ">        dab_monobit2|  12|  65000000|       1|0.58352379|  PASSED  \n",
       ">"
      ],
      "text/plain": [
       "<IPython.core.display.Markdown object>"
      ]
     },
     "metadata": {},
     "output_type": "display_data"
    },
    {
     "data": {
      "text/markdown": [
       "#### Parameters:"
      ],
      "text/plain": [
       "<IPython.core.display.Markdown object>"
      ]
     },
     "metadata": {},
     "output_type": "display_data"
    },
    {
     "data": {
      "text/markdown": [
       "* seeds: [2207092005148081492]"
      ],
      "text/plain": [
       "<IPython.core.display.Markdown object>"
      ]
     },
     "metadata": {},
     "output_type": "display_data"
    },
    {
     "data": {
      "text/markdown": [
       "## <span style='color:orange'>*IndependentSimulation*</span>"
      ],
      "text/plain": [
       "<IPython.core.display.Markdown object>"
      ]
     },
     "metadata": {},
     "output_type": "display_data"
    },
    {
     "data": {
      "text/markdown": [
       "#### Test output (most suspect):"
      ],
      "text/plain": [
       "<IPython.core.display.Markdown object>"
      ]
     },
     "metadata": {},
     "output_type": "display_data"
    },
    {
     "data": {
      "text/markdown": [
       ">#=============================================================================#\n",
       ">#            dieharder version 3.31.1 Copyright 2003 Robert G. Brown          #\n",
       ">#=============================================================================#\n",
       ">   rng_name    |rands/second|   Seed   |\n",
       ">stdin_input_raw|  1.52e+07  |2204743210|\n",
       ">#=============================================================================#\n",
       ">        test_name   |ntup| tsamples |psamples|  p-value |Assessment\n",
       ">#=============================================================================#\n",
       ">   diehard_birthdays|   0|       100|     100|0.65518909|  PASSED  \n",
       ">      diehard_operm5|   0|   1000000|     100|0.32332966|  PASSED  \n",
       ">  diehard_rank_32x32|   0|     40000|     100|0.25386649|  PASSED  \n",
       ">    diehard_rank_6x8|   0|    100000|     100|0.98301180|  PASSED  \n",
       ">   diehard_bitstream|   0|   2097152|     100|0.14788536|  PASSED  \n",
       ">        diehard_opso|   0|   2097152|     100|0.25259534|  PASSED  \n",
       ">        diehard_oqso|   0|   2097152|     100|0.79900498|  PASSED  \n",
       ">         diehard_dna|   0|   2097152|     100|0.27640279|  PASSED  \n",
       ">diehard_count_1s_str|   0|    256000|     100|0.41196690|  PASSED  \n",
       ">diehard_count_1s_byt|   0|    256000|     100|0.21929056|  PASSED  \n",
       "> diehard_parking_lot|   0|     12000|     100|0.92238409|  PASSED  \n",
       ">    diehard_2dsphere|   2|      8000|     100|0.71768390|  PASSED  \n",
       ">    diehard_3dsphere|   3|      4000|     100|0.97692596|  PASSED  \n",
       ">     diehard_squeeze|   0|    100000|     100|0.10249216|  PASSED  \n",
       ">        diehard_sums|   0|       100|     100|0.08955797|  PASSED  \n",
       ">        diehard_runs|   0|    100000|     100|0.35623840|  PASSED  \n",
       ">        diehard_runs|   0|    100000|     100|0.19084456|  PASSED  \n",
       ">       diehard_craps|   0|    200000|     100|0.21801959|  PASSED  \n",
       ">       diehard_craps|   0|    200000|     100|0.98770502|  PASSED  \n",
       "> marsaglia_tsang_gcd|   0|  10000000|     100|0.11273940|  PASSED  \n",
       "> marsaglia_tsang_gcd|   0|  10000000|     100|0.85249237|  PASSED  \n",
       ">         sts_monobit|   1|    100000|     100|0.33050155|  PASSED  \n",
       ">            sts_runs|   2|    100000|     100|0.57792279|  PASSED  \n",
       ">          sts_serial|   1|    100000|     100|0.44079582|  PASSED  \n",
       ">          sts_serial|   2|    100000|     100|0.58730572|  PASSED  \n",
       ">          sts_serial|   3|    100000|     100|0.05862969|  PASSED  \n",
       ">          sts_serial|   3|    100000|     100|0.56548724|  PASSED  \n",
       ">          sts_serial|   4|    100000|     100|0.19238482|  PASSED  \n",
       ">          sts_serial|   4|    100000|     100|0.26968783|  PASSED  \n",
       ">          sts_serial|   5|    100000|     100|0.86928603|  PASSED  \n",
       ">          sts_serial|   5|    100000|     100|0.69374623|  PASSED  \n",
       ">          sts_serial|   6|    100000|     100|0.67901100|  PASSED  \n",
       ">          sts_serial|   6|    100000|     100|0.92291186|  PASSED  \n",
       ">          sts_serial|   7|    100000|     100|0.38955937|  PASSED  \n",
       ">          sts_serial|   7|    100000|     100|0.16496848|  PASSED  \n",
       ">          sts_serial|   8|    100000|     100|0.91211051|  PASSED  \n",
       ">          sts_serial|   8|    100000|     100|0.96898526|  PASSED  \n",
       ">          sts_serial|   9|    100000|     100|0.09317576|  PASSED  \n",
       ">          sts_serial|   9|    100000|     100|0.03655060|  PASSED  \n",
       ">          sts_serial|  10|    100000|     100|0.94566546|  PASSED  \n",
       ">          sts_serial|  10|    100000|     100|0.67715736|  PASSED  \n",
       ">          sts_serial|  11|    100000|     100|0.89183610|  PASSED  \n",
       ">          sts_serial|  11|    100000|     100|0.09962050|  PASSED  \n",
       ">          sts_serial|  12|    100000|     100|0.84294064|  PASSED  \n",
       ">          sts_serial|  12|    100000|     100|0.34025829|  PASSED  \n",
       ">          sts_serial|  13|    100000|     100|0.68812690|  PASSED  \n",
       ">          sts_serial|  13|    100000|     100|0.62527205|  PASSED  \n",
       ">          sts_serial|  14|    100000|     100|0.46495334|  PASSED  \n",
       ">          sts_serial|  14|    100000|     100|0.94772623|  PASSED  \n",
       ">          sts_serial|  15|    100000|     100|0.36628020|  PASSED  \n",
       ">          sts_serial|  15|    100000|     100|0.00378084|   WEAK   \n",
       ">          sts_serial|  16|    100000|     100|0.00945320|  PASSED  \n",
       ">          sts_serial|  16|    100000|     100|0.23879131|  PASSED  \n",
       ">         rgb_bitdist|   1|    100000|     100|0.18277517|  PASSED  \n",
       ">         rgb_bitdist|   2|    100000|     100|0.14451250|  PASSED  \n",
       ">         rgb_bitdist|   3|    100000|     100|0.43189880|  PASSED  \n",
       ">         rgb_bitdist|   4|    100000|     100|0.55157144|  PASSED  \n",
       ">         rgb_bitdist|   5|    100000|     100|0.09618384|  PASSED  \n",
       ">         rgb_bitdist|   6|    100000|     100|0.80938701|  PASSED  \n",
       ">         rgb_bitdist|   7|    100000|     100|0.46464266|  PASSED  \n",
       ">         rgb_bitdist|   8|    100000|     100|0.83946888|  PASSED  \n",
       ">         rgb_bitdist|   9|    100000|     100|0.55171200|  PASSED  \n",
       ">         rgb_bitdist|  10|    100000|     100|0.97403966|  PASSED  \n",
       ">         rgb_bitdist|  11|    100000|     100|0.32156900|  PASSED  \n",
       ">         rgb_bitdist|  12|    100000|     100|0.03163880|  PASSED  \n",
       ">rgb_minimum_distance|   2|     10000|    1000|0.13903529|  PASSED  \n",
       ">rgb_minimum_distance|   3|     10000|    1000|0.86207184|  PASSED  \n",
       ">rgb_minimum_distance|   4|     10000|    1000|0.37924350|  PASSED  \n",
       ">rgb_minimum_distance|   5|     10000|    1000|0.13576350|  PASSED  \n",
       ">    rgb_permutations|   2|    100000|     100|0.85026977|  PASSED  \n",
       ">    rgb_permutations|   3|    100000|     100|0.79594190|  PASSED  \n",
       ">    rgb_permutations|   4|    100000|     100|0.32986648|  PASSED  \n",
       ">    rgb_permutations|   5|    100000|     100|0.34023419|  PASSED  \n",
       ">      rgb_lagged_sum|   0|   1000000|     100|0.88512270|  PASSED  \n",
       ">      rgb_lagged_sum|   1|   1000000|     100|0.48957872|  PASSED  \n",
       ">      rgb_lagged_sum|   2|   1000000|     100|0.31730203|  PASSED  \n",
       ">      rgb_lagged_sum|   3|   1000000|     100|0.16779997|  PASSED  \n",
       ">      rgb_lagged_sum|   4|   1000000|     100|0.88635210|  PASSED  \n",
       ">      rgb_lagged_sum|   5|   1000000|     100|0.52382602|  PASSED  \n",
       ">      rgb_lagged_sum|   6|   1000000|     100|0.90603890|  PASSED  \n",
       ">      rgb_lagged_sum|   7|   1000000|     100|0.76804743|  PASSED  \n",
       ">      rgb_lagged_sum|   8|   1000000|     100|0.98589290|  PASSED  \n",
       ">      rgb_lagged_sum|   9|   1000000|     100|0.55910419|  PASSED  \n",
       ">      rgb_lagged_sum|  10|   1000000|     100|0.72479060|  PASSED  \n",
       ">      rgb_lagged_sum|  11|   1000000|     100|0.26507970|  PASSED  \n",
       ">      rgb_lagged_sum|  12|   1000000|     100|0.22738900|  PASSED  \n",
       ">      rgb_lagged_sum|  13|   1000000|     100|0.01802377|  PASSED  \n",
       ">      rgb_lagged_sum|  14|   1000000|     100|0.60532910|  PASSED  \n",
       ">      rgb_lagged_sum|  15|   1000000|     100|0.17869602|  PASSED  \n",
       ">      rgb_lagged_sum|  16|   1000000|     100|0.19350290|  PASSED  \n",
       ">      rgb_lagged_sum|  17|   1000000|     100|0.42767420|  PASSED  \n",
       ">      rgb_lagged_sum|  18|   1000000|     100|0.73880534|  PASSED  \n",
       ">      rgb_lagged_sum|  19|   1000000|     100|0.92390262|  PASSED  \n",
       ">      rgb_lagged_sum|  20|   1000000|     100|0.97750329|  PASSED  \n",
       ">      rgb_lagged_sum|  21|   1000000|     100|0.83518719|  PASSED  \n",
       ">      rgb_lagged_sum|  22|   1000000|     100|0.10949528|  PASSED  \n",
       ">      rgb_lagged_sum|  23|   1000000|     100|0.16914477|  PASSED  \n",
       ">      rgb_lagged_sum|  24|   1000000|     100|0.98764034|  PASSED  \n",
       ">      rgb_lagged_sum|  25|   1000000|     100|0.09180502|  PASSED  \n",
       ">      rgb_lagged_sum|  26|   1000000|     100|0.76392464|  PASSED  \n",
       ">      rgb_lagged_sum|  27|   1000000|     100|0.66789224|  PASSED  \n",
       ">      rgb_lagged_sum|  28|   1000000|     100|0.89394274|  PASSED  \n",
       ">      rgb_lagged_sum|  29|   1000000|     100|0.98984080|  PASSED  \n",
       ">      rgb_lagged_sum|  30|   1000000|     100|0.72614350|  PASSED  \n",
       ">      rgb_lagged_sum|  31|   1000000|     100|0.17528588|  PASSED  \n",
       ">      rgb_lagged_sum|  32|   1000000|     100|0.52839104|  PASSED  \n",
       ">     rgb_kstest_test|   0|     10000|    1000|0.50772002|  PASSED  \n",
       ">     dab_bytedistrib|   0|  51200000|       1|0.88566502|  PASSED  \n",
       ">             dab_dct| 256|     50000|       1|0.60800952|  PASSED  \n",
       ">Preparing to run test 207.  ntuple = 0\n",
       ">        dab_filltree|  32|  15000000|       1|0.58735214|  PASSED  \n",
       ">        dab_filltree|  32|  15000000|       1|0.09731561|  PASSED  \n",
       ">Preparing to run test 208.  ntuple = 0\n",
       ">       dab_filltree2|   0|   5000000|       1|0.59299668|  PASSED  \n",
       ">       dab_filltree2|   1|   5000000|       1|0.79216515|  PASSED  \n",
       ">Preparing to run test 209.  ntuple = 0\n",
       ">        dab_monobit2|  12|  65000000|       1|0.40704684|  PASSED  \n",
       ">"
      ],
      "text/plain": [
       "<IPython.core.display.Markdown object>"
      ]
     },
     "metadata": {},
     "output_type": "display_data"
    },
    {
     "data": {
      "text/markdown": [
       "#### Parameters:"
      ],
      "text/plain": [
       "<IPython.core.display.Markdown object>"
      ]
     },
     "metadata": {},
     "output_type": "display_data"
    },
    {
     "data": {
      "text/markdown": [
       "* seeds: [10680298004172838315]"
      ],
      "text/plain": [
       "<IPython.core.display.Markdown object>"
      ]
     },
     "metadata": {},
     "output_type": "display_data"
    },
    {
     "data": {
      "text/markdown": [
       "## <span style='color:orange'>*IndependentSimulationNoDispersal*</span>"
      ],
      "text/plain": [
       "<IPython.core.display.Markdown object>"
      ]
     },
     "metadata": {},
     "output_type": "display_data"
    },
    {
     "data": {
      "text/markdown": [
       "#### Test output (most suspect):"
      ],
      "text/plain": [
       "<IPython.core.display.Markdown object>"
      ]
     },
     "metadata": {},
     "output_type": "display_data"
    },
    {
     "data": {
      "text/markdown": [
       ">#=============================================================================#\n",
       ">#            dieharder version 3.31.1 Copyright 2003 Robert G. Brown          #\n",
       ">#=============================================================================#\n",
       ">   rng_name    |rands/second|   Seed   |\n",
       ">stdin_input_raw|  1.28e+07  | 434022436|\n",
       ">#=============================================================================#\n",
       ">        test_name   |ntup| tsamples |psamples|  p-value |Assessment\n",
       ">#=============================================================================#\n",
       ">   diehard_birthdays|   0|       100|     100|0.13179240|  PASSED  \n",
       ">      diehard_operm5|   0|   1000000|     100|0.46241646|  PASSED  \n",
       ">  diehard_rank_32x32|   0|     40000|     100|0.90067712|  PASSED  \n",
       ">    diehard_rank_6x8|   0|    100000|     100|0.91131668|  PASSED  \n",
       ">   diehard_bitstream|   0|   2097152|     100|0.92958732|  PASSED  \n",
       ">        diehard_opso|   0|   2097152|     100|0.99619682|   WEAK   \n",
       ">        diehard_oqso|   0|   2097152|     100|0.48718976|  PASSED  \n",
       ">         diehard_dna|   0|   2097152|     100|0.15434581|  PASSED  \n",
       ">diehard_count_1s_str|   0|    256000|     100|0.25189457|  PASSED  \n",
       ">diehard_count_1s_byt|   0|    256000|     100|0.16112342|  PASSED  \n",
       "> diehard_parking_lot|   0|     12000|     100|0.91403506|  PASSED  \n",
       ">    diehard_2dsphere|   2|      8000|     100|0.91120616|  PASSED  \n",
       ">    diehard_3dsphere|   3|      4000|     100|0.98624712|  PASSED  \n",
       ">     diehard_squeeze|   0|    100000|     100|0.95627600|  PASSED  \n",
       ">        diehard_sums|   0|       100|     100|0.54920632|  PASSED  \n",
       ">        diehard_runs|   0|    100000|     100|0.45960197|  PASSED  \n",
       ">        diehard_runs|   0|    100000|     100|0.82256661|  PASSED  \n",
       ">       diehard_craps|   0|    200000|     100|0.62527144|  PASSED  \n",
       ">       diehard_craps|   0|    200000|     100|0.89943388|  PASSED  \n",
       "> marsaglia_tsang_gcd|   0|  10000000|     100|0.60296393|  PASSED  \n",
       "> marsaglia_tsang_gcd|   0|  10000000|     100|0.65333226|  PASSED  \n",
       ">         sts_monobit|   1|    100000|     100|0.49014769|  PASSED  \n",
       ">            sts_runs|   2|    100000|     100|0.85097418|  PASSED  \n",
       ">          sts_serial|   1|    100000|     100|0.27199716|  PASSED  \n",
       ">          sts_serial|   2|    100000|     100|0.85196793|  PASSED  \n",
       ">          sts_serial|   3|    100000|     100|0.86741196|  PASSED  \n",
       ">          sts_serial|   3|    100000|     100|0.91908295|  PASSED  \n",
       ">          sts_serial|   4|    100000|     100|0.87315737|  PASSED  \n",
       ">          sts_serial|   4|    100000|     100|0.85647745|  PASSED  \n",
       ">          sts_serial|   5|    100000|     100|0.46995583|  PASSED  \n",
       ">          sts_serial|   5|    100000|     100|0.59145782|  PASSED  \n",
       ">          sts_serial|   6|    100000|     100|0.87159912|  PASSED  \n",
       ">          sts_serial|   6|    100000|     100|0.99393311|  PASSED  \n",
       ">          sts_serial|   7|    100000|     100|0.24912032|  PASSED  \n",
       ">          sts_serial|   7|    100000|     100|0.02456605|  PASSED  \n",
       ">          sts_serial|   8|    100000|     100|0.73355989|  PASSED  \n",
       ">          sts_serial|   8|    100000|     100|0.84596926|  PASSED  \n",
       ">          sts_serial|   9|    100000|     100|0.24121615|  PASSED  \n",
       ">          sts_serial|   9|    100000|     100|0.35944102|  PASSED  \n",
       ">          sts_serial|  10|    100000|     100|0.66380449|  PASSED  \n",
       ">          sts_serial|  10|    100000|     100|0.78660815|  PASSED  \n",
       ">          sts_serial|  11|    100000|     100|0.41083581|  PASSED  \n",
       ">          sts_serial|  11|    100000|     100|0.15508114|  PASSED  \n",
       ">          sts_serial|  12|    100000|     100|0.99484185|  PASSED  \n",
       ">          sts_serial|  12|    100000|     100|0.11946287|  PASSED  \n",
       ">          sts_serial|  13|    100000|     100|0.29122150|  PASSED  \n",
       ">          sts_serial|  13|    100000|     100|0.45322837|  PASSED  \n",
       ">          sts_serial|  14|    100000|     100|0.86841532|  PASSED  \n",
       ">          sts_serial|  14|    100000|     100|0.97993562|  PASSED  \n",
       ">          sts_serial|  15|    100000|     100|0.98206542|  PASSED  \n",
       ">          sts_serial|  15|    100000|     100|0.09352329|  PASSED  \n",
       ">          sts_serial|  16|    100000|     100|0.33649678|  PASSED  \n",
       ">          sts_serial|  16|    100000|     100|0.40184872|  PASSED  \n",
       ">         rgb_bitdist|   1|    100000|     100|0.73319485|  PASSED  \n",
       ">         rgb_bitdist|   2|    100000|     100|0.79275174|  PASSED  \n",
       ">         rgb_bitdist|   3|    100000|     100|0.30853320|  PASSED  \n",
       ">         rgb_bitdist|   4|    100000|     100|0.69704046|  PASSED  \n",
       ">         rgb_bitdist|   5|    100000|     100|0.19835955|  PASSED  \n",
       ">         rgb_bitdist|   6|    100000|     100|0.90656879|  PASSED  \n",
       ">         rgb_bitdist|   7|    100000|     100|0.93864144|  PASSED  \n",
       ">         rgb_bitdist|   8|    100000|     100|0.65285437|  PASSED  \n",
       ">         rgb_bitdist|   9|    100000|     100|0.37762408|  PASSED  \n",
       ">         rgb_bitdist|  10|    100000|     100|0.58499845|  PASSED  \n",
       ">         rgb_bitdist|  11|    100000|     100|0.99651572|   WEAK   \n",
       ">         rgb_bitdist|  12|    100000|     100|0.18182048|  PASSED  \n",
       ">rgb_minimum_distance|   2|     10000|    1000|0.06233266|  PASSED  \n",
       ">rgb_minimum_distance|   3|     10000|    1000|0.14116140|  PASSED  \n",
       ">rgb_minimum_distance|   4|     10000|    1000|0.49824141|  PASSED  \n",
       ">rgb_minimum_distance|   5|     10000|    1000|0.07401988|  PASSED  \n",
       ">    rgb_permutations|   2|    100000|     100|0.33441642|  PASSED  \n",
       ">    rgb_permutations|   3|    100000|     100|0.85184943|  PASSED  \n",
       ">    rgb_permutations|   4|    100000|     100|0.83301139|  PASSED  \n",
       ">    rgb_permutations|   5|    100000|     100|0.35420855|  PASSED  \n",
       ">      rgb_lagged_sum|   0|   1000000|     100|0.72726984|  PASSED  \n",
       ">      rgb_lagged_sum|   1|   1000000|     100|0.58412368|  PASSED  \n",
       ">      rgb_lagged_sum|   2|   1000000|     100|0.42787542|  PASSED  \n",
       ">      rgb_lagged_sum|   3|   1000000|     100|0.04911329|  PASSED  \n",
       ">      rgb_lagged_sum|   4|   1000000|     100|0.43412758|  PASSED  \n",
       ">      rgb_lagged_sum|   5|   1000000|     100|0.22733951|  PASSED  \n",
       ">      rgb_lagged_sum|   6|   1000000|     100|0.92822598|  PASSED  \n",
       ">      rgb_lagged_sum|   7|   1000000|     100|0.65918407|  PASSED  \n",
       ">      rgb_lagged_sum|   8|   1000000|     100|0.78632792|  PASSED  \n",
       ">      rgb_lagged_sum|   9|   1000000|     100|0.65872408|  PASSED  \n",
       ">      rgb_lagged_sum|  10|   1000000|     100|0.95203334|  PASSED  \n",
       ">      rgb_lagged_sum|  11|   1000000|     100|0.16061141|  PASSED  \n",
       ">      rgb_lagged_sum|  12|   1000000|     100|0.92517538|  PASSED  \n",
       ">      rgb_lagged_sum|  13|   1000000|     100|0.35416812|  PASSED  \n",
       ">      rgb_lagged_sum|  14|   1000000|     100|0.78584215|  PASSED  \n",
       ">      rgb_lagged_sum|  15|   1000000|     100|0.27318844|  PASSED  \n",
       ">      rgb_lagged_sum|  16|   1000000|     100|0.22688446|  PASSED  \n",
       ">      rgb_lagged_sum|  17|   1000000|     100|0.64075929|  PASSED  \n",
       ">      rgb_lagged_sum|  18|   1000000|     100|0.78339212|  PASSED  \n",
       ">      rgb_lagged_sum|  19|   1000000|     100|0.54246734|  PASSED  \n",
       ">      rgb_lagged_sum|  20|   1000000|     100|0.09904904|  PASSED  \n",
       ">      rgb_lagged_sum|  21|   1000000|     100|0.72080491|  PASSED  \n",
       ">      rgb_lagged_sum|  22|   1000000|     100|0.00199002|   WEAK   \n",
       ">      rgb_lagged_sum|  23|   1000000|     100|0.75983912|  PASSED  \n",
       ">      rgb_lagged_sum|  24|   1000000|     100|0.60617412|  PASSED  \n",
       ">      rgb_lagged_sum|  25|   1000000|     100|0.70347991|  PASSED  \n",
       ">      rgb_lagged_sum|  26|   1000000|     100|0.86970470|  PASSED  \n",
       ">      rgb_lagged_sum|  27|   1000000|     100|0.61141085|  PASSED  \n",
       ">      rgb_lagged_sum|  28|   1000000|     100|0.98031012|  PASSED  \n",
       ">      rgb_lagged_sum|  29|   1000000|     100|0.99284742|  PASSED  \n",
       ">      rgb_lagged_sum|  30|   1000000|     100|0.19272956|  PASSED  \n",
       ">      rgb_lagged_sum|  31|   1000000|     100|0.90222590|  PASSED  \n",
       ">      rgb_lagged_sum|  32|   1000000|     100|0.58200820|  PASSED  \n",
       ">     rgb_kstest_test|   0|     10000|    1000|0.40087774|  PASSED  \n",
       ">     dab_bytedistrib|   0|  51200000|       1|0.44686570|  PASSED  \n",
       ">             dab_dct| 256|     50000|       1|0.05216796|  PASSED  \n",
       ">Preparing to run test 207.  ntuple = 0\n",
       ">        dab_filltree|  32|  15000000|       1|0.77496648|  PASSED  \n",
       ">        dab_filltree|  32|  15000000|       1|0.88760069|  PASSED  \n",
       ">Preparing to run test 208.  ntuple = 0\n",
       ">       dab_filltree2|   0|   5000000|       1|0.02281404|  PASSED  \n",
       ">       dab_filltree2|   1|   5000000|       1|0.87795607|  PASSED  \n",
       ">Preparing to run test 209.  ntuple = 0\n",
       ">        dab_monobit2|  12|  65000000|       1|0.79756630|  PASSED  \n",
       ">"
      ],
      "text/plain": [
       "<IPython.core.display.Markdown object>"
      ]
     },
     "metadata": {},
     "output_type": "display_data"
    },
    {
     "data": {
      "text/markdown": [
       "#### Parameters:"
      ],
      "text/plain": [
       "<IPython.core.display.Markdown object>"
      ]
     },
     "metadata": {},
     "output_type": "display_data"
    },
    {
     "data": {
      "text/markdown": [
       "* seeds: [8875154451330549071]"
      ],
      "text/plain": [
       "<IPython.core.display.Markdown object>"
      ]
     },
     "metadata": {},
     "output_type": "display_data"
    }
   ],
   "source": [
    "for mode in [\"Monolithic\", \"Independent\", \"IndependentSimulation\", \"IndependentSimulationNoDispersal\"]:\n",
    "    seeds = np.random.randint(0, np.iinfo(\"uint64\").max, dtype=\"uint64\", size=1)\n",
    "    \n",
    "    test_randomness_dieharder(mode, seeds=seeds, args=[\"-a\"])"
   ]
  },
  {
   "cell_type": "code",
   "execution_count": null,
   "id": "c0374345-76bb-4e21-aedb-96807f17e94b",
   "metadata": {},
   "outputs": [],
   "source": []
  }
 ],
 "metadata": {
  "kernelspec": {
   "display_name": "Python 3",
   "language": "python",
   "name": "python3"
  },
  "language_info": {
   "codemirror_mode": {
    "name": "ipython",
    "version": 3
   },
   "file_extension": ".py",
   "mimetype": "text/x-python",
   "name": "python",
   "nbconvert_exporter": "python",
   "pygments_lexer": "ipython3",
   "version": "3.8.8"
  }
 },
 "nbformat": 4,
 "nbformat_minor": 5
}

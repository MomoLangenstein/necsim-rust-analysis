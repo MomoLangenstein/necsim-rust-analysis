{
 "cells": [
  {
   "cell_type": "code",
   "execution_count": 1,
   "id": "e6cf3d7f-e1fa-4151-ab67-3070dc4b136e",
   "metadata": {
    "execution": {
     "iopub.execute_input": "2021-04-20T12:15:52.202460Z",
     "iopub.status.busy": "2021-04-20T12:15:52.201512Z",
     "iopub.status.idle": "2021-04-20T12:15:52.600834Z",
     "shell.execute_reply": "2021-04-20T12:15:52.600045Z"
    },
    "jupyter": {
     "source_hidden": true
    },
    "tags": []
   },
   "outputs": [],
   "source": [
    "import subprocess\n",
    "import shlex\n",
    "import re\n",
    "\n",
    "import numpy as np\n",
    "\n",
    "from IPython.display import display, Markdown\n",
    "from tqdm import tqdm"
   ]
  },
  {
   "cell_type": "code",
   "execution_count": 2,
   "id": "c3012526-a3bc-404d-9ae9-577b4b5859e6",
   "metadata": {
    "execution": {
     "iopub.execute_input": "2021-04-20T12:15:52.605629Z",
     "iopub.status.busy": "2021-04-20T12:15:52.605126Z",
     "iopub.status.idle": "2021-04-20T12:15:52.608678Z",
     "shell.execute_reply": "2021-04-20T12:15:52.607846Z"
    },
    "jupyter": {
     "source_hidden": true
    },
    "tags": []
   },
   "outputs": [],
   "source": [
    "CC_PATTERN = re.compile(r\"(?<!^)(?=[A-Z])\")"
   ]
  },
  {
   "cell_type": "markdown",
   "id": "f94398f5-84b5-4238-807f-def3d7cdbe3d",
   "metadata": {},
   "source": [
    "# Dieharder - A Random Number Test Suite"
   ]
  },
  {
   "cell_type": "code",
   "execution_count": 3,
   "id": "fd844300-147b-4440-91e7-0539d5a153d4",
   "metadata": {
    "execution": {
     "iopub.execute_input": "2021-04-20T12:15:52.617756Z",
     "iopub.status.busy": "2021-04-20T12:15:52.616877Z",
     "iopub.status.idle": "2021-04-20T12:15:52.619597Z",
     "shell.execute_reply": "2021-04-20T12:15:52.618912Z"
    },
    "jupyter": {
     "source_hidden": true
    },
    "tags": []
   },
   "outputs": [],
   "source": [
    "def test_randomness_dieharder(\n",
    "    mode, seeds=[42], args=[]\n",
    "):\n",
    "    outputs = []\n",
    "    \n",
    "    for seed in tqdm(seeds):\n",
    "        generator = subprocess.Popen(shlex.split(\n",
    "            f\"cargo run --release --quiet -- --seed {seed} {CC_PATTERN.sub('-', mode).lower()}\"\n",
    "        ), stdout=subprocess.PIPE)\n",
    "        dieharder = subprocess.run(\n",
    "            shlex.split(f\"dieharder -g 200\") + args, stdin=generator.stdout,\n",
    "            check=True, capture_output=True, text=True\n",
    "        )\n",
    "\n",
    "        outputs.append(dieharder.stdout)\n",
    "        \n",
    "    most_suspect = None\n",
    "    \n",
    "    for output in outputs:\n",
    "        failures = output.count(\"FAILED\")\n",
    "        weaks = output.count(\"WEAK\")\n",
    "        \n",
    "        suspicion = failures * 10 + weaks\n",
    "        \n",
    "        if (most_suspect is None) or (suspicion > most_suspect[0]):\n",
    "            most_suspect = (suspicion, output)\n",
    "\n",
    "    if \"FAILED\" in most_suspect[1]:\n",
    "        display(Markdown(f\"## <span style='color:red'><u>{mode}</u></span>\"))\n",
    "    elif \"WEAK\" in most_suspect[1]:\n",
    "        display(Markdown(f\"## <span style='color:orange'>*{mode}*</span>\"))\n",
    "    else:\n",
    "        display(Markdown(f\"## <span style='color:green'>{mode}</span>\"))\n",
    "        \n",
    "    display(Markdown(\"#### Test output (most suspect):\"))\n",
    "    display(Markdown(\">\" + most_suspect[1].replace('\\n', '\\n>')))\n",
    "\n",
    "    display(Markdown(\"#### Parameters:\"))\n",
    "    display(Markdown(f\"* seeds: {seeds}\"))"
   ]
  },
  {
   "cell_type": "code",
   "execution_count": 4,
   "id": "67293f51-2986-4f66-ad17-738be127e82c",
   "metadata": {
    "execution": {
     "iopub.execute_input": "2021-04-20T12:15:52.689705Z",
     "iopub.status.busy": "2021-04-20T12:15:52.688908Z",
     "iopub.status.idle": "2021-04-20T15:43:57.657912Z",
     "shell.execute_reply": "2021-04-20T15:43:57.658392Z"
    }
   },
   "outputs": [
    {
     "name": "stderr",
     "output_type": "stream",
     "text": [
      "100%|██████████| 1/1 [1:22:19<00:00, 4939.84s/it]\n"
     ]
    },
    {
     "data": {
      "text/markdown": [
       "## <span style='color:orange'>*Monolithic*</span>"
      ],
      "text/plain": [
       "<IPython.core.display.Markdown object>"
      ]
     },
     "metadata": {},
     "output_type": "display_data"
    },
    {
     "data": {
      "text/markdown": [
       "#### Test output (most suspect):"
      ],
      "text/plain": [
       "<IPython.core.display.Markdown object>"
      ]
     },
     "metadata": {},
     "output_type": "display_data"
    },
    {
     "data": {
      "text/markdown": [
       ">#=============================================================================#\n",
       ">#            dieharder version 3.31.1 Copyright 2003 Robert G. Brown          #\n",
       ">#=============================================================================#\n",
       ">   rng_name    |rands/second|   Seed   |\n",
       ">stdin_input_raw|  7.06e+06  |1668121587|\n",
       ">#=============================================================================#\n",
       ">        test_name   |ntup| tsamples |psamples|  p-value |Assessment\n",
       ">#=============================================================================#\n",
       ">   diehard_birthdays|   0|       100|     100|0.90835937|  PASSED  \n",
       ">      diehard_operm5|   0|   1000000|     100|0.85843120|  PASSED  \n",
       ">  diehard_rank_32x32|   0|     40000|     100|0.96253725|  PASSED  \n",
       ">    diehard_rank_6x8|   0|    100000|     100|0.76410593|  PASSED  \n",
       ">   diehard_bitstream|   0|   2097152|     100|0.19368869|  PASSED  \n",
       ">        diehard_opso|   0|   2097152|     100|0.69360776|  PASSED  \n",
       ">        diehard_oqso|   0|   2097152|     100|0.01668110|  PASSED  \n",
       ">         diehard_dna|   0|   2097152|     100|0.02068953|  PASSED  \n",
       ">diehard_count_1s_str|   0|    256000|     100|0.99287411|  PASSED  \n",
       ">diehard_count_1s_byt|   0|    256000|     100|0.03235546|  PASSED  \n",
       "> diehard_parking_lot|   0|     12000|     100|0.51803658|  PASSED  \n",
       ">    diehard_2dsphere|   2|      8000|     100|0.39377297|  PASSED  \n",
       ">    diehard_3dsphere|   3|      4000|     100|0.93984923|  PASSED  \n",
       ">     diehard_squeeze|   0|    100000|     100|0.52181376|  PASSED  \n",
       ">        diehard_sums|   0|       100|     100|0.13557029|  PASSED  \n",
       ">        diehard_runs|   0|    100000|     100|0.98034583|  PASSED  \n",
       ">        diehard_runs|   0|    100000|     100|0.76194001|  PASSED  \n",
       ">       diehard_craps|   0|    200000|     100|0.21786104|  PASSED  \n",
       ">       diehard_craps|   0|    200000|     100|0.43054722|  PASSED  \n",
       "> marsaglia_tsang_gcd|   0|  10000000|     100|0.15466360|  PASSED  \n",
       "> marsaglia_tsang_gcd|   0|  10000000|     100|0.73701185|  PASSED  \n",
       ">         sts_monobit|   1|    100000|     100|0.37766827|  PASSED  \n",
       ">            sts_runs|   2|    100000|     100|0.09493911|  PASSED  \n",
       ">          sts_serial|   1|    100000|     100|0.98571178|  PASSED  \n",
       ">          sts_serial|   2|    100000|     100|0.92951176|  PASSED  \n",
       ">          sts_serial|   3|    100000|     100|0.86597177|  PASSED  \n",
       ">          sts_serial|   3|    100000|     100|0.88598696|  PASSED  \n",
       ">          sts_serial|   4|    100000|     100|0.79935745|  PASSED  \n",
       ">          sts_serial|   4|    100000|     100|0.79812219|  PASSED  \n",
       ">          sts_serial|   5|    100000|     100|0.79649936|  PASSED  \n",
       ">          sts_serial|   5|    100000|     100|0.07166796|  PASSED  \n",
       ">          sts_serial|   6|    100000|     100|0.46148475|  PASSED  \n",
       ">          sts_serial|   6|    100000|     100|0.21766808|  PASSED  \n",
       ">          sts_serial|   7|    100000|     100|0.85306175|  PASSED  \n",
       ">          sts_serial|   7|    100000|     100|0.72871147|  PASSED  \n",
       ">          sts_serial|   8|    100000|     100|0.60730203|  PASSED  \n",
       ">          sts_serial|   8|    100000|     100|0.35738783|  PASSED  \n",
       ">          sts_serial|   9|    100000|     100|0.82894636|  PASSED  \n",
       ">          sts_serial|   9|    100000|     100|0.42128071|  PASSED  \n",
       ">          sts_serial|  10|    100000|     100|0.60648553|  PASSED  \n",
       ">          sts_serial|  10|    100000|     100|0.63795651|  PASSED  \n",
       ">          sts_serial|  11|    100000|     100|0.79476617|  PASSED  \n",
       ">          sts_serial|  11|    100000|     100|0.71514178|  PASSED  \n",
       ">          sts_serial|  12|    100000|     100|0.82612390|  PASSED  \n",
       ">          sts_serial|  12|    100000|     100|0.56335026|  PASSED  \n",
       ">          sts_serial|  13|    100000|     100|0.93657446|  PASSED  \n",
       ">          sts_serial|  13|    100000|     100|0.91159662|  PASSED  \n",
       ">          sts_serial|  14|    100000|     100|0.62774857|  PASSED  \n",
       ">          sts_serial|  14|    100000|     100|0.68079105|  PASSED  \n",
       ">          sts_serial|  15|    100000|     100|0.91166139|  PASSED  \n",
       ">          sts_serial|  15|    100000|     100|0.74303790|  PASSED  \n",
       ">          sts_serial|  16|    100000|     100|0.83906879|  PASSED  \n",
       ">          sts_serial|  16|    100000|     100|0.97832954|  PASSED  \n",
       ">         rgb_bitdist|   1|    100000|     100|0.12206961|  PASSED  \n",
       ">         rgb_bitdist|   2|    100000|     100|0.88617276|  PASSED  \n",
       ">         rgb_bitdist|   3|    100000|     100|0.26583835|  PASSED  \n",
       ">         rgb_bitdist|   4|    100000|     100|0.89997340|  PASSED  \n",
       ">         rgb_bitdist|   5|    100000|     100|0.99785726|   WEAK   \n",
       ">         rgb_bitdist|   6|    100000|     100|0.93086070|  PASSED  \n",
       ">         rgb_bitdist|   7|    100000|     100|0.20023934|  PASSED  \n",
       ">         rgb_bitdist|   8|    100000|     100|0.12419727|  PASSED  \n",
       ">         rgb_bitdist|   9|    100000|     100|0.51912999|  PASSED  \n",
       ">         rgb_bitdist|  10|    100000|     100|0.24396472|  PASSED  \n",
       ">         rgb_bitdist|  11|    100000|     100|0.44502791|  PASSED  \n",
       ">         rgb_bitdist|  12|    100000|     100|0.06628530|  PASSED  \n",
       ">rgb_minimum_distance|   2|     10000|    1000|0.14209823|  PASSED  \n",
       ">rgb_minimum_distance|   3|     10000|    1000|0.38267317|  PASSED  \n",
       ">rgb_minimum_distance|   4|     10000|    1000|0.74961584|  PASSED  \n",
       ">rgb_minimum_distance|   5|     10000|    1000|0.92108079|  PASSED  \n",
       ">    rgb_permutations|   2|    100000|     100|0.37259178|  PASSED  \n",
       ">    rgb_permutations|   3|    100000|     100|0.96421326|  PASSED  \n",
       ">    rgb_permutations|   4|    100000|     100|0.81525390|  PASSED  \n",
       ">    rgb_permutations|   5|    100000|     100|0.16759542|  PASSED  \n",
       ">      rgb_lagged_sum|   0|   1000000|     100|0.91849752|  PASSED  \n",
       ">      rgb_lagged_sum|   1|   1000000|     100|0.80886491|  PASSED  \n",
       ">      rgb_lagged_sum|   2|   1000000|     100|0.63832323|  PASSED  \n",
       ">      rgb_lagged_sum|   3|   1000000|     100|0.96207904|  PASSED  \n",
       ">      rgb_lagged_sum|   4|   1000000|     100|0.59942736|  PASSED  \n",
       ">      rgb_lagged_sum|   5|   1000000|     100|0.60298921|  PASSED  \n",
       ">      rgb_lagged_sum|   6|   1000000|     100|0.97173083|  PASSED  \n",
       ">      rgb_lagged_sum|   7|   1000000|     100|0.75936056|  PASSED  \n",
       ">      rgb_lagged_sum|   8|   1000000|     100|0.55472338|  PASSED  \n",
       ">      rgb_lagged_sum|   9|   1000000|     100|0.98310176|  PASSED  \n",
       ">      rgb_lagged_sum|  10|   1000000|     100|0.92661910|  PASSED  \n",
       ">      rgb_lagged_sum|  11|   1000000|     100|0.04096214|  PASSED  \n",
       ">      rgb_lagged_sum|  12|   1000000|     100|0.90748923|  PASSED  \n",
       ">      rgb_lagged_sum|  13|   1000000|     100|0.20503892|  PASSED  \n",
       ">      rgb_lagged_sum|  14|   1000000|     100|0.94230710|  PASSED  \n",
       ">      rgb_lagged_sum|  15|   1000000|     100|0.88330366|  PASSED  \n",
       ">      rgb_lagged_sum|  16|   1000000|     100|0.75602007|  PASSED  \n",
       ">      rgb_lagged_sum|  17|   1000000|     100|0.11641300|  PASSED  \n",
       ">      rgb_lagged_sum|  18|   1000000|     100|0.74668460|  PASSED  \n",
       ">      rgb_lagged_sum|  19|   1000000|     100|0.55378859|  PASSED  \n",
       ">      rgb_lagged_sum|  20|   1000000|     100|0.38125526|  PASSED  \n",
       ">      rgb_lagged_sum|  21|   1000000|     100|0.75948923|  PASSED  \n",
       ">      rgb_lagged_sum|  22|   1000000|     100|0.84818954|  PASSED  \n",
       ">      rgb_lagged_sum|  23|   1000000|     100|0.93099665|  PASSED  \n",
       ">      rgb_lagged_sum|  24|   1000000|     100|0.97881764|  PASSED  \n",
       ">      rgb_lagged_sum|  25|   1000000|     100|0.96064345|  PASSED  \n",
       ">      rgb_lagged_sum|  26|   1000000|     100|0.84493799|  PASSED  \n",
       ">      rgb_lagged_sum|  27|   1000000|     100|0.24380202|  PASSED  \n",
       ">      rgb_lagged_sum|  28|   1000000|     100|0.11978291|  PASSED  \n",
       ">      rgb_lagged_sum|  29|   1000000|     100|0.28507882|  PASSED  \n",
       ">      rgb_lagged_sum|  30|   1000000|     100|0.41032203|  PASSED  \n",
       ">      rgb_lagged_sum|  31|   1000000|     100|0.73590536|  PASSED  \n",
       ">      rgb_lagged_sum|  32|   1000000|     100|0.46418751|  PASSED  \n",
       ">     rgb_kstest_test|   0|     10000|    1000|0.40087479|  PASSED  \n",
       ">     dab_bytedistrib|   0|  51200000|       1|0.30288143|  PASSED  \n",
       ">             dab_dct| 256|     50000|       1|0.24431781|  PASSED  \n",
       ">Preparing to run test 207.  ntuple = 0\n",
       ">        dab_filltree|  32|  15000000|       1|0.81170318|  PASSED  \n",
       ">        dab_filltree|  32|  15000000|       1|0.67989663|  PASSED  \n",
       ">Preparing to run test 208.  ntuple = 0\n",
       ">       dab_filltree2|   0|   5000000|       1|0.68347735|  PASSED  \n",
       ">       dab_filltree2|   1|   5000000|       1|0.69116972|  PASSED  \n",
       ">Preparing to run test 209.  ntuple = 0\n",
       ">        dab_monobit2|  12|  65000000|       1|0.79270955|  PASSED  \n",
       ">"
      ],
      "text/plain": [
       "<IPython.core.display.Markdown object>"
      ]
     },
     "metadata": {},
     "output_type": "display_data"
    },
    {
     "data": {
      "text/markdown": [
       "#### Parameters:"
      ],
      "text/plain": [
       "<IPython.core.display.Markdown object>"
      ]
     },
     "metadata": {},
     "output_type": "display_data"
    },
    {
     "data": {
      "text/markdown": [
       "* seeds: [12112465880379469607]"
      ],
      "text/plain": [
       "<IPython.core.display.Markdown object>"
      ]
     },
     "metadata": {},
     "output_type": "display_data"
    },
    {
     "name": "stderr",
     "output_type": "stream",
     "text": [
      "100%|██████████| 1/1 [48:35<00:00, 2915.32s/it]\n"
     ]
    },
    {
     "data": {
      "text/markdown": [
       "## <span style='color:orange'>*Independent*</span>"
      ],
      "text/plain": [
       "<IPython.core.display.Markdown object>"
      ]
     },
     "metadata": {},
     "output_type": "display_data"
    },
    {
     "data": {
      "text/markdown": [
       "#### Test output (most suspect):"
      ],
      "text/plain": [
       "<IPython.core.display.Markdown object>"
      ]
     },
     "metadata": {},
     "output_type": "display_data"
    },
    {
     "data": {
      "text/markdown": [
       ">#=============================================================================#\n",
       ">#            dieharder version 3.31.1 Copyright 2003 Robert G. Brown          #\n",
       ">#=============================================================================#\n",
       ">   rng_name    |rands/second|   Seed   |\n",
       ">stdin_input_raw|  2.21e+07  | 361671415|\n",
       ">#=============================================================================#\n",
       ">        test_name   |ntup| tsamples |psamples|  p-value |Assessment\n",
       ">#=============================================================================#\n",
       ">   diehard_birthdays|   0|       100|     100|0.97535189|  PASSED  \n",
       ">      diehard_operm5|   0|   1000000|     100|0.28801228|  PASSED  \n",
       ">  diehard_rank_32x32|   0|     40000|     100|0.64749129|  PASSED  \n",
       ">    diehard_rank_6x8|   0|    100000|     100|0.95379196|  PASSED  \n",
       ">   diehard_bitstream|   0|   2097152|     100|0.75335574|  PASSED  \n",
       ">        diehard_opso|   0|   2097152|     100|0.73221767|  PASSED  \n",
       ">        diehard_oqso|   0|   2097152|     100|0.87999337|  PASSED  \n",
       ">         diehard_dna|   0|   2097152|     100|0.36312999|  PASSED  \n",
       ">diehard_count_1s_str|   0|    256000|     100|0.22977986|  PASSED  \n",
       ">diehard_count_1s_byt|   0|    256000|     100|0.58968352|  PASSED  \n",
       "> diehard_parking_lot|   0|     12000|     100|0.95613825|  PASSED  \n",
       ">    diehard_2dsphere|   2|      8000|     100|0.70862998|  PASSED  \n",
       ">    diehard_3dsphere|   3|      4000|     100|0.84162800|  PASSED  \n",
       ">     diehard_squeeze|   0|    100000|     100|0.12283670|  PASSED  \n",
       ">        diehard_sums|   0|       100|     100|0.69305884|  PASSED  \n",
       ">        diehard_runs|   0|    100000|     100|0.23352860|  PASSED  \n",
       ">        diehard_runs|   0|    100000|     100|0.45846633|  PASSED  \n",
       ">       diehard_craps|   0|    200000|     100|0.47820312|  PASSED  \n",
       ">       diehard_craps|   0|    200000|     100|0.78023811|  PASSED  \n",
       "> marsaglia_tsang_gcd|   0|  10000000|     100|0.21061279|  PASSED  \n",
       "> marsaglia_tsang_gcd|   0|  10000000|     100|0.00821888|  PASSED  \n",
       ">         sts_monobit|   1|    100000|     100|0.93330324|  PASSED  \n",
       ">            sts_runs|   2|    100000|     100|0.99393057|  PASSED  \n",
       ">          sts_serial|   1|    100000|     100|0.82426773|  PASSED  \n",
       ">          sts_serial|   2|    100000|     100|0.28157247|  PASSED  \n",
       ">          sts_serial|   3|    100000|     100|0.08508832|  PASSED  \n",
       ">          sts_serial|   3|    100000|     100|0.68783651|  PASSED  \n",
       ">          sts_serial|   4|    100000|     100|0.96612599|  PASSED  \n",
       ">          sts_serial|   4|    100000|     100|0.68611902|  PASSED  \n",
       ">          sts_serial|   5|    100000|     100|0.80422815|  PASSED  \n",
       ">          sts_serial|   5|    100000|     100|0.20520055|  PASSED  \n",
       ">          sts_serial|   6|    100000|     100|0.58065545|  PASSED  \n",
       ">          sts_serial|   6|    100000|     100|0.65144630|  PASSED  \n",
       ">          sts_serial|   7|    100000|     100|0.77850874|  PASSED  \n",
       ">          sts_serial|   7|    100000|     100|0.39754278|  PASSED  \n",
       ">          sts_serial|   8|    100000|     100|0.94763006|  PASSED  \n",
       ">          sts_serial|   8|    100000|     100|0.78674435|  PASSED  \n",
       ">          sts_serial|   9|    100000|     100|0.99913129|   WEAK   \n",
       ">          sts_serial|   9|    100000|     100|0.63977044|  PASSED  \n",
       ">          sts_serial|  10|    100000|     100|0.94917068|  PASSED  \n",
       ">          sts_serial|  10|    100000|     100|0.96974123|  PASSED  \n",
       ">          sts_serial|  11|    100000|     100|0.98091752|  PASSED  \n",
       ">          sts_serial|  11|    100000|     100|0.84886731|  PASSED  \n",
       ">          sts_serial|  12|    100000|     100|0.51798241|  PASSED  \n",
       ">          sts_serial|  12|    100000|     100|0.91964361|  PASSED  \n",
       ">          sts_serial|  13|    100000|     100|0.99620821|   WEAK   \n",
       ">          sts_serial|  13|    100000|     100|0.63243965|  PASSED  \n",
       ">          sts_serial|  14|    100000|     100|0.63422458|  PASSED  \n",
       ">          sts_serial|  14|    100000|     100|0.18637150|  PASSED  \n",
       ">          sts_serial|  15|    100000|     100|0.35252931|  PASSED  \n",
       ">          sts_serial|  15|    100000|     100|0.45452047|  PASSED  \n",
       ">          sts_serial|  16|    100000|     100|0.97713931|  PASSED  \n",
       ">          sts_serial|  16|    100000|     100|0.95565505|  PASSED  \n",
       ">         rgb_bitdist|   1|    100000|     100|0.75450726|  PASSED  \n",
       ">         rgb_bitdist|   2|    100000|     100|0.06674710|  PASSED  \n",
       ">         rgb_bitdist|   3|    100000|     100|0.39772649|  PASSED  \n",
       ">         rgb_bitdist|   4|    100000|     100|0.77673362|  PASSED  \n",
       ">         rgb_bitdist|   5|    100000|     100|0.14208499|  PASSED  \n",
       ">         rgb_bitdist|   6|    100000|     100|0.92251640|  PASSED  \n",
       ">         rgb_bitdist|   7|    100000|     100|0.60788230|  PASSED  \n",
       ">         rgb_bitdist|   8|    100000|     100|0.07809247|  PASSED  \n",
       ">         rgb_bitdist|   9|    100000|     100|0.29216514|  PASSED  \n",
       ">         rgb_bitdist|  10|    100000|     100|0.10471527|  PASSED  \n",
       ">         rgb_bitdist|  11|    100000|     100|0.40626485|  PASSED  \n",
       ">         rgb_bitdist|  12|    100000|     100|0.65565568|  PASSED  \n",
       ">rgb_minimum_distance|   2|     10000|    1000|0.98142406|  PASSED  \n",
       ">rgb_minimum_distance|   3|     10000|    1000|0.44882076|  PASSED  \n",
       ">rgb_minimum_distance|   4|     10000|    1000|0.25519687|  PASSED  \n",
       ">rgb_minimum_distance|   5|     10000|    1000|0.54927970|  PASSED  \n",
       ">    rgb_permutations|   2|    100000|     100|0.19401946|  PASSED  \n",
       ">    rgb_permutations|   3|    100000|     100|0.15895450|  PASSED  \n",
       ">    rgb_permutations|   4|    100000|     100|0.54335619|  PASSED  \n",
       ">    rgb_permutations|   5|    100000|     100|0.98663832|  PASSED  \n",
       ">      rgb_lagged_sum|   0|   1000000|     100|0.89489633|  PASSED  \n",
       ">      rgb_lagged_sum|   1|   1000000|     100|0.93311982|  PASSED  \n",
       ">      rgb_lagged_sum|   2|   1000000|     100|0.67674237|  PASSED  \n",
       ">      rgb_lagged_sum|   3|   1000000|     100|0.90376376|  PASSED  \n",
       ">      rgb_lagged_sum|   4|   1000000|     100|0.65998749|  PASSED  \n",
       ">      rgb_lagged_sum|   5|   1000000|     100|0.88013243|  PASSED  \n",
       ">      rgb_lagged_sum|   6|   1000000|     100|0.34168155|  PASSED  \n",
       ">      rgb_lagged_sum|   7|   1000000|     100|0.62873165|  PASSED  \n",
       ">      rgb_lagged_sum|   8|   1000000|     100|0.87450525|  PASSED  \n",
       ">      rgb_lagged_sum|   9|   1000000|     100|0.75464389|  PASSED  \n",
       ">      rgb_lagged_sum|  10|   1000000|     100|0.48468904|  PASSED  \n",
       ">      rgb_lagged_sum|  11|   1000000|     100|0.67618415|  PASSED  \n",
       ">      rgb_lagged_sum|  12|   1000000|     100|0.97683182|  PASSED  \n",
       ">      rgb_lagged_sum|  13|   1000000|     100|0.35141670|  PASSED  \n",
       ">      rgb_lagged_sum|  14|   1000000|     100|0.05406856|  PASSED  \n",
       ">      rgb_lagged_sum|  15|   1000000|     100|0.40383506|  PASSED  \n",
       ">      rgb_lagged_sum|  16|   1000000|     100|0.61254001|  PASSED  \n",
       ">      rgb_lagged_sum|  17|   1000000|     100|0.97841762|  PASSED  \n",
       ">      rgb_lagged_sum|  18|   1000000|     100|0.54712672|  PASSED  \n",
       ">      rgb_lagged_sum|  19|   1000000|     100|0.98669506|  PASSED  \n",
       ">      rgb_lagged_sum|  20|   1000000|     100|0.85557762|  PASSED  \n",
       ">      rgb_lagged_sum|  21|   1000000|     100|0.35361607|  PASSED  \n",
       ">      rgb_lagged_sum|  22|   1000000|     100|0.79821744|  PASSED  \n",
       ">      rgb_lagged_sum|  23|   1000000|     100|0.75681016|  PASSED  \n",
       ">      rgb_lagged_sum|  24|   1000000|     100|0.76783717|  PASSED  \n",
       ">      rgb_lagged_sum|  25|   1000000|     100|0.27485371|  PASSED  \n",
       ">      rgb_lagged_sum|  26|   1000000|     100|0.23131555|  PASSED  \n",
       ">      rgb_lagged_sum|  27|   1000000|     100|0.32264856|  PASSED  \n",
       ">      rgb_lagged_sum|  28|   1000000|     100|0.43286460|  PASSED  \n",
       ">      rgb_lagged_sum|  29|   1000000|     100|0.79320624|  PASSED  \n",
       ">      rgb_lagged_sum|  30|   1000000|     100|0.95637638|  PASSED  \n",
       ">      rgb_lagged_sum|  31|   1000000|     100|0.99998352|   WEAK   \n",
       ">      rgb_lagged_sum|  32|   1000000|     100|0.98060371|  PASSED  \n",
       ">     rgb_kstest_test|   0|     10000|    1000|0.81878797|  PASSED  \n",
       ">     dab_bytedistrib|   0|  51200000|       1|0.38355135|  PASSED  \n",
       ">             dab_dct| 256|     50000|       1|0.01402127|  PASSED  \n",
       ">Preparing to run test 207.  ntuple = 0\n",
       ">        dab_filltree|  32|  15000000|       1|0.76635514|  PASSED  \n",
       ">        dab_filltree|  32|  15000000|       1|0.65495100|  PASSED  \n",
       ">Preparing to run test 208.  ntuple = 0\n",
       ">       dab_filltree2|   0|   5000000|       1|0.00267682|   WEAK   \n",
       ">       dab_filltree2|   1|   5000000|       1|0.53127385|  PASSED  \n",
       ">Preparing to run test 209.  ntuple = 0\n",
       ">        dab_monobit2|  12|  65000000|       1|0.99688345|   WEAK   \n",
       ">"
      ],
      "text/plain": [
       "<IPython.core.display.Markdown object>"
      ]
     },
     "metadata": {},
     "output_type": "display_data"
    },
    {
     "data": {
      "text/markdown": [
       "#### Parameters:"
      ],
      "text/plain": [
       "<IPython.core.display.Markdown object>"
      ]
     },
     "metadata": {},
     "output_type": "display_data"
    },
    {
     "data": {
      "text/markdown": [
       "* seeds: [7865617833270951781]"
      ],
      "text/plain": [
       "<IPython.core.display.Markdown object>"
      ]
     },
     "metadata": {},
     "output_type": "display_data"
    },
    {
     "name": "stderr",
     "output_type": "stream",
     "text": [
      "100%|██████████| 1/1 [37:34<00:00, 2254.68s/it]\n"
     ]
    },
    {
     "data": {
      "text/markdown": [
       "## <span style='color:orange'>*IndependentSimulation*</span>"
      ],
      "text/plain": [
       "<IPython.core.display.Markdown object>"
      ]
     },
     "metadata": {},
     "output_type": "display_data"
    },
    {
     "data": {
      "text/markdown": [
       "#### Test output (most suspect):"
      ],
      "text/plain": [
       "<IPython.core.display.Markdown object>"
      ]
     },
     "metadata": {},
     "output_type": "display_data"
    },
    {
     "data": {
      "text/markdown": [
       ">#=============================================================================#\n",
       ">#            dieharder version 3.31.1 Copyright 2003 Robert G. Brown          #\n",
       ">#=============================================================================#\n",
       ">   rng_name    |rands/second|   Seed   |\n",
       ">stdin_input_raw|  2.80e+07  |3126420806|\n",
       ">#=============================================================================#\n",
       ">        test_name   |ntup| tsamples |psamples|  p-value |Assessment\n",
       ">#=============================================================================#\n",
       ">   diehard_birthdays|   0|       100|     100|0.41940045|  PASSED  \n",
       ">      diehard_operm5|   0|   1000000|     100|0.89549678|  PASSED  \n",
       ">  diehard_rank_32x32|   0|     40000|     100|0.13160791|  PASSED  \n",
       ">    diehard_rank_6x8|   0|    100000|     100|0.88823503|  PASSED  \n",
       ">   diehard_bitstream|   0|   2097152|     100|0.34243085|  PASSED  \n",
       ">        diehard_opso|   0|   2097152|     100|0.94055969|  PASSED  \n",
       ">        diehard_oqso|   0|   2097152|     100|0.12370933|  PASSED  \n",
       ">         diehard_dna|   0|   2097152|     100|0.04396692|  PASSED  \n",
       ">diehard_count_1s_str|   0|    256000|     100|0.66056937|  PASSED  \n",
       ">diehard_count_1s_byt|   0|    256000|     100|0.86629988|  PASSED  \n",
       "> diehard_parking_lot|   0|     12000|     100|0.28239841|  PASSED  \n",
       ">    diehard_2dsphere|   2|      8000|     100|0.92426601|  PASSED  \n",
       ">    diehard_3dsphere|   3|      4000|     100|0.30547312|  PASSED  \n",
       ">     diehard_squeeze|   0|    100000|     100|0.39064680|  PASSED  \n",
       ">        diehard_sums|   0|       100|     100|0.00018457|   WEAK   \n",
       ">        diehard_runs|   0|    100000|     100|0.98535197|  PASSED  \n",
       ">        diehard_runs|   0|    100000|     100|0.26934201|  PASSED  \n",
       ">       diehard_craps|   0|    200000|     100|0.78428160|  PASSED  \n",
       ">       diehard_craps|   0|    200000|     100|0.04669063|  PASSED  \n",
       "> marsaglia_tsang_gcd|   0|  10000000|     100|0.33264212|  PASSED  \n",
       "> marsaglia_tsang_gcd|   0|  10000000|     100|0.89203681|  PASSED  \n",
       ">         sts_monobit|   1|    100000|     100|0.58522360|  PASSED  \n",
       ">            sts_runs|   2|    100000|     100|0.95414638|  PASSED  \n",
       ">          sts_serial|   1|    100000|     100|0.17852167|  PASSED  \n",
       ">          sts_serial|   2|    100000|     100|0.07196962|  PASSED  \n",
       ">          sts_serial|   3|    100000|     100|0.00013104|   WEAK   \n",
       ">          sts_serial|   3|    100000|     100|0.00010363|   WEAK   \n",
       ">          sts_serial|   4|    100000|     100|0.00052209|   WEAK   \n",
       ">          sts_serial|   4|    100000|     100|0.52563835|  PASSED  \n",
       ">          sts_serial|   5|    100000|     100|0.01640075|  PASSED  \n",
       ">          sts_serial|   5|    100000|     100|0.24882763|  PASSED  \n",
       ">          sts_serial|   6|    100000|     100|0.05177600|  PASSED  \n",
       ">          sts_serial|   6|    100000|     100|0.98264219|  PASSED  \n",
       ">          sts_serial|   7|    100000|     100|0.34588974|  PASSED  \n",
       ">          sts_serial|   7|    100000|     100|0.43362778|  PASSED  \n",
       ">          sts_serial|   8|    100000|     100|0.22006451|  PASSED  \n",
       ">          sts_serial|   8|    100000|     100|0.65891865|  PASSED  \n",
       ">          sts_serial|   9|    100000|     100|0.03260929|  PASSED  \n",
       ">          sts_serial|   9|    100000|     100|0.47965784|  PASSED  \n",
       ">          sts_serial|  10|    100000|     100|0.61031204|  PASSED  \n",
       ">          sts_serial|  10|    100000|     100|0.98428325|  PASSED  \n",
       ">          sts_serial|  11|    100000|     100|0.78194021|  PASSED  \n",
       ">          sts_serial|  11|    100000|     100|0.97445015|  PASSED  \n",
       ">          sts_serial|  12|    100000|     100|0.90506865|  PASSED  \n",
       ">          sts_serial|  12|    100000|     100|0.86419317|  PASSED  \n",
       ">          sts_serial|  13|    100000|     100|0.25031285|  PASSED  \n",
       ">          sts_serial|  13|    100000|     100|0.26033188|  PASSED  \n",
       ">          sts_serial|  14|    100000|     100|0.71693346|  PASSED  \n",
       ">          sts_serial|  14|    100000|     100|0.96261770|  PASSED  \n",
       ">          sts_serial|  15|    100000|     100|0.67383174|  PASSED  \n",
       ">          sts_serial|  15|    100000|     100|0.68060378|  PASSED  \n",
       ">          sts_serial|  16|    100000|     100|0.90994549|  PASSED  \n",
       ">          sts_serial|  16|    100000|     100|0.66909966|  PASSED  \n",
       ">         rgb_bitdist|   1|    100000|     100|0.65703930|  PASSED  \n",
       ">         rgb_bitdist|   2|    100000|     100|0.31068531|  PASSED  \n",
       ">         rgb_bitdist|   3|    100000|     100|0.58571685|  PASSED  \n",
       ">         rgb_bitdist|   4|    100000|     100|0.92435088|  PASSED  \n",
       ">         rgb_bitdist|   5|    100000|     100|0.88339071|  PASSED  \n",
       ">         rgb_bitdist|   6|    100000|     100|0.54145032|  PASSED  \n",
       ">         rgb_bitdist|   7|    100000|     100|0.57793351|  PASSED  \n",
       ">         rgb_bitdist|   8|    100000|     100|0.92809897|  PASSED  \n",
       ">         rgb_bitdist|   9|    100000|     100|0.78334778|  PASSED  \n",
       ">         rgb_bitdist|  10|    100000|     100|0.46336337|  PASSED  \n",
       ">         rgb_bitdist|  11|    100000|     100|0.09540642|  PASSED  \n",
       ">         rgb_bitdist|  12|    100000|     100|0.57937504|  PASSED  \n",
       ">rgb_minimum_distance|   2|     10000|    1000|0.73562167|  PASSED  \n",
       ">rgb_minimum_distance|   3|     10000|    1000|0.88210270|  PASSED  \n",
       ">rgb_minimum_distance|   4|     10000|    1000|0.98100835|  PASSED  \n",
       ">rgb_minimum_distance|   5|     10000|    1000|0.49221557|  PASSED  \n",
       ">    rgb_permutations|   2|    100000|     100|0.44505032|  PASSED  \n",
       ">    rgb_permutations|   3|    100000|     100|0.05526394|  PASSED  \n",
       ">    rgb_permutations|   4|    100000|     100|0.65613340|  PASSED  \n",
       ">    rgb_permutations|   5|    100000|     100|0.41109052|  PASSED  \n",
       ">      rgb_lagged_sum|   0|   1000000|     100|0.12469921|  PASSED  \n",
       ">      rgb_lagged_sum|   1|   1000000|     100|0.77847574|  PASSED  \n",
       ">      rgb_lagged_sum|   2|   1000000|     100|0.79966964|  PASSED  \n",
       ">      rgb_lagged_sum|   3|   1000000|     100|0.79287539|  PASSED  \n",
       ">      rgb_lagged_sum|   4|   1000000|     100|0.07148877|  PASSED  \n",
       ">      rgb_lagged_sum|   5|   1000000|     100|0.94731436|  PASSED  \n",
       ">      rgb_lagged_sum|   6|   1000000|     100|0.39830242|  PASSED  \n",
       ">      rgb_lagged_sum|   7|   1000000|     100|0.51769256|  PASSED  \n",
       ">      rgb_lagged_sum|   8|   1000000|     100|0.69605900|  PASSED  \n",
       ">      rgb_lagged_sum|   9|   1000000|     100|0.38567129|  PASSED  \n",
       ">      rgb_lagged_sum|  10|   1000000|     100|0.57699940|  PASSED  \n",
       ">      rgb_lagged_sum|  11|   1000000|     100|0.08768866|  PASSED  \n",
       ">      rgb_lagged_sum|  12|   1000000|     100|0.35405395|  PASSED  \n",
       ">      rgb_lagged_sum|  13|   1000000|     100|0.88071877|  PASSED  \n",
       ">      rgb_lagged_sum|  14|   1000000|     100|0.72325630|  PASSED  \n",
       ">      rgb_lagged_sum|  15|   1000000|     100|0.77936558|  PASSED  \n",
       ">      rgb_lagged_sum|  16|   1000000|     100|0.85077119|  PASSED  \n",
       ">      rgb_lagged_sum|  17|   1000000|     100|0.68788296|  PASSED  \n",
       ">      rgb_lagged_sum|  18|   1000000|     100|0.90311965|  PASSED  \n",
       ">      rgb_lagged_sum|  19|   1000000|     100|0.67354736|  PASSED  \n",
       ">      rgb_lagged_sum|  20|   1000000|     100|0.33833970|  PASSED  \n",
       ">      rgb_lagged_sum|  21|   1000000|     100|0.82464464|  PASSED  \n",
       ">      rgb_lagged_sum|  22|   1000000|     100|0.15363027|  PASSED  \n",
       ">      rgb_lagged_sum|  23|   1000000|     100|0.88082406|  PASSED  \n",
       ">      rgb_lagged_sum|  24|   1000000|     100|0.28571602|  PASSED  \n",
       ">      rgb_lagged_sum|  25|   1000000|     100|0.53620023|  PASSED  \n",
       ">      rgb_lagged_sum|  26|   1000000|     100|0.41763947|  PASSED  \n",
       ">      rgb_lagged_sum|  27|   1000000|     100|0.86184514|  PASSED  \n",
       ">      rgb_lagged_sum|  28|   1000000|     100|0.00946464|  PASSED  \n",
       ">      rgb_lagged_sum|  29|   1000000|     100|0.70029458|  PASSED  \n",
       ">      rgb_lagged_sum|  30|   1000000|     100|0.84954064|  PASSED  \n",
       ">      rgb_lagged_sum|  31|   1000000|     100|0.50482052|  PASSED  \n",
       ">      rgb_lagged_sum|  32|   1000000|     100|0.64056961|  PASSED  \n",
       ">     rgb_kstest_test|   0|     10000|    1000|0.35997443|  PASSED  \n",
       ">     dab_bytedistrib|   0|  51200000|       1|0.27296523|  PASSED  \n",
       ">             dab_dct| 256|     50000|       1|0.57061496|  PASSED  \n",
       ">Preparing to run test 207.  ntuple = 0\n",
       ">        dab_filltree|  32|  15000000|       1|0.09992638|  PASSED  \n",
       ">        dab_filltree|  32|  15000000|       1|0.24926449|  PASSED  \n",
       ">Preparing to run test 208.  ntuple = 0\n",
       ">       dab_filltree2|   0|   5000000|       1|0.00117088|   WEAK   \n",
       ">       dab_filltree2|   1|   5000000|       1|0.57973426|  PASSED  \n",
       ">Preparing to run test 209.  ntuple = 0\n",
       ">        dab_monobit2|  12|  65000000|       1|0.26992613|  PASSED  \n",
       ">"
      ],
      "text/plain": [
       "<IPython.core.display.Markdown object>"
      ]
     },
     "metadata": {},
     "output_type": "display_data"
    },
    {
     "data": {
      "text/markdown": [
       "#### Parameters:"
      ],
      "text/plain": [
       "<IPython.core.display.Markdown object>"
      ]
     },
     "metadata": {},
     "output_type": "display_data"
    },
    {
     "data": {
      "text/markdown": [
       "* seeds: [7787544302055584814]"
      ],
      "text/plain": [
       "<IPython.core.display.Markdown object>"
      ]
     },
     "metadata": {},
     "output_type": "display_data"
    },
    {
     "name": "stderr",
     "output_type": "stream",
     "text": [
      "100%|██████████| 1/1 [39:35<00:00, 2375.05s/it]\n"
     ]
    },
    {
     "data": {
      "text/markdown": [
       "## <span style='color:orange'>*IndependentSimulationNoDispersal*</span>"
      ],
      "text/plain": [
       "<IPython.core.display.Markdown object>"
      ]
     },
     "metadata": {},
     "output_type": "display_data"
    },
    {
     "data": {
      "text/markdown": [
       "#### Test output (most suspect):"
      ],
      "text/plain": [
       "<IPython.core.display.Markdown object>"
      ]
     },
     "metadata": {},
     "output_type": "display_data"
    },
    {
     "data": {
      "text/markdown": [
       ">#=============================================================================#\n",
       ">#            dieharder version 3.31.1 Copyright 2003 Robert G. Brown          #\n",
       ">#=============================================================================#\n",
       ">   rng_name    |rands/second|   Seed   |\n",
       ">stdin_input_raw|  1.66e+07  |2207602180|\n",
       ">#=============================================================================#\n",
       ">        test_name   |ntup| tsamples |psamples|  p-value |Assessment\n",
       ">#=============================================================================#\n",
       ">   diehard_birthdays|   0|       100|     100|0.53058096|  PASSED  \n",
       ">      diehard_operm5|   0|   1000000|     100|0.85587366|  PASSED  \n",
       ">  diehard_rank_32x32|   0|     40000|     100|0.06134167|  PASSED  \n",
       ">    diehard_rank_6x8|   0|    100000|     100|0.96456291|  PASSED  \n",
       ">   diehard_bitstream|   0|   2097152|     100|0.82690744|  PASSED  \n",
       ">        diehard_opso|   0|   2097152|     100|0.93121718|  PASSED  \n",
       ">        diehard_oqso|   0|   2097152|     100|0.89750013|  PASSED  \n",
       ">         diehard_dna|   0|   2097152|     100|0.54556640|  PASSED  \n",
       ">diehard_count_1s_str|   0|    256000|     100|0.05735114|  PASSED  \n",
       ">diehard_count_1s_byt|   0|    256000|     100|0.60027422|  PASSED  \n",
       "> diehard_parking_lot|   0|     12000|     100|0.56023159|  PASSED  \n",
       ">    diehard_2dsphere|   2|      8000|     100|0.46658327|  PASSED  \n",
       ">    diehard_3dsphere|   3|      4000|     100|0.53706950|  PASSED  \n",
       ">     diehard_squeeze|   0|    100000|     100|0.02953376|  PASSED  \n",
       ">        diehard_sums|   0|       100|     100|0.04858936|  PASSED  \n",
       ">        diehard_runs|   0|    100000|     100|0.37234025|  PASSED  \n",
       ">        diehard_runs|   0|    100000|     100|0.71740682|  PASSED  \n",
       ">       diehard_craps|   0|    200000|     100|0.97208247|  PASSED  \n",
       ">       diehard_craps|   0|    200000|     100|0.67875195|  PASSED  \n",
       "> marsaglia_tsang_gcd|   0|  10000000|     100|0.09702750|  PASSED  \n",
       "> marsaglia_tsang_gcd|   0|  10000000|     100|0.59451792|  PASSED  \n",
       ">         sts_monobit|   1|    100000|     100|0.96046146|  PASSED  \n",
       ">            sts_runs|   2|    100000|     100|0.23178001|  PASSED  \n",
       ">          sts_serial|   1|    100000|     100|0.21542509|  PASSED  \n",
       ">          sts_serial|   2|    100000|     100|0.93469465|  PASSED  \n",
       ">          sts_serial|   3|    100000|     100|0.16884827|  PASSED  \n",
       ">          sts_serial|   3|    100000|     100|0.41216899|  PASSED  \n",
       ">          sts_serial|   4|    100000|     100|0.19693012|  PASSED  \n",
       ">          sts_serial|   4|    100000|     100|0.69774212|  PASSED  \n",
       ">          sts_serial|   5|    100000|     100|0.72586738|  PASSED  \n",
       ">          sts_serial|   5|    100000|     100|0.97398109|  PASSED  \n",
       ">          sts_serial|   6|    100000|     100|0.68813164|  PASSED  \n",
       ">          sts_serial|   6|    100000|     100|0.51991519|  PASSED  \n",
       ">          sts_serial|   7|    100000|     100|0.51418984|  PASSED  \n",
       ">          sts_serial|   7|    100000|     100|0.58609951|  PASSED  \n",
       ">          sts_serial|   8|    100000|     100|0.89097488|  PASSED  \n",
       ">          sts_serial|   8|    100000|     100|0.63199427|  PASSED  \n",
       ">          sts_serial|   9|    100000|     100|0.64154261|  PASSED  \n",
       ">          sts_serial|   9|    100000|     100|0.10983905|  PASSED  \n",
       ">          sts_serial|  10|    100000|     100|0.58465029|  PASSED  \n",
       ">          sts_serial|  10|    100000|     100|0.47696526|  PASSED  \n",
       ">          sts_serial|  11|    100000|     100|0.86479097|  PASSED  \n",
       ">          sts_serial|  11|    100000|     100|0.82667030|  PASSED  \n",
       ">          sts_serial|  12|    100000|     100|0.56264588|  PASSED  \n",
       ">          sts_serial|  12|    100000|     100|0.11363625|  PASSED  \n",
       ">          sts_serial|  13|    100000|     100|0.14704848|  PASSED  \n",
       ">          sts_serial|  13|    100000|     100|0.01951781|  PASSED  \n",
       ">          sts_serial|  14|    100000|     100|0.68444233|  PASSED  \n",
       ">          sts_serial|  14|    100000|     100|0.78050889|  PASSED  \n",
       ">          sts_serial|  15|    100000|     100|0.65818887|  PASSED  \n",
       ">          sts_serial|  15|    100000|     100|0.79504180|  PASSED  \n",
       ">          sts_serial|  16|    100000|     100|0.51976553|  PASSED  \n",
       ">          sts_serial|  16|    100000|     100|0.76518770|  PASSED  \n",
       ">         rgb_bitdist|   1|    100000|     100|0.54568553|  PASSED  \n",
       ">         rgb_bitdist|   2|    100000|     100|0.30014675|  PASSED  \n",
       ">         rgb_bitdist|   3|    100000|     100|0.99585971|   WEAK   \n",
       ">         rgb_bitdist|   4|    100000|     100|0.81930539|  PASSED  \n",
       ">         rgb_bitdist|   5|    100000|     100|0.66934995|  PASSED  \n",
       ">         rgb_bitdist|   6|    100000|     100|0.99930256|   WEAK   \n",
       ">         rgb_bitdist|   7|    100000|     100|0.70307782|  PASSED  \n",
       ">         rgb_bitdist|   8|    100000|     100|0.68125344|  PASSED  \n",
       ">         rgb_bitdist|   9|    100000|     100|0.80953392|  PASSED  \n",
       ">         rgb_bitdist|  10|    100000|     100|0.69236338|  PASSED  \n",
       ">         rgb_bitdist|  11|    100000|     100|0.92683981|  PASSED  \n",
       ">         rgb_bitdist|  12|    100000|     100|0.90628733|  PASSED  \n",
       ">rgb_minimum_distance|   2|     10000|    1000|0.43398590|  PASSED  \n",
       ">rgb_minimum_distance|   3|     10000|    1000|0.57322322|  PASSED  \n",
       ">rgb_minimum_distance|   4|     10000|    1000|0.28616004|  PASSED  \n",
       ">rgb_minimum_distance|   5|     10000|    1000|0.75025856|  PASSED  \n",
       ">    rgb_permutations|   2|    100000|     100|0.15496776|  PASSED  \n",
       ">    rgb_permutations|   3|    100000|     100|0.06189113|  PASSED  \n",
       ">    rgb_permutations|   4|    100000|     100|0.86034243|  PASSED  \n",
       ">    rgb_permutations|   5|    100000|     100|0.50933884|  PASSED  \n",
       ">      rgb_lagged_sum|   0|   1000000|     100|0.96707069|  PASSED  \n",
       ">      rgb_lagged_sum|   1|   1000000|     100|0.53300984|  PASSED  \n",
       ">      rgb_lagged_sum|   2|   1000000|     100|0.79550593|  PASSED  \n",
       ">      rgb_lagged_sum|   3|   1000000|     100|0.47100701|  PASSED  \n",
       ">      rgb_lagged_sum|   4|   1000000|     100|0.07912383|  PASSED  \n",
       ">      rgb_lagged_sum|   5|   1000000|     100|0.16282404|  PASSED  \n",
       ">      rgb_lagged_sum|   6|   1000000|     100|0.32344147|  PASSED  \n",
       ">      rgb_lagged_sum|   7|   1000000|     100|0.63945423|  PASSED  \n",
       ">      rgb_lagged_sum|   8|   1000000|     100|0.88402906|  PASSED  \n",
       ">      rgb_lagged_sum|   9|   1000000|     100|0.44669978|  PASSED  \n",
       ">      rgb_lagged_sum|  10|   1000000|     100|0.06042196|  PASSED  \n",
       ">      rgb_lagged_sum|  11|   1000000|     100|0.77608038|  PASSED  \n",
       ">      rgb_lagged_sum|  12|   1000000|     100|0.63119931|  PASSED  \n",
       ">      rgb_lagged_sum|  13|   1000000|     100|0.60629968|  PASSED  \n",
       ">      rgb_lagged_sum|  14|   1000000|     100|0.03810486|  PASSED  \n",
       ">      rgb_lagged_sum|  15|   1000000|     100|0.86482086|  PASSED  \n",
       ">      rgb_lagged_sum|  16|   1000000|     100|0.11733528|  PASSED  \n",
       ">      rgb_lagged_sum|  17|   1000000|     100|0.35495739|  PASSED  \n",
       ">      rgb_lagged_sum|  18|   1000000|     100|0.85985031|  PASSED  \n",
       ">      rgb_lagged_sum|  19|   1000000|     100|0.23534064|  PASSED  \n",
       ">      rgb_lagged_sum|  20|   1000000|     100|0.30392764|  PASSED  \n",
       ">      rgb_lagged_sum|  21|   1000000|     100|0.22704728|  PASSED  \n",
       ">      rgb_lagged_sum|  22|   1000000|     100|0.81433796|  PASSED  \n",
       ">      rgb_lagged_sum|  23|   1000000|     100|0.61992547|  PASSED  \n",
       ">      rgb_lagged_sum|  24|   1000000|     100|0.79664278|  PASSED  \n",
       ">      rgb_lagged_sum|  25|   1000000|     100|0.03807184|  PASSED  \n",
       ">      rgb_lagged_sum|  26|   1000000|     100|0.90954017|  PASSED  \n",
       ">      rgb_lagged_sum|  27|   1000000|     100|0.86554171|  PASSED  \n",
       ">      rgb_lagged_sum|  28|   1000000|     100|0.78188354|  PASSED  \n",
       ">      rgb_lagged_sum|  29|   1000000|     100|0.59660748|  PASSED  \n",
       ">      rgb_lagged_sum|  30|   1000000|     100|0.51125600|  PASSED  \n",
       ">      rgb_lagged_sum|  31|   1000000|     100|0.70288172|  PASSED  \n",
       ">      rgb_lagged_sum|  32|   1000000|     100|0.86587440|  PASSED  \n",
       ">     rgb_kstest_test|   0|     10000|    1000|0.41460834|  PASSED  \n",
       ">     dab_bytedistrib|   0|  51200000|       1|0.46150217|  PASSED  \n",
       ">             dab_dct| 256|     50000|       1|0.11131121|  PASSED  \n",
       ">Preparing to run test 207.  ntuple = 0\n",
       ">        dab_filltree|  32|  15000000|       1|0.94554540|  PASSED  \n",
       ">        dab_filltree|  32|  15000000|       1|0.21313070|  PASSED  \n",
       ">Preparing to run test 208.  ntuple = 0\n",
       ">       dab_filltree2|   0|   5000000|       1|0.31963175|  PASSED  \n",
       ">       dab_filltree2|   1|   5000000|       1|0.80075247|  PASSED  \n",
       ">Preparing to run test 209.  ntuple = 0\n",
       ">        dab_monobit2|  12|  65000000|       1|0.28208254|  PASSED  \n",
       ">"
      ],
      "text/plain": [
       "<IPython.core.display.Markdown object>"
      ]
     },
     "metadata": {},
     "output_type": "display_data"
    },
    {
     "data": {
      "text/markdown": [
       "#### Parameters:"
      ],
      "text/plain": [
       "<IPython.core.display.Markdown object>"
      ]
     },
     "metadata": {},
     "output_type": "display_data"
    },
    {
     "data": {
      "text/markdown": [
       "* seeds: [9214128951542674682]"
      ],
      "text/plain": [
       "<IPython.core.display.Markdown object>"
      ]
     },
     "metadata": {},
     "output_type": "display_data"
    }
   ],
   "source": [
    "for mode in [\"Monolithic\", \"Independent\", \"IndependentSimulation\", \"IndependentSimulationNoDispersal\"]:\n",
    "    seeds = np.random.randint(0, np.iinfo(\"uint64\").max, dtype=\"uint64\", size=1)\n",
    "    \n",
    "    test_randomness_dieharder(mode, seeds=seeds, args=[\"-a\"])"
   ]
  },
  {
   "cell_type": "code",
   "execution_count": null,
   "id": "c0374345-76bb-4e21-aedb-96807f17e94b",
   "metadata": {},
   "outputs": [],
   "source": []
  }
 ],
 "metadata": {
  "kernelspec": {
   "display_name": "Python 3",
   "language": "python",
   "name": "python3"
  },
  "language_info": {
   "codemirror_mode": {
    "name": "ipython",
    "version": 3
   },
   "file_extension": ".py",
   "mimetype": "text/x-python",
   "name": "python",
   "nbconvert_exporter": "python",
   "pygments_lexer": "ipython3",
   "version": "3.8.8"
  }
 },
 "nbformat": 4,
 "nbformat_minor": 5
}

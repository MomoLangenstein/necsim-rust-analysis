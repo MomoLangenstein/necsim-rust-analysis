{
 "cells": [
  {
   "cell_type": "code",
   "execution_count": 1,
   "id": "e6cf3d7f-e1fa-4151-ab67-3070dc4b136e",
   "metadata": {
    "tags": []
   },
   "outputs": [],
   "source": [
    "import subprocess\n",
    "import shlex\n",
    "import re\n",
    "\n",
    "import numpy as np\n",
    "\n",
    "from scipy.stats import combine_pvalues\n",
    "from IPython.display import display, Markdown"
   ]
  },
  {
   "cell_type": "code",
   "execution_count": 2,
   "id": "c3012526-a3bc-404d-9ae9-577b4b5859e6",
   "metadata": {},
   "outputs": [],
   "source": [
    "RANDOMNESS_PATTERN = re.compile(r\"exceed this value (\\d+\\.\\d+) percent\")\n",
    "\n",
    "CC_PATTERN = re.compile(r\"(?<!^)(?=[A-Z])\")"
   ]
  },
  {
   "cell_type": "markdown",
   "id": "f94398f5-84b5-4238-807f-def3d7cdbe3d",
   "metadata": {},
   "source": [
    "# ENT - pseudorandom number sequence test"
   ]
  },
  {
   "cell_type": "code",
   "execution_count": 3,
   "id": "fd844300-147b-4440-91e7-0539d5a153d4",
   "metadata": {},
   "outputs": [],
   "source": [
    "def test_randomness_ent(\n",
    "    mode, seeds=[42], limit='1GB',\n",
    "):\n",
    "    outputs = []\n",
    "    \n",
    "    for seed in seeds:\n",
    "        generator = subprocess.Popen(shlex.split(\n",
    "            f\"cargo run --release -- --seed {seed} --limit {limit} {CC_PATTERN.sub('-', mode).lower()}\"\n",
    "        ), stdout=subprocess.PIPE)\n",
    "        ent = subprocess.run(\n",
    "            shlex.split(\"./ent\"), stdin=generator.stdout,\n",
    "            check=True, capture_output=True, text=True\n",
    "        )\n",
    "\n",
    "        pvalue = float(RANDOMNESS_PATTERN.search(ent.stdout).group(1)) / 100.0\n",
    "        \n",
    "        outputs.append((pvalue, ent.stdout))\n",
    "    \n",
    "    gof_statistic, gof_pvalue = combine_pvalues([pvalue for pvalue, output in outputs])\n",
    "\n",
    "    if gof_pvalue <= 0.01 or gof_pvalue >= 0.99:\n",
    "        display(Markdown(f\"## <span style='color:purple'><u>{mode}</u></span>\"))\n",
    "    elif gof_pvalue <= 0.05 or gof_pvalue >= 0.95:\n",
    "        display(Markdown(f\"## <span style='color:red'><u>{mode}</u></span>\"))\n",
    "    elif gof_pvalue <= 0.1 or gof_pvalue >= 0.9:\n",
    "        display(Markdown(f\"## <span style='color:orange'>*{mode}*</span>\"))\n",
    "    else:\n",
    "        display(Markdown(f\"## <span style='color:green'>{mode}</span>\"))\n",
    "        \n",
    "    most_suspect = None\n",
    "    \n",
    "    for (pvalue, output) in outputs:\n",
    "        suspicion = min(pvalue, 1 - pvalue)\n",
    "        \n",
    "        if (most_suspect is None) or (suspicion < most_suspect[0]):\n",
    "            most_suspect = (suspicion, output)\n",
    "        \n",
    "    display(Markdown(\"#### Fisher’s combined Chi-squared:\"))\n",
    "    display(Markdown(f\"* p-value: {gof_pvalue}\\n* statistic: {gof_statistic}\"))\n",
    "\n",
    "    display(Markdown(\"#### Test output (most suspect):\"))\n",
    "    display(Markdown(\">\" + most_suspect[1].replace('\\n', '\\n>')))\n",
    "\n",
    "    display(Markdown(\"#### Configuration:\"))\n",
    "    display(Markdown(f\"* seeds: {seeds}\\n* limit: {limit}\"))"
   ]
  },
  {
   "cell_type": "code",
   "execution_count": 4,
   "id": "67293f51-2986-4f66-ad17-738be127e82c",
   "metadata": {},
   "outputs": [
    {
     "data": {
      "text/markdown": [
       "## <span style='color:green'>Monolithic</span>"
      ],
      "text/plain": [
       "<IPython.core.display.Markdown object>"
      ]
     },
     "metadata": {},
     "output_type": "display_data"
    },
    {
     "data": {
      "text/markdown": [
       "#### Fisher’s combined Chi-squared:"
      ],
      "text/plain": [
       "<IPython.core.display.Markdown object>"
      ]
     },
     "metadata": {},
     "output_type": "display_data"
    },
    {
     "data": {
      "text/markdown": [
       "* p-value: 0.4070611425211245\n",
       "* statistic: 20.832310754533395"
      ],
      "text/plain": [
       "<IPython.core.display.Markdown object>"
      ]
     },
     "metadata": {},
     "output_type": "display_data"
    },
    {
     "data": {
      "text/markdown": [
       "#### Test output (most suspect):"
      ],
      "text/plain": [
       "<IPython.core.display.Markdown object>"
      ]
     },
     "metadata": {},
     "output_type": "display_data"
    },
    {
     "data": {
      "text/markdown": [
       ">Entropy = 7.999998 bits per byte.\n",
       ">\n",
       ">Optimum compression would reduce the size\n",
       ">of this 100000000 byte file by 0 percent.\n",
       ">\n",
       ">Chi square distribution for 100000000 samples is 279.50, and randomly\n",
       ">would exceed this value 13.98 percent of the times.\n",
       ">\n",
       ">Arithmetic mean value of data bytes is 127.5031 (127.5 = random).\n",
       ">Monte Carlo value for Pi is 3.142117086 (error 0.02 percent).\n",
       ">Serial correlation coefficient is -0.000095 (totally uncorrelated = 0.0).\n",
       ">"
      ],
      "text/plain": [
       "<IPython.core.display.Markdown object>"
      ]
     },
     "metadata": {},
     "output_type": "display_data"
    },
    {
     "data": {
      "text/markdown": [
       "#### Configuration:"
      ],
      "text/plain": [
       "<IPython.core.display.Markdown object>"
      ]
     },
     "metadata": {},
     "output_type": "display_data"
    },
    {
     "data": {
      "text/markdown": [
       "* seeds: [ 5971835272702868478  2114132761498108405  9015447351495465784\n",
       " 11213259191635696868  5079814388047370343 16728729476119530712\n",
       "  1897032354548496386 13519412175737025821  3128571018571274929\n",
       "  2366035730914088892]\n",
       "* limit: 100MB"
      ],
      "text/plain": [
       "<IPython.core.display.Markdown object>"
      ]
     },
     "metadata": {},
     "output_type": "display_data"
    },
    {
     "data": {
      "text/markdown": [
       "## <span style='color:green'>Independent</span>"
      ],
      "text/plain": [
       "<IPython.core.display.Markdown object>"
      ]
     },
     "metadata": {},
     "output_type": "display_data"
    },
    {
     "data": {
      "text/markdown": [
       "#### Fisher’s combined Chi-squared:"
      ],
      "text/plain": [
       "<IPython.core.display.Markdown object>"
      ]
     },
     "metadata": {},
     "output_type": "display_data"
    },
    {
     "data": {
      "text/markdown": [
       "* p-value: 0.4715011771750339\n",
       "* statistic: 19.784178049865723"
      ],
      "text/plain": [
       "<IPython.core.display.Markdown object>"
      ]
     },
     "metadata": {},
     "output_type": "display_data"
    },
    {
     "data": {
      "text/markdown": [
       "#### Test output (most suspect):"
      ],
      "text/plain": [
       "<IPython.core.display.Markdown object>"
      ]
     },
     "metadata": {},
     "output_type": "display_data"
    },
    {
     "data": {
      "text/markdown": [
       ">Entropy = 7.999998 bits per byte.\n",
       ">\n",
       ">Optimum compression would reduce the size\n",
       ">of this 100000000 byte file by 0 percent.\n",
       ">\n",
       ">Chi square distribution for 100000000 samples is 283.73, and randomly\n",
       ">would exceed this value 10.44 percent of the times.\n",
       ">\n",
       ">Arithmetic mean value of data bytes is 127.5065 (127.5 = random).\n",
       ">Monte Carlo value for Pi is 3.141276366 (error 0.01 percent).\n",
       ">Serial correlation coefficient is -0.000274 (totally uncorrelated = 0.0).\n",
       ">"
      ],
      "text/plain": [
       "<IPython.core.display.Markdown object>"
      ]
     },
     "metadata": {},
     "output_type": "display_data"
    },
    {
     "data": {
      "text/markdown": [
       "#### Configuration:"
      ],
      "text/plain": [
       "<IPython.core.display.Markdown object>"
      ]
     },
     "metadata": {},
     "output_type": "display_data"
    },
    {
     "data": {
      "text/markdown": [
       "* seeds: [4862681072913350338 7752163063292758363  928144651139258977\n",
       "  916705093039732952 4731746930049523154 3913460021304599207\n",
       "  111459139077761779 8149104512309705179 3639355440670271048\n",
       " 6049203734858299484]\n",
       "* limit: 100MB"
      ],
      "text/plain": [
       "<IPython.core.display.Markdown object>"
      ]
     },
     "metadata": {},
     "output_type": "display_data"
    },
    {
     "data": {
      "text/markdown": [
       "## <span style='color:green'>IndependentSimulation</span>"
      ],
      "text/plain": [
       "<IPython.core.display.Markdown object>"
      ]
     },
     "metadata": {},
     "output_type": "display_data"
    },
    {
     "data": {
      "text/markdown": [
       "#### Fisher’s combined Chi-squared:"
      ],
      "text/plain": [
       "<IPython.core.display.Markdown object>"
      ]
     },
     "metadata": {},
     "output_type": "display_data"
    },
    {
     "data": {
      "text/markdown": [
       "* p-value: 0.7447822249870877\n",
       "* statistic: 15.538972593341462"
      ],
      "text/plain": [
       "<IPython.core.display.Markdown object>"
      ]
     },
     "metadata": {},
     "output_type": "display_data"
    },
    {
     "data": {
      "text/markdown": [
       "#### Test output (most suspect):"
      ],
      "text/plain": [
       "<IPython.core.display.Markdown object>"
      ]
     },
     "metadata": {},
     "output_type": "display_data"
    },
    {
     "data": {
      "text/markdown": [
       ">Entropy = 7.999998 bits per byte.\n",
       ">\n",
       ">Optimum compression would reduce the size\n",
       ">of this 100000000 byte file by 0 percent.\n",
       ">\n",
       ">Chi square distribution for 100000000 samples is 282.43, and randomly\n",
       ">would exceed this value 11.45 percent of the times.\n",
       ">\n",
       ">Arithmetic mean value of data bytes is 127.5175 (127.5 = random).\n",
       ">Monte Carlo value for Pi is 3.140712606 (error 0.03 percent).\n",
       ">Serial correlation coefficient is -0.000002 (totally uncorrelated = 0.0).\n",
       ">"
      ],
      "text/plain": [
       "<IPython.core.display.Markdown object>"
      ]
     },
     "metadata": {},
     "output_type": "display_data"
    },
    {
     "data": {
      "text/markdown": [
       "#### Configuration:"
      ],
      "text/plain": [
       "<IPython.core.display.Markdown object>"
      ]
     },
     "metadata": {},
     "output_type": "display_data"
    },
    {
     "data": {
      "text/markdown": [
       "* seeds: [12374108081095622295  1863568801586178255   890659494463218326\n",
       " 15765282812387042083  8075008416815596691  5100045249690513314\n",
       " 15386672215388746600 16622963562626149362 14662120825122126571\n",
       "  5933115546056365778]\n",
       "* limit: 100MB"
      ],
      "text/plain": [
       "<IPython.core.display.Markdown object>"
      ]
     },
     "metadata": {},
     "output_type": "display_data"
    },
    {
     "data": {
      "text/markdown": [
       "## <span style='color:green'>IndependentSimulationNoDispersal</span>"
      ],
      "text/plain": [
       "<IPython.core.display.Markdown object>"
      ]
     },
     "metadata": {},
     "output_type": "display_data"
    },
    {
     "data": {
      "text/markdown": [
       "#### Fisher’s combined Chi-squared:"
      ],
      "text/plain": [
       "<IPython.core.display.Markdown object>"
      ]
     },
     "metadata": {},
     "output_type": "display_data"
    },
    {
     "data": {
      "text/markdown": [
       "* p-value: 0.5399266109787992\n",
       "* statistic: 18.722460892248378"
      ],
      "text/plain": [
       "<IPython.core.display.Markdown object>"
      ]
     },
     "metadata": {},
     "output_type": "display_data"
    },
    {
     "data": {
      "text/markdown": [
       "#### Test output (most suspect):"
      ],
      "text/plain": [
       "<IPython.core.display.Markdown object>"
      ]
     },
     "metadata": {},
     "output_type": "display_data"
    },
    {
     "data": {
      "text/markdown": [
       ">Entropy = 7.999999 bits per byte.\n",
       ">\n",
       ">Optimum compression would reduce the size\n",
       ">of this 100000000 byte file by 0 percent.\n",
       ">\n",
       ">Chi square distribution for 100000000 samples is 201.74, and randomly\n",
       ">would exceed this value 99.41 percent of the times.\n",
       ">\n",
       ">Arithmetic mean value of data bytes is 127.5033 (127.5 = random).\n",
       ">Monte Carlo value for Pi is 3.141724206 (error 0.00 percent).\n",
       ">Serial correlation coefficient is 0.000026 (totally uncorrelated = 0.0).\n",
       ">"
      ],
      "text/plain": [
       "<IPython.core.display.Markdown object>"
      ]
     },
     "metadata": {},
     "output_type": "display_data"
    },
    {
     "data": {
      "text/markdown": [
       "#### Configuration:"
      ],
      "text/plain": [
       "<IPython.core.display.Markdown object>"
      ]
     },
     "metadata": {},
     "output_type": "display_data"
    },
    {
     "data": {
      "text/markdown": [
       "* seeds: [14054721351886115996 10692850619163283170  9332136837527969522\n",
       "  6645581341209973866  3727505421131897686   745523408135193919\n",
       "   453107618080699856  7822223744270375835  9183033282550356157\n",
       " 14664796754646485335]\n",
       "* limit: 100MB"
      ],
      "text/plain": [
       "<IPython.core.display.Markdown object>"
      ]
     },
     "metadata": {},
     "output_type": "display_data"
    }
   ],
   "source": [
    "for mode in [\"Monolithic\", \"Independent\", \"IndependentSimulation\", \"IndependentSimulationNoDispersal\"]:\n",
    "    seeds = np.random.randint(0, np.iinfo(\"uint64\").max, dtype=\"uint64\", size=10)\n",
    "    \n",
    "    test_randomness_ent(mode, seeds=seeds, limit='100MB')"
   ]
  },
  {
   "cell_type": "code",
   "execution_count": null,
   "id": "c0374345-76bb-4e21-aedb-96807f17e94b",
   "metadata": {},
   "outputs": [],
   "source": []
  }
 ],
 "metadata": {
  "kernelspec": {
   "display_name": "Python 3",
   "language": "python",
   "name": "python3"
  },
  "language_info": {
   "codemirror_mode": {
    "name": "ipython",
    "version": 3
   },
   "file_extension": ".py",
   "mimetype": "text/x-python",
   "name": "python",
   "nbconvert_exporter": "python",
   "pygments_lexer": "ipython3",
   "version": "3.8.8"
  }
 },
 "nbformat": 4,
 "nbformat_minor": 5
}

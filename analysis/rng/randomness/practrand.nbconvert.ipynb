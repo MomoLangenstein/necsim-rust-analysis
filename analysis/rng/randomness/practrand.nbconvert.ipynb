{
 "cells": [
  {
   "cell_type": "code",
   "execution_count": 1,
   "id": "e6cf3d7f-e1fa-4151-ab67-3070dc4b136e",
   "metadata": {
    "execution": {
     "iopub.execute_input": "2021-05-18T19:30:19.242770Z",
     "iopub.status.busy": "2021-05-18T19:30:19.148046Z",
     "iopub.status.idle": "2021-05-18T19:30:19.449560Z",
     "shell.execute_reply": "2021-05-18T19:30:19.450709Z"
    },
    "jupyter": {
     "source_hidden": true
    },
    "tags": []
   },
   "outputs": [],
   "source": [
    "import subprocess\n",
    "import shlex\n",
    "import re\n",
    "\n",
    "import numpy as np\n",
    "\n",
    "from IPython.display import display, Markdown\n",
    "from tqdm import tqdm"
   ]
  },
  {
   "cell_type": "code",
   "execution_count": 2,
   "id": "c3012526-a3bc-404d-9ae9-577b4b5859e6",
   "metadata": {
    "execution": {
     "iopub.execute_input": "2021-05-18T19:30:19.457278Z",
     "iopub.status.busy": "2021-05-18T19:30:19.455336Z",
     "iopub.status.idle": "2021-05-18T19:30:19.469467Z",
     "shell.execute_reply": "2021-05-18T19:30:19.470659Z"
    },
    "jupyter": {
     "source_hidden": true
    },
    "tags": []
   },
   "outputs": [],
   "source": [
    "CC_PATTERN = re.compile(r\"(?<!^)(?=[A-Z])\")"
   ]
  },
  {
   "cell_type": "markdown",
   "id": "f94398f5-84b5-4238-807f-def3d7cdbe3d",
   "metadata": {},
   "source": [
    "# PractRand (Practically Random) - statistical tests for RNGs"
   ]
  },
  {
   "cell_type": "code",
   "execution_count": 3,
   "id": "fd844300-147b-4440-91e7-0539d5a153d4",
   "metadata": {
    "execution": {
     "iopub.execute_input": "2021-05-18T19:30:19.477325Z",
     "iopub.status.busy": "2021-05-18T19:30:19.475354Z",
     "iopub.status.idle": "2021-05-18T19:30:19.497484Z",
     "shell.execute_reply": "2021-05-18T19:30:19.498664Z"
    },
    "jupyter": {
     "source_hidden": true
    },
    "tags": []
   },
   "outputs": [],
   "source": [
    "def test_randomness_practrand(\n",
    "    mode, seeds=[42], limit='1GB',\n",
    "):\n",
    "    outputs = []\n",
    "    \n",
    "    for seed in tqdm(seeds):\n",
    "        generator = subprocess.Popen(shlex.split(\n",
    "            f\"cargo run --release --quiet -- --seed {seed} {CC_PATTERN.sub('-', mode).lower()}\"\n",
    "        ), stdout=subprocess.PIPE)\n",
    "        practrand = subprocess.run(\n",
    "            shlex.split(f\"./practrand stdin64 -tlmax {limit}\"), stdin=generator.stdout,\n",
    "            check=True, capture_output=True, text=True\n",
    "        )\n",
    "\n",
    "        outputs.append(practrand.stdout)\n",
    "        \n",
    "    most_suspect = None\n",
    "    \n",
    "    for output in outputs:\n",
    "        failures = output.count(\"FAIL\")\n",
    "        suspicions = output.count(\"SUSPICIOUS\") * 2 + output.count(\"suspicious\")\n",
    "        unusuals = output.count(\"unusual\")\n",
    "        \n",
    "        suspicion = failures * 10 + suspicions * 2 + unusuals\n",
    "        \n",
    "        if (most_suspect is None) or (suspicion > most_suspect[0]):\n",
    "            most_suspect = (suspicion, output)\n",
    "\n",
    "    if \"FAIL\" in most_suspect[1]:\n",
    "        display(Markdown(f\"## <span style='color:purple'><u>{mode}</u></span>\"))\n",
    "    elif \"SUSPICIOUS\" in most_suspect[1]:\n",
    "        display(Markdown(f\"## <span style='color:red'><u>{mode}</u></span>\"))\n",
    "    elif \"suspicious\" in most_suspect[1]:\n",
    "        display(Markdown(f\"## <span style='color:orange'>*{mode}*</span>\"))\n",
    "    else:\n",
    "        display(Markdown(f\"## <span style='color:green'>{mode}</span>\"))\n",
    "        \n",
    "    display(Markdown(\"#### Test output (most suspect):\"))\n",
    "    display(Markdown(\">\" + most_suspect[1].replace('\\n', '\\n>')))\n",
    "\n",
    "    display(Markdown(\"#### Parameters:\"))\n",
    "    display(Markdown(f\"* seeds: {seeds}\\n* limit: {limit}\"))"
   ]
  },
  {
   "cell_type": "code",
   "execution_count": 4,
   "id": "67293f51-2986-4f66-ad17-738be127e82c",
   "metadata": {
    "execution": {
     "iopub.execute_input": "2021-05-18T19:30:19.504839Z",
     "iopub.status.busy": "2021-05-18T19:30:19.502950Z",
     "iopub.status.idle": "2021-05-18T19:33:19.958297Z",
     "shell.execute_reply": "2021-05-18T19:33:19.959207Z"
    }
   },
   "outputs": [
    {
     "name": "stderr",
     "output_type": "stream",
     "text": [
      "100%|████████████████████████████████████████████████████████████████████████████████████████████████████████| 1/1 [00:50<00:00, 50.21s/it]\n"
     ]
    },
    {
     "data": {
      "text/markdown": [
       "## <span style='color:green'>Monolithic</span>"
      ],
      "text/plain": [
       "<IPython.core.display.Markdown object>"
      ]
     },
     "metadata": {},
     "output_type": "display_data"
    },
    {
     "data": {
      "text/markdown": [
       "#### Test output (most suspect):"
      ],
      "text/plain": [
       "<IPython.core.display.Markdown object>"
      ]
     },
     "metadata": {},
     "output_type": "display_data"
    },
    {
     "data": {
      "text/markdown": [
       ">RNG_test using PractRand version 0.95\n",
       ">RNG = RNG_stdin64, seed = unknown\n",
       ">test set = core, folding = standard (64 bit)\n",
       ">\n",
       ">rng=RNG_stdin64, seed=unknown\n",
       ">length= 128 megabytes (2^27 bytes), time= 2.6 seconds\n",
       ">  no anomalies in 196 test result(s)\n",
       ">\n",
       ">rng=RNG_stdin64, seed=unknown\n",
       ">length= 256 megabytes (2^28 bytes), time= 8.5 seconds\n",
       ">  no anomalies in 213 test result(s)\n",
       ">\n",
       ">rng=RNG_stdin64, seed=unknown\n",
       ">length= 512 megabytes (2^29 bytes), time= 17.9 seconds\n",
       ">  no anomalies in 229 test result(s)\n",
       ">\n",
       ">rng=RNG_stdin64, seed=unknown\n",
       ">length= 1 gigabyte (2^30 bytes), time= 34.2 seconds\n",
       ">  no anomalies in 246 test result(s)\n",
       ">\n",
       ">"
      ],
      "text/plain": [
       "<IPython.core.display.Markdown object>"
      ]
     },
     "metadata": {},
     "output_type": "display_data"
    },
    {
     "data": {
      "text/markdown": [
       "#### Parameters:"
      ],
      "text/plain": [
       "<IPython.core.display.Markdown object>"
      ]
     },
     "metadata": {},
     "output_type": "display_data"
    },
    {
     "data": {
      "text/markdown": [
       "* seeds: [15337514618462235740]\n",
       "* limit: 1GB"
      ],
      "text/plain": [
       "<IPython.core.display.Markdown object>"
      ]
     },
     "metadata": {},
     "output_type": "display_data"
    },
    {
     "name": "stderr",
     "output_type": "stream",
     "text": [
      "100%|████████████████████████████████████████████████████████████████████████████████████████████████████████| 1/1 [00:37<00:00, 37.96s/it]\n"
     ]
    },
    {
     "data": {
      "text/markdown": [
       "## <span style='color:green'>Independent</span>"
      ],
      "text/plain": [
       "<IPython.core.display.Markdown object>"
      ]
     },
     "metadata": {},
     "output_type": "display_data"
    },
    {
     "data": {
      "text/markdown": [
       "#### Test output (most suspect):"
      ],
      "text/plain": [
       "<IPython.core.display.Markdown object>"
      ]
     },
     "metadata": {},
     "output_type": "display_data"
    },
    {
     "data": {
      "text/markdown": [
       ">RNG_test using PractRand version 0.95\n",
       ">RNG = RNG_stdin64, seed = unknown\n",
       ">test set = core, folding = standard (64 bit)\n",
       ">\n",
       ">rng=RNG_stdin64, seed=unknown\n",
       ">length= 128 megabytes (2^27 bytes), time= 3.2 seconds\n",
       ">  no anomalies in 196 test result(s)\n",
       ">\n",
       ">rng=RNG_stdin64, seed=unknown\n",
       ">length= 256 megabytes (2^28 bytes), time= 8.8 seconds\n",
       ">  Test Name                         Raw       Processed     Evaluation\n",
       ">  [Low4/64]DC6-9x1Bytes-1           R=  -4.9  p =1-1.7e-3   unusual          \n",
       ">  ...and 212 test result(s) without anomalies\n",
       ">\n",
       ">rng=RNG_stdin64, seed=unknown\n",
       ">length= 512 megabytes (2^29 bytes), time= 18.3 seconds\n",
       ">  Test Name                         Raw       Processed     Evaluation\n",
       ">  [Low4/64]DC6-9x1Bytes-1           R=  -4.6  p =1-2.4e-3   unusual          \n",
       ">  ...and 228 test result(s) without anomalies\n",
       ">\n",
       ">rng=RNG_stdin64, seed=unknown\n",
       ">length= 1 gigabyte (2^30 bytes), time= 34.8 seconds\n",
       ">  no anomalies in 246 test result(s)\n",
       ">\n",
       ">"
      ],
      "text/plain": [
       "<IPython.core.display.Markdown object>"
      ]
     },
     "metadata": {},
     "output_type": "display_data"
    },
    {
     "data": {
      "text/markdown": [
       "#### Parameters:"
      ],
      "text/plain": [
       "<IPython.core.display.Markdown object>"
      ]
     },
     "metadata": {},
     "output_type": "display_data"
    },
    {
     "data": {
      "text/markdown": [
       "* seeds: [9584155441377215444]\n",
       "* limit: 1GB"
      ],
      "text/plain": [
       "<IPython.core.display.Markdown object>"
      ]
     },
     "metadata": {},
     "output_type": "display_data"
    },
    {
     "name": "stderr",
     "output_type": "stream",
     "text": [
      "100%|████████████████████████████████████████████████████████████████████████████████████████████████████████| 1/1 [00:45<00:00, 45.21s/it]\n"
     ]
    },
    {
     "data": {
      "text/markdown": [
       "## <span style='color:green'>IndependentSimulation</span>"
      ],
      "text/plain": [
       "<IPython.core.display.Markdown object>"
      ]
     },
     "metadata": {},
     "output_type": "display_data"
    },
    {
     "data": {
      "text/markdown": [
       "#### Test output (most suspect):"
      ],
      "text/plain": [
       "<IPython.core.display.Markdown object>"
      ]
     },
     "metadata": {},
     "output_type": "display_data"
    },
    {
     "data": {
      "text/markdown": [
       ">RNG_test using PractRand version 0.95\n",
       ">RNG = RNG_stdin64, seed = unknown\n",
       ">test set = core, folding = standard (64 bit)\n",
       ">\n",
       ">rng=RNG_stdin64, seed=unknown\n",
       ">length= 64 megabytes (2^26 bytes), time= 2.2 seconds\n",
       ">  no anomalies in 180 test result(s)\n",
       ">\n",
       ">rng=RNG_stdin64, seed=unknown\n",
       ">length= 128 megabytes (2^27 bytes), time= 6.8 seconds\n",
       ">  no anomalies in 196 test result(s)\n",
       ">\n",
       ">rng=RNG_stdin64, seed=unknown\n",
       ">length= 256 megabytes (2^28 bytes), time= 12.8 seconds\n",
       ">  no anomalies in 213 test result(s)\n",
       ">\n",
       ">rng=RNG_stdin64, seed=unknown\n",
       ">length= 512 megabytes (2^29 bytes), time= 23.3 seconds\n",
       ">  no anomalies in 229 test result(s)\n",
       ">\n",
       ">rng=RNG_stdin64, seed=unknown\n",
       ">length= 1 gigabyte (2^30 bytes), time= 42.0 seconds\n",
       ">  no anomalies in 246 test result(s)\n",
       ">\n",
       ">"
      ],
      "text/plain": [
       "<IPython.core.display.Markdown object>"
      ]
     },
     "metadata": {},
     "output_type": "display_data"
    },
    {
     "data": {
      "text/markdown": [
       "#### Parameters:"
      ],
      "text/plain": [
       "<IPython.core.display.Markdown object>"
      ]
     },
     "metadata": {},
     "output_type": "display_data"
    },
    {
     "data": {
      "text/markdown": [
       "* seeds: [9126376187060022521]\n",
       "* limit: 1GB"
      ],
      "text/plain": [
       "<IPython.core.display.Markdown object>"
      ]
     },
     "metadata": {},
     "output_type": "display_data"
    },
    {
     "name": "stderr",
     "output_type": "stream",
     "text": [
      "100%|████████████████████████████████████████████████████████████████████████████████████████████████████████| 1/1 [00:46<00:00, 47.00s/it]\n"
     ]
    },
    {
     "data": {
      "text/markdown": [
       "## <span style='color:green'>IndependentSimulationNoDispersal</span>"
      ],
      "text/plain": [
       "<IPython.core.display.Markdown object>"
      ]
     },
     "metadata": {},
     "output_type": "display_data"
    },
    {
     "data": {
      "text/markdown": [
       "#### Test output (most suspect):"
      ],
      "text/plain": [
       "<IPython.core.display.Markdown object>"
      ]
     },
     "metadata": {},
     "output_type": "display_data"
    },
    {
     "data": {
      "text/markdown": [
       ">RNG_test using PractRand version 0.95\n",
       ">RNG = RNG_stdin64, seed = unknown\n",
       ">test set = core, folding = standard (64 bit)\n",
       ">\n",
       ">rng=RNG_stdin64, seed=unknown\n",
       ">length= 64 megabytes (2^26 bytes), time= 2.3 seconds\n",
       ">  no anomalies in 180 test result(s)\n",
       ">\n",
       ">rng=RNG_stdin64, seed=unknown\n",
       ">length= 128 megabytes (2^27 bytes), time= 6.7 seconds\n",
       ">  Test Name                         Raw       Processed     Evaluation\n",
       ">  [Low4/64]mod3n(5):(1,9-6)         R= +10.7  p =  1.7e-4   unusual          \n",
       ">  ...and 195 test result(s) without anomalies\n",
       ">\n",
       ">rng=RNG_stdin64, seed=unknown\n",
       ">length= 256 megabytes (2^28 bytes), time= 13.4 seconds\n",
       ">  Test Name                         Raw       Processed     Evaluation\n",
       ">  [Low4/64]mod3n(5):(1,9-6)         R= +11.1  p =  1.2e-4   unusual          \n",
       ">  ...and 212 test result(s) without anomalies\n",
       ">\n",
       ">rng=RNG_stdin64, seed=unknown\n",
       ">length= 512 megabytes (2^29 bytes), time= 24.3 seconds\n",
       ">  no anomalies in 229 test result(s)\n",
       ">\n",
       ">rng=RNG_stdin64, seed=unknown\n",
       ">length= 1 gigabyte (2^30 bytes), time= 44.0 seconds\n",
       ">  no anomalies in 246 test result(s)\n",
       ">\n",
       ">"
      ],
      "text/plain": [
       "<IPython.core.display.Markdown object>"
      ]
     },
     "metadata": {},
     "output_type": "display_data"
    },
    {
     "data": {
      "text/markdown": [
       "#### Parameters:"
      ],
      "text/plain": [
       "<IPython.core.display.Markdown object>"
      ]
     },
     "metadata": {},
     "output_type": "display_data"
    },
    {
     "data": {
      "text/markdown": [
       "* seeds: [14043410388668772529]\n",
       "* limit: 1GB"
      ],
      "text/plain": [
       "<IPython.core.display.Markdown object>"
      ]
     },
     "metadata": {},
     "output_type": "display_data"
    }
   ],
   "source": [
    "for mode in [\"Monolithic\", \"Independent\", \"IndependentSimulation\", \"IndependentSimulationNoDispersal\"]:\n",
    "    seeds = np.random.randint(0, np.iinfo(\"uint64\").max, dtype=\"uint64\", size=1)\n",
    "    \n",
    "    test_randomness_practrand(mode, seeds=seeds, limit='1GB')"
   ]
  },
  {
   "cell_type": "code",
   "execution_count": null,
   "id": "c0374345-76bb-4e21-aedb-96807f17e94b",
   "metadata": {},
   "outputs": [],
   "source": []
  }
 ],
 "metadata": {
  "kernelspec": {
   "display_name": "Python 3",
   "language": "python",
   "name": "python3"
  },
  "language_info": {
   "codemirror_mode": {
    "name": "ipython",
    "version": 3
   },
   "file_extension": ".py",
   "mimetype": "text/x-python",
   "name": "python",
   "nbconvert_exporter": "python",
   "pygments_lexer": "ipython3",
   "version": "3.7.5"
  }
 },
 "nbformat": 4,
 "nbformat_minor": 5
}

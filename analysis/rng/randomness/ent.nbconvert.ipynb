{
 "cells": [
  {
   "cell_type": "code",
   "execution_count": 1,
   "id": "e6cf3d7f-e1fa-4151-ab67-3070dc4b136e",
   "metadata": {
    "execution": {
     "iopub.execute_input": "2021-04-18T12:44:14.641354Z",
     "iopub.status.busy": "2021-04-18T12:44:14.639749Z",
     "iopub.status.idle": "2021-04-18T12:44:15.424006Z",
     "shell.execute_reply": "2021-04-18T12:44:15.423347Z"
    },
    "jupyter": {
     "source_hidden": true
    },
    "tags": []
   },
   "outputs": [],
   "source": [
    "import subprocess\n",
    "import shlex\n",
    "import re\n",
    "\n",
    "import numpy as np\n",
    "\n",
    "from scipy.stats import combine_pvalues\n",
    "from IPython.display import display, Markdown"
   ]
  },
  {
   "cell_type": "code",
   "execution_count": 2,
   "id": "c3012526-a3bc-404d-9ae9-577b4b5859e6",
   "metadata": {
    "execution": {
     "iopub.execute_input": "2021-04-18T12:44:15.429226Z",
     "iopub.status.busy": "2021-04-18T12:44:15.428515Z",
     "iopub.status.idle": "2021-04-18T12:44:15.433100Z",
     "shell.execute_reply": "2021-04-18T12:44:15.432407Z"
    },
    "jupyter": {
     "source_hidden": true
    },
    "tags": []
   },
   "outputs": [],
   "source": [
    "RANDOMNESS_PATTERN = re.compile(r\"exceed this value (\\d+\\.\\d+) percent\")\n",
    "\n",
    "CC_PATTERN = re.compile(r\"(?<!^)(?=[A-Z])\")"
   ]
  },
  {
   "cell_type": "markdown",
   "id": "f94398f5-84b5-4238-807f-def3d7cdbe3d",
   "metadata": {},
   "source": [
    "# ENT - pseudorandom number sequence test"
   ]
  },
  {
   "cell_type": "code",
   "execution_count": 3,
   "id": "fd844300-147b-4440-91e7-0539d5a153d4",
   "metadata": {
    "execution": {
     "iopub.execute_input": "2021-04-18T12:44:15.445614Z",
     "iopub.status.busy": "2021-04-18T12:44:15.444696Z",
     "iopub.status.idle": "2021-04-18T12:44:15.446665Z",
     "shell.execute_reply": "2021-04-18T12:44:15.447365Z"
    },
    "jupyter": {
     "source_hidden": true
    },
    "tags": []
   },
   "outputs": [],
   "source": [
    "def test_randomness_ent(\n",
    "    mode, seeds=[42], limit='1GB',\n",
    "):\n",
    "    outputs = []\n",
    "    \n",
    "    for seed in seeds:\n",
    "        generator = subprocess.Popen(shlex.split(\n",
    "            f\"cargo run --release -- --seed {seed} --limit {limit} {CC_PATTERN.sub('-', mode).lower()}\"\n",
    "        ), stdout=subprocess.PIPE)\n",
    "        ent = subprocess.run(\n",
    "            shlex.split(\"./ent\"), stdin=generator.stdout,\n",
    "            check=True, capture_output=True, text=True\n",
    "        )\n",
    "\n",
    "        pvalue = float(RANDOMNESS_PATTERN.search(ent.stdout).group(1)) / 100.0\n",
    "        \n",
    "        outputs.append((pvalue, ent.stdout))\n",
    "    \n",
    "    gof_statistic, gof_pvalue = combine_pvalues([pvalue for pvalue, output in outputs])\n",
    "\n",
    "    if gof_pvalue <= 0.01 or gof_pvalue >= 0.99:\n",
    "        display(Markdown(f\"## <span style='color:purple'><u>{mode}</u></span>\"))\n",
    "    elif gof_pvalue <= 0.05 or gof_pvalue >= 0.95:\n",
    "        display(Markdown(f\"## <span style='color:red'><u>{mode}</u></span>\"))\n",
    "    elif gof_pvalue <= 0.1 or gof_pvalue >= 0.9:\n",
    "        display(Markdown(f\"## <span style='color:orange'>*{mode}*</span>\"))\n",
    "    else:\n",
    "        display(Markdown(f\"## <span style='color:green'>{mode}</span>\"))\n",
    "        \n",
    "    most_suspect = None\n",
    "    \n",
    "    for (pvalue, output) in outputs:\n",
    "        suspicion = 1 - min(pvalue, 1 - pvalue)\n",
    "        \n",
    "        if (most_suspect is None) or (suspicion > most_suspect[0]):\n",
    "            most_suspect = (suspicion, output)\n",
    "        \n",
    "    display(Markdown(\"#### Fisher’s combined Chi-squared:\"))\n",
    "    display(Markdown(f\"* p-value: {gof_pvalue}\\n* statistic: {gof_statistic}\"))\n",
    "\n",
    "    display(Markdown(\"#### Test output (most suspect):\"))\n",
    "    display(Markdown(\">\" + most_suspect[1].replace('\\n', '\\n>')))\n",
    "\n",
    "    display(Markdown(\"#### Parameters:\"))\n",
    "    display(Markdown(f\"* seeds: {seeds}\\n* limit: {limit}\"))"
   ]
  },
  {
   "cell_type": "code",
   "execution_count": 4,
   "id": "67293f51-2986-4f66-ad17-738be127e82c",
   "metadata": {
    "execution": {
     "iopub.execute_input": "2021-04-18T12:44:15.459245Z",
     "iopub.status.busy": "2021-04-18T12:44:15.458571Z",
     "iopub.status.idle": "2021-04-18T12:46:44.618356Z",
     "shell.execute_reply": "2021-04-18T12:46:44.617600Z"
    }
   },
   "outputs": [
    {
     "data": {
      "text/markdown": [
       "## <span style='color:orange'>*Monolithic*</span>"
      ],
      "text/plain": [
       "<IPython.core.display.Markdown object>"
      ]
     },
     "metadata": {},
     "output_type": "display_data"
    },
    {
     "data": {
      "text/markdown": [
       "#### Fisher’s combined Chi-squared:"
      ],
      "text/plain": [
       "<IPython.core.display.Markdown object>"
      ]
     },
     "metadata": {},
     "output_type": "display_data"
    },
    {
     "data": {
      "text/markdown": [
       "* p-value: 0.9203830053780299\n",
       "* statistic: 11.87284504453826"
      ],
      "text/plain": [
       "<IPython.core.display.Markdown object>"
      ]
     },
     "metadata": {},
     "output_type": "display_data"
    },
    {
     "data": {
      "text/markdown": [
       "#### Test output (most suspect):"
      ],
      "text/plain": [
       "<IPython.core.display.Markdown object>"
      ]
     },
     "metadata": {},
     "output_type": "display_data"
    },
    {
     "data": {
      "text/markdown": [
       ">Entropy = 7.999998 bits per byte.\n",
       ">\n",
       ">Optimum compression would reduce the size\n",
       ">of this 100000000 byte file by 0 percent.\n",
       ">\n",
       ">Chi square distribution for 100000000 samples is 217.27, and randomly\n",
       ">would exceed this value 95.83 percent of the times.\n",
       ">\n",
       ">Arithmetic mean value of data bytes is 127.5069 (127.5 = random).\n",
       ">Monte Carlo value for Pi is 3.141757806 (error 0.01 percent).\n",
       ">Serial correlation coefficient is 0.000141 (totally uncorrelated = 0.0).\n",
       ">"
      ],
      "text/plain": [
       "<IPython.core.display.Markdown object>"
      ]
     },
     "metadata": {},
     "output_type": "display_data"
    },
    {
     "data": {
      "text/markdown": [
       "#### Parameters:"
      ],
      "text/plain": [
       "<IPython.core.display.Markdown object>"
      ]
     },
     "metadata": {},
     "output_type": "display_data"
    },
    {
     "data": {
      "text/markdown": [
       "* seeds: [11438208194157600746   807722557157693178 17550653521735143439\n",
       "  9542332256426796632  4914276692573245219 16356419854488693534\n",
       " 14980437654377072669 17806098081867856147 17337572593171120509\n",
       "  7364022910693211996]\n",
       "* limit: 100MB"
      ],
      "text/plain": [
       "<IPython.core.display.Markdown object>"
      ]
     },
     "metadata": {},
     "output_type": "display_data"
    },
    {
     "data": {
      "text/markdown": [
       "## <span style='color:green'>Independent</span>"
      ],
      "text/plain": [
       "<IPython.core.display.Markdown object>"
      ]
     },
     "metadata": {},
     "output_type": "display_data"
    },
    {
     "data": {
      "text/markdown": [
       "#### Fisher’s combined Chi-squared:"
      ],
      "text/plain": [
       "<IPython.core.display.Markdown object>"
      ]
     },
     "metadata": {},
     "output_type": "display_data"
    },
    {
     "data": {
      "text/markdown": [
       "* p-value: 0.2907559301788645\n",
       "* statistic: 22.96014122574649"
      ],
      "text/plain": [
       "<IPython.core.display.Markdown object>"
      ]
     },
     "metadata": {},
     "output_type": "display_data"
    },
    {
     "data": {
      "text/markdown": [
       "#### Test output (most suspect):"
      ],
      "text/plain": [
       "<IPython.core.display.Markdown object>"
      ]
     },
     "metadata": {},
     "output_type": "display_data"
    },
    {
     "data": {
      "text/markdown": [
       ">Entropy = 7.999998 bits per byte.\n",
       ">\n",
       ">Optimum compression would reduce the size\n",
       ">of this 100000000 byte file by 0 percent.\n",
       ">\n",
       ">Chi square distribution for 100000000 samples is 221.25, and randomly\n",
       ">would exceed this value 93.78 percent of the times.\n",
       ">\n",
       ">Arithmetic mean value of data bytes is 127.5014 (127.5 = random).\n",
       ">Monte Carlo value for Pi is 3.141033486 (error 0.02 percent).\n",
       ">Serial correlation coefficient is -0.000172 (totally uncorrelated = 0.0).\n",
       ">"
      ],
      "text/plain": [
       "<IPython.core.display.Markdown object>"
      ]
     },
     "metadata": {},
     "output_type": "display_data"
    },
    {
     "data": {
      "text/markdown": [
       "#### Parameters:"
      ],
      "text/plain": [
       "<IPython.core.display.Markdown object>"
      ]
     },
     "metadata": {},
     "output_type": "display_data"
    },
    {
     "data": {
      "text/markdown": [
       "* seeds: [ 1033172182558178935 17060661050088092183 15563744042189496085\n",
       " 10700258396870203697  9070988897145708188 18207424661263643070\n",
       " 12616583184337137306  8040288011543582599  7983907059600088109\n",
       " 14936626608515603020]\n",
       "* limit: 100MB"
      ],
      "text/plain": [
       "<IPython.core.display.Markdown object>"
      ]
     },
     "metadata": {},
     "output_type": "display_data"
    },
    {
     "data": {
      "text/markdown": [
       "## <span style='color:green'>IndependentSimulation</span>"
      ],
      "text/plain": [
       "<IPython.core.display.Markdown object>"
      ]
     },
     "metadata": {},
     "output_type": "display_data"
    },
    {
     "data": {
      "text/markdown": [
       "#### Fisher’s combined Chi-squared:"
      ],
      "text/plain": [
       "<IPython.core.display.Markdown object>"
      ]
     },
     "metadata": {},
     "output_type": "display_data"
    },
    {
     "data": {
      "text/markdown": [
       "* p-value: 0.35052277705236573\n",
       "* statistic: 21.81699930901328"
      ],
      "text/plain": [
       "<IPython.core.display.Markdown object>"
      ]
     },
     "metadata": {},
     "output_type": "display_data"
    },
    {
     "data": {
      "text/markdown": [
       "#### Test output (most suspect):"
      ],
      "text/plain": [
       "<IPython.core.display.Markdown object>"
      ]
     },
     "metadata": {},
     "output_type": "display_data"
    },
    {
     "data": {
      "text/markdown": [
       ">Entropy = 7.999998 bits per byte.\n",
       ">\n",
       ">Optimum compression would reduce the size\n",
       ">of this 100000000 byte file by 0 percent.\n",
       ">\n",
       ">Chi square distribution for 100000000 samples is 302.64, and randomly\n",
       ">would exceed this value 2.17 percent of the times.\n",
       ">\n",
       ">Arithmetic mean value of data bytes is 127.5084 (127.5 = random).\n",
       ">Monte Carlo value for Pi is 3.141088206 (error 0.02 percent).\n",
       ">Serial correlation coefficient is 0.000007 (totally uncorrelated = 0.0).\n",
       ">"
      ],
      "text/plain": [
       "<IPython.core.display.Markdown object>"
      ]
     },
     "metadata": {},
     "output_type": "display_data"
    },
    {
     "data": {
      "text/markdown": [
       "#### Parameters:"
      ],
      "text/plain": [
       "<IPython.core.display.Markdown object>"
      ]
     },
     "metadata": {},
     "output_type": "display_data"
    },
    {
     "data": {
      "text/markdown": [
       "* seeds: [12161772534524896259  2045254060635954830 17196094396943409166\n",
       "  5739541112433987454  7717621565149612247 11609414428789322420\n",
       " 17251671525350401836  8906859295787177297 17357911630322962708\n",
       " 16924902073399398944]\n",
       "* limit: 100MB"
      ],
      "text/plain": [
       "<IPython.core.display.Markdown object>"
      ]
     },
     "metadata": {},
     "output_type": "display_data"
    },
    {
     "data": {
      "text/markdown": [
       "## <span style='color:green'>IndependentSimulationNoDispersal</span>"
      ],
      "text/plain": [
       "<IPython.core.display.Markdown object>"
      ]
     },
     "metadata": {},
     "output_type": "display_data"
    },
    {
     "data": {
      "text/markdown": [
       "#### Fisher’s combined Chi-squared:"
      ],
      "text/plain": [
       "<IPython.core.display.Markdown object>"
      ]
     },
     "metadata": {},
     "output_type": "display_data"
    },
    {
     "data": {
      "text/markdown": [
       "* p-value: 0.15112128749977102\n",
       "* statistic: 26.460976353035672"
      ],
      "text/plain": [
       "<IPython.core.display.Markdown object>"
      ]
     },
     "metadata": {},
     "output_type": "display_data"
    },
    {
     "data": {
      "text/markdown": [
       "#### Test output (most suspect):"
      ],
      "text/plain": [
       "<IPython.core.display.Markdown object>"
      ]
     },
     "metadata": {},
     "output_type": "display_data"
    },
    {
     "data": {
      "text/markdown": [
       ">Entropy = 7.999998 bits per byte.\n",
       ">\n",
       ">Optimum compression would reduce the size\n",
       ">of this 100000000 byte file by 0 percent.\n",
       ">\n",
       ">Chi square distribution for 100000000 samples is 297.67, and randomly\n",
       ">would exceed this value 3.42 percent of the times.\n",
       ">\n",
       ">Arithmetic mean value of data bytes is 127.4839 (127.5 = random).\n",
       ">Monte Carlo value for Pi is 3.142323726 (error 0.02 percent).\n",
       ">Serial correlation coefficient is -0.000005 (totally uncorrelated = 0.0).\n",
       ">"
      ],
      "text/plain": [
       "<IPython.core.display.Markdown object>"
      ]
     },
     "metadata": {},
     "output_type": "display_data"
    },
    {
     "data": {
      "text/markdown": [
       "#### Parameters:"
      ],
      "text/plain": [
       "<IPython.core.display.Markdown object>"
      ]
     },
     "metadata": {},
     "output_type": "display_data"
    },
    {
     "data": {
      "text/markdown": [
       "* seeds: [17770599855847412276 15708050387024954144 15035841265197839949\n",
       "  2523591470737598723  3735631641601737476 11099102083812552322\n",
       "  5828206479837106746  8530539764271179718 11408569139797663507\n",
       " 13707293129912994060]\n",
       "* limit: 100MB"
      ],
      "text/plain": [
       "<IPython.core.display.Markdown object>"
      ]
     },
     "metadata": {},
     "output_type": "display_data"
    }
   ],
   "source": [
    "for mode in [\"Monolithic\", \"Independent\", \"IndependentSimulation\", \"IndependentSimulationNoDispersal\"]:\n",
    "    seeds = np.random.randint(0, np.iinfo(\"uint64\").max, dtype=\"uint64\", size=10)\n",
    "    \n",
    "    test_randomness_ent(mode, seeds=seeds, limit='100MB')"
   ]
  },
  {
   "cell_type": "code",
   "execution_count": null,
   "id": "c0374345-76bb-4e21-aedb-96807f17e94b",
   "metadata": {},
   "outputs": [],
   "source": []
  }
 ],
 "metadata": {
  "kernelspec": {
   "display_name": "Python 3",
   "language": "python",
   "name": "python3"
  },
  "language_info": {
   "codemirror_mode": {
    "name": "ipython",
    "version": 3
   },
   "file_extension": ".py",
   "mimetype": "text/x-python",
   "name": "python",
   "nbconvert_exporter": "python",
   "pygments_lexer": "ipython3",
   "version": "3.8.8"
  }
 },
 "nbformat": 4,
 "nbformat_minor": 5
}

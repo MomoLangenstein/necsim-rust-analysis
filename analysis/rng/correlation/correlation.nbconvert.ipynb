{
 "cells": [
  {
   "cell_type": "code",
   "execution_count": 1,
   "id": "4dc72991-4168-455d-a6a1-ca1f4e900539",
   "metadata": {
    "execution": {
     "iopub.execute_input": "2021-04-19T08:03:20.694766Z",
     "iopub.status.busy": "2021-04-19T08:03:20.693797Z",
     "iopub.status.idle": "2021-04-19T08:03:21.397798Z",
     "shell.execute_reply": "2021-04-19T08:03:21.397076Z"
    },
    "jupyter": {
     "source_hidden": true
    },
    "tags": []
   },
   "outputs": [],
   "source": [
    "import subprocess\n",
    "import shlex\n",
    "import re\n",
    "import csv\n",
    "\n",
    "import numpy as np\n",
    "\n",
    "from io import StringIO\n",
    "from matplotlib import pyplot as plt\n",
    "from scipy.stats import spearmanr, combine_pvalues\n",
    "from IPython.display import display, Markdown"
   ]
  },
  {
   "cell_type": "markdown",
   "id": "f1c875ee-d0c0-487d-8cc5-8ff7e1df8a7a",
   "metadata": {},
   "source": [
    "# Spearman correlation between four adjacent non-dispersing individuals"
   ]
  },
  {
   "cell_type": "code",
   "execution_count": 2,
   "id": "5c467c9f-901f-4640-be4b-3c0a31a1befb",
   "metadata": {
    "execution": {
     "iopub.execute_input": "2021-04-19T08:03:21.417586Z",
     "iopub.status.busy": "2021-04-19T08:03:21.416831Z",
     "iopub.status.idle": "2021-04-19T08:03:21.419215Z",
     "shell.execute_reply": "2021-04-19T08:03:21.419694Z"
    },
    "jupyter": {
     "source_hidden": true
    },
    "tags": []
   },
   "outputs": [],
   "source": [
    "def test_rng_correlation(\n",
    "    seeds=[42], limit=1000,\n",
    "):\n",
    "    total_correlations = np.zeros(shape=(4, 4))\n",
    "    total_pvalues = []\n",
    "    \n",
    "    for seed in seeds:\n",
    "        # Collect random streams from non-dispersing individuals at (0,0)..(1,1)\n",
    "        rngs_io = StringIO(subprocess.run(shlex.split(\n",
    "            f\"cargo run --release --quiet -- --seed {seed} --limit {limit}\"\n",
    "        ), check=True, capture_output=True, text=True).stdout)\n",
    "        \n",
    "        # Read in the random draws and transpose to 4xlimit\n",
    "        rngs = []\n",
    "        with rngs_io:\n",
    "            reader = csv.reader(rngs_io)\n",
    "\n",
    "            for row in reader:\n",
    "                rngs.append(tuple(np.uint64(c) for c in row))\n",
    "        rngs = np.array(rngs).T\n",
    "        \n",
    "        zzCzo = spearmanr(rngs[0], rngs[1])\n",
    "        zzCoz = spearmanr(rngs[0], rngs[2])\n",
    "        zzCoo = spearmanr(rngs[0], rngs[3])\n",
    "        zoCoz = spearmanr(rngs[1], rngs[2])\n",
    "        zoCoo = spearmanr(rngs[1], rngs[3])\n",
    "        ozCoo = spearmanr(rngs[2], rngs[3])\n",
    "        \n",
    "        total_correlations[0,1] += zzCzo.correlation\n",
    "        total_correlations[1,0] -= zzCzo.correlation\n",
    "        \n",
    "        total_correlations[0,2] += zzCoz.correlation\n",
    "        total_correlations[2,0] -= zzCoz.correlation\n",
    "        \n",
    "        total_correlations[0,3] += zzCoo.correlation\n",
    "        total_correlations[3,0] -= zzCoo.correlation\n",
    "        \n",
    "        total_correlations[1,2] += zoCoz.correlation\n",
    "        total_correlations[2,1] -= zoCoz.correlation\n",
    "        \n",
    "        total_correlations[1,3] += zoCoo.correlation\n",
    "        total_correlations[3,1] -= zoCoo.correlation\n",
    "        \n",
    "        total_correlations[2,3] += ozCoo.correlation\n",
    "        total_correlations[3,2] -= ozCoo.correlation\n",
    "        \n",
    "        total_pvalues.append(zzCzo.pvalue)\n",
    "        total_pvalues.append(zzCoz.pvalue)\n",
    "        total_pvalues.append(zzCoo.pvalue)\n",
    "        total_pvalues.append(zoCoz.pvalue)\n",
    "        total_pvalues.append(zoCoo.pvalue)\n",
    "        total_pvalues.append(ozCoo.pvalue)\n",
    "        \n",
    "    total_correlations /= limit\n",
    "    \n",
    "    corr_statistic, corr_pvalue = combine_pvalues(total_pvalues)\n",
    "    \n",
    "    if corr_pvalue <= 0.01 or corr_pvalue >= 0.99:\n",
    "        display(Markdown(f\"## <span style='color:purple'><u>Definitely Correlated</u></span>\"))\n",
    "    elif corr_pvalue <= 0.05 or corr_pvalue >= 0.95:\n",
    "        display(Markdown(f\"## <span style='color:red'><u>Strongly Correlated</u></span>\"))\n",
    "    elif corr_pvalue <= 0.1 or corr_pvalue >= 0.9:\n",
    "        display(Markdown(f\"## <span style='color:orange'>*Weakly Correlated*</span>\"))\n",
    "    else:\n",
    "        display(Markdown(f\"## <span style='color:green'>Uncorrelated</span>\"))\n",
    "        \n",
    "    display(Markdown(\"#### Fisher’s combined Spearman correlation coefficients:\"))\n",
    "    display(Markdown(f\"* p-value: {corr_pvalue}\\n* statistic: {corr_statistic}\"))\n",
    "    \n",
    "    display(Markdown(\"#### Correlation matrix:\"))\n",
    "    \n",
    "    plt.figure(figsize=(8, 8))\n",
    "    mat = plt.matshow(total_correlations, fignum=1)\n",
    "    mat.axes.set_title(\"Individual Spearman correlation coefficients\")\n",
    "    mat.axes.set_xticks([0, 1, 2, 3])\n",
    "    mat.axes.set_yticks([0, 1, 2, 3])\n",
    "    mat.axes.set_xticklabels(['(0,0)', '(0,1)', '(1,0)', '(1,1)'])\n",
    "    mat.axes.set_yticklabels(['(0,0)', '(0,1)', '(1,0)', '(1,1)'])\n",
    "    plt.colorbar()\n",
    "    plt.show()"
   ]
  },
  {
   "cell_type": "code",
   "execution_count": 3,
   "id": "9ff70e88-6b8d-4f64-abc3-783b2b769a45",
   "metadata": {
    "execution": {
     "iopub.execute_input": "2021-04-19T08:03:21.435974Z",
     "iopub.status.busy": "2021-04-19T08:03:21.429000Z",
     "iopub.status.idle": "2021-04-19T08:03:23.932919Z",
     "shell.execute_reply": "2021-04-19T08:03:23.933438Z"
    }
   },
   "outputs": [
    {
     "data": {
      "text/markdown": [
       "## <span style='color:green'>Uncorrelated</span>"
      ],
      "text/plain": [
       "<IPython.core.display.Markdown object>"
      ]
     },
     "metadata": {},
     "output_type": "display_data"
    },
    {
     "data": {
      "text/markdown": [
       "#### Fisher’s combined Spearman correlation coefficients:"
      ],
      "text/plain": [
       "<IPython.core.display.Markdown object>"
      ]
     },
     "metadata": {},
     "output_type": "display_data"
    },
    {
     "data": {
      "text/markdown": [
       "* p-value: 0.5239515957151741\n",
       "* statistic: 118.4087577351819"
      ],
      "text/plain": [
       "<IPython.core.display.Markdown object>"
      ]
     },
     "metadata": {},
     "output_type": "display_data"
    },
    {
     "data": {
      "text/markdown": [
       "#### Correlation matrix:"
      ],
      "text/plain": [
       "<IPython.core.display.Markdown object>"
      ]
     },
     "metadata": {},
     "output_type": "display_data"
    },
    {
     "data": {
      "image/png": "[encoded data removed]",
      "text/plain": [
       "<Figure size 576x576 with 2 Axes>"
      ]
     },
     "metadata": {
      "needs_background": "light"
     },
     "output_type": "display_data"
    }
   ],
   "source": [
    "seeds = np.random.randint(0, np.iinfo(\"uint64\").max, dtype=\"uint64\", size=10)\n",
    "\n",
    "test_rng_correlation(seeds=seeds, limit=1000)"
   ]
  },
  {
   "cell_type": "code",
   "execution_count": null,
   "id": "b98227cd-ec40-48ff-88ab-799208c6758d",
   "metadata": {},
   "outputs": [],
   "source": []
  }
 ],
 "metadata": {
  "kernelspec": {
   "display_name": "Python 3",
   "language": "python",
   "name": "python3"
  },
  "language_info": {
   "codemirror_mode": {
    "name": "ipython",
    "version": 3
   },
   "file_extension": ".py",
   "mimetype": "text/x-python",
   "name": "python",
   "nbconvert_exporter": "python",
   "pygments_lexer": "ipython3",
   "version": "3.8.8"
  }
 },
 "nbformat": 4,
 "nbformat_minor": 5
}

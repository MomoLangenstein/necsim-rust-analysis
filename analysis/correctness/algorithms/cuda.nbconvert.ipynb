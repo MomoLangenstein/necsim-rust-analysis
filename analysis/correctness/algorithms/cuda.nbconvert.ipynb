{
 "cells": [
  {
   "cell_type": "code",
   "execution_count": 1,
   "metadata": {
    "execution": {
     "iopub.execute_input": "2021-04-24T13:53:14.141375Z",
     "iopub.status.busy": "2021-04-24T13:53:14.140905Z",
     "iopub.status.idle": "2021-04-24T13:53:15.970448Z",
     "shell.execute_reply": "2021-04-24T13:53:15.969402Z"
    },
    "jupyter": {
     "source_hidden": true
    },
    "tags": []
   },
   "outputs": [],
   "source": [
    "import subprocess\n",
    "import shlex\n",
    "import re\n",
    "import json\n",
    "\n",
    "import numpy as np\n",
    "import multiprocessing as mp\n",
    "\n",
    "from matplotlib import pyplot as plt\n",
    "from scipy import stats\n",
    "from tqdm import tqdm\n",
    "from IPython.display import display, Markdown\n",
    "from tempfile import TemporaryDirectory"
   ]
  },
  {
   "cell_type": "code",
   "execution_count": 2,
   "metadata": {
    "execution": {
     "iopub.execute_input": "2021-04-24T13:53:15.976186Z",
     "iopub.status.busy": "2021-04-24T13:53:15.975685Z",
     "iopub.status.idle": "2021-04-24T13:53:15.977883Z",
     "shell.execute_reply": "2021-04-24T13:53:15.977464Z"
    },
    "jupyter": {
     "source_hidden": true
    },
    "tags": []
   },
   "outputs": [],
   "source": [
    "import scipy.special as sp\n",
    "\n",
    "def s_island(A_eff, deme, nu):\n",
    "    theta_A_eff = (deme * A_eff - 1.0) * nu / (1.0 - nu)\n",
    "    \n",
    "    return theta_A_eff * (sp.digamma(theta_A_eff + deme * A_eff) - sp.digamma(theta_A_eff))\n",
    "\n",
    "def s_island_limit(A_eff, deme, nu):\n",
    "    return ((A_eff * deme - 1.0) * nu * np.log(1.0 / nu)) / (1.0 - nu)"
   ]
  },
  {
   "cell_type": "code",
   "execution_count": 3,
   "metadata": {
    "execution": {
     "iopub.execute_input": "2021-04-24T13:53:15.982100Z",
     "iopub.status.busy": "2021-04-24T13:53:15.981223Z",
     "iopub.status.idle": "2021-04-24T13:53:15.983223Z",
     "shell.execute_reply": "2021-04-24T13:53:15.983934Z"
    },
    "jupyter": {
     "source_hidden": true
    },
    "tags": []
   },
   "outputs": [],
   "source": [
    "BIODIVERSITY_PATTERN = re.compile(r\"The simulation resulted in a biodiversity of (\\d+) unique species\\.\")\n",
    "TIMING_PATTERN = re.compile(r\"The simulation finished at time (\\d+\\.\\d+) after (\\d+) steps\\.\")"
   ]
  },
  {
   "cell_type": "code",
   "execution_count": 4,
   "metadata": {
    "execution": {
     "iopub.execute_input": "2021-04-24T13:53:15.987844Z",
     "iopub.status.busy": "2021-04-24T13:53:15.987355Z",
     "iopub.status.idle": "2021-04-24T13:53:17.887393Z",
     "shell.execute_reply": "2021-04-24T13:53:17.888285Z"
    },
    "jupyter": {
     "source_hidden": true
    },
    "tags": []
   },
   "outputs": [],
   "source": [
    "target_directory = json.loads(subprocess.run(\"cargo metadata --format-version 1\".split(), capture_output=True).stdout)[\"target_directory\"]"
   ]
  },
  {
   "cell_type": "code",
   "execution_count": 5,
   "metadata": {
    "execution": {
     "iopub.execute_input": "2021-04-24T13:53:17.894350Z",
     "iopub.status.busy": "2021-04-24T13:53:17.893485Z",
     "iopub.status.idle": "2021-04-24T13:53:17.895260Z",
     "shell.execute_reply": "2021-04-24T13:53:17.896270Z"
    },
    "jupyter": {
     "source_hidden": true
    },
    "tags": []
   },
   "outputs": [],
   "source": [
    "def simulate_non_spatial_monolithic(algorithm, speciation=0.1, seed=42, size=(10, 10, 10), spatial=False):\n",
    "    config = \"\".join(f\"\"\"\n",
    "    (\n",
    "        speciation: {speciation},\n",
    "        sample: 1.0,\n",
    "        seed: {seed},\n",
    "\n",
    "        algorithm: {algorithm},\n",
    "\n",
    "        log: None,\n",
    "\n",
    "        scenario: NonSpatial(\n",
    "            area: ({size[0]}, {size[1]}),\n",
    "            deme: {size[2]},\n",
    "            spatial: {str(spatial).lower()},\n",
    "        ),\n",
    "\n",
    "        reporters: [\n",
    "            Plugin(\n",
    "                library: \"{target_directory}/release/deps/libnecsim_plugins_common.so\",\n",
    "                reporters: [Biodiversity()]\n",
    "            )\n",
    "        ],\n",
    "    )\n",
    "    \"\"\".split()).replace(\",)\", \")\").replace(\",]\", \"]\")\n",
    "\n",
    "    # Run the simulation\n",
    "    result = subprocess.run(shlex.split(\n",
    "        \"cargo run --release --features rustcoalescence-algorithms-monolithic,\"\n",
    "        + \"rustcoalescence-algorithms-independent,rustcoalescence-algorithms-cuda \"\n",
    "        + f\"--quiet -- simulate '{config}'\"\n",
    "    ), check=True, capture_output=True, text=True)\n",
    "\n",
    "    match = BIODIVERSITY_PATTERN.search(result.stdout)\n",
    "    biodiversity = int(match.group(1))\n",
    "\n",
    "    match = TIMING_PATTERN.search(result.stdout)\n",
    "    time = float(match.group(1))\n",
    "    steps = int(match.group(2))\n",
    "        \n",
    "    return biodiversity, time, steps"
   ]
  },
  {
   "cell_type": "code",
   "execution_count": 6,
   "metadata": {
    "execution": {
     "iopub.execute_input": "2021-04-24T13:53:17.903006Z",
     "iopub.status.busy": "2021-04-24T13:53:17.902207Z",
     "iopub.status.idle": "2021-04-24T13:53:17.905265Z",
     "shell.execute_reply": "2021-04-24T13:53:17.904728Z"
    },
    "jupyter": {
     "source_hidden": true
    },
    "tags": []
   },
   "outputs": [],
   "source": [
    "def simulate_non_spatial_log(algorithm, speciation=0.1, seed=42, size=(10, 10, 10), spatial=False):\n",
    "    with TemporaryDirectory() as log:\n",
    "        config = \"\".join(f\"\"\"\n",
    "        (\n",
    "            speciation: {speciation},\n",
    "            sample: 1.0,\n",
    "            seed: {seed},\n",
    "\n",
    "            algorithm: {algorithm},\n",
    "\n",
    "            log: \"{log}\",\n",
    "\n",
    "            scenario: NonSpatial(\n",
    "                area: ({size[0]}, {size[1]}),\n",
    "                deme: {size[2]},\n",
    "                spatial: {str(spatial).lower()},\n",
    "            ),\n",
    "\n",
    "            reporters: [\n",
    "                Plugin(\n",
    "                    library: \"{target_directory}/release/deps/libnecsim_plugins_common.so\",\n",
    "                    reporters: [Biodiversity()]\n",
    "                )\n",
    "            ],\n",
    "        )\n",
    "        \"\"\".split()).replace(\",)\", \")\").replace(\",]\", \"]\")\n",
    "\n",
    "        # Run the simulation\n",
    "        result = subprocess.run(shlex.split(\n",
    "            \"cargo run --release --features rustcoalescence-algorithms-monolithic,\"\n",
    "            + \"rustcoalescence-algorithms-independent,rustcoalescence-algorithms-cuda \"\n",
    "            + f\"-- simulate '{config}'\"\n",
    "        ), capture_output=True, text=True)\n",
    "        \n",
    "        match = TIMING_PATTERN.search(result.stdout)\n",
    "        time = float(match.group(1))\n",
    "        steps = int(match.group(2))\n",
    "        \n",
    "        config = \"\".join(f\"\"\"\n",
    "        (\n",
    "            logs: [\"{log}/*/*\"],\n",
    "\n",
    "            reporters: [\n",
    "                Plugin(\n",
    "                    library: \"{target_directory}/release/deps/libnecsim_plugins_common.so\",\n",
    "                    reporters: [Biodiversity()]\n",
    "                )\n",
    "            ],\n",
    "        )\n",
    "        \"\"\".split()).replace(\",)\", \")\").replace(\",]\", \"]\")\n",
    "        \n",
    "        # Run the simulation\n",
    "        result = subprocess.run(shlex.split(\n",
    "            \"cargo run --release --features rustcoalescence-algorithms-monolithic,\"\n",
    "            + \"rustcoalescence-algorithms-independent,rustcoalescence-algorithms-cuda \"\n",
    "            + f\"--quiet -- replay '{config}'\"\n",
    "        ), check=True, capture_output=True, text=True)\n",
    "\n",
    "        match = BIODIVERSITY_PATTERN.search(result.stdout)\n",
    "        biodiversity = int(match.group(1))\n",
    "        \n",
    "    return biodiversity, time, steps"
   ]
  },
  {
   "cell_type": "code",
   "execution_count": 7,
   "metadata": {
    "execution": {
     "iopub.execute_input": "2021-04-24T13:53:17.912792Z",
     "iopub.status.busy": "2021-04-24T13:53:17.911612Z",
     "iopub.status.idle": "2021-04-24T13:53:17.915004Z",
     "shell.execute_reply": "2021-04-24T13:53:17.914504Z"
    },
    "jupyter": {
     "source_hidden": true
    },
    "tags": []
   },
   "outputs": [],
   "source": [
    "def simulate_non_spatial_isolated(algorithm, partitions=4, speciation=0.1, seed=42, size=(10, 10, 10), spatial=False):\n",
    "    with TemporaryDirectory() as log:\n",
    "        def simulate_non_spatial_isolated_partition(rank):\n",
    "            config = \"\".join(f\"\"\"\n",
    "            (\n",
    "                speciation: {speciation},\n",
    "                sample: 1.0,\n",
    "                seed: {seed},\n",
    "\n",
    "                algorithm: {algorithm.format(partition=f'Partition(rank:{rank},partitions:{partitions})')},\n",
    "\n",
    "                log: \"{log}/{rank}\",\n",
    "\n",
    "                scenario: NonSpatial(\n",
    "                    area: ({size[0]}, {size[1]}),\n",
    "                    deme: {size[2]},\n",
    "                    spatial: {str(spatial).lower()},\n",
    "                ),\n",
    "\n",
    "                reporters: [\n",
    "                    Plugin(\n",
    "                        library: \"{target_directory}/release/deps/libnecsim_plugins_common.so\",\n",
    "                        reporters: [Biodiversity()]\n",
    "                    )\n",
    "                ],\n",
    "            )\n",
    "            \"\"\".split()).replace(\",)\", \")\").replace(\",]\", \"]\")\n",
    "            \n",
    "            # Run the simulation\n",
    "            result = subprocess.run(shlex.split(\n",
    "                \"cargo run --release --features rustcoalescence-algorithms-monolithic,\"\n",
    "                + \"rustcoalescence-algorithms-independent,rustcoalescence-algorithms-cuda \"\n",
    "                + f\"-- simulate '{config}'\"\n",
    "            ), capture_output=True, text=True)\n",
    "        \n",
    "            match = TIMING_PATTERN.search(result.stdout)\n",
    "            if match is None:\n",
    "                print(result.stdout)\n",
    "                print(result.stderr)\n",
    "            time = float(match.group(1))\n",
    "            steps = int(match.group(2))\n",
    "            \n",
    "            return time, steps\n",
    "\n",
    "        results = [simulate_non_spatial_isolated_partition(rank) for rank in range(partitions)]\n",
    "            \n",
    "        times, steps = tuple(zip(*results))\n",
    "        \n",
    "        config = \"\".join(f\"\"\"\n",
    "        (\n",
    "            logs: [\"{log}/*/*/*\"],\n",
    "\n",
    "            reporters: [\n",
    "                Plugin(\n",
    "                    library: \"{target_directory}/release/deps/libnecsim_plugins_common.so\",\n",
    "                    reporters: [Biodiversity()]\n",
    "                )\n",
    "            ],\n",
    "        )\n",
    "        \"\"\".split()).replace(\",)\", \")\").replace(\",]\", \"]\")\n",
    "        \n",
    "        # Run the simulation\n",
    "        result = subprocess.run(shlex.split(\n",
    "            \"cargo run --release --features rustcoalescence-algorithms-monolithic,\"\n",
    "            + \"rustcoalescence-algorithms-independent,rustcoalescence-algorithms-cuda \"\n",
    "            + f\"--quiet -- replay '{config}'\"\n",
    "        ), check=True, capture_output=True, text=True)\n",
    "\n",
    "        match = BIODIVERSITY_PATTERN.search(result.stdout)\n",
    "        if match is None:\n",
    "            print(result.stdout)\n",
    "            print(result.stderr)\n",
    "        biodiversity = int(match.group(1))\n",
    "        \n",
    "    return biodiversity, max(times), sum(steps)"
   ]
  },
  {
   "cell_type": "code",
   "execution_count": 8,
   "metadata": {
    "execution": {
     "iopub.execute_input": "2021-04-24T13:53:17.919844Z",
     "iopub.status.busy": "2021-04-24T13:53:17.919168Z",
     "iopub.status.idle": "2021-04-24T13:53:17.921902Z",
     "shell.execute_reply": "2021-04-24T13:53:17.921335Z"
    },
    "jupyter": {
     "source_hidden": true
    },
    "tags": []
   },
   "outputs": [],
   "source": [
    "def batch_simulation_many_seeds(simulate, seeds, args=tuple(), kwargs=dict(), silent=False, processes=mp.cpu_count()):\n",
    "    results = []\n",
    "\n",
    "    with tqdm(total=len(seeds), disable=silent) as progress:\n",
    "        def update_progress(result):\n",
    "            results.append(result)\n",
    "\n",
    "            progress.update()\n",
    "        \n",
    "        def update_error(err):\n",
    "            print(err)\n",
    "\n",
    "        with mp.Pool(processes) as pool:\n",
    "            for seed in seeds:\n",
    "                pool.apply_async(simulate, args, {**kwargs, \"seed\": seed}, update_progress, update_error)\n",
    "\n",
    "            pool.close()\n",
    "            pool.join()\n",
    "    \n",
    "    return results"
   ]
  },
  {
   "cell_type": "code",
   "execution_count": 9,
   "metadata": {
    "execution": {
     "iopub.execute_input": "2021-04-24T13:53:17.926770Z",
     "iopub.status.busy": "2021-04-24T13:53:17.926188Z",
     "iopub.status.idle": "2021-04-24T13:53:17.928163Z",
     "shell.execute_reply": "2021-04-24T13:53:17.928674Z"
    },
    "jupyter": {
     "source_hidden": true
    },
    "tags": []
   },
   "outputs": [],
   "source": [
    "def confidenceInterval(a, conf=0.95):\n",
    "    mean = np.mean(a)\n",
    "    sem = stats.sem(a)\n",
    "    \n",
    "    t = stats.t.ppf((1.0 + conf) * 0.5, len(a) - 1)\n",
    "    \n",
    "    return mean - t*sem, mean + t*sem"
   ]
  },
  {
   "cell_type": "code",
   "execution_count": 10,
   "metadata": {
    "execution": {
     "iopub.execute_input": "2021-04-24T13:53:17.937673Z",
     "iopub.status.busy": "2021-04-24T13:53:17.936979Z",
     "iopub.status.idle": "2021-04-24T13:53:17.938860Z",
     "shell.execute_reply": "2021-04-24T13:53:17.939335Z"
    },
    "jupyter": {
     "source_hidden": true
    },
    "tags": []
   },
   "outputs": [],
   "source": [
    "def visualise_biodiversity_time_steps_result(expected, biodiversities, times, steps, conf=0.95):\n",
    "    low, high = confidenceInterval(biodiversities, conf=conf)\n",
    "\n",
    "    xmin = np.min(biodiversities)\n",
    "    xmax = np.max(biodiversities)\n",
    "\n",
    "    bins = min(21, xmax - xmin + (1 - (xmax - xmin) % 2))\n",
    "\n",
    "    fig, (ax1, ax2, ax3) = plt.subplots(1, 3, figsize=(16, 4))\n",
    "\n",
    "    ax1.set_title(\"Biodiversity distribution\")\n",
    "    ax1.set_xlabel(\"biodiversity\")\n",
    "    ax1.set_ylabel(\"pdf\")\n",
    "    ax1.hist(biodiversities, bins=bins, density=True, label=(\n",
    "        f\"Observed: {round((low + high) * 0.5, 2)} ± {round((high - low) * 0.5, 2)} ({conf} level)\"\n",
    "    ))\n",
    "    ax1.axvline(x=expected, color='red', label=f\"Expected: {round(expected, 2)}\")\n",
    "\n",
    "    mu, std = stats.norm.fit(biodiversities)\n",
    "    x = np.linspace(xmin, xmax, 100)\n",
    "    p = stats.norm.pdf(x, mu, std)\n",
    "    ax1.plot(x, p, 'k', linewidth=2, label=f\"Fitted: mu≈{round(mu, 2)} sigma≈{round(std, 2)}\")\n",
    "\n",
    "    ax1.legend(loc = 'lower center')\n",
    "\n",
    "    ax2.set_title(\"Simulation time distribution\")\n",
    "    ax2.set_xlabel(\"time\")\n",
    "    ax2.set_ylabel(\"pdf\")\n",
    "    ax2.hist(times, bins=bins, density=True)\n",
    "\n",
    "    ax3.set_title(\"Simulation steps distribution\")\n",
    "    ax3.set_xlabel(\"steps\")\n",
    "    ax3.set_ylabel(\"pdf\")\n",
    "    ax3.hist(steps, bins=bins, density=True)\n",
    "\n",
    "    plt.show()"
   ]
  },
  {
   "cell_type": "markdown",
   "metadata": {},
   "source": [
    "# I. Verify that different `delta_t`s for the CUDA Algorithm give the correct results for a NonSpatial scenario"
   ]
  },
  {
   "cell_type": "code",
   "execution_count": 11,
   "metadata": {
    "execution": {
     "iopub.execute_input": "2021-04-24T13:53:17.944188Z",
     "iopub.status.busy": "2021-04-24T13:53:17.943504Z",
     "iopub.status.idle": "2021-04-24T14:03:35.232717Z",
     "shell.execute_reply": "2021-04-24T14:03:35.233595Z"
    }
   },
   "outputs": [
    {
     "name": "stderr",
     "output_type": "stream",
     "text": [
      "100%|██████████| 1000/1000 [05:03<00:00,  3.30it/s]\n"
     ]
    },
    {
     "data": {
      "text/markdown": [
       "## CUDA(delta_t:0.5):"
      ],
      "text/plain": [
       "<IPython.core.display.Markdown object>"
      ]
     },
     "metadata": {},
     "output_type": "display_data"
    },
    {
     "data": {
      "image/png": "[encoded data removed]",
      "text/plain": [
       "<Figure size 1152x288 with 3 Axes>"
      ]
     },
     "metadata": {
      "needs_background": "light"
     },
     "output_type": "display_data"
    },
    {
     "name": "stderr",
     "output_type": "stream",
     "text": [
      "100%|██████████| 1000/1000 [05:12<00:00,  3.20it/s]\n"
     ]
    },
    {
     "data": {
      "text/markdown": [
       "## CUDA(delta_t:5.0):"
      ],
      "text/plain": [
       "<IPython.core.display.Markdown object>"
      ]
     },
     "metadata": {},
     "output_type": "display_data"
    },
    {
     "data": {
      "image/png": "[encoded data removed]",
      "text/plain": [
       "<Figure size 1152x288 with 3 Axes>"
      ]
     },
     "metadata": {
      "needs_background": "light"
     },
     "output_type": "display_data"
    }
   ],
   "source": [
    "for algorithm in [\"CUDA(delta_t:0.5)\", \"CUDA(delta_t:5.0)\"]:\n",
    "    seeds = np.random.randint(0, np.iinfo(\"uint64\").max, dtype=\"uint64\", size=1000)\n",
    "\n",
    "    results = batch_simulation_many_seeds(simulate_non_spatial_monolithic, seeds, args=(algorithm,), kwargs={\n",
    "        \"size\":(10, 10, 10), \"speciation\":0.1\n",
    "    }, silent=False)\n",
    "\n",
    "    biodiversities, times, steps = tuple(zip(*results))\n",
    "\n",
    "    display(Markdown(f\"## {algorithm}:\"))\n",
    "    visualise_biodiversity_time_steps_result(s_island(10*10, 10, 0.1), biodiversities, times, steps)"
   ]
  },
  {
   "cell_type": "markdown",
   "metadata": {},
   "source": [
    "# II. Verify that the default settings for the CUDA Algorithm give the correct results for a NonSpatial scenario without parallelisation"
   ]
  },
  {
   "cell_type": "code",
   "execution_count": 12,
   "metadata": {
    "execution": {
     "iopub.execute_input": "2021-04-24T14:03:35.239548Z",
     "iopub.status.busy": "2021-04-24T14:03:35.238871Z",
     "iopub.status.idle": "2021-04-24T14:08:37.681342Z",
     "shell.execute_reply": "2021-04-24T14:08:37.680807Z"
    }
   },
   "outputs": [
    {
     "name": "stderr",
     "output_type": "stream",
     "text": [
      "100%|██████████| 1000/1000 [05:01<00:00,  3.31it/s]\n"
     ]
    },
    {
     "data": {
      "text/markdown": [
       "## CUDA():"
      ],
      "text/plain": [
       "<IPython.core.display.Markdown object>"
      ]
     },
     "metadata": {},
     "output_type": "display_data"
    },
    {
     "data": {
      "image/png": "[encoded data removed]",
      "text/plain": [
       "<Figure size 1152x288 with 3 Axes>"
      ]
     },
     "metadata": {
      "needs_background": "light"
     },
     "output_type": "display_data"
    }
   ],
   "source": [
    "for algorithm in [\"CUDA()\"]:\n",
    "    seeds = np.random.randint(0, np.iinfo(\"uint64\").max, dtype=\"uint64\", size=1000)\n",
    "\n",
    "    results = batch_simulation_many_seeds(simulate_non_spatial_monolithic, seeds, args=(algorithm,), kwargs={\n",
    "        \"size\":(10, 10, 10), \"speciation\":0.1\n",
    "    }, silent=False)\n",
    "\n",
    "    biodiversities, times, steps = tuple(zip(*results))\n",
    "\n",
    "    display(Markdown(f\"## {algorithm}:\"))\n",
    "    visualise_biodiversity_time_steps_result(s_island(10*10, 10, 0.1), biodiversities, times, steps)"
   ]
  },
  {
   "cell_type": "markdown",
   "metadata": {},
   "source": [
    "# III. Verify that the non-altering settings produce exactly the same results (excluding #steps)"
   ]
  },
  {
   "cell_type": "code",
   "execution_count": 13,
   "metadata": {
    "execution": {
     "iopub.execute_input": "2021-04-24T14:08:37.687107Z",
     "iopub.status.busy": "2021-04-24T14:08:37.686567Z",
     "iopub.status.idle": "2021-04-24T15:06:42.245992Z",
     "shell.execute_reply": "2021-04-24T15:06:42.246557Z"
    }
   },
   "outputs": [
    {
     "name": "stderr",
     "output_type": "stream",
     "text": [
      "100%|██████████| 1000/1000 [05:19<00:00,  3.13it/s]\n"
     ]
    },
    {
     "data": {
      "text/markdown": [
       "## CUDA(ptx_jit:true): <span style='color:green'>Success</span>"
      ],
      "text/plain": [
       "<IPython.core.display.Markdown object>"
      ]
     },
     "metadata": {},
     "output_type": "display_data"
    },
    {
     "name": "stderr",
     "output_type": "stream",
     "text": [
      "100%|██████████| 1000/1000 [05:18<00:00,  3.14it/s]\n"
     ]
    },
    {
     "data": {
      "text/markdown": [
       "## CUDA(block_size:1): <span style='color:green'>Success</span>"
      ],
      "text/plain": [
       "<IPython.core.display.Markdown object>"
      ]
     },
     "metadata": {},
     "output_type": "display_data"
    },
    {
     "name": "stderr",
     "output_type": "stream",
     "text": [
      "100%|██████████| 1000/1000 [05:03<00:00,  3.29it/s]\n"
     ]
    },
    {
     "data": {
      "text/markdown": [
       "## CUDA(block_size:16): <span style='color:green'>Success</span>"
      ],
      "text/plain": [
       "<IPython.core.display.Markdown object>"
      ]
     },
     "metadata": {},
     "output_type": "display_data"
    },
    {
     "name": "stderr",
     "output_type": "stream",
     "text": [
      "100%|██████████| 1000/1000 [05:58<00:00,  2.79it/s]\n"
     ]
    },
    {
     "data": {
      "text/markdown": [
       "## CUDA(grid_size:1): <span style='color:green'>Success</span>"
      ],
      "text/plain": [
       "<IPython.core.display.Markdown object>"
      ]
     },
     "metadata": {},
     "output_type": "display_data"
    },
    {
     "name": "stderr",
     "output_type": "stream",
     "text": [
      "100%|██████████| 1000/1000 [05:03<00:00,  3.30it/s]\n"
     ]
    },
    {
     "data": {
      "text/markdown": [
       "## CUDA(grid_size:128): <span style='color:green'>Success</span>"
      ],
      "text/plain": [
       "<IPython.core.display.Markdown object>"
      ]
     },
     "metadata": {},
     "output_type": "display_data"
    },
    {
     "name": "stderr",
     "output_type": "stream",
     "text": [
      "100%|██████████| 1000/1000 [05:21<00:00,  3.11it/s]\n"
     ]
    },
    {
     "data": {
      "text/markdown": [
       "## CUDA(step_slice:5): <span style='color:green'>Success</span>"
      ],
      "text/plain": [
       "<IPython.core.display.Markdown object>"
      ]
     },
     "metadata": {},
     "output_type": "display_data"
    },
    {
     "name": "stderr",
     "output_type": "stream",
     "text": [
      "100%|██████████| 1000/1000 [05:17<00:00,  3.15it/s]\n"
     ]
    },
    {
     "data": {
      "text/markdown": [
       "## CUDA(step_slice:10): <span style='color:green'>Success</span>"
      ],
      "text/plain": [
       "<IPython.core.display.Markdown object>"
      ]
     },
     "metadata": {},
     "output_type": "display_data"
    },
    {
     "name": "stderr",
     "output_type": "stream",
     "text": [
      "100%|██████████| 1000/1000 [05:16<00:00,  3.16it/s]\n"
     ]
    },
    {
     "data": {
      "text/markdown": [
       "## CUDA(dedup_cache:Absolute(capacity:10)): <span style='color:green'>Success</span>"
      ],
      "text/plain": [
       "<IPython.core.display.Markdown object>"
      ]
     },
     "metadata": {},
     "output_type": "display_data"
    },
    {
     "name": "stderr",
     "output_type": "stream",
     "text": [
      "100%|██████████| 1000/1000 [05:04<00:00,  3.28it/s]\n"
     ]
    },
    {
     "data": {
      "text/markdown": [
       "## CUDA(dedup_cache:None): <span style='color:green'>Success</span>"
      ],
      "text/plain": [
       "<IPython.core.display.Markdown object>"
      ]
     },
     "metadata": {},
     "output_type": "display_data"
    },
    {
     "name": "stderr",
     "output_type": "stream",
     "text": [
      "100%|██████████| 1000/1000 [05:10<00:00,  3.22it/s]\n"
     ]
    },
    {
     "data": {
      "text/markdown": [
       "## CUDA(parallelism_mode:Monolithic(event_slice:1000)): <span style='color:green'>Success</span>"
      ],
      "text/plain": [
       "<IPython.core.display.Markdown object>"
      ]
     },
     "metadata": {},
     "output_type": "display_data"
    },
    {
     "name": "stderr",
     "output_type": "stream",
     "text": [
      "100%|██████████| 1000/1000 [05:11<00:00,  3.21it/s]\n"
     ]
    },
    {
     "data": {
      "text/markdown": [
       "## CUDA(parallelism_mode:Monolithic(event_slice:1)): <span style='color:green'>Success</span>"
      ],
      "text/plain": [
       "<IPython.core.display.Markdown object>"
      ]
     },
     "metadata": {},
     "output_type": "display_data"
    }
   ],
   "source": [
    "comparison_seeds = seeds[:]\n",
    "comparison_results = sorted(r[:2] for r in results[:])\n",
    "\n",
    "for algorithm in [\n",
    "    \"CUDA(ptx_jit:true)\",\n",
    "    \"CUDA(block_size:1)\", \"CUDA(block_size:16)\",\n",
    "    \"CUDA(grid_size:1)\", \"CUDA(grid_size:128)\",\n",
    "    \"CUDA(step_slice:5)\", \"CUDA(step_slice:10)\",\n",
    "    \"CUDA(dedup_cache:Absolute(capacity:10))\", \"CUDA(dedup_cache:None)\",\n",
    "    \"CUDA(parallelism_mode:Monolithic(event_slice:1000))\", \"CUDA(parallelism_mode:Monolithic(event_slice:1))\",\n",
    "]:\n",
    "    check_results = batch_simulation_many_seeds(simulate_non_spatial_monolithic, comparison_seeds, args=(algorithm,), kwargs={\n",
    "        \"size\":(10, 10, 10), \"speciation\":0.1\n",
    "    }, silent=False)\n",
    "    \n",
    "    check_results = sorted(r[:2] for r in check_results)\n",
    "    \n",
    "    if check_results == comparison_results:\n",
    "        display(Markdown(f\"## {algorithm}: <span style='color:green'>Success</span>\"))\n",
    "    else:\n",
    "        display(Markdown(f\"## {algorithm}: <span style='color:red'><u>FAILURE</u></span>\"))"
   ]
  },
  {
   "cell_type": "markdown",
   "metadata": {},
   "source": [
    "# IV. Verify that the Monolithic replay analysis though the event log produces exactlty the same results as live analysis"
   ]
  },
  {
   "cell_type": "code",
   "execution_count": 14,
   "metadata": {
    "execution": {
     "iopub.execute_input": "2021-04-24T15:06:42.252714Z",
     "iopub.status.busy": "2021-04-24T15:06:42.252029Z",
     "iopub.status.idle": "2021-04-24T15:15:01.275024Z",
     "shell.execute_reply": "2021-04-24T15:15:01.275353Z"
    }
   },
   "outputs": [
    {
     "name": "stderr",
     "output_type": "stream",
     "text": [
      "100%|██████████| 1000/1000 [08:19<00:00,  2.00it/s]\n"
     ]
    },
    {
     "data": {
      "text/markdown": [
       "## CUDA(parallelism_mode:Monolithic(event_slice:100)): <span style='color:green'>Success</span>"
      ],
      "text/plain": [
       "<IPython.core.display.Markdown object>"
      ]
     },
     "metadata": {},
     "output_type": "display_data"
    }
   ],
   "source": [
    "comparison_seeds = seeds[:]\n",
    "comparison_results = sorted(r[:2] for r in results[:])\n",
    "\n",
    "for algorithm in [\"CUDA(parallelism_mode:Monolithic(event_slice:100))\"]:\n",
    "    check_results = batch_simulation_many_seeds(simulate_non_spatial_log, comparison_seeds, args=(algorithm,), kwargs={\n",
    "        \"size\":(10, 10, 10), \"speciation\":0.1\n",
    "    }, silent=False)\n",
    "\n",
    "    check_results = sorted(r[:2] for r in check_results)\n",
    "\n",
    "    if check_results == comparison_results:\n",
    "        display(Markdown(f\"## {algorithm}: <span style='color:green'>Success</span>\"))\n",
    "    else:\n",
    "        display(Markdown(f\"## {algorithm}: <span style='color:red'><u>FAILURE</u></span>\"))"
   ]
  },
  {
   "cell_type": "markdown",
   "metadata": {},
   "source": [
    "# V. Verify that the Isolated parallelisation produces exactly the same results"
   ]
  },
  {
   "cell_type": "code",
   "execution_count": 15,
   "metadata": {
    "execution": {
     "iopub.execute_input": "2021-04-24T15:15:01.281156Z",
     "iopub.status.busy": "2021-04-24T15:15:01.280526Z",
     "iopub.status.idle": "2021-04-25T07:44:33.318555Z",
     "shell.execute_reply": "2021-04-25T07:44:33.317985Z"
    }
   },
   "outputs": [
    {
     "name": "stderr",
     "output_type": "stream",
     "text": [
      "100%|██████████| 1000/1000 [13:20<00:00,  1.25it/s]\n"
     ]
    },
    {
     "data": {
      "text/markdown": [
       "## CUDA(parallelism_mode:IsolatedIndividuals(partition:{partition},event_slice:1)) with 2 partitions: <span style='color:green'>Success</span>"
      ],
      "text/plain": [
       "<IPython.core.display.Markdown object>"
      ]
     },
     "metadata": {},
     "output_type": "display_data"
    },
    {
     "name": "stderr",
     "output_type": "stream",
     "text": [
      "100%|██████████| 1000/1000 [27:15<00:00,  1.64s/it]\n"
     ]
    },
    {
     "data": {
      "text/markdown": [
       "## CUDA(parallelism_mode:IsolatedIndividuals(partition:{partition},event_slice:1)) with 5 partitions: <span style='color:green'>Success</span>"
      ],
      "text/plain": [
       "<IPython.core.display.Markdown object>"
      ]
     },
     "metadata": {},
     "output_type": "display_data"
    },
    {
     "name": "stderr",
     "output_type": "stream",
     "text": [
      "100%|██████████| 1000/1000 [3:25:17<00:00, 12.32s/it]\n"
     ]
    },
    {
     "data": {
      "text/markdown": [
       "## CUDA(parallelism_mode:IsolatedIndividuals(partition:{partition},event_slice:1)) with 40 partitions: <span style='color:green'>Success</span>"
      ],
      "text/plain": [
       "<IPython.core.display.Markdown object>"
      ]
     },
     "metadata": {},
     "output_type": "display_data"
    },
    {
     "name": "stderr",
     "output_type": "stream",
     "text": [
      "100%|██████████| 1000/1000 [13:22<00:00,  1.25it/s]\n"
     ]
    },
    {
     "data": {
      "text/markdown": [
       "## CUDA(parallelism_mode:IsolatedIndividuals(partition:{partition},event_slice:1000)) with 2 partitions: <span style='color:green'>Success</span>"
      ],
      "text/plain": [
       "<IPython.core.display.Markdown object>"
      ]
     },
     "metadata": {},
     "output_type": "display_data"
    },
    {
     "name": "stderr",
     "output_type": "stream",
     "text": [
      "100%|██████████| 1000/1000 [27:32<00:00,  1.65s/it]\n"
     ]
    },
    {
     "data": {
      "text/markdown": [
       "## CUDA(parallelism_mode:IsolatedIndividuals(partition:{partition},event_slice:1000)) with 5 partitions: <span style='color:green'>Success</span>"
      ],
      "text/plain": [
       "<IPython.core.display.Markdown object>"
      ]
     },
     "metadata": {},
     "output_type": "display_data"
    },
    {
     "name": "stderr",
     "output_type": "stream",
     "text": [
      "100%|██████████| 1000/1000 [3:27:05<00:00, 12.43s/it]\n"
     ]
    },
    {
     "data": {
      "text/markdown": [
       "## CUDA(parallelism_mode:IsolatedIndividuals(partition:{partition},event_slice:1000)) with 40 partitions: <span style='color:green'>Success</span>"
      ],
      "text/plain": [
       "<IPython.core.display.Markdown object>"
      ]
     },
     "metadata": {},
     "output_type": "display_data"
    },
    {
     "name": "stderr",
     "output_type": "stream",
     "text": [
      "100%|██████████| 1000/1000 [13:24<00:00,  1.24it/s]\n"
     ]
    },
    {
     "data": {
      "text/markdown": [
       "## CUDA(parallelism_mode:IsolatedLandscape(partition:{partition},event_slice:1)) with 2 partitions: <span style='color:green'>Success</span>"
      ],
      "text/plain": [
       "<IPython.core.display.Markdown object>"
      ]
     },
     "metadata": {},
     "output_type": "display_data"
    },
    {
     "name": "stderr",
     "output_type": "stream",
     "text": [
      "100%|██████████| 1000/1000 [27:45<00:00,  1.67s/it]\n"
     ]
    },
    {
     "data": {
      "text/markdown": [
       "## CUDA(parallelism_mode:IsolatedLandscape(partition:{partition},event_slice:1)) with 5 partitions: <span style='color:green'>Success</span>"
      ],
      "text/plain": [
       "<IPython.core.display.Markdown object>"
      ]
     },
     "metadata": {},
     "output_type": "display_data"
    },
    {
     "name": "stderr",
     "output_type": "stream",
     "text": [
      "100%|██████████| 1000/1000 [3:26:26<00:00, 12.39s/it]\n"
     ]
    },
    {
     "data": {
      "text/markdown": [
       "## CUDA(parallelism_mode:IsolatedLandscape(partition:{partition},event_slice:1)) with 40 partitions: <span style='color:green'>Success</span>"
      ],
      "text/plain": [
       "<IPython.core.display.Markdown object>"
      ]
     },
     "metadata": {},
     "output_type": "display_data"
    },
    {
     "name": "stderr",
     "output_type": "stream",
     "text": [
      "100%|██████████| 1000/1000 [13:24<00:00,  1.24it/s]\n"
     ]
    },
    {
     "data": {
      "text/markdown": [
       "## CUDA(parallelism_mode:IsolatedLandscape(partition:{partition},event_slice:1000)) with 2 partitions: <span style='color:green'>Success</span>"
      ],
      "text/plain": [
       "<IPython.core.display.Markdown object>"
      ]
     },
     "metadata": {},
     "output_type": "display_data"
    },
    {
     "name": "stderr",
     "output_type": "stream",
     "text": [
      "100%|██████████| 1000/1000 [27:51<00:00,  1.67s/it]\n"
     ]
    },
    {
     "data": {
      "text/markdown": [
       "## CUDA(parallelism_mode:IsolatedLandscape(partition:{partition},event_slice:1000)) with 5 partitions: <span style='color:green'>Success</span>"
      ],
      "text/plain": [
       "<IPython.core.display.Markdown object>"
      ]
     },
     "metadata": {},
     "output_type": "display_data"
    },
    {
     "name": "stderr",
     "output_type": "stream",
     "text": [
      "100%|██████████| 1000/1000 [3:26:45<00:00, 12.41s/it]\n"
     ]
    },
    {
     "data": {
      "text/markdown": [
       "## CUDA(parallelism_mode:IsolatedLandscape(partition:{partition},event_slice:1000)) with 40 partitions: <span style='color:green'>Success</span>"
      ],
      "text/plain": [
       "<IPython.core.display.Markdown object>"
      ]
     },
     "metadata": {},
     "output_type": "display_data"
    }
   ],
   "source": [
    "comparison_seeds = seeds[:]\n",
    "comparison_results = sorted(r[:2] for r in results[:])\n",
    "\n",
    "for algorithm in [\n",
    "    \"CUDA(parallelism_mode:IsolatedIndividuals(partition:{partition},event_slice:1))\",\n",
    "    \"CUDA(parallelism_mode:IsolatedIndividuals(partition:{partition},event_slice:1000))\",\n",
    "    \"CUDA(parallelism_mode:IsolatedLandscape(partition:{partition},event_slice:1))\",\n",
    "    \"CUDA(parallelism_mode:IsolatedLandscape(partition:{partition},event_slice:1000))\",\n",
    "]:\n",
    "    for partitions in [2, 5, 40]:\n",
    "        check_results = batch_simulation_many_seeds(simulate_non_spatial_isolated, comparison_seeds, args=(algorithm,), kwargs={\n",
    "            \"partitions\":partitions, \"size\":(10, 10, 10), \"speciation\":0.1\n",
    "        }, silent=False)\n",
    "        \n",
    "        check_results = sorted(r[:2] for r in check_results)\n",
    "\n",
    "        if check_results == comparison_results:\n",
    "            display(Markdown(f\"## {algorithm} with {partitions} partitions: <span style='color:green'>Success</span>\"))\n",
    "        else:\n",
    "            display(Markdown(f\"## {algorithm} with {partitions} partitions: <span style='color:red'><u>FAILURE</u></span>\"))"
   ]
  },
  {
   "cell_type": "code",
   "execution_count": null,
   "metadata": {},
   "outputs": [],
   "source": []
  }
 ],
 "metadata": {
  "kernelspec": {
   "display_name": "Python 3",
   "language": "python",
   "name": "python3"
  },
  "language_info": {
   "codemirror_mode": {
    "name": "ipython",
    "version": 3
   },
   "file_extension": ".py",
   "mimetype": "text/x-python",
   "name": "python",
   "nbconvert_exporter": "python",
   "pygments_lexer": "ipython3",
   "version": "3.8.5"
  }
 },
 "nbformat": 4,
 "nbformat_minor": 5
}

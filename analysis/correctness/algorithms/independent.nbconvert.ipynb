{
 "cells": [
  {
   "cell_type": "code",
   "execution_count": 1,
   "id": "85acfeb7",
   "metadata": {
    "execution": {
     "iopub.execute_input": "2021-05-08T21:34:54.871371Z",
     "iopub.status.busy": "2021-05-08T21:34:54.870509Z",
     "iopub.status.idle": "2021-05-08T21:34:55.410532Z",
     "shell.execute_reply": "2021-05-08T21:34:55.410922Z"
    },
    "jupyter": {
     "source_hidden": true
    },
    "tags": []
   },
   "outputs": [],
   "source": [
    "import subprocess\n",
    "import shlex\n",
    "import re\n",
    "import json\n",
    "\n",
    "import numpy as np\n",
    "import multiprocessing as mp\n",
    "\n",
    "from matplotlib import pyplot as plt\n",
    "from scipy import stats\n",
    "from tqdm import tqdm\n",
    "from IPython.display import display, Markdown\n",
    "from tempfile import TemporaryDirectory"
   ]
  },
  {
   "cell_type": "code",
   "execution_count": 2,
   "id": "3cb196dd",
   "metadata": {
    "execution": {
     "iopub.execute_input": "2021-05-08T21:34:55.415314Z",
     "iopub.status.busy": "2021-05-08T21:34:55.414842Z",
     "iopub.status.idle": "2021-05-08T21:34:55.416802Z",
     "shell.execute_reply": "2021-05-08T21:34:55.417148Z"
    },
    "jupyter": {
     "source_hidden": true
    },
    "tags": []
   },
   "outputs": [],
   "source": [
    "import scipy.special as sp\n",
    "\n",
    "def s_island(A_eff, deme, nu):\n",
    "    theta_A_eff = (deme * A_eff - 1.0) * nu / (1.0 - nu)\n",
    "    \n",
    "    return theta_A_eff * (sp.digamma(theta_A_eff + deme * A_eff) - sp.digamma(theta_A_eff))\n",
    "\n",
    "def s_island_limit(A_eff, deme, nu):\n",
    "    return ((A_eff * deme - 1.0) * nu * np.log(1.0 / nu)) / (1.0 - nu)"
   ]
  },
  {
   "cell_type": "code",
   "execution_count": 3,
   "id": "8f9f5a64",
   "metadata": {
    "execution": {
     "iopub.execute_input": "2021-05-08T21:34:55.420995Z",
     "iopub.status.busy": "2021-05-08T21:34:55.420332Z",
     "iopub.status.idle": "2021-05-08T21:34:55.423010Z",
     "shell.execute_reply": "2021-05-08T21:34:55.422560Z"
    },
    "jupyter": {
     "source_hidden": true
    },
    "tags": []
   },
   "outputs": [],
   "source": [
    "BIODIVERSITY_PATTERN = re.compile(r\"The simulation resulted in a biodiversity of (\\d+) unique species\\.\")\n",
    "TIMING_PATTERN = re.compile(r\"The simulation finished at time (\\d+\\.\\d+) after (\\d+) steps\\.\")"
   ]
  },
  {
   "cell_type": "code",
   "execution_count": 4,
   "id": "839ac46d",
   "metadata": {
    "execution": {
     "iopub.execute_input": "2021-05-08T21:34:55.430235Z",
     "iopub.status.busy": "2021-05-08T21:34:55.426467Z",
     "iopub.status.idle": "2021-05-08T21:34:55.615694Z",
     "shell.execute_reply": "2021-05-08T21:34:55.615045Z"
    },
    "jupyter": {
     "source_hidden": true
    },
    "tags": []
   },
   "outputs": [],
   "source": [
    "target_directory = json.loads(subprocess.run(\"cargo metadata --format-version 1\".split(), capture_output=True).stdout)[\"target_directory\"]"
   ]
  },
  {
   "cell_type": "code",
   "execution_count": 5,
   "id": "b4c55b7a",
   "metadata": {
    "execution": {
     "iopub.execute_input": "2021-05-08T21:34:55.629920Z",
     "iopub.status.busy": "2021-05-08T21:34:55.628828Z",
     "iopub.status.idle": "2021-05-08T21:34:55.631963Z",
     "shell.execute_reply": "2021-05-08T21:34:55.632759Z"
    },
    "jupyter": {
     "source_hidden": true
    },
    "tags": []
   },
   "outputs": [],
   "source": [
    "def simulate_non_spatial_monolithic(algorithm, speciation=0.1, seed=42, size=(10, 10, 10), spatial=False):\n",
    "    config = \"\".join(f\"\"\"\n",
    "    (\n",
    "        speciation: {speciation},\n",
    "        sample: 1.0,\n",
    "        seed: {seed},\n",
    "\n",
    "        algorithm: {algorithm},\n",
    "\n",
    "        log: None,\n",
    "\n",
    "        scenario: NonSpatial(\n",
    "            area: ({size[0]}, {size[1]}),\n",
    "            deme: {size[2]},\n",
    "            spatial: {str(spatial).lower()},\n",
    "        ),\n",
    "\n",
    "        reporters: [\n",
    "            Plugin(\n",
    "                library: \"{target_directory}/release/deps/libnecsim_plugins_common.so\",\n",
    "                reporters: [Biodiversity()]\n",
    "            )\n",
    "        ],\n",
    "    )\n",
    "    \"\"\".split()).replace(\",)\", \")\").replace(\",]\", \"]\")\n",
    "\n",
    "    # Run the simulation\n",
    "    result = subprocess.run(shlex.split(\n",
    "        \"cargo run --release --features rustcoalescence-algorithms-monolithic,\"\n",
    "        + \"rustcoalescence-algorithms-independent,necsim-partitioning-mpi \"\n",
    "        + f\"--quiet -- simulate '{config}'\"\n",
    "    ), check=True, capture_output=True, text=True)\n",
    "\n",
    "    match = BIODIVERSITY_PATTERN.search(result.stdout)\n",
    "    if match is None:\n",
    "        print(result.stdout)\n",
    "        print(result.stderr)\n",
    "    biodiversity = int(match.group(1))\n",
    "\n",
    "    match = TIMING_PATTERN.search(result.stdout)\n",
    "    if match is None:\n",
    "        print(result.stdout)\n",
    "        print(result.stderr)\n",
    "    time = float(match.group(1))\n",
    "    steps = int(match.group(2))\n",
    "        \n",
    "    return biodiversity, time, steps"
   ]
  },
  {
   "cell_type": "code",
   "execution_count": 6,
   "id": "68d496f8",
   "metadata": {
    "execution": {
     "iopub.execute_input": "2021-05-08T21:34:55.641606Z",
     "iopub.status.busy": "2021-05-08T21:34:55.640747Z",
     "iopub.status.idle": "2021-05-08T21:34:55.643309Z",
     "shell.execute_reply": "2021-05-08T21:34:55.642620Z"
    },
    "jupyter": {
     "source_hidden": true
    },
    "tags": []
   },
   "outputs": [],
   "source": [
    "def simulate_non_spatial_parallel(algorithm, partitions=4, speciation=0.1, seed=42, size=(10, 10, 10), spatial=False):\n",
    "    with TemporaryDirectory() as log:\n",
    "        config = \"\".join(f\"\"\"\n",
    "        (\n",
    "            speciation: {speciation},\n",
    "            sample: 1.0,\n",
    "            seed: {seed},\n",
    "\n",
    "            algorithm: {algorithm},\n",
    "\n",
    "            log: \"{log}\",\n",
    "\n",
    "            scenario: NonSpatial(\n",
    "                area: ({size[0]}, {size[1]}),\n",
    "                deme: {size[2]},\n",
    "                spatial: {str(spatial).lower()},\n",
    "            ),\n",
    "\n",
    "            reporters: [\n",
    "                Plugin(\n",
    "                    library: \"{target_directory}/release/deps/libnecsim_plugins_common.so\",\n",
    "                    reporters: [Biodiversity()]\n",
    "                )\n",
    "            ],\n",
    "        )\n",
    "        \"\"\".split()).replace(\",)\", \")\").replace(\",]\", \"]\")\n",
    "\n",
    "        # Run the simulation\n",
    "        result = subprocess.run(shlex.split(\n",
    "            \"cargo mpirun --release --features rustcoalescence-algorithms-monolithic,\"\n",
    "            + \"rustcoalescence-algorithms-independent,necsim-partitioning-mpi --bin rustcoalescence \"\n",
    "            + f\"-n {partitions} -- simulate '{config}'\"\n",
    "        ), capture_output=True, text=True)\n",
    "        \n",
    "        match = TIMING_PATTERN.search(result.stdout)\n",
    "        if match is None:\n",
    "            print(result.stdout)\n",
    "            print(result.stderr)\n",
    "        time = float(match.group(1))\n",
    "        steps = int(match.group(2))\n",
    "        \n",
    "        config = \"\".join(f\"\"\"\n",
    "        (\n",
    "            logs: [\"{log}/*/*\"],\n",
    "\n",
    "            reporters: [\n",
    "                Plugin(\n",
    "                    library: \"{target_directory}/release/deps/libnecsim_plugins_common.so\",\n",
    "                    reporters: [Biodiversity()]\n",
    "                )\n",
    "            ],\n",
    "        )\n",
    "        \"\"\".split()).replace(\",)\", \")\").replace(\",]\", \"]\")\n",
    "        \n",
    "        # Run the simulation\n",
    "        result = subprocess.run(shlex.split(\n",
    "            \"cargo run --release --features rustcoalescence-algorithms-monolithic,\"\n",
    "            + f\"rustcoalescence-algorithms-independent,necsim-partitioning-mpi --quiet -- replay '{config}'\"\n",
    "        ), check=True, capture_output=True, text=True)\n",
    "\n",
    "        match = BIODIVERSITY_PATTERN.search(result.stdout)\n",
    "        if match is None:\n",
    "            print(result.stdout)\n",
    "            print(result.stderr)\n",
    "        biodiversity = int(match.group(1))\n",
    "        \n",
    "    return biodiversity, time, steps"
   ]
  },
  {
   "cell_type": "code",
   "execution_count": 7,
   "id": "e51c8810-937a-496f-a4e9-fa6db9f2f626",
   "metadata": {
    "execution": {
     "iopub.execute_input": "2021-05-08T21:34:55.652955Z",
     "iopub.status.busy": "2021-05-08T21:34:55.652012Z",
     "iopub.status.idle": "2021-05-08T21:34:55.653905Z",
     "shell.execute_reply": "2021-05-08T21:34:55.654636Z"
    },
    "jupyter": {
     "source_hidden": true
    },
    "tags": []
   },
   "outputs": [],
   "source": [
    "def simulate_non_spatial_isolated(algorithm, partitions=4, speciation=0.1, seed=42, size=(10, 10, 10), spatial=False):\n",
    "    with TemporaryDirectory() as log:\n",
    "        def simulate_non_spatial_isolated_partition(rank):\n",
    "            config = \"\".join(f\"\"\"\n",
    "            (\n",
    "                speciation: {speciation},\n",
    "                sample: 1.0,\n",
    "                seed: {seed},\n",
    "\n",
    "                algorithm: {algorithm.format(partition=f'Partition(rank:{rank},partitions:{partitions})')},\n",
    "\n",
    "                log: \"{log}/{rank}\",\n",
    "\n",
    "                scenario: NonSpatial(\n",
    "                    area: ({size[0]}, {size[1]}),\n",
    "                    deme: {size[2]},\n",
    "                    spatial: {str(spatial).lower()},\n",
    "                ),\n",
    "\n",
    "                reporters: [\n",
    "                    Plugin(\n",
    "                        library: \"{target_directory}/release/deps/libnecsim_plugins_common.so\",\n",
    "                        reporters: [Biodiversity()]\n",
    "                    )\n",
    "                ],\n",
    "            )\n",
    "            \"\"\".split()).replace(\",)\", \")\").replace(\",]\", \"]\")\n",
    "            \n",
    "            # Run the simulation\n",
    "            result = subprocess.run(shlex.split(\n",
    "                \"cargo run --release --features rustcoalescence-algorithms-monolithic,\"\n",
    "                + \"rustcoalescence-algorithms-independent,necsim-partitioning-mpi \"\n",
    "                + f\"-- simulate '{config}'\"\n",
    "            ), capture_output=True, text=True)\n",
    "        \n",
    "            match = TIMING_PATTERN.search(result.stdout)\n",
    "            if match is None:\n",
    "                print(result.stdout)\n",
    "                print(result.stderr)\n",
    "            time = float(match.group(1))\n",
    "            steps = int(match.group(2))\n",
    "            \n",
    "            return time, steps\n",
    "\n",
    "        results = [simulate_non_spatial_isolated_partition(rank) for rank in range(partitions)]\n",
    "            \n",
    "        times, steps = tuple(zip(*results))\n",
    "        \n",
    "        config = \"\".join(f\"\"\"\n",
    "        (\n",
    "            logs: [\"{log}/*/*/*\"],\n",
    "\n",
    "            reporters: [\n",
    "                Plugin(\n",
    "                    library: \"{target_directory}/release/deps/libnecsim_plugins_common.so\",\n",
    "                    reporters: [Biodiversity()]\n",
    "                )\n",
    "            ],\n",
    "        )\n",
    "        \"\"\".split()).replace(\",)\", \")\").replace(\",]\", \"]\")\n",
    "        \n",
    "        # Run the simulation\n",
    "        result = subprocess.run(shlex.split(\n",
    "            \"cargo run --release --features rustcoalescence-algorithms-monolithic,\"\n",
    "            + f\"rustcoalescence-algorithms-independent,necsim-partitioning-mpi --quiet -- replay '{config}'\"\n",
    "        ), check=True, capture_output=True, text=True)\n",
    "\n",
    "        match = BIODIVERSITY_PATTERN.search(result.stdout)\n",
    "        if match is None:\n",
    "            print(result.stdout)\n",
    "            print(result.stderr)\n",
    "        biodiversity = int(match.group(1))\n",
    "        \n",
    "    return biodiversity, max(times), sum(steps)"
   ]
  },
  {
   "cell_type": "code",
   "execution_count": 8,
   "id": "8f940b1e",
   "metadata": {
    "execution": {
     "iopub.execute_input": "2021-05-08T21:34:55.661178Z",
     "iopub.status.busy": "2021-05-08T21:34:55.660279Z",
     "iopub.status.idle": "2021-05-08T21:34:55.662131Z",
     "shell.execute_reply": "2021-05-08T21:34:55.662821Z"
    },
    "jupyter": {
     "source_hidden": true
    },
    "tags": []
   },
   "outputs": [],
   "source": [
    "def batch_simulation_many_seeds(simulate, seeds, args=tuple(), kwargs=dict(), silent=False, processes=mp.cpu_count()):\n",
    "    results = []\n",
    "\n",
    "    with tqdm(total=len(seeds), disable=silent) as progress:\n",
    "        def update_progress(result):\n",
    "            results.append(result)\n",
    "\n",
    "            progress.update()\n",
    "        \n",
    "        def update_error(err):\n",
    "            print(err)\n",
    "\n",
    "        with mp.Pool(processes) as pool:\n",
    "            for seed in seeds:\n",
    "                pool.apply_async(simulate, args, {**kwargs, \"seed\": seed}, update_progress, update_error)\n",
    "\n",
    "            pool.close()\n",
    "            pool.join()\n",
    "    \n",
    "    return results"
   ]
  },
  {
   "cell_type": "code",
   "execution_count": 9,
   "id": "f96aaf45",
   "metadata": {
    "execution": {
     "iopub.execute_input": "2021-05-08T21:34:55.667664Z",
     "iopub.status.busy": "2021-05-08T21:34:55.667055Z",
     "iopub.status.idle": "2021-05-08T21:34:55.669628Z",
     "shell.execute_reply": "2021-05-08T21:34:55.669135Z"
    },
    "jupyter": {
     "source_hidden": true
    },
    "tags": []
   },
   "outputs": [],
   "source": [
    "def confidenceInterval(a, conf=0.95):\n",
    "    mean = np.mean(a)\n",
    "    sem = stats.sem(a)\n",
    "    \n",
    "    t = stats.t.ppf((1.0 + conf) * 0.5, len(a) - 1)\n",
    "    \n",
    "    return mean - t*sem, mean + t*sem"
   ]
  },
  {
   "cell_type": "code",
   "execution_count": 10,
   "id": "1b71b0b2",
   "metadata": {
    "execution": {
     "iopub.execute_input": "2021-05-08T21:34:55.679144Z",
     "iopub.status.busy": "2021-05-08T21:34:55.678229Z",
     "iopub.status.idle": "2021-05-08T21:34:55.680989Z",
     "shell.execute_reply": "2021-05-08T21:34:55.680219Z"
    },
    "jupyter": {
     "source_hidden": true
    },
    "tags": []
   },
   "outputs": [],
   "source": [
    "def visualise_biodiversity_time_steps_result(expected, biodiversities, times, steps, conf=0.95):\n",
    "    low, high = confidenceInterval(biodiversities, conf=conf)\n",
    "\n",
    "    xmin = np.min(biodiversities)\n",
    "    xmax = np.max(biodiversities)\n",
    "\n",
    "    bins = min(21, xmax - xmin + (1 - (xmax - xmin) % 2))\n",
    "\n",
    "    fig, (ax1, ax2, ax3) = plt.subplots(1, 3, figsize=(16, 4))\n",
    "\n",
    "    ax1.set_title(\"Biodiversity distribution\")\n",
    "    ax1.set_xlabel(\"biodiversity\")\n",
    "    ax1.set_ylabel(\"pdf\")\n",
    "    ax1.hist(biodiversities, bins=bins, density=True, label=(\n",
    "        f\"Observed: {round((low + high) * 0.5, 2)} ± {round((high - low) * 0.5, 2)} ({conf} level)\"\n",
    "    ))\n",
    "    ax1.axvline(x=expected, color='red', label=f\"Expected: {round(expected, 2)}\")\n",
    "\n",
    "    mu, std = stats.norm.fit(biodiversities)\n",
    "    x = np.linspace(xmin, xmax, 100)\n",
    "    p = stats.norm.pdf(x, mu, std)\n",
    "    ax1.plot(x, p, 'k', linewidth=2, label=f\"Fitted: mu≈{round(mu, 2)} sigma≈{round(std, 2)}\")\n",
    "\n",
    "    ax1.legend(loc = 'lower center')\n",
    "\n",
    "    ax2.set_title(\"Simulation time distribution\")\n",
    "    ax2.set_xlabel(\"time\")\n",
    "    ax2.set_ylabel(\"pdf\")\n",
    "    ax2.hist(times, bins=bins, density=True)\n",
    "\n",
    "    ax3.set_title(\"Simulation steps distribution\")\n",
    "    ax3.set_xlabel(\"steps\")\n",
    "    ax3.set_ylabel(\"pdf\")\n",
    "    ax3.hist(steps, bins=bins, density=True)\n",
    "\n",
    "    plt.show()"
   ]
  },
  {
   "cell_type": "markdown",
   "id": "3bca4404-d79c-4d12-bd30-3f4e99bb6c04",
   "metadata": {},
   "source": [
    "# I. Verify that different `delta_t`s for the Independent Algorithm give the correct results for a NonSpatial scenario"
   ]
  },
  {
   "cell_type": "code",
   "execution_count": 11,
   "id": "38684b87-0b22-48d7-9b14-710b0d51ef0f",
   "metadata": {
    "execution": {
     "iopub.execute_input": "2021-05-08T21:34:55.689051Z",
     "iopub.status.busy": "2021-05-08T21:34:55.687077Z",
     "iopub.status.idle": "2021-05-08T21:37:24.925643Z",
     "shell.execute_reply": "2021-05-08T21:37:24.926515Z"
    }
   },
   "outputs": [
    {
     "name": "stderr",
     "output_type": "stream",
     "text": [
      "100%|██████████| 1000/1000 [01:14<00:00, 13.42it/s]\n"
     ]
    },
    {
     "data": {
      "text/markdown": [
       "## Independent(delta_t:0.5):"
      ],
      "text/plain": [
       "<IPython.core.display.Markdown object>"
      ]
     },
     "metadata": {},
     "output_type": "display_data"
    },
    {
     "data": {
      "image/png": "[encoded data removed]",
      "text/plain": [
       "<Figure size 1152x288 with 3 Axes>"
      ]
     },
     "metadata": {
      "needs_background": "light"
     },
     "output_type": "display_data"
    },
    {
     "name": "stderr",
     "output_type": "stream",
     "text": [
      "100%|██████████| 1000/1000 [01:13<00:00, 13.58it/s]\n"
     ]
    },
    {
     "data": {
      "text/markdown": [
       "## Independent(delta_t:5.0):"
      ],
      "text/plain": [
       "<IPython.core.display.Markdown object>"
      ]
     },
     "metadata": {},
     "output_type": "display_data"
    },
    {
     "data": {
      "image/png": "[encoded data removed]",
      "text/plain": [
       "<Figure size 1152x288 with 3 Axes>"
      ]
     },
     "metadata": {
      "needs_background": "light"
     },
     "output_type": "display_data"
    }
   ],
   "source": [
    "for algorithm in [\"Independent(delta_t:0.5)\", \"Independent(delta_t:5.0)\"]:\n",
    "    seeds = np.random.randint(0, np.iinfo(\"uint64\").max, dtype=\"uint64\", size=1000)\n",
    "\n",
    "    results = batch_simulation_many_seeds(simulate_non_spatial_monolithic, seeds, args=(algorithm,), kwargs={\n",
    "        \"size\":(10, 10, 10), \"speciation\":0.1\n",
    "    }, silent=False)\n",
    "\n",
    "    biodiversities, times, steps = tuple(zip(*results))\n",
    "\n",
    "    display(Markdown(f\"## {algorithm}:\"))\n",
    "    visualise_biodiversity_time_steps_result(s_island(10*10, 10, 0.1), biodiversities, times, steps)"
   ]
  },
  {
   "cell_type": "markdown",
   "id": "9ed571c0",
   "metadata": {},
   "source": [
    "# II. Verify that the default settings for the Independent Algorithm give the correct results for a NonSpatial scenario without parallelisation"
   ]
  },
  {
   "cell_type": "code",
   "execution_count": 12,
   "id": "d89e5ece",
   "metadata": {
    "execution": {
     "iopub.execute_input": "2021-05-08T21:37:24.934175Z",
     "iopub.status.busy": "2021-05-08T21:37:24.933106Z",
     "iopub.status.idle": "2021-05-08T21:38:39.207141Z",
     "shell.execute_reply": "2021-05-08T21:38:39.207882Z"
    }
   },
   "outputs": [
    {
     "name": "stderr",
     "output_type": "stream",
     "text": [
      "100%|██████████| 1000/1000 [01:13<00:00, 13.56it/s]\n"
     ]
    },
    {
     "data": {
      "text/markdown": [
       "## Independent():"
      ],
      "text/plain": [
       "<IPython.core.display.Markdown object>"
      ]
     },
     "metadata": {},
     "output_type": "display_data"
    },
    {
     "data": {
      "image/png": "[encoded data removed]",
      "text/plain": [
       "<Figure size 1152x288 with 3 Axes>"
      ]
     },
     "metadata": {
      "needs_background": "light"
     },
     "output_type": "display_data"
    }
   ],
   "source": [
    "for algorithm in [\"Independent()\"]:\n",
    "    seeds = np.random.randint(0, np.iinfo(\"uint64\").max, dtype=\"uint64\", size=1000)\n",
    "\n",
    "    results = batch_simulation_many_seeds(simulate_non_spatial_monolithic, seeds, args=(algorithm,), kwargs={\n",
    "        \"size\":(10, 10, 10), \"speciation\":0.1\n",
    "    }, silent=False)\n",
    "\n",
    "    biodiversities, times, steps = tuple(zip(*results))\n",
    "\n",
    "    display(Markdown(f\"## {algorithm}:\"))\n",
    "    visualise_biodiversity_time_steps_result(s_island(10*10, 10, 0.1), biodiversities, times, steps)"
   ]
  },
  {
   "cell_type": "markdown",
   "id": "dc7dc5cc-ef6d-45f0-bbc1-4af263606a21",
   "metadata": {},
   "source": [
    "# III. Verify that the non-altering settings produce exactly the same results (excluding #steps)"
   ]
  },
  {
   "cell_type": "code",
   "execution_count": 13,
   "id": "841dccee-845c-43f2-8048-d847d7b406cd",
   "metadata": {
    "execution": {
     "iopub.execute_input": "2021-05-08T21:38:39.280599Z",
     "iopub.status.busy": "2021-05-08T21:38:39.279356Z",
     "iopub.status.idle": "2021-05-08T21:46:04.908791Z",
     "shell.execute_reply": "2021-05-08T21:46:04.909382Z"
    }
   },
   "outputs": [
    {
     "name": "stderr",
     "output_type": "stream",
     "text": [
      "100%|██████████| 1000/1000 [01:13<00:00, 13.52it/s]\n"
     ]
    },
    {
     "data": {
      "text/markdown": [
       "## Independent(step_slice:1): <span style='color:green'>Success</span>"
      ],
      "text/plain": [
       "<IPython.core.display.Markdown object>"
      ]
     },
     "metadata": {},
     "output_type": "display_data"
    },
    {
     "name": "stderr",
     "output_type": "stream",
     "text": [
      "100%|██████████| 1000/1000 [01:14<00:00, 13.51it/s]\n"
     ]
    },
    {
     "data": {
      "text/markdown": [
       "## Independent(step_slice:25): <span style='color:green'>Success</span>"
      ],
      "text/plain": [
       "<IPython.core.display.Markdown object>"
      ]
     },
     "metadata": {},
     "output_type": "display_data"
    },
    {
     "name": "stderr",
     "output_type": "stream",
     "text": [
      "100%|██████████| 1000/1000 [01:14<00:00, 13.48it/s]\n"
     ]
    },
    {
     "data": {
      "text/markdown": [
       "## Independent(dedup_cache:Absolute(capacity:10)): <span style='color:green'>Success</span>"
      ],
      "text/plain": [
       "<IPython.core.display.Markdown object>"
      ]
     },
     "metadata": {},
     "output_type": "display_data"
    },
    {
     "name": "stderr",
     "output_type": "stream",
     "text": [
      "100%|██████████| 1000/1000 [01:14<00:00, 13.44it/s]\n"
     ]
    },
    {
     "data": {
      "text/markdown": [
       "## Independent(dedup_cache:None): <span style='color:green'>Success</span>"
      ],
      "text/plain": [
       "<IPython.core.display.Markdown object>"
      ]
     },
     "metadata": {},
     "output_type": "display_data"
    },
    {
     "name": "stderr",
     "output_type": "stream",
     "text": [
      "100%|██████████| 1000/1000 [01:14<00:00, 13.48it/s]\n"
     ]
    },
    {
     "data": {
      "text/markdown": [
       "## Independent(parallelism_mode:Monolithic(event_slice:1000)): <span style='color:green'>Success</span>"
      ],
      "text/plain": [
       "<IPython.core.display.Markdown object>"
      ]
     },
     "metadata": {},
     "output_type": "display_data"
    },
    {
     "name": "stderr",
     "output_type": "stream",
     "text": [
      "100%|██████████| 1000/1000 [01:14<00:00, 13.37it/s]\n"
     ]
    },
    {
     "data": {
      "text/markdown": [
       "## Independent(parallelism_mode:Monolithic(event_slice:1)): <span style='color:green'>Success</span>"
      ],
      "text/plain": [
       "<IPython.core.display.Markdown object>"
      ]
     },
     "metadata": {},
     "output_type": "display_data"
    }
   ],
   "source": [
    "comparison_seeds = seeds[:]\n",
    "comparison_results = sorted(r[:2] for r in results[:])\n",
    "\n",
    "for algorithm in [\n",
    "    \"Independent(step_slice:1)\", \"Independent(step_slice:25)\",\n",
    "    \"Independent(dedup_cache:Absolute(capacity:10))\", \"Independent(dedup_cache:None)\",\n",
    "    \"Independent(parallelism_mode:Monolithic(event_slice:1000))\", \"Independent(parallelism_mode:Monolithic(event_slice:1))\",\n",
    "]:\n",
    "    check_results = batch_simulation_many_seeds(simulate_non_spatial_monolithic, comparison_seeds, args=(algorithm,), kwargs={\n",
    "        \"size\":(10, 10, 10), \"speciation\":0.1\n",
    "    }, silent=False)\n",
    "    \n",
    "    check_results = sorted(r[:2] for r in check_results)\n",
    "    \n",
    "    if check_results == comparison_results:\n",
    "        display(Markdown(f\"## {algorithm}: <span style='color:green'>Success</span>\"))\n",
    "    else:\n",
    "        display(Markdown(f\"## {algorithm}: <span style='color:red'><u>FAILURE</u></span>\"))"
   ]
  },
  {
   "cell_type": "markdown",
   "id": "3c796916-a21c-4b31-bf08-6592c8725818",
   "metadata": {},
   "source": [
    "# IV. Verify that the Monolithic replay analysis though the event log produces exactlty the same results as live analysis"
   ]
  },
  {
   "cell_type": "code",
   "execution_count": 14,
   "id": "72bd98bf-1c0d-4902-8dbb-8c8152cf4f93",
   "metadata": {
    "execution": {
     "iopub.execute_input": "2021-05-08T21:46:04.919474Z",
     "iopub.status.busy": "2021-05-08T21:46:04.918704Z",
     "iopub.status.idle": "2021-05-08T21:49:55.404783Z",
     "shell.execute_reply": "2021-05-08T21:49:55.405359Z"
    }
   },
   "outputs": [
    {
     "name": "stderr",
     "output_type": "stream",
     "text": [
      "100%|██████████| 1000/1000 [03:50<00:00,  4.34it/s]\n"
     ]
    },
    {
     "data": {
      "text/markdown": [
       "## Independent(parallelism_mode:Monolithic(event_slice:100)): <span style='color:green'>Success</span>"
      ],
      "text/plain": [
       "<IPython.core.display.Markdown object>"
      ]
     },
     "metadata": {},
     "output_type": "display_data"
    }
   ],
   "source": [
    "comparison_seeds = seeds[:]\n",
    "comparison_results = sorted(r[:2] for r in results[:])\n",
    "\n",
    "for algorithm in [\"Independent(parallelism_mode:Monolithic(event_slice:100))\"]:\n",
    "    check_results = batch_simulation_many_seeds(simulate_non_spatial_parallel, comparison_seeds, args=(algorithm,), kwargs={\n",
    "        \"partitions\":1, \"size\":(10, 10, 10), \"speciation\":0.1\n",
    "    }, silent=False)\n",
    "\n",
    "    check_results = sorted(r[:2] for r in check_results)\n",
    "\n",
    "    if check_results == comparison_results:\n",
    "        display(Markdown(f\"## {algorithm}: <span style='color:green'>Success</span>\"))\n",
    "    else:\n",
    "        display(Markdown(f\"## {algorithm}: <span style='color:red'><u>FAILURE</u></span>\"))"
   ]
  },
  {
   "cell_type": "markdown",
   "id": "cb154796-ec6d-40cd-bee6-9777a7d18163",
   "metadata": {},
   "source": [
    "# V. Verify that the Isolated parallelisation produces exactly the same results"
   ]
  },
  {
   "cell_type": "code",
   "execution_count": 15,
   "id": "d8beea25-7ceb-49ec-ad99-74ec83e3d1b8",
   "metadata": {
    "execution": {
     "iopub.execute_input": "2021-05-08T21:49:55.415883Z",
     "iopub.status.busy": "2021-05-08T21:49:55.415149Z",
     "iopub.status.idle": "2021-05-09T01:54:23.430266Z",
     "shell.execute_reply": "2021-05-09T01:54:23.429573Z"
    }
   },
   "outputs": [
    {
     "name": "stderr",
     "output_type": "stream",
     "text": [
      "100%|██████████| 1000/1000 [03:40<00:00,  4.54it/s]\n"
     ]
    },
    {
     "data": {
      "text/markdown": [
       "## Independent(parallelism_mode:IsolatedIndividuals(partition:{partition},event_slice:1)) with 2 partitions: <span style='color:green'>Success</span>"
      ],
      "text/plain": [
       "<IPython.core.display.Markdown object>"
      ]
     },
     "metadata": {},
     "output_type": "display_data"
    },
    {
     "name": "stderr",
     "output_type": "stream",
     "text": [
      "100%|██████████| 1000/1000 [07:20<00:00,  2.27it/s]\n"
     ]
    },
    {
     "data": {
      "text/markdown": [
       "## Independent(parallelism_mode:IsolatedIndividuals(partition:{partition},event_slice:1)) with 5 partitions: <span style='color:green'>Success</span>"
      ],
      "text/plain": [
       "<IPython.core.display.Markdown object>"
      ]
     },
     "metadata": {},
     "output_type": "display_data"
    },
    {
     "name": "stderr",
     "output_type": "stream",
     "text": [
      "100%|██████████| 1000/1000 [50:09<00:00,  3.01s/it]\n"
     ]
    },
    {
     "data": {
      "text/markdown": [
       "## Independent(parallelism_mode:IsolatedIndividuals(partition:{partition},event_slice:1)) with 40 partitions: <span style='color:green'>Success</span>"
      ],
      "text/plain": [
       "<IPython.core.display.Markdown object>"
      ]
     },
     "metadata": {},
     "output_type": "display_data"
    },
    {
     "name": "stderr",
     "output_type": "stream",
     "text": [
      "100%|██████████| 1000/1000 [03:40<00:00,  4.55it/s]\n"
     ]
    },
    {
     "data": {
      "text/markdown": [
       "## Independent(parallelism_mode:IsolatedIndividuals(partition:{partition},event_slice:1000)) with 2 partitions: <span style='color:green'>Success</span>"
      ],
      "text/plain": [
       "<IPython.core.display.Markdown object>"
      ]
     },
     "metadata": {},
     "output_type": "display_data"
    },
    {
     "name": "stderr",
     "output_type": "stream",
     "text": [
      "100%|██████████| 1000/1000 [07:19<00:00,  2.27it/s]\n"
     ]
    },
    {
     "data": {
      "text/markdown": [
       "## Independent(parallelism_mode:IsolatedIndividuals(partition:{partition},event_slice:1000)) with 5 partitions: <span style='color:green'>Success</span>"
      ],
      "text/plain": [
       "<IPython.core.display.Markdown object>"
      ]
     },
     "metadata": {},
     "output_type": "display_data"
    },
    {
     "name": "stderr",
     "output_type": "stream",
     "text": [
      "100%|██████████| 1000/1000 [50:03<00:00,  3.00s/it]\n"
     ]
    },
    {
     "data": {
      "text/markdown": [
       "## Independent(parallelism_mode:IsolatedIndividuals(partition:{partition},event_slice:1000)) with 40 partitions: <span style='color:green'>Success</span>"
      ],
      "text/plain": [
       "<IPython.core.display.Markdown object>"
      ]
     },
     "metadata": {},
     "output_type": "display_data"
    },
    {
     "name": "stderr",
     "output_type": "stream",
     "text": [
      "100%|██████████| 1000/1000 [03:40<00:00,  4.54it/s]\n"
     ]
    },
    {
     "data": {
      "text/markdown": [
       "## Independent(parallelism_mode:IsolatedLandscape(partition:{partition},event_slice:1)) with 2 partitions: <span style='color:green'>Success</span>"
      ],
      "text/plain": [
       "<IPython.core.display.Markdown object>"
      ]
     },
     "metadata": {},
     "output_type": "display_data"
    },
    {
     "name": "stderr",
     "output_type": "stream",
     "text": [
      "100%|██████████| 1000/1000 [07:20<00:00,  2.27it/s]\n"
     ]
    },
    {
     "data": {
      "text/markdown": [
       "## Independent(parallelism_mode:IsolatedLandscape(partition:{partition},event_slice:1)) with 5 partitions: <span style='color:green'>Success</span>"
      ],
      "text/plain": [
       "<IPython.core.display.Markdown object>"
      ]
     },
     "metadata": {},
     "output_type": "display_data"
    },
    {
     "name": "stderr",
     "output_type": "stream",
     "text": [
      "100%|██████████| 1000/1000 [50:08<00:00,  3.01s/it]\n"
     ]
    },
    {
     "data": {
      "text/markdown": [
       "## Independent(parallelism_mode:IsolatedLandscape(partition:{partition},event_slice:1)) with 40 partitions: <span style='color:green'>Success</span>"
      ],
      "text/plain": [
       "<IPython.core.display.Markdown object>"
      ]
     },
     "metadata": {},
     "output_type": "display_data"
    },
    {
     "name": "stderr",
     "output_type": "stream",
     "text": [
      "100%|██████████| 1000/1000 [03:39<00:00,  4.55it/s]\n"
     ]
    },
    {
     "data": {
      "text/markdown": [
       "## Independent(parallelism_mode:IsolatedLandscape(partition:{partition},event_slice:1000)) with 2 partitions: <span style='color:green'>Success</span>"
      ],
      "text/plain": [
       "<IPython.core.display.Markdown object>"
      ]
     },
     "metadata": {},
     "output_type": "display_data"
    },
    {
     "name": "stderr",
     "output_type": "stream",
     "text": [
      "100%|██████████| 1000/1000 [07:20<00:00,  2.27it/s]\n"
     ]
    },
    {
     "data": {
      "text/markdown": [
       "## Independent(parallelism_mode:IsolatedLandscape(partition:{partition},event_slice:1000)) with 5 partitions: <span style='color:green'>Success</span>"
      ],
      "text/plain": [
       "<IPython.core.display.Markdown object>"
      ]
     },
     "metadata": {},
     "output_type": "display_data"
    },
    {
     "name": "stderr",
     "output_type": "stream",
     "text": [
      "100%|██████████| 1000/1000 [50:05<00:00,  3.01s/it]\n"
     ]
    },
    {
     "data": {
      "text/markdown": [
       "## Independent(parallelism_mode:IsolatedLandscape(partition:{partition},event_slice:1000)) with 40 partitions: <span style='color:green'>Success</span>"
      ],
      "text/plain": [
       "<IPython.core.display.Markdown object>"
      ]
     },
     "metadata": {},
     "output_type": "display_data"
    }
   ],
   "source": [
    "comparison_seeds = seeds[:]\n",
    "comparison_results = sorted(r[:2] for r in results[:])\n",
    "\n",
    "for algorithm in [\n",
    "    \"Independent(parallelism_mode:IsolatedIndividuals(partition:{partition},event_slice:1))\",\n",
    "    \"Independent(parallelism_mode:IsolatedIndividuals(partition:{partition},event_slice:1000))\",\n",
    "    \"Independent(parallelism_mode:IsolatedLandscape(partition:{partition},event_slice:1))\",\n",
    "    \"Independent(parallelism_mode:IsolatedLandscape(partition:{partition},event_slice:1000))\",\n",
    "]:\n",
    "    for partitions in [2, 5, 40]:\n",
    "        check_results = batch_simulation_many_seeds(simulate_non_spatial_isolated, comparison_seeds, args=(algorithm,), kwargs={\n",
    "            \"partitions\":partitions, \"size\":(10, 10, 10), \"speciation\":0.1\n",
    "        }, silent=False)\n",
    "        \n",
    "        check_results = sorted(r[:2] for r in check_results)\n",
    "\n",
    "        if check_results == comparison_results:\n",
    "            display(Markdown(f\"## {algorithm} with {partitions} partitions: <span style='color:green'>Success</span>\"))\n",
    "        else:\n",
    "            display(Markdown(f\"## {algorithm} with {partitions} partitions: <span style='color:red'><u>FAILURE</u></span>\"))"
   ]
  },
  {
   "cell_type": "markdown",
   "id": "af67b2b9-9c09-4f4b-bef0-88c8f62cb356",
   "metadata": {},
   "source": [
    "# VI. Verify that the different parallelisation methods produce exactly the same results"
   ]
  },
  {
   "cell_type": "code",
   "execution_count": 16,
   "id": "9c102ec0-b0e1-4dad-be72-153bc6c64776",
   "metadata": {
    "execution": {
     "iopub.execute_input": "2021-05-09T01:54:23.441073Z",
     "iopub.status.busy": "2021-05-09T01:54:23.440278Z",
     "iopub.status.idle": "2021-05-09T04:33:45.571775Z",
     "shell.execute_reply": "2021-05-09T04:33:45.570834Z"
    }
   },
   "outputs": [
    {
     "name": "stderr",
     "output_type": "stream",
     "text": [
      "100%|██████████| 1000/1000 [03:47<00:00,  4.40it/s]\n"
     ]
    },
    {
     "data": {
      "text/markdown": [
       "## Independent(parallelism_mode:Individuals) with 2 partitions: <span style='color:green'>Success</span>"
      ],
      "text/plain": [
       "<IPython.core.display.Markdown object>"
      ]
     },
     "metadata": {},
     "output_type": "display_data"
    },
    {
     "name": "stderr",
     "output_type": "stream",
     "text": [
      "100%|██████████| 1000/1000 [03:53<00:00,  4.28it/s]\n"
     ]
    },
    {
     "data": {
      "text/markdown": [
       "## Independent(parallelism_mode:Individuals) with 5 partitions: <span style='color:green'>Success</span>"
      ],
      "text/plain": [
       "<IPython.core.display.Markdown object>"
      ]
     },
     "metadata": {},
     "output_type": "display_data"
    },
    {
     "name": "stderr",
     "output_type": "stream",
     "text": [
      "100%|██████████| 1000/1000 [24:06<00:00,  1.45s/it]\n"
     ]
    },
    {
     "data": {
      "text/markdown": [
       "## Independent(parallelism_mode:Individuals) with 40 partitions: <span style='color:green'>Success</span>"
      ],
      "text/plain": [
       "<IPython.core.display.Markdown object>"
      ]
     },
     "metadata": {},
     "output_type": "display_data"
    },
    {
     "name": "stderr",
     "output_type": "stream",
     "text": [
      "100%|██████████| 1000/1000 [03:48<00:00,  4.38it/s]\n"
     ]
    },
    {
     "data": {
      "text/markdown": [
       "## Independent(parallelism_mode:Landscape) with 2 partitions: <span style='color:green'>Success</span>"
      ],
      "text/plain": [
       "<IPython.core.display.Markdown object>"
      ]
     },
     "metadata": {},
     "output_type": "display_data"
    },
    {
     "name": "stderr",
     "output_type": "stream",
     "text": [
      "100%|██████████| 1000/1000 [03:52<00:00,  4.29it/s]\n"
     ]
    },
    {
     "data": {
      "text/markdown": [
       "## Independent(parallelism_mode:Landscape) with 5 partitions: <span style='color:green'>Success</span>"
      ],
      "text/plain": [
       "<IPython.core.display.Markdown object>"
      ]
     },
     "metadata": {},
     "output_type": "display_data"
    },
    {
     "name": "stderr",
     "output_type": "stream",
     "text": [
      "100%|██████████| 1000/1000 [24:14<00:00,  1.45s/it]\n"
     ]
    },
    {
     "data": {
      "text/markdown": [
       "## Independent(parallelism_mode:Landscape) with 40 partitions: <span style='color:green'>Success</span>"
      ],
      "text/plain": [
       "<IPython.core.display.Markdown object>"
      ]
     },
     "metadata": {},
     "output_type": "display_data"
    },
    {
     "name": "stderr",
     "output_type": "stream",
     "text": [
      "100%|██████████| 1000/1000 [03:48<00:00,  4.37it/s]\n"
     ]
    },
    {
     "data": {
      "text/markdown": [
       "## Independent(parallelism_mode:Probabilistic(communication: 0.0)) with 2 partitions: <span style='color:green'>Success</span>"
      ],
      "text/plain": [
       "<IPython.core.display.Markdown object>"
      ]
     },
     "metadata": {},
     "output_type": "display_data"
    },
    {
     "name": "stderr",
     "output_type": "stream",
     "text": [
      "100%|██████████| 1000/1000 [03:50<00:00,  4.34it/s]\n"
     ]
    },
    {
     "data": {
      "text/markdown": [
       "## Independent(parallelism_mode:Probabilistic(communication: 0.0)) with 5 partitions: <span style='color:green'>Success</span>"
      ],
      "text/plain": [
       "<IPython.core.display.Markdown object>"
      ]
     },
     "metadata": {},
     "output_type": "display_data"
    },
    {
     "name": "stderr",
     "output_type": "stream",
     "text": [
      "100%|██████████| 1000/1000 [24:07<00:00,  1.45s/it]\n"
     ]
    },
    {
     "data": {
      "text/markdown": [
       "## Independent(parallelism_mode:Probabilistic(communication: 0.0)) with 40 partitions: <span style='color:green'>Success</span>"
      ],
      "text/plain": [
       "<IPython.core.display.Markdown object>"
      ]
     },
     "metadata": {},
     "output_type": "display_data"
    },
    {
     "name": "stderr",
     "output_type": "stream",
     "text": [
      "100%|██████████| 1000/1000 [03:47<00:00,  4.39it/s]\n"
     ]
    },
    {
     "data": {
      "text/markdown": [
       "## Independent(parallelism_mode:Probabilistic(communication: 0.5)) with 2 partitions: <span style='color:green'>Success</span>"
      ],
      "text/plain": [
       "<IPython.core.display.Markdown object>"
      ]
     },
     "metadata": {},
     "output_type": "display_data"
    },
    {
     "name": "stderr",
     "output_type": "stream",
     "text": [
      "100%|██████████| 1000/1000 [03:53<00:00,  4.28it/s]\n"
     ]
    },
    {
     "data": {
      "text/markdown": [
       "## Independent(parallelism_mode:Probabilistic(communication: 0.5)) with 5 partitions: <span style='color:green'>Success</span>"
      ],
      "text/plain": [
       "<IPython.core.display.Markdown object>"
      ]
     },
     "metadata": {},
     "output_type": "display_data"
    },
    {
     "name": "stderr",
     "output_type": "stream",
     "text": [
      "100%|██████████| 1000/1000 [24:14<00:00,  1.45s/it]\n"
     ]
    },
    {
     "data": {
      "text/markdown": [
       "## Independent(parallelism_mode:Probabilistic(communication: 0.5)) with 40 partitions: <span style='color:green'>Success</span>"
      ],
      "text/plain": [
       "<IPython.core.display.Markdown object>"
      ]
     },
     "metadata": {},
     "output_type": "display_data"
    },
    {
     "name": "stderr",
     "output_type": "stream",
     "text": [
      "100%|██████████| 1000/1000 [03:49<00:00,  4.37it/s]\n"
     ]
    },
    {
     "data": {
      "text/markdown": [
       "## Independent(parallelism_mode:Probabilistic(communication: 1.0)) with 2 partitions: <span style='color:green'>Success</span>"
      ],
      "text/plain": [
       "<IPython.core.display.Markdown object>"
      ]
     },
     "metadata": {},
     "output_type": "display_data"
    },
    {
     "name": "stderr",
     "output_type": "stream",
     "text": [
      "100%|██████████| 1000/1000 [03:54<00:00,  4.26it/s]\n"
     ]
    },
    {
     "data": {
      "text/markdown": [
       "## Independent(parallelism_mode:Probabilistic(communication: 1.0)) with 5 partitions: <span style='color:green'>Success</span>"
      ],
      "text/plain": [
       "<IPython.core.display.Markdown object>"
      ]
     },
     "metadata": {},
     "output_type": "display_data"
    },
    {
     "name": "stderr",
     "output_type": "stream",
     "text": [
      "100%|██████████| 1000/1000 [24:11<00:00,  1.45s/it]\n"
     ]
    },
    {
     "data": {
      "text/markdown": [
       "## Independent(parallelism_mode:Probabilistic(communication: 1.0)) with 40 partitions: <span style='color:green'>Success</span>"
      ],
      "text/plain": [
       "<IPython.core.display.Markdown object>"
      ]
     },
     "metadata": {},
     "output_type": "display_data"
    }
   ],
   "source": [
    "comparison_seeds = seeds[:]\n",
    "comparison_results = sorted(r[:2] for r in results[:])\n",
    "\n",
    "for algorithm in [\n",
    "    \"Independent(parallelism_mode:Individuals)\",\n",
    "    \"Independent(parallelism_mode:Landscape)\",\n",
    "    \"Independent(parallelism_mode:Probabilistic(communication: 0.0))\",\n",
    "    \"Independent(parallelism_mode:Probabilistic(communication: 0.5))\",\n",
    "    \"Independent(parallelism_mode:Probabilistic(communication: 1.0))\",\n",
    "]:\n",
    "    for partitions in [2, 5, 40]:\n",
    "        check_results = batch_simulation_many_seeds(simulate_non_spatial_parallel, comparison_seeds, args=(algorithm,), kwargs={\n",
    "            \"partitions\":partitions, \"size\":(10, 10, 10), \"speciation\":0.1\n",
    "        }, silent=False, processes=(mp.cpu_count() // partitions))\n",
    "        \n",
    "        check_results = sorted(r[:2] for r in check_results)\n",
    "\n",
    "        if check_results == comparison_results:\n",
    "            display(Markdown(f\"## {algorithm} with {partitions} partitions: <span style='color:green'>Success</span>\"))\n",
    "        else:\n",
    "            display(Markdown(f\"## {algorithm} with {partitions} partitions: <span style='color:red'><u>FAILURE</u></span>\"))"
   ]
  },
  {
   "cell_type": "code",
   "execution_count": null,
   "id": "433c0875-d76c-4cf3-b1ed-102fd7847fe0",
   "metadata": {},
   "outputs": [],
   "source": []
  }
 ],
 "metadata": {
  "kernelspec": {
   "display_name": "Python 3",
   "language": "python",
   "name": "python3"
  },
  "language_info": {
   "codemirror_mode": {
    "name": "ipython",
    "version": 3
   },
   "file_extension": ".py",
   "mimetype": "text/x-python",
   "name": "python",
   "nbconvert_exporter": "python",
   "pygments_lexer": "ipython3",
   "version": "3.7.5"
  }
 },
 "nbformat": 4,
 "nbformat_minor": 5
}

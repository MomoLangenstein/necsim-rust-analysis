{
 "cells": [
  {
   "cell_type": "code",
   "execution_count": 1,
   "id": "85acfeb7",
   "metadata": {
    "execution": {
     "iopub.execute_input": "2021-05-03T18:19:50.603632Z",
     "iopub.status.busy": "2021-05-03T18:19:50.602564Z",
     "iopub.status.idle": "2021-05-03T18:19:51.159841Z",
     "shell.execute_reply": "2021-05-03T18:19:51.160255Z"
    },
    "jupyter": {
     "source_hidden": true
    },
    "tags": []
   },
   "outputs": [],
   "source": [
    "import subprocess\n",
    "import shlex\n",
    "import re\n",
    "import json\n",
    "\n",
    "import numpy as np\n",
    "import multiprocessing as mp\n",
    "\n",
    "from matplotlib import pyplot as plt\n",
    "from scipy import stats\n",
    "from tqdm import tqdm\n",
    "from IPython.display import display, Markdown\n",
    "from tempfile import TemporaryDirectory"
   ]
  },
  {
   "cell_type": "code",
   "execution_count": 2,
   "id": "3cb196dd",
   "metadata": {
    "execution": {
     "iopub.execute_input": "2021-05-03T18:19:51.165273Z",
     "iopub.status.busy": "2021-05-03T18:19:51.164559Z",
     "iopub.status.idle": "2021-05-03T18:19:51.166024Z",
     "shell.execute_reply": "2021-05-03T18:19:51.166608Z"
    },
    "jupyter": {
     "source_hidden": true
    },
    "tags": []
   },
   "outputs": [],
   "source": [
    "import scipy.special as sp\n",
    "\n",
    "def s_island(A_eff, deme, nu):\n",
    "    theta_A_eff = (deme * A_eff - 1.0) * nu / (1.0 - nu)\n",
    "    \n",
    "    return theta_A_eff * (sp.digamma(theta_A_eff + deme * A_eff) - sp.digamma(theta_A_eff))\n",
    "\n",
    "def s_island_limit(A_eff, deme, nu):\n",
    "    return ((A_eff * deme - 1.0) * nu * np.log(1.0 / nu)) / (1.0 - nu)"
   ]
  },
  {
   "cell_type": "code",
   "execution_count": 3,
   "id": "8f9f5a64",
   "metadata": {
    "execution": {
     "iopub.execute_input": "2021-05-03T18:19:51.170842Z",
     "iopub.status.busy": "2021-05-03T18:19:51.170114Z",
     "iopub.status.idle": "2021-05-03T18:19:51.171598Z",
     "shell.execute_reply": "2021-05-03T18:19:51.172166Z"
    },
    "jupyter": {
     "source_hidden": true
    },
    "tags": []
   },
   "outputs": [],
   "source": [
    "BIODIVERSITY_PATTERN = re.compile(r\"The simulation resulted in a biodiversity of (\\d+) unique species\\.\")\n",
    "TIMING_PATTERN = re.compile(r\"The simulation finished at time (\\d+\\.\\d+) after (\\d+) steps\\.\")"
   ]
  },
  {
   "cell_type": "code",
   "execution_count": 4,
   "id": "839ac46d",
   "metadata": {
    "execution": {
     "iopub.execute_input": "2021-05-03T18:19:51.179923Z",
     "iopub.status.busy": "2021-05-03T18:19:51.175670Z",
     "iopub.status.idle": "2021-05-03T18:19:51.367648Z",
     "shell.execute_reply": "2021-05-03T18:19:51.367131Z"
    },
    "jupyter": {
     "source_hidden": true
    },
    "tags": []
   },
   "outputs": [],
   "source": [
    "target_directory = json.loads(subprocess.run(\"cargo metadata --format-version 1\".split(), capture_output=True).stdout)[\"target_directory\"]"
   ]
  },
  {
   "cell_type": "code",
   "execution_count": 5,
   "id": "b4c55b7a",
   "metadata": {
    "execution": {
     "iopub.execute_input": "2021-05-03T18:19:51.384291Z",
     "iopub.status.busy": "2021-05-03T18:19:51.383459Z",
     "iopub.status.idle": "2021-05-03T18:19:51.388249Z",
     "shell.execute_reply": "2021-05-03T18:19:51.387404Z"
    },
    "jupyter": {
     "source_hidden": true
    },
    "tags": []
   },
   "outputs": [],
   "source": [
    "def simulate_non_spatial_monolithic(algorithm, speciation=0.1, seed=42, size=(10, 10, 10), spatial=False):\n",
    "    config = \"\".join(f\"\"\"\n",
    "    (\n",
    "        speciation: {speciation},\n",
    "        sample: 1.0,\n",
    "        seed: {seed},\n",
    "\n",
    "        algorithm: {algorithm},\n",
    "\n",
    "        log: None,\n",
    "\n",
    "        scenario: NonSpatial(\n",
    "            area: ({size[0]}, {size[1]}),\n",
    "            deme: {size[2]},\n",
    "            spatial: {str(spatial).lower()},\n",
    "        ),\n",
    "\n",
    "        reporters: [\n",
    "            Plugin(\n",
    "                library: \"{target_directory}/release/deps/libnecsim_plugins_common.so\",\n",
    "                reporters: [Biodiversity()]\n",
    "            )\n",
    "        ],\n",
    "    )\n",
    "    \"\"\".split()).replace(\",)\", \")\").replace(\",]\", \"]\")\n",
    "\n",
    "    # Run the simulation\n",
    "    result = subprocess.run(shlex.split(\n",
    "        \"cargo run --release --features rustcoalescence-algorithms-monolithic,\"\n",
    "        + \"rustcoalescence-algorithms-independent,necsim-partitioning-mpi \"\n",
    "        + f\"--quiet -- simulate '{config}'\"\n",
    "    ), check=True, capture_output=True, text=True)\n",
    "\n",
    "    match = BIODIVERSITY_PATTERN.search(result.stdout)\n",
    "    if match is None:\n",
    "        print(result.stdout)\n",
    "        print(result.stderr)\n",
    "    biodiversity = int(match.group(1))\n",
    "\n",
    "    match = TIMING_PATTERN.search(result.stdout)\n",
    "    if match is None:\n",
    "        print(result.stdout)\n",
    "        print(result.stderr)\n",
    "    time = float(match.group(1))\n",
    "    steps = int(match.group(2))\n",
    "        \n",
    "    return biodiversity, time, steps"
   ]
  },
  {
   "cell_type": "code",
   "execution_count": 6,
   "id": "68d496f8",
   "metadata": {
    "execution": {
     "iopub.execute_input": "2021-05-03T18:19:51.396775Z",
     "iopub.status.busy": "2021-05-03T18:19:51.395786Z",
     "iopub.status.idle": "2021-05-03T18:19:51.398303Z",
     "shell.execute_reply": "2021-05-03T18:19:51.398920Z"
    },
    "jupyter": {
     "source_hidden": true
    },
    "tags": []
   },
   "outputs": [],
   "source": [
    "def simulate_non_spatial_parallel(algorithm, partitions=4, speciation=0.1, seed=42, size=(10, 10, 10), spatial=False):\n",
    "    with TemporaryDirectory() as log:\n",
    "        config = \"\".join(f\"\"\"\n",
    "        (\n",
    "            speciation: {speciation},\n",
    "            sample: 1.0,\n",
    "            seed: {seed},\n",
    "\n",
    "            algorithm: {algorithm},\n",
    "\n",
    "            log: \"{log}\",\n",
    "\n",
    "            scenario: NonSpatial(\n",
    "                area: ({size[0]}, {size[1]}),\n",
    "                deme: {size[2]},\n",
    "                spatial: {str(spatial).lower()},\n",
    "            ),\n",
    "\n",
    "            reporters: [\n",
    "                Plugin(\n",
    "                    library: \"{target_directory}/release/deps/libnecsim_plugins_common.so\",\n",
    "                    reporters: [Biodiversity()]\n",
    "                )\n",
    "            ],\n",
    "        )\n",
    "        \"\"\".split()).replace(\",)\", \")\").replace(\",]\", \"]\")\n",
    "\n",
    "        # Run the simulation\n",
    "        result = subprocess.run(shlex.split(\n",
    "            \"cargo mpirun --release --features rustcoalescence-algorithms-monolithic,\"\n",
    "            + \"rustcoalescence-algorithms-independent,necsim-partitioning-mpi --bin rustcoalescence \"\n",
    "            + f\"-n {partitions} -- simulate '{config}'\"\n",
    "        ), capture_output=True, text=True)\n",
    "        \n",
    "        match = TIMING_PATTERN.search(result.stdout)\n",
    "        if match is None:\n",
    "            print(result.stdout)\n",
    "            print(result.stderr)\n",
    "        time = float(match.group(1))\n",
    "        steps = int(match.group(2))\n",
    "        \n",
    "        config = \"\".join(f\"\"\"\n",
    "        (\n",
    "            logs: [\"{log}/*/*\"],\n",
    "\n",
    "            reporters: [\n",
    "                Plugin(\n",
    "                    library: \"{target_directory}/release/deps/libnecsim_plugins_common.so\",\n",
    "                    reporters: [Biodiversity()]\n",
    "                )\n",
    "            ],\n",
    "        )\n",
    "        \"\"\".split()).replace(\",)\", \")\").replace(\",]\", \"]\")\n",
    "        \n",
    "        # Run the simulation\n",
    "        result = subprocess.run(shlex.split(\n",
    "            \"cargo run --release --features rustcoalescence-algorithms-monolithic,\"\n",
    "            + f\"rustcoalescence-algorithms-independent,necsim-partitioning-mpi --quiet -- replay '{config}'\"\n",
    "        ), check=True, capture_output=True, text=True)\n",
    "\n",
    "        match = BIODIVERSITY_PATTERN.search(result.stdout)\n",
    "        if match is None:\n",
    "            print(result.stdout)\n",
    "            print(result.stderr)\n",
    "        biodiversity = int(match.group(1))\n",
    "        \n",
    "    return biodiversity, time, steps"
   ]
  },
  {
   "cell_type": "code",
   "execution_count": 7,
   "id": "e51c8810-937a-496f-a4e9-fa6db9f2f626",
   "metadata": {
    "execution": {
     "iopub.execute_input": "2021-05-03T18:19:51.408300Z",
     "iopub.status.busy": "2021-05-03T18:19:51.407470Z",
     "iopub.status.idle": "2021-05-03T18:19:51.410777Z",
     "shell.execute_reply": "2021-05-03T18:19:51.410088Z"
    },
    "jupyter": {
     "source_hidden": true
    },
    "tags": []
   },
   "outputs": [],
   "source": [
    "def simulate_non_spatial_isolated(algorithm, partitions=4, speciation=0.1, seed=42, size=(10, 10, 10), spatial=False):\n",
    "    with TemporaryDirectory() as log:\n",
    "        def simulate_non_spatial_isolated_partition(rank):\n",
    "            config = \"\".join(f\"\"\"\n",
    "            (\n",
    "                speciation: {speciation},\n",
    "                sample: 1.0,\n",
    "                seed: {seed},\n",
    "\n",
    "                algorithm: {algorithm.format(partition=f'Partition(rank:{rank},partitions:{partitions})')},\n",
    "\n",
    "                log: \"{log}/{rank}\",\n",
    "\n",
    "                scenario: NonSpatial(\n",
    "                    area: ({size[0]}, {size[1]}),\n",
    "                    deme: {size[2]},\n",
    "                    spatial: {str(spatial).lower()},\n",
    "                ),\n",
    "\n",
    "                reporters: [\n",
    "                    Plugin(\n",
    "                        library: \"{target_directory}/release/deps/libnecsim_plugins_common.so\",\n",
    "                        reporters: [Biodiversity()]\n",
    "                    )\n",
    "                ],\n",
    "            )\n",
    "            \"\"\".split()).replace(\",)\", \")\").replace(\",]\", \"]\")\n",
    "            \n",
    "            # Run the simulation\n",
    "            result = subprocess.run(shlex.split(\n",
    "                \"cargo run --release --features rustcoalescence-algorithms-monolithic,\"\n",
    "                + \"rustcoalescence-algorithms-independent,necsim-partitioning-mpi \"\n",
    "                + f\"-- simulate '{config}'\"\n",
    "            ), capture_output=True, text=True)\n",
    "        \n",
    "            match = TIMING_PATTERN.search(result.stdout)\n",
    "            if match is None:\n",
    "                print(result.stdout)\n",
    "                print(result.stderr)\n",
    "            time = float(match.group(1))\n",
    "            steps = int(match.group(2))\n",
    "            \n",
    "            return time, steps\n",
    "\n",
    "        results = [simulate_non_spatial_isolated_partition(rank) for rank in range(partitions)]\n",
    "            \n",
    "        times, steps = tuple(zip(*results))\n",
    "        \n",
    "        config = \"\".join(f\"\"\"\n",
    "        (\n",
    "            logs: [\"{log}/*/*/*\"],\n",
    "\n",
    "            reporters: [\n",
    "                Plugin(\n",
    "                    library: \"{target_directory}/release/deps/libnecsim_plugins_common.so\",\n",
    "                    reporters: [Biodiversity()]\n",
    "                )\n",
    "            ],\n",
    "        )\n",
    "        \"\"\".split()).replace(\",)\", \")\").replace(\",]\", \"]\")\n",
    "        \n",
    "        # Run the simulation\n",
    "        result = subprocess.run(shlex.split(\n",
    "            \"cargo run --release --features rustcoalescence-algorithms-monolithic,\"\n",
    "            + f\"rustcoalescence-algorithms-independent,necsim-partitioning-mpi --quiet -- replay '{config}'\"\n",
    "        ), check=True, capture_output=True, text=True)\n",
    "\n",
    "        match = BIODIVERSITY_PATTERN.search(result.stdout)\n",
    "        if match is None:\n",
    "            print(result.stdout)\n",
    "            print(result.stderr)\n",
    "        biodiversity = int(match.group(1))\n",
    "        \n",
    "    return biodiversity, max(times), sum(steps)"
   ]
  },
  {
   "cell_type": "code",
   "execution_count": 8,
   "id": "8f940b1e",
   "metadata": {
    "execution": {
     "iopub.execute_input": "2021-05-03T18:19:51.417261Z",
     "iopub.status.busy": "2021-05-03T18:19:51.416415Z",
     "iopub.status.idle": "2021-05-03T18:19:51.419118Z",
     "shell.execute_reply": "2021-05-03T18:19:51.419747Z"
    },
    "jupyter": {
     "source_hidden": true
    },
    "tags": []
   },
   "outputs": [],
   "source": [
    "def batch_simulation_many_seeds(simulate, seeds, args=tuple(), kwargs=dict(), silent=False, processes=mp.cpu_count()):\n",
    "    results = []\n",
    "\n",
    "    with tqdm(total=len(seeds), disable=silent) as progress:\n",
    "        def update_progress(result):\n",
    "            results.append(result)\n",
    "\n",
    "            progress.update()\n",
    "        \n",
    "        def update_error(err):\n",
    "            print(err)\n",
    "\n",
    "        with mp.Pool(processes) as pool:\n",
    "            for seed in seeds:\n",
    "                pool.apply_async(simulate, args, {**kwargs, \"seed\": seed}, update_progress, update_error)\n",
    "\n",
    "            pool.close()\n",
    "            pool.join()\n",
    "    \n",
    "    return results"
   ]
  },
  {
   "cell_type": "code",
   "execution_count": 9,
   "id": "f96aaf45",
   "metadata": {
    "execution": {
     "iopub.execute_input": "2021-05-03T18:19:51.424774Z",
     "iopub.status.busy": "2021-05-03T18:19:51.424157Z",
     "iopub.status.idle": "2021-05-03T18:19:51.427654Z",
     "shell.execute_reply": "2021-05-03T18:19:51.427122Z"
    },
    "jupyter": {
     "source_hidden": true
    },
    "tags": []
   },
   "outputs": [],
   "source": [
    "def confidenceInterval(a, conf=0.95):\n",
    "    mean = np.mean(a)\n",
    "    sem = stats.sem(a)\n",
    "    \n",
    "    t = stats.t.ppf((1.0 + conf) * 0.5, len(a) - 1)\n",
    "    \n",
    "    return mean - t*sem, mean + t*sem"
   ]
  },
  {
   "cell_type": "code",
   "execution_count": 10,
   "id": "1b71b0b2",
   "metadata": {
    "execution": {
     "iopub.execute_input": "2021-05-03T18:19:51.437609Z",
     "iopub.status.busy": "2021-05-03T18:19:51.436961Z",
     "iopub.status.idle": "2021-05-03T18:19:51.440792Z",
     "shell.execute_reply": "2021-05-03T18:19:51.439936Z"
    },
    "jupyter": {
     "source_hidden": true
    },
    "tags": []
   },
   "outputs": [],
   "source": [
    "def visualise_biodiversity_time_steps_result(expected, biodiversities, times, steps, conf=0.95):\n",
    "    low, high = confidenceInterval(biodiversities, conf=conf)\n",
    "\n",
    "    xmin = np.min(biodiversities)\n",
    "    xmax = np.max(biodiversities)\n",
    "\n",
    "    bins = min(21, xmax - xmin + (1 - (xmax - xmin) % 2))\n",
    "\n",
    "    fig, (ax1, ax2, ax3) = plt.subplots(1, 3, figsize=(16, 4))\n",
    "\n",
    "    ax1.set_title(\"Biodiversity distribution\")\n",
    "    ax1.set_xlabel(\"biodiversity\")\n",
    "    ax1.set_ylabel(\"pdf\")\n",
    "    ax1.hist(biodiversities, bins=bins, density=True, label=(\n",
    "        f\"Observed: {round((low + high) * 0.5, 2)} ± {round((high - low) * 0.5, 2)} ({conf} level)\"\n",
    "    ))\n",
    "    ax1.axvline(x=expected, color='red', label=f\"Expected: {round(expected, 2)}\")\n",
    "\n",
    "    mu, std = stats.norm.fit(biodiversities)\n",
    "    x = np.linspace(xmin, xmax, 100)\n",
    "    p = stats.norm.pdf(x, mu, std)\n",
    "    ax1.plot(x, p, 'k', linewidth=2, label=f\"Fitted: mu≈{round(mu, 2)} sigma≈{round(std, 2)}\")\n",
    "\n",
    "    ax1.legend(loc = 'lower center')\n",
    "\n",
    "    ax2.set_title(\"Simulation time distribution\")\n",
    "    ax2.set_xlabel(\"time\")\n",
    "    ax2.set_ylabel(\"pdf\")\n",
    "    ax2.hist(times, bins=bins, density=True)\n",
    "\n",
    "    ax3.set_title(\"Simulation steps distribution\")\n",
    "    ax3.set_xlabel(\"steps\")\n",
    "    ax3.set_ylabel(\"pdf\")\n",
    "    ax3.hist(steps, bins=bins, density=True)\n",
    "\n",
    "    plt.show()"
   ]
  },
  {
   "cell_type": "markdown",
   "id": "3bca4404-d79c-4d12-bd30-3f4e99bb6c04",
   "metadata": {},
   "source": [
    "# I. Verify that different `delta_t`s for the Independent Algorithm give the correct results for a NonSpatial scenario"
   ]
  },
  {
   "cell_type": "code",
   "execution_count": 11,
   "id": "38684b87-0b22-48d7-9b14-710b0d51ef0f",
   "metadata": {
    "execution": {
     "iopub.execute_input": "2021-05-03T18:19:51.451222Z",
     "iopub.status.busy": "2021-05-03T18:19:51.447702Z",
     "iopub.status.idle": "2021-05-03T18:22:19.797262Z",
     "shell.execute_reply": "2021-05-03T18:22:19.798241Z"
    }
   },
   "outputs": [
    {
     "name": "stderr",
     "output_type": "stream",
     "text": [
      "100%|██████████| 1000/1000 [01:13<00:00, 13.58it/s]\n"
     ]
    },
    {
     "data": {
      "text/markdown": [
       "## Independent(delta_t:0.5):"
      ],
      "text/plain": [
       "<IPython.core.display.Markdown object>"
      ]
     },
     "metadata": {},
     "output_type": "display_data"
    },
    {
     "data": {
      "image/png": "[encoded data removed]",
      "text/plain": [
       "<Figure size 1152x288 with 3 Axes>"
      ]
     },
     "metadata": {
      "needs_background": "light"
     },
     "output_type": "display_data"
    },
    {
     "name": "stderr",
     "output_type": "stream",
     "text": [
      "100%|██████████| 1000/1000 [01:13<00:00, 13.62it/s]\n"
     ]
    },
    {
     "data": {
      "text/markdown": [
       "## Independent(delta_t:5.0):"
      ],
      "text/plain": [
       "<IPython.core.display.Markdown object>"
      ]
     },
     "metadata": {},
     "output_type": "display_data"
    },
    {
     "data": {
      "image/png": "[encoded data removed]",
      "text/plain": [
       "<Figure size 1152x288 with 3 Axes>"
      ]
     },
     "metadata": {
      "needs_background": "light"
     },
     "output_type": "display_data"
    }
   ],
   "source": [
    "for algorithm in [\"Independent(delta_t:0.5)\", \"Independent(delta_t:5.0)\"]:\n",
    "    seeds = np.random.randint(0, np.iinfo(\"uint64\").max, dtype=\"uint64\", size=1000)\n",
    "\n",
    "    results = batch_simulation_many_seeds(simulate_non_spatial_monolithic, seeds, args=(algorithm,), kwargs={\n",
    "        \"size\":(10, 10, 10), \"speciation\":0.1\n",
    "    }, silent=False)\n",
    "\n",
    "    biodiversities, times, steps = tuple(zip(*results))\n",
    "\n",
    "    display(Markdown(f\"## {algorithm}:\"))\n",
    "    visualise_biodiversity_time_steps_result(s_island(10*10, 10, 0.1), biodiversities, times, steps)"
   ]
  },
  {
   "cell_type": "markdown",
   "id": "9ed571c0",
   "metadata": {},
   "source": [
    "# II. Verify that the default settings for the Independent Algorithm give the correct results for a NonSpatial scenario without parallelisation"
   ]
  },
  {
   "cell_type": "code",
   "execution_count": 12,
   "id": "d89e5ece",
   "metadata": {
    "execution": {
     "iopub.execute_input": "2021-05-03T18:22:19.805948Z",
     "iopub.status.busy": "2021-05-03T18:22:19.804902Z",
     "iopub.status.idle": "2021-05-03T18:23:33.888868Z",
     "shell.execute_reply": "2021-05-03T18:23:33.889553Z"
    }
   },
   "outputs": [
    {
     "name": "stderr",
     "output_type": "stream",
     "text": [
      "100%|██████████| 1000/1000 [01:13<00:00, 13.59it/s]\n"
     ]
    },
    {
     "data": {
      "text/markdown": [
       "## Independent():"
      ],
      "text/plain": [
       "<IPython.core.display.Markdown object>"
      ]
     },
     "metadata": {},
     "output_type": "display_data"
    },
    {
     "data": {
      "image/png": "[encoded data removed]",
      "text/plain": [
       "<Figure size 1152x288 with 3 Axes>"
      ]
     },
     "metadata": {
      "needs_background": "light"
     },
     "output_type": "display_data"
    }
   ],
   "source": [
    "for algorithm in [\"Independent()\"]:\n",
    "    seeds = np.random.randint(0, np.iinfo(\"uint64\").max, dtype=\"uint64\", size=1000)\n",
    "\n",
    "    results = batch_simulation_many_seeds(simulate_non_spatial_monolithic, seeds, args=(algorithm,), kwargs={\n",
    "        \"size\":(10, 10, 10), \"speciation\":0.1\n",
    "    }, silent=False)\n",
    "\n",
    "    biodiversities, times, steps = tuple(zip(*results))\n",
    "\n",
    "    display(Markdown(f\"## {algorithm}:\"))\n",
    "    visualise_biodiversity_time_steps_result(s_island(10*10, 10, 0.1), biodiversities, times, steps)"
   ]
  },
  {
   "cell_type": "markdown",
   "id": "dc7dc5cc-ef6d-45f0-bbc1-4af263606a21",
   "metadata": {},
   "source": [
    "# III. Verify that the non-altering settings produce exactly the same results (excluding #steps)"
   ]
  },
  {
   "cell_type": "code",
   "execution_count": 13,
   "id": "841dccee-845c-43f2-8048-d847d7b406cd",
   "metadata": {
    "execution": {
     "iopub.execute_input": "2021-05-03T18:23:33.897911Z",
     "iopub.status.busy": "2021-05-03T18:23:33.896967Z",
     "iopub.status.idle": "2021-05-03T18:30:55.360089Z",
     "shell.execute_reply": "2021-05-03T18:30:55.360666Z"
    }
   },
   "outputs": [
    {
     "name": "stderr",
     "output_type": "stream",
     "text": [
      "100%|██████████| 1000/1000 [01:13<00:00, 13.62it/s]\n"
     ]
    },
    {
     "data": {
      "text/markdown": [
       "## Independent(step_slice:1): <span style='color:green'>Success</span>"
      ],
      "text/plain": [
       "<IPython.core.display.Markdown object>"
      ]
     },
     "metadata": {},
     "output_type": "display_data"
    },
    {
     "name": "stderr",
     "output_type": "stream",
     "text": [
      "100%|██████████| 1000/1000 [01:13<00:00, 13.63it/s]\n"
     ]
    },
    {
     "data": {
      "text/markdown": [
       "## Independent(step_slice:25): <span style='color:green'>Success</span>"
      ],
      "text/plain": [
       "<IPython.core.display.Markdown object>"
      ]
     },
     "metadata": {},
     "output_type": "display_data"
    },
    {
     "name": "stderr",
     "output_type": "stream",
     "text": [
      "100%|██████████| 1000/1000 [01:13<00:00, 13.52it/s]\n"
     ]
    },
    {
     "data": {
      "text/markdown": [
       "## Independent(dedup_cache:Absolute(capacity:10)): <span style='color:green'>Success</span>"
      ],
      "text/plain": [
       "<IPython.core.display.Markdown object>"
      ]
     },
     "metadata": {},
     "output_type": "display_data"
    },
    {
     "name": "stderr",
     "output_type": "stream",
     "text": [
      "100%|██████████| 1000/1000 [01:13<00:00, 13.54it/s]\n"
     ]
    },
    {
     "data": {
      "text/markdown": [
       "## Independent(dedup_cache:None): <span style='color:green'>Success</span>"
      ],
      "text/plain": [
       "<IPython.core.display.Markdown object>"
      ]
     },
     "metadata": {},
     "output_type": "display_data"
    },
    {
     "name": "stderr",
     "output_type": "stream",
     "text": [
      "100%|██████████| 1000/1000 [01:13<00:00, 13.53it/s]\n"
     ]
    },
    {
     "data": {
      "text/markdown": [
       "## Independent(parallelism_mode:Monolithic(event_slice:1000)): <span style='color:green'>Success</span>"
      ],
      "text/plain": [
       "<IPython.core.display.Markdown object>"
      ]
     },
     "metadata": {},
     "output_type": "display_data"
    },
    {
     "name": "stderr",
     "output_type": "stream",
     "text": [
      " 59%|█████▊    | 587/1000 [00:43<00:29, 13.80it/s]"
     ]
    },
    {
     "name": "stdout",
     "output_type": "stream",
     "text": [
      "Command '['cargo', 'run', '--release', '--features', 'rustcoalescence-algorithms-monolithic,rustcoalescence-algorithms-independent,necsim-partitioning-mpi', '--quiet', '--', 'simulate', '(speciation:0.1,sample:1.0,seed:1640977103892105513,algorithm:Independent(parallelism_mode:Monolithic(event_slice:1)),log:None,scenario:NonSpatial(area:(10,10),deme:10,spatial:false),reporters:[Plugin(library:\"/home/ml5717/necsim-rust/target/release/deps/libnecsim_plugins_common.so\",reporters:[Biodiversity()])])']' returned non-zero exit status 1.\n"
     ]
    },
    {
     "name": "stderr",
     "output_type": "stream",
     "text": [
      "100%|█████████▉| 999/1000 [01:12<00:00, 13.71it/s]\n"
     ]
    },
    {
     "data": {
      "text/markdown": [
       "## Independent(parallelism_mode:Monolithic(event_slice:1)): <span style='color:red'><u>FAILURE</u></span>"
      ],
      "text/plain": [
       "<IPython.core.display.Markdown object>"
      ]
     },
     "metadata": {},
     "output_type": "display_data"
    }
   ],
   "source": [
    "comparison_seeds = seeds[:]\n",
    "comparison_results = sorted(r[:2] for r in results[:])\n",
    "\n",
    "for algorithm in [\n",
    "    \"Independent(step_slice:1)\", \"Independent(step_slice:25)\",\n",
    "    \"Independent(dedup_cache:Absolute(capacity:10))\", \"Independent(dedup_cache:None)\",\n",
    "    \"Independent(parallelism_mode:Monolithic(event_slice:1000))\", \"Independent(parallelism_mode:Monolithic(event_slice:1))\",\n",
    "]:\n",
    "    check_results = batch_simulation_many_seeds(simulate_non_spatial_monolithic, comparison_seeds, args=(algorithm,), kwargs={\n",
    "        \"size\":(10, 10, 10), \"speciation\":0.1\n",
    "    }, silent=False)\n",
    "    \n",
    "    check_results = sorted(r[:2] for r in check_results)\n",
    "    \n",
    "    if check_results == comparison_results:\n",
    "        display(Markdown(f\"## {algorithm}: <span style='color:green'>Success</span>\"))\n",
    "    else:\n",
    "        display(Markdown(f\"## {algorithm}: <span style='color:red'><u>FAILURE</u></span>\"))"
   ]
  },
  {
   "cell_type": "markdown",
   "id": "3c796916-a21c-4b31-bf08-6592c8725818",
   "metadata": {},
   "source": [
    "# IV. Verify that the Monolithic replay analysis though the event log produces exactlty the same results as live analysis"
   ]
  },
  {
   "cell_type": "code",
   "execution_count": 14,
   "id": "72bd98bf-1c0d-4902-8dbb-8c8152cf4f93",
   "metadata": {
    "execution": {
     "iopub.execute_input": "2021-05-03T18:30:55.370808Z",
     "iopub.status.busy": "2021-05-03T18:30:55.369950Z",
     "iopub.status.idle": "2021-05-03T18:34:43.591491Z",
     "shell.execute_reply": "2021-05-03T18:34:43.592368Z"
    }
   },
   "outputs": [
    {
     "name": "stderr",
     "output_type": "stream",
     "text": [
      "100%|██████████| 1000/1000 [03:48<00:00,  4.38it/s]\n"
     ]
    },
    {
     "data": {
      "text/markdown": [
       "## Independent(parallelism_mode:Monolithic(event_slice:100)): <span style='color:green'>Success</span>"
      ],
      "text/plain": [
       "<IPython.core.display.Markdown object>"
      ]
     },
     "metadata": {},
     "output_type": "display_data"
    }
   ],
   "source": [
    "comparison_seeds = seeds[:]\n",
    "comparison_results = sorted(r[:2] for r in results[:])\n",
    "\n",
    "for algorithm in [\"Independent(parallelism_mode:Monolithic(event_slice:100))\"]:\n",
    "    check_results = batch_simulation_many_seeds(simulate_non_spatial_parallel, comparison_seeds, args=(algorithm,), kwargs={\n",
    "        \"partitions\":1, \"size\":(10, 10, 10), \"speciation\":0.1\n",
    "    }, silent=False)\n",
    "\n",
    "    check_results = sorted(r[:2] for r in check_results)\n",
    "\n",
    "    if check_results == comparison_results:\n",
    "        display(Markdown(f\"## {algorithm}: <span style='color:green'>Success</span>\"))\n",
    "    else:\n",
    "        display(Markdown(f\"## {algorithm}: <span style='color:red'><u>FAILURE</u></span>\"))"
   ]
  },
  {
   "cell_type": "markdown",
   "id": "cb154796-ec6d-40cd-bee6-9777a7d18163",
   "metadata": {},
   "source": [
    "# V. Verify that the Isolated parallelisation produces exactly the same results"
   ]
  },
  {
   "cell_type": "code",
   "execution_count": 15,
   "id": "d8beea25-7ceb-49ec-ad99-74ec83e3d1b8",
   "metadata": {
    "execution": {
     "iopub.execute_input": "2021-05-03T18:34:43.604126Z",
     "iopub.status.busy": "2021-05-03T18:34:43.603427Z",
     "iopub.status.idle": "2021-05-03T22:38:10.335569Z",
     "shell.execute_reply": "2021-05-03T22:38:10.336353Z"
    }
   },
   "outputs": [
    {
     "name": "stderr",
     "output_type": "stream",
     "text": [
      "100%|██████████| 1000/1000 [03:41<00:00,  4.51it/s]\n"
     ]
    },
    {
     "data": {
      "text/markdown": [
       "## Independent(parallelism_mode:IsolatedIndividuals(partition:{partition},event_slice:1)) with 2 partitions: <span style='color:green'>Success</span>"
      ],
      "text/plain": [
       "<IPython.core.display.Markdown object>"
      ]
     },
     "metadata": {},
     "output_type": "display_data"
    },
    {
     "name": "stderr",
     "output_type": "stream",
     "text": [
      "100%|██████████| 1000/1000 [07:18<00:00,  2.28it/s]\n"
     ]
    },
    {
     "data": {
      "text/markdown": [
       "## Independent(parallelism_mode:IsolatedIndividuals(partition:{partition},event_slice:1)) with 5 partitions: <span style='color:green'>Success</span>"
      ],
      "text/plain": [
       "<IPython.core.display.Markdown object>"
      ]
     },
     "metadata": {},
     "output_type": "display_data"
    },
    {
     "name": "stderr",
     "output_type": "stream",
     "text": [
      "100%|██████████| 1000/1000 [49:56<00:00,  3.00s/it]\n"
     ]
    },
    {
     "data": {
      "text/markdown": [
       "## Independent(parallelism_mode:IsolatedIndividuals(partition:{partition},event_slice:1)) with 40 partitions: <span style='color:green'>Success</span>"
      ],
      "text/plain": [
       "<IPython.core.display.Markdown object>"
      ]
     },
     "metadata": {},
     "output_type": "display_data"
    },
    {
     "name": "stderr",
     "output_type": "stream",
     "text": [
      "100%|██████████| 1000/1000 [03:40<00:00,  4.54it/s]\n"
     ]
    },
    {
     "data": {
      "text/markdown": [
       "## Independent(parallelism_mode:IsolatedIndividuals(partition:{partition},event_slice:1000)) with 2 partitions: <span style='color:green'>Success</span>"
      ],
      "text/plain": [
       "<IPython.core.display.Markdown object>"
      ]
     },
     "metadata": {},
     "output_type": "display_data"
    },
    {
     "name": "stderr",
     "output_type": "stream",
     "text": [
      "100%|██████████| 1000/1000 [07:18<00:00,  2.28it/s]\n"
     ]
    },
    {
     "data": {
      "text/markdown": [
       "## Independent(parallelism_mode:IsolatedIndividuals(partition:{partition},event_slice:1000)) with 5 partitions: <span style='color:green'>Success</span>"
      ],
      "text/plain": [
       "<IPython.core.display.Markdown object>"
      ]
     },
     "metadata": {},
     "output_type": "display_data"
    },
    {
     "name": "stderr",
     "output_type": "stream",
     "text": [
      "100%|██████████| 1000/1000 [49:49<00:00,  2.99s/it]\n"
     ]
    },
    {
     "data": {
      "text/markdown": [
       "## Independent(parallelism_mode:IsolatedIndividuals(partition:{partition},event_slice:1000)) with 40 partitions: <span style='color:green'>Success</span>"
      ],
      "text/plain": [
       "<IPython.core.display.Markdown object>"
      ]
     },
     "metadata": {},
     "output_type": "display_data"
    },
    {
     "name": "stderr",
     "output_type": "stream",
     "text": [
      "100%|██████████| 1000/1000 [03:40<00:00,  4.53it/s]\n"
     ]
    },
    {
     "data": {
      "text/markdown": [
       "## Independent(parallelism_mode:IsolatedLandscape(partition:{partition},event_slice:1)) with 2 partitions: <span style='color:green'>Success</span>"
      ],
      "text/plain": [
       "<IPython.core.display.Markdown object>"
      ]
     },
     "metadata": {},
     "output_type": "display_data"
    },
    {
     "name": "stderr",
     "output_type": "stream",
     "text": [
      "100%|██████████| 1000/1000 [07:17<00:00,  2.28it/s]\n"
     ]
    },
    {
     "data": {
      "text/markdown": [
       "## Independent(parallelism_mode:IsolatedLandscape(partition:{partition},event_slice:1)) with 5 partitions: <span style='color:green'>Success</span>"
      ],
      "text/plain": [
       "<IPython.core.display.Markdown object>"
      ]
     },
     "metadata": {},
     "output_type": "display_data"
    },
    {
     "name": "stderr",
     "output_type": "stream",
     "text": [
      "100%|██████████| 1000/1000 [49:50<00:00,  2.99s/it]\n"
     ]
    },
    {
     "data": {
      "text/markdown": [
       "## Independent(parallelism_mode:IsolatedLandscape(partition:{partition},event_slice:1)) with 40 partitions: <span style='color:green'>Success</span>"
      ],
      "text/plain": [
       "<IPython.core.display.Markdown object>"
      ]
     },
     "metadata": {},
     "output_type": "display_data"
    },
    {
     "name": "stderr",
     "output_type": "stream",
     "text": [
      "100%|██████████| 1000/1000 [03:39<00:00,  4.55it/s]\n"
     ]
    },
    {
     "data": {
      "text/markdown": [
       "## Independent(parallelism_mode:IsolatedLandscape(partition:{partition},event_slice:1000)) with 2 partitions: <span style='color:green'>Success</span>"
      ],
      "text/plain": [
       "<IPython.core.display.Markdown object>"
      ]
     },
     "metadata": {},
     "output_type": "display_data"
    },
    {
     "name": "stderr",
     "output_type": "stream",
     "text": [
      "100%|██████████| 1000/1000 [07:18<00:00,  2.28it/s]\n"
     ]
    },
    {
     "data": {
      "text/markdown": [
       "## Independent(parallelism_mode:IsolatedLandscape(partition:{partition},event_slice:1000)) with 5 partitions: <span style='color:green'>Success</span>"
      ],
      "text/plain": [
       "<IPython.core.display.Markdown object>"
      ]
     },
     "metadata": {},
     "output_type": "display_data"
    },
    {
     "name": "stderr",
     "output_type": "stream",
     "text": [
      "100%|██████████| 1000/1000 [49:55<00:00,  3.00s/it]\n"
     ]
    },
    {
     "data": {
      "text/markdown": [
       "## Independent(parallelism_mode:IsolatedLandscape(partition:{partition},event_slice:1000)) with 40 partitions: <span style='color:green'>Success</span>"
      ],
      "text/plain": [
       "<IPython.core.display.Markdown object>"
      ]
     },
     "metadata": {},
     "output_type": "display_data"
    }
   ],
   "source": [
    "comparison_seeds = seeds[:]\n",
    "comparison_results = sorted(r[:2] for r in results[:])\n",
    "\n",
    "for algorithm in [\n",
    "    \"Independent(parallelism_mode:IsolatedIndividuals(partition:{partition},event_slice:1))\",\n",
    "    \"Independent(parallelism_mode:IsolatedIndividuals(partition:{partition},event_slice:1000))\",\n",
    "    \"Independent(parallelism_mode:IsolatedLandscape(partition:{partition},event_slice:1))\",\n",
    "    \"Independent(parallelism_mode:IsolatedLandscape(partition:{partition},event_slice:1000))\",\n",
    "]:\n",
    "    for partitions in [2, 5, 40]:\n",
    "        check_results = batch_simulation_many_seeds(simulate_non_spatial_isolated, comparison_seeds, args=(algorithm,), kwargs={\n",
    "            \"partitions\":partitions, \"size\":(10, 10, 10), \"speciation\":0.1\n",
    "        }, silent=False)\n",
    "        \n",
    "        check_results = sorted(r[:2] for r in check_results)\n",
    "\n",
    "        if check_results == comparison_results:\n",
    "            display(Markdown(f\"## {algorithm} with {partitions} partitions: <span style='color:green'>Success</span>\"))\n",
    "        else:\n",
    "            display(Markdown(f\"## {algorithm} with {partitions} partitions: <span style='color:red'><u>FAILURE</u></span>\"))"
   ]
  },
  {
   "cell_type": "markdown",
   "id": "af67b2b9-9c09-4f4b-bef0-88c8f62cb356",
   "metadata": {},
   "source": [
    "# VI. Verify that the different parallelisation methods produce exactly the same results"
   ]
  },
  {
   "cell_type": "code",
   "execution_count": 16,
   "id": "9c102ec0-b0e1-4dad-be72-153bc6c64776",
   "metadata": {
    "execution": {
     "iopub.execute_input": "2021-05-03T22:38:10.347904Z",
     "iopub.status.busy": "2021-05-03T22:38:10.347158Z",
     "iopub.status.idle": "2021-05-04T01:17:12.786153Z",
     "shell.execute_reply": "2021-05-04T01:17:12.787101Z"
    }
   },
   "outputs": [
    {
     "name": "stderr",
     "output_type": "stream",
     "text": [
      "100%|██████████| 1000/1000 [03:46<00:00,  4.41it/s]\n"
     ]
    },
    {
     "data": {
      "text/markdown": [
       "## Independent(parallelism_mode:Individuals) with 2 partitions: <span style='color:green'>Success</span>"
      ],
      "text/plain": [
       "<IPython.core.display.Markdown object>"
      ]
     },
     "metadata": {},
     "output_type": "display_data"
    },
    {
     "name": "stderr",
     "output_type": "stream",
     "text": [
      "100%|██████████| 1000/1000 [03:52<00:00,  4.31it/s]\n"
     ]
    },
    {
     "data": {
      "text/markdown": [
       "## Independent(parallelism_mode:Individuals) with 5 partitions: <span style='color:green'>Success</span>"
      ],
      "text/plain": [
       "<IPython.core.display.Markdown object>"
      ]
     },
     "metadata": {},
     "output_type": "display_data"
    },
    {
     "name": "stderr",
     "output_type": "stream",
     "text": [
      "100%|██████████| 1000/1000 [24:09<00:00,  1.45s/it]\n"
     ]
    },
    {
     "data": {
      "text/markdown": [
       "## Independent(parallelism_mode:Individuals) with 40 partitions: <span style='color:green'>Success</span>"
      ],
      "text/plain": [
       "<IPython.core.display.Markdown object>"
      ]
     },
     "metadata": {},
     "output_type": "display_data"
    },
    {
     "name": "stderr",
     "output_type": "stream",
     "text": [
      "100%|██████████| 1000/1000 [03:46<00:00,  4.42it/s]\n"
     ]
    },
    {
     "data": {
      "text/markdown": [
       "## Independent(parallelism_mode:Landscape) with 2 partitions: <span style='color:green'>Success</span>"
      ],
      "text/plain": [
       "<IPython.core.display.Markdown object>"
      ]
     },
     "metadata": {},
     "output_type": "display_data"
    },
    {
     "name": "stderr",
     "output_type": "stream",
     "text": [
      "100%|██████████| 1000/1000 [03:50<00:00,  4.34it/s]\n"
     ]
    },
    {
     "data": {
      "text/markdown": [
       "## Independent(parallelism_mode:Landscape) with 5 partitions: <span style='color:green'>Success</span>"
      ],
      "text/plain": [
       "<IPython.core.display.Markdown object>"
      ]
     },
     "metadata": {},
     "output_type": "display_data"
    },
    {
     "name": "stderr",
     "output_type": "stream",
     "text": [
      "100%|██████████| 1000/1000 [24:11<00:00,  1.45s/it]\n"
     ]
    },
    {
     "data": {
      "text/markdown": [
       "## Independent(parallelism_mode:Landscape) with 40 partitions: <span style='color:green'>Success</span>"
      ],
      "text/plain": [
       "<IPython.core.display.Markdown object>"
      ]
     },
     "metadata": {},
     "output_type": "display_data"
    },
    {
     "name": "stderr",
     "output_type": "stream",
     "text": [
      "100%|██████████| 1000/1000 [03:46<00:00,  4.41it/s]\n"
     ]
    },
    {
     "data": {
      "text/markdown": [
       "## Independent(parallelism_mode:Probabilistic(communication: 0.0)) with 2 partitions: <span style='color:green'>Success</span>"
      ],
      "text/plain": [
       "<IPython.core.display.Markdown object>"
      ]
     },
     "metadata": {},
     "output_type": "display_data"
    },
    {
     "name": "stderr",
     "output_type": "stream",
     "text": [
      "100%|██████████| 1000/1000 [03:50<00:00,  4.34it/s]\n"
     ]
    },
    {
     "data": {
      "text/markdown": [
       "## Independent(parallelism_mode:Probabilistic(communication: 0.0)) with 5 partitions: <span style='color:green'>Success</span>"
      ],
      "text/plain": [
       "<IPython.core.display.Markdown object>"
      ]
     },
     "metadata": {},
     "output_type": "display_data"
    },
    {
     "name": "stderr",
     "output_type": "stream",
     "text": [
      "100%|██████████| 1000/1000 [24:05<00:00,  1.45s/it]\n"
     ]
    },
    {
     "data": {
      "text/markdown": [
       "## Independent(parallelism_mode:Probabilistic(communication: 0.0)) with 40 partitions: <span style='color:green'>Success</span>"
      ],
      "text/plain": [
       "<IPython.core.display.Markdown object>"
      ]
     },
     "metadata": {},
     "output_type": "display_data"
    },
    {
     "name": "stderr",
     "output_type": "stream",
     "text": [
      "100%|██████████| 1000/1000 [03:46<00:00,  4.42it/s]\n"
     ]
    },
    {
     "data": {
      "text/markdown": [
       "## Independent(parallelism_mode:Probabilistic(communication: 0.5)) with 2 partitions: <span style='color:green'>Success</span>"
      ],
      "text/plain": [
       "<IPython.core.display.Markdown object>"
      ]
     },
     "metadata": {},
     "output_type": "display_data"
    },
    {
     "name": "stderr",
     "output_type": "stream",
     "text": [
      "100%|██████████| 1000/1000 [03:53<00:00,  4.28it/s]\n"
     ]
    },
    {
     "data": {
      "text/markdown": [
       "## Independent(parallelism_mode:Probabilistic(communication: 0.5)) with 5 partitions: <span style='color:green'>Success</span>"
      ],
      "text/plain": [
       "<IPython.core.display.Markdown object>"
      ]
     },
     "metadata": {},
     "output_type": "display_data"
    },
    {
     "name": "stderr",
     "output_type": "stream",
     "text": [
      "100%|██████████| 1000/1000 [24:11<00:00,  1.45s/it]\n"
     ]
    },
    {
     "data": {
      "text/markdown": [
       "## Independent(parallelism_mode:Probabilistic(communication: 0.5)) with 40 partitions: <span style='color:green'>Success</span>"
      ],
      "text/plain": [
       "<IPython.core.display.Markdown object>"
      ]
     },
     "metadata": {},
     "output_type": "display_data"
    },
    {
     "name": "stderr",
     "output_type": "stream",
     "text": [
      "100%|██████████| 1000/1000 [03:46<00:00,  4.41it/s]\n"
     ]
    },
    {
     "data": {
      "text/markdown": [
       "## Independent(parallelism_mode:Probabilistic(communication: 1.0)) with 2 partitions: <span style='color:green'>Success</span>"
      ],
      "text/plain": [
       "<IPython.core.display.Markdown object>"
      ]
     },
     "metadata": {},
     "output_type": "display_data"
    },
    {
     "name": "stderr",
     "output_type": "stream",
     "text": [
      "100%|██████████| 1000/1000 [03:53<00:00,  4.28it/s]\n"
     ]
    },
    {
     "data": {
      "text/markdown": [
       "## Independent(parallelism_mode:Probabilistic(communication: 1.0)) with 5 partitions: <span style='color:green'>Success</span>"
      ],
      "text/plain": [
       "<IPython.core.display.Markdown object>"
      ]
     },
     "metadata": {},
     "output_type": "display_data"
    },
    {
     "name": "stderr",
     "output_type": "stream",
     "text": [
      "100%|██████████| 1000/1000 [24:11<00:00,  1.45s/it]\n"
     ]
    },
    {
     "data": {
      "text/markdown": [
       "## Independent(parallelism_mode:Probabilistic(communication: 1.0)) with 40 partitions: <span style='color:green'>Success</span>"
      ],
      "text/plain": [
       "<IPython.core.display.Markdown object>"
      ]
     },
     "metadata": {},
     "output_type": "display_data"
    }
   ],
   "source": [
    "comparison_seeds = seeds[:]\n",
    "comparison_results = sorted(r[:2] for r in results[:])\n",
    "\n",
    "for algorithm in [\n",
    "    \"Independent(parallelism_mode:Individuals)\",\n",
    "    \"Independent(parallelism_mode:Landscape)\",\n",
    "    \"Independent(parallelism_mode:Probabilistic(communication: 0.0))\",\n",
    "    \"Independent(parallelism_mode:Probabilistic(communication: 0.5))\",\n",
    "    \"Independent(parallelism_mode:Probabilistic(communication: 1.0))\",\n",
    "]:\n",
    "    for partitions in [2, 5, 40]:\n",
    "        check_results = batch_simulation_many_seeds(simulate_non_spatial_parallel, comparison_seeds, args=(algorithm,), kwargs={\n",
    "            \"partitions\":partitions, \"size\":(10, 10, 10), \"speciation\":0.1\n",
    "        }, silent=False, processes=(mp.cpu_count() // partitions))\n",
    "        \n",
    "        check_results = sorted(r[:2] for r in check_results)\n",
    "\n",
    "        if check_results == comparison_results:\n",
    "            display(Markdown(f\"## {algorithm} with {partitions} partitions: <span style='color:green'>Success</span>\"))\n",
    "        else:\n",
    "            display(Markdown(f\"## {algorithm} with {partitions} partitions: <span style='color:red'><u>FAILURE</u></span>\"))"
   ]
  },
  {
   "cell_type": "code",
   "execution_count": null,
   "id": "433c0875-d76c-4cf3-b1ed-102fd7847fe0",
   "metadata": {},
   "outputs": [],
   "source": []
  }
 ],
 "metadata": {
  "kernelspec": {
   "display_name": "Python 3",
   "language": "python",
   "name": "python3"
  },
  "language_info": {
   "codemirror_mode": {
    "name": "ipython",
    "version": 3
   },
   "file_extension": ".py",
   "mimetype": "text/x-python",
   "name": "python",
   "nbconvert_exporter": "python",
   "pygments_lexer": "ipython3",
   "version": "3.7.5"
  }
 },
 "nbformat": 4,
 "nbformat_minor": 5
}
